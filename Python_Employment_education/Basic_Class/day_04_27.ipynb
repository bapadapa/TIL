{
 "cells": [
  {
   "cell_type": "markdown",
   "metadata": {},
   "source": [
    "# 기본 명령어들!\n",
    "## 실행\n",
    "    Ctrl  + Enter : 현재 셀 실행\n",
    "    Shift + Enter : 현재 셀 실행 후 아래 셀 추가\n",
    "    Alt   + Enter  : 아래 셀 추가\n",
    "    \n",
    "    a : 위로 셀 추가\n",
    "    b : 아래로 셀 추가\n",
    "    dd : 현재 셀 삭제\n",
    "    \n",
    "## 셀 편집 ( 복사 , 자르기 , 등)\n",
    "    m : 마크다운으로 변경\n",
    "    y : 코드로 변경\n",
    "    C : 복사\n",
    "    X : 자르기\n",
    "    v : 아래로 붙여넣기\n",
    "    z : 셀 삭제 및 자르기 되돌리기 ( 윈도우의 \"Ctrl + Z\" )\n",
    "    Shift + v : 위로 붙여넣기\n",
    "    Shift + m : 아래 셀과 합치기 ( merge)\n",
    "    \n",
    "## 보이는 것들\n",
    "    o : 실행 결과 창 숨기기 및 펼치기\n",
    "    Shift + l : 셀라인 표시\n",
    "    \n",
    "## 코드모드\n",
    "    esc : 선택모드로 변경 ( 셀 나오기 )\n",
    "    ctrl + / : 주석\n",
    "    ctrl + shift + - : 셀 나누기\n"
   ]
  },
  {
   "cell_type": "code",
   "execution_count": 3,
   "metadata": {},
   "outputs": [
    {
     "name": "stdout",
     "output_type": "stream",
     "text": [
      "4\n"
     ]
    }
   ],
   "source": [
    "c = 1+3\n",
    "print(c)"
   ]
  },
  {
   "cell_type": "code",
   "execution_count": 7,
   "metadata": {},
   "outputs": [],
   "source": [
    "def xx( c ):\n",
    "    c = c * 2\n",
    "    return c"
   ]
  },
  {
   "cell_type": "code",
   "execution_count": 8,
   "metadata": {},
   "outputs": [
    {
     "name": "stdout",
     "output_type": "stream",
     "text": [
      "8\n"
     ]
    }
   ],
   "source": [
    "print(xx(c))"
   ]
  },
  {
   "cell_type": "code",
   "execution_count": 13,
   "metadata": {},
   "outputs": [],
   "source": [
    "def yy( x,y ):\n",
    "    return x-y"
   ]
  },
  {
   "cell_type": "code",
   "execution_count": 14,
   "metadata": {},
   "outputs": [
    {
     "data": {
      "text/plain": [
       "True"
      ]
     },
     "execution_count": 14,
     "metadata": {},
     "output_type": "execute_result"
    }
   ],
   "source": [
    "yy(10,4) >= 5"
   ]
  },
  {
   "cell_type": "code",
   "execution_count": 15,
   "metadata": {},
   "outputs": [
    {
     "name": "stdout",
     "output_type": "stream",
     "text": [
      "<class 'float'>\n"
     ]
    }
   ],
   "source": [
    "print(type(7/7))"
   ]
  },
  {
   "cell_type": "markdown",
   "metadata": {},
   "source": [
    "# 튜플(Tuple) , 리스트(List), 셋(Set) , 딕셔너리(Dict)    "
   ]
  },
  {
   "cell_type": "markdown",
   "metadata": {},
   "source": [
    "## 튜플 ( Tuple )  \n",
    "\n",
    "### 기본 개념\n",
    "    iterable한 변수 ( 반복 가능한 객체 ) \n",
    "    - 요소의 삽입삭제를 하지 못 한다 --> Immutable ( 불변성 ) \n",
    "    - Append,Remove와 같은 메소드가 없다.\n",
    "    - Tupple + Tupple형식으로 추가할 수 있지만, 억지로 하는 것 이기 때문에 권장하지는 않는다.\n",
    "    - 만약 하고 싶다면 \" T3 = T1 + T2 \"를 하여 새로 할당하는 방식으로 만들 수 있다.\n",
    "    - 서로 다른 Data Type을 담을 수 있다.\n",
    "        Ex) ('one' ,1,3)\n",
    "    \n",
    "### 사용방법\n",
    "    - \"()\" 을 이용하여 묶어준다!"
   ]
  },
  {
   "cell_type": "code",
   "execution_count": 16,
   "metadata": {
    "ExecuteTime": {
     "end_time": "2021-04-27T06:34:58.786882Z",
     "start_time": "2021-04-27T06:34:58.777725Z"
    }
   },
   "outputs": [
    {
     "name": "stdout",
     "output_type": "stream",
     "text": [
      "<class 'tuple'>\n"
     ]
    }
   ],
   "source": [
    "# 튜플 예시\n",
    "t1 = (1,2,3,4,5)\n",
    "print(type(t1))"
   ]
  },
  {
   "cell_type": "markdown",
   "metadata": {},
   "source": [
    "## 리스트 ( List )\n",
    "\n",
    "### 기본 개념\n",
    "    iterable한 변수 ( 반복 가능한 객체 ) \n",
    "    - 튜플과 유사하다 하지만, 요소의 삽입 삭제가 가능하다 --> 가변성 ( Mutable)\n",
    "    - append , remove 메소드를 이용하여 삽입삭제를 할 수 있따.\n",
    "    - List + List 형식으로 요소를 추가할 수 있다.\n",
    "    - 서로 다른 Data Type을 담을 수 있다.\n",
    "        Ex) ['One' , 1 ]\n",
    "        \n",
    "### 사용방법\n",
    "    - \" [] \"로 묶어준다!   "
   ]
  },
  {
   "cell_type": "code",
   "execution_count": 20,
   "metadata": {
    "ExecuteTime": {
     "end_time": "2021-04-27T06:40:03.028798Z",
     "start_time": "2021-04-27T06:40:03.013914Z"
    }
   },
   "outputs": [
    {
     "name": "stdout",
     "output_type": "stream",
     "text": [
      "<class 'list'>\n"
     ]
    }
   ],
   "source": [
    "l1 = [1,2,3,4,5]\n",
    "print(type(l1))"
   ]
  },
  {
   "cell_type": "markdown",
   "metadata": {},
   "source": [
    "## 셋 ( Set )\n",
    "### 기본 개념\n",
    "    - 순서가 없고, 중복이 불가한 Collection 자료형\n",
    "    - 요소의 삽입 삭제가 가능하다 --> 가변성 ( Mutable)\n",
    "    - add (값추가) ,update ( 여러요소 추가 ) ,remove (삭제 ) ,pop (값 리턴 후 삭제) ,clear (전체삭제) ,등\n",
    "    \n",
    "### 사용 방법\n",
    "    -\" { } \" 로 묶어준다."
   ]
  },
  {
   "cell_type": "code",
   "execution_count": 22,
   "metadata": {
    "ExecuteTime": {
     "end_time": "2021-04-27T06:46:25.444620Z",
     "start_time": "2021-04-27T06:46:25.440628Z"
    }
   },
   "outputs": [
    {
     "name": "stdout",
     "output_type": "stream",
     "text": [
      "<class 'set'>\n"
     ]
    }
   ],
   "source": [
    "s1 = {1,2,3,4,5}\n",
    "print(type(s1))"
   ]
  },
  {
   "cell_type": "markdown",
   "metadata": {},
   "source": [
    "## 딕셔너리 ( Dict )\n",
    "### 기본 개념\n",
    "    - 셋 (Set) 클래스를 이용하여 구현함.\n",
    "    - 그럼으로 Set과 동일하게 중복이 불가한 Collection 자료형이다. Mutable하다\n",
    "    - 모양 : Key : value로 구성되어있다.\n",
    "    - Key값은 중복이 불가하다!!\n",
    "    \n",
    "### 사용 방법\n",
    "    -{'one' : 1 } --> 1:1 맵핑!\n"
   ]
  },
  {
   "cell_type": "code",
   "execution_count": 26,
   "metadata": {
    "ExecuteTime": {
     "end_time": "2021-04-27T07:07:07.146764Z",
     "start_time": "2021-04-27T07:07:07.137126Z"
    }
   },
   "outputs": [
    {
     "name": "stdout",
     "output_type": "stream",
     "text": [
      "<class 'dict'>\n"
     ]
    }
   ],
   "source": [
    "d1 = {'one' : 1 }\n",
    "print(type(d1))"
   ]
  },
  {
   "cell_type": "markdown",
   "metadata": {},
   "source": [
    "# 조건문 ( if ... elif .... else)\n",
    "\n",
    "### 기본 개념\n",
    "    - 연산중 조건을 판별하기 위해 사용한다. ( 만약에... 아니면..  그 외에.. )\n",
    "    - 조건식에 and 혹은 or 을 삽입하여 조건식을 만들 수 있다\n",
    "        if a and b :       if a or b :\n",
    "    \n",
    "### 사용방법\n",
    "    - 형식은 아래와 같다\n",
    "    if 조건1  :\n",
    "        연산\n",
    "    elif 조건 :\n",
    "        연산\n",
    "    else :\n",
    "        연산"
   ]
  },
  {
   "cell_type": "code",
   "execution_count": 31,
   "metadata": {
    "ExecuteTime": {
     "end_time": "2021-04-27T07:17:21.152021Z",
     "start_time": "2021-04-27T07:17:21.142946Z"
    }
   },
   "outputs": [
    {
     "name": "stdout",
     "output_type": "stream",
     "text": [
      "B\n"
     ]
    }
   ],
   "source": [
    "    i = 80\n",
    "    \n",
    "    if i >=90 :\n",
    "        print('A')\n",
    "    elif i >= 80 and i < 90 :\n",
    "        print('B')\n",
    "    elif i >= 70 and i < 80 :\n",
    "        print('C')\n",
    "    elif i >= 60 and i < 70 :\n",
    "        print('D')\n",
    "    else:\n",
    "        print('F')"
   ]
  },
  {
   "cell_type": "markdown",
   "metadata": {},
   "source": [
    "# 반복문"
   ]
  },
  {
   "cell_type": "markdown",
   "metadata": {},
   "source": [
    "## Range\n",
    "### 기본 개념\n",
    "    -범위를 지정하여 순차적으로 값을 반환해주는 메소드\n",
    "\n",
    "### 사용 방법\n",
    "    - range ( 시작 , 끝 , 등차 )  이 때 등차는 생략 할 수 있다."
   ]
  },
  {
   "cell_type": "code",
   "execution_count": 39,
   "metadata": {
    "ExecuteTime": {
     "end_time": "2021-04-27T07:27:30.038652Z",
     "start_time": "2021-04-27T07:27:30.026603Z"
    }
   },
   "outputs": [
    {
     "name": "stdout",
     "output_type": "stream",
     "text": [
      "등차가 없는 range 예시\n",
      "[1, 2, 3, 4, 5, 6, 7, 8, 9]\n",
      "등차가 있는 range 예시\n",
      "[1, 3, 5, 7, 9]\n"
     ]
    }
   ],
   "source": [
    "print('등차가 없는 range 예시')\n",
    "a = []\n",
    "for i in range(1 , 10):\n",
    "    a.append(i)\n",
    "print (a)    \n",
    "\n",
    "a = []\n",
    "print('등차가 있는 range 예시')\n",
    "for i in range(1 , 10 , 2):\n",
    "   a.append(i)\n",
    "print (a)   "
   ]
  },
  {
   "cell_type": "markdown",
   "metadata": {},
   "source": [
    "## for문\n",
    "### 기본 개념\n",
    "    -대표적인 반복문이다.\n",
    "    -일반적으로 끝나는 지점을 알 때 사용한다.\n",
    "    \n",
    "### 사용 방법\n",
    "#### 방법1\n",
    "    for i in x:\n",
    "        연산\n",
    "#### 방법2\n",
    "    for i in range(5) : \n",
    "        연산        \n",
    "#### 방법3\n",
    "    for i in range(len(x):\n",
    "        연산\n",
    "    "
   ]
  },
  {
   "cell_type": "code",
   "execution_count": 32,
   "metadata": {
    "ExecuteTime": {
     "end_time": "2021-04-27T07:21:58.719696Z",
     "start_time": "2021-04-27T07:21:58.708887Z"
    },
    "code_folding": []
   },
   "outputs": [
    {
     "name": "stdout",
     "output_type": "stream",
     "text": [
      "50005000\n"
     ]
    }
   ],
   "source": [
    "ss= 0\n",
    "for i in range ( 1, 10001):\n",
    "    ss += i\n",
    "print(ss)"
   ]
  },
  {
   "cell_type": "raw",
   "metadata": {},
   "source": [
    "쉬어가는 문제!\n",
    "\n",
    "90 80 60 70 99 를 가진 리스트가 있다.\n",
    "위 리스트중 90점을 넘으면 A, 80 점을 넘으면 B , 70점을 넘으면 C, 60점을 넘으면 D , 나머지는 F를 주는 코드를 구현하여라.    "
   ]
  },
  {
   "cell_type": "code",
   "execution_count": 9,
   "metadata": {
    "ExecuteTime": {
     "end_time": "2021-04-27T07:12:01.904379Z",
     "start_time": "2021-04-27T07:12:01.888152Z"
    }
   },
   "outputs": [
    {
     "name": "stdout",
     "output_type": "stream",
     "text": [
      "A\n",
      "B\n",
      "D\n",
      "C\n",
      "A\n"
     ]
    }
   ],
   "source": [
    "s = [90,80,60,70,99]\n",
    "\n",
    "for i in s:\n",
    "    if i >=90 :\n",
    "        print('A')\n",
    "    elif i >= 80 and i < 90 :\n",
    "        print('B')\n",
    "    elif i >= 70 and i < 80 :\n",
    "        print('C')\n",
    "    elif i >= 60 and i < 70 :\n",
    "        print('D')\n",
    "    else:\n",
    "        print('F')\n",
    "        "
   ]
  },
  {
   "cell_type": "markdown",
   "metadata": {},
   "source": [
    "문제 2 \n",
    "범위 : range (0, 10001)\n",
    "문제 : 3의 배수이면서 2의 배수인 값의 합을 구하여라"
   ]
  },
  {
   "cell_type": "code",
   "execution_count": 42,
   "metadata": {
    "ExecuteTime": {
     "end_time": "2021-04-27T07:39:37.913751Z",
     "start_time": "2021-04-27T07:39:37.897146Z"
    }
   },
   "outputs": [
    {
     "name": "stdout",
     "output_type": "stream",
     "text": [
      "8331666\n"
     ]
    }
   ],
   "source": [
    "sum = 0\n",
    "\n",
    "for i in range(0,10001):\n",
    "    if i % 3 == 0 and i % 2 ==0:\n",
    "        sum += i        \n",
    "print(sum)"
   ]
  },
  {
   "cell_type": "markdown",
   "metadata": {},
   "source": [
    "문제 3\n",
    "1~1000 까지 숫자에서 3의 배수를 가져오고\n",
    " 가져온 3의 배수의 3번째 자리들만 가져와서 각각 제곱한\n",
    " 튜플을 만드세요"
   ]
  },
  {
   "cell_type": "code",
   "execution_count": 87,
   "metadata": {
    "ExecuteTime": {
     "end_time": "2021-04-27T08:16:24.183549Z",
     "start_time": "2021-04-27T08:16:24.160469Z"
    },
    "collapsed": true
   },
   "outputs": [
    {
     "name": "stdout",
     "output_type": "stream",
     "text": [
      "[[3, 9], [12, 144], [21, 441], [30, 900], [39, 1521], [48, 2304], [57, 3249], [66, 4356], [75, 5625], [84, 7056], [93, 8649], [102, 10404], [111, 12321], [120, 14400], [129, 16641], [138, 19044], [147, 21609], [156, 24336], [165, 27225], [174, 30276], [183, 33489], [192, 36864], [201, 40401], [210, 44100], [219, 47961], [228, 51984], [237, 56169], [246, 60516], [255, 65025], [264, 69696], [273, 74529], [282, 79524], [291, 84681], [300, 90000], [309, 95481], [318, 101124], [327, 106929], [336, 112896], [345, 119025], [354, 125316], [363, 131769], [372, 138384], [381, 145161], [390, 152100], [399, 159201], [408, 166464], [417, 173889], [426, 181476], [435, 189225], [444, 197136], [453, 205209], [462, 213444], [471, 221841], [480, 230400], [489, 239121], [498, 248004], [507, 257049], [516, 266256], [525, 275625], [534, 285156], [543, 294849], [552, 304704], [561, 314721], [570, 324900], [579, 335241], [588, 345744], [597, 356409], [606, 367236], [615, 378225], [624, 389376], [633, 400689], [642, 412164], [651, 423801], [660, 435600], [669, 447561], [678, 459684], [687, 471969], [696, 484416], [705, 497025], [714, 509796], [723, 522729], [732, 535824], [741, 549081], [750, 562500], [759, 576081], [768, 589824], [777, 603729], [786, 617796], [795, 632025], [804, 646416], [813, 660969], [822, 675684], [831, 690561], [840, 705600], [849, 720801], [858, 736164], [867, 751689], [876, 767376], [885, 783225], [894, 799236], [903, 815409], [912, 831744], [921, 848241], [930, 864900], [939, 881721], [948, 898704], [957, 915849], [966, 933156], [975, 950625], [984, 968256], [993, 986049]]\n"
     ]
    }
   ],
   "source": [
    "a = []\n",
    "for i in range(1,1001):\n",
    "    if i%3 == 0 :\n",
    "        a.append(i)\n",
    "b = []\n",
    "for i in range(len(a)):\n",
    "    if i %3 == 0:\n",
    "        b.append([a[i],a[i]**2])\n",
    "print(b)\n",
    "    "
   ]
  },
  {
   "cell_type": "code",
   "execution_count": 92,
   "metadata": {
    "ExecuteTime": {
     "end_time": "2021-04-27T08:32:09.786476Z",
     "start_time": "2021-04-27T08:32:09.771295Z"
    },
    "collapsed": true
   },
   "outputs": [
    {
     "name": "stdout",
     "output_type": "stream",
     "text": [
      "((3, 9), (12, 144), (21, 441), (30, 900), (39, 1521), (48, 2304), (57, 3249), (66, 4356), (75, 5625), (84, 7056), (93, 8649), (102, 10404), (111, 12321), (120, 14400), (129, 16641), (138, 19044), (147, 21609), (156, 24336), (165, 27225), (174, 30276), (183, 33489), (192, 36864), (201, 40401), (210, 44100), (219, 47961), (228, 51984), (237, 56169), (246, 60516), (255, 65025), (264, 69696), (273, 74529), (282, 79524), (291, 84681), (300, 90000), (309, 95481), (318, 101124), (327, 106929), (336, 112896), (345, 119025), (354, 125316), (363, 131769), (372, 138384), (381, 145161), (390, 152100), (399, 159201), (408, 166464), (417, 173889), (426, 181476), (435, 189225), (444, 197136), (453, 205209), (462, 213444), (471, 221841), (480, 230400), (489, 239121), (498, 248004), (507, 257049), (516, 266256), (525, 275625), (534, 285156), (543, 294849), (552, 304704), (561, 314721), (570, 324900), (579, 335241), (588, 345744), (597, 356409), (606, 367236), (615, 378225), (624, 389376), (633, 400689), (642, 412164), (651, 423801), (660, 435600), (669, 447561), (678, 459684), (687, 471969), (696, 484416), (705, 497025), (714, 509796), (723, 522729), (732, 535824), (741, 549081), (750, 562500), (759, 576081), (768, 589824), (777, 603729), (786, 617796), (795, 632025), (804, 646416), (813, 660969), (822, 675684), (831, 690561), (840, 705600), (849, 720801), (858, 736164), (867, 751689), (876, 767376), (885, 783225), (894, 799236), (903, 815409), (912, 831744), (921, 848241), (930, 864900), (939, 881721), (948, 898704), (957, 915849), (966, 933156), (975, 950625), (984, 968256), (993, 986049))\n",
      "{3: 9, 12: 144, 21: 441, 30: 900, 39: 1521, 48: 2304, 57: 3249, 66: 4356, 75: 5625, 84: 7056, 93: 8649, 102: 10404, 111: 12321, 120: 14400, 129: 16641, 138: 19044, 147: 21609, 156: 24336, 165: 27225, 174: 30276, 183: 33489, 192: 36864, 201: 40401, 210: 44100, 219: 47961, 228: 51984, 237: 56169, 246: 60516, 255: 65025, 264: 69696, 273: 74529, 282: 79524, 291: 84681, 300: 90000, 309: 95481, 318: 101124, 327: 106929, 336: 112896, 345: 119025, 354: 125316, 363: 131769, 372: 138384, 381: 145161, 390: 152100, 399: 159201, 408: 166464, 417: 173889, 426: 181476, 435: 189225, 444: 197136, 453: 205209, 462: 213444, 471: 221841, 480: 230400, 489: 239121, 498: 248004, 507: 257049, 516: 266256, 525: 275625, 534: 285156, 543: 294849, 552: 304704, 561: 314721, 570: 324900, 579: 335241, 588: 345744, 597: 356409, 606: 367236, 615: 378225, 624: 389376, 633: 400689, 642: 412164, 651: 423801, 660: 435600, 669: 447561, 678: 459684, 687: 471969, 696: 484416, 705: 497025, 714: 509796, 723: 522729, 732: 535824, 741: 549081, 750: 562500, 759: 576081, 768: 589824, 777: 603729, 786: 617796, 795: 632025, 804: 646416, 813: 660969, 822: 675684, 831: 690561, 840: 705600, 849: 720801, 858: 736164, 867: 751689, 876: 767376, 885: 783225, 894: 799236, 903: 815409, 912: 831744, 921: 848241, 930: 864900, 939: 881721, 948: 898704, 957: 915849, 966: 933156, 975: 950625, 984: 968256, 993: 986049}\n"
     ]
    }
   ],
   "source": [
    "a = []\n",
    "for i in range(3,1001 , 9):\n",
    "    a.append((i,i**2))\n",
    "c = tuple(a)\n",
    "print(c)\n",
    "type(c)\n",
    "\n",
    "## 딕셔너리로 구현\n",
    "dic1 = {}\n",
    "for i in range(3,1001 , 9):\n",
    "    dic1[i] = i**2\n",
    "print(dic1)\n"
   ]
  },
  {
   "cell_type": "markdown",
   "metadata": {},
   "source": [
    "구구단을 만들어보자~!~!~@~~~~"
   ]
  },
  {
   "cell_type": "code",
   "execution_count": 101,
   "metadata": {
    "ExecuteTime": {
     "end_time": "2021-04-27T08:38:13.758309Z",
     "start_time": "2021-04-27T08:38:13.733147Z"
    },
    "collapsed": true
   },
   "outputs": [
    {
     "name": "stdout",
     "output_type": "stream",
     "text": [
      "2 * 1 = 2\n",
      "2 * 2 = 4\n",
      "2 * 3 = 6\n",
      "2 * 4 = 8\n",
      "2 * 5 = 10\n",
      "2 * 6 = 12\n",
      "2 * 7 = 14\n",
      "2 * 8 = 16\n",
      "2 * 9 = 18\n",
      "3 * 1 = 3\n",
      "3 * 2 = 6\n",
      "3 * 3 = 9\n",
      "3 * 4 = 12\n",
      "3 * 5 = 15\n",
      "3 * 6 = 18\n",
      "3 * 7 = 21\n",
      "3 * 8 = 24\n",
      "3 * 9 = 27\n",
      "4 * 1 = 4\n",
      "4 * 2 = 8\n",
      "4 * 3 = 12\n",
      "4 * 4 = 16\n",
      "4 * 5 = 20\n",
      "4 * 6 = 24\n",
      "4 * 7 = 28\n",
      "4 * 8 = 32\n",
      "4 * 9 = 36\n",
      "5 * 1 = 5\n",
      "5 * 2 = 10\n",
      "5 * 3 = 15\n",
      "5 * 4 = 20\n",
      "5 * 5 = 25\n",
      "5 * 6 = 30\n",
      "5 * 7 = 35\n",
      "5 * 8 = 40\n",
      "5 * 9 = 45\n",
      "6 * 1 = 6\n",
      "6 * 2 = 12\n",
      "6 * 3 = 18\n",
      "6 * 4 = 24\n",
      "6 * 5 = 30\n",
      "6 * 6 = 36\n",
      "6 * 7 = 42\n",
      "6 * 8 = 48\n",
      "6 * 9 = 54\n",
      "7 * 1 = 7\n",
      "7 * 2 = 14\n",
      "7 * 3 = 21\n",
      "7 * 4 = 28\n",
      "7 * 5 = 35\n",
      "7 * 6 = 42\n",
      "7 * 7 = 49\n",
      "7 * 8 = 56\n",
      "7 * 9 = 63\n",
      "8 * 1 = 8\n",
      "8 * 2 = 16\n",
      "8 * 3 = 24\n",
      "8 * 4 = 32\n",
      "8 * 5 = 40\n",
      "8 * 6 = 48\n",
      "8 * 7 = 56\n",
      "8 * 8 = 64\n",
      "8 * 9 = 72\n",
      "9 * 1 = 9\n",
      "9 * 2 = 18\n",
      "9 * 3 = 27\n",
      "9 * 4 = 36\n",
      "9 * 5 = 45\n",
      "9 * 6 = 54\n",
      "9 * 7 = 63\n",
      "9 * 8 = 72\n",
      "9 * 9 = 81\n"
     ]
    }
   ],
   "source": [
    "for i in range(2,10):    \n",
    "    for j in range(1,10):\n",
    "        print(i,'*',j,'=',i*j)\n",
    "        "
   ]
  },
  {
   "cell_type": "code",
   "execution_count": 102,
   "metadata": {
    "ExecuteTime": {
     "end_time": "2021-04-27T08:39:17.102038Z",
     "start_time": "2021-04-27T08:39:17.083162Z"
    }
   },
   "outputs": [],
   "source": [
    "import random\n",
    "# from randomn import randint"
   ]
  },
  {
   "cell_type": "code",
   "execution_count": 105,
   "metadata": {
    "ExecuteTime": {
     "end_time": "2021-04-27T08:41:08.491452Z",
     "start_time": "2021-04-27T08:41:08.486550Z"
    }
   },
   "outputs": [
    {
     "data": {
      "text/plain": [
       "99"
      ]
     },
     "execution_count": 105,
     "metadata": {},
     "output_type": "execute_result"
    }
   ],
   "source": [
    "# 무작위 int 값 출력 (시작, 끝)\n",
    "random.randint(1,100)"
   ]
  },
  {
   "cell_type": "code",
   "execution_count": 107,
   "metadata": {
    "ExecuteTime": {
     "end_time": "2021-04-27T08:41:54.594723Z",
     "start_time": "2021-04-27T08:41:54.578693Z"
    }
   },
   "outputs": [
    {
     "data": {
      "text/plain": [
       "5"
      ]
     },
     "execution_count": 107,
     "metadata": {},
     "output_type": "execute_result"
    }
   ],
   "source": [
    "#보유한 요소중 랜덤하게 1개 추출\n",
    "x = [2,3,4,5]\n",
    "random.choice(x)"
   ]
  },
  {
   "cell_type": "markdown",
   "metadata": {},
   "source": [
    " 1~100 숫자 중 랜덤하게 100개의 수를 입력받아라"
   ]
  },
  {
   "cell_type": "code",
   "execution_count": 11,
   "metadata": {
    "ExecuteTime": {
     "end_time": "2021-04-27T08:53:01.170167Z",
     "start_time": "2021-04-27T08:53:01.150319Z"
    },
    "scrolled": true
   },
   "outputs": [
    {
     "ename": "NameError",
     "evalue": "name 'random' is not defined",
     "output_type": "error",
     "traceback": [
      "\u001b[1;31m---------------------------------------------------------------------------\u001b[0m",
      "\u001b[1;31mNameError\u001b[0m                                 Traceback (most recent call last)",
      "\u001b[1;32m<ipython-input-11-8d01c8e7ce0c>\u001b[0m in \u001b[0;36m<module>\u001b[1;34m\u001b[0m\n\u001b[0;32m      2\u001b[0m \u001b[1;33m\u001b[0m\u001b[0m\n\u001b[0;32m      3\u001b[0m \u001b[1;32mfor\u001b[0m \u001b[0mi\u001b[0m \u001b[1;32min\u001b[0m \u001b[0mrange\u001b[0m\u001b[1;33m(\u001b[0m\u001b[1;36m1\u001b[0m\u001b[1;33m,\u001b[0m\u001b[1;36m1000\u001b[0m\u001b[1;33m)\u001b[0m\u001b[1;33m:\u001b[0m\u001b[1;33m\u001b[0m\u001b[1;33m\u001b[0m\u001b[0m\n\u001b[1;32m----> 4\u001b[1;33m     \u001b[0mx\u001b[0m \u001b[1;33m=\u001b[0m \u001b[0mrandom\u001b[0m\u001b[1;33m.\u001b[0m\u001b[0mrandint\u001b[0m\u001b[1;33m(\u001b[0m\u001b[1;36m1\u001b[0m\u001b[1;33m,\u001b[0m\u001b[1;36m100\u001b[0m\u001b[1;33m)\u001b[0m\u001b[1;33m\u001b[0m\u001b[1;33m\u001b[0m\u001b[0m\n\u001b[0m\u001b[0;32m      5\u001b[0m     \u001b[1;32mif\u001b[0m \u001b[1;33m(\u001b[0m\u001b[0mx\u001b[0m \u001b[1;32min\u001b[0m \u001b[0mans\u001b[0m\u001b[1;33m)\u001b[0m \u001b[1;33m==\u001b[0m \u001b[1;32mFalse\u001b[0m\u001b[1;33m:\u001b[0m\u001b[1;33m\u001b[0m\u001b[1;33m\u001b[0m\u001b[0m\n\u001b[0;32m      6\u001b[0m         \u001b[0mans\u001b[0m\u001b[1;33m.\u001b[0m\u001b[0mappend\u001b[0m\u001b[1;33m(\u001b[0m\u001b[0mx\u001b[0m\u001b[1;33m)\u001b[0m\u001b[1;33m\u001b[0m\u001b[1;33m\u001b[0m\u001b[0m\n",
      "\u001b[1;31mNameError\u001b[0m: name 'random' is not defined"
     ]
    }
   ],
   "source": [
    "ans = []\n",
    "\n",
    "for i in range(1,1000):\n",
    "    x = random.randint(1,100)\n",
    "    if (x in ans) == False:\n",
    "        ans.append(x)\n",
    "print(len(ans))\n",
    "print(ans)\n"
   ]
  },
  {
   "cell_type": "code",
   "execution_count": 17,
   "metadata": {},
   "outputs": [
    {
     "name": "stdout",
     "output_type": "stream",
     "text": [
      "    /\\ \n",
      " )  ( ')\n",
      "(  /  )\n",
      " \\(__)|\n"
     ]
    }
   ],
   "source": [
    "print(\"    /\\ \\n )  ( ')\\n(  /  )\\n \\(__)|\")"
   ]
  }
 ],
 "metadata": {
  "jupytext": {
   "encoding": "# -*- coding: utf-8 -*-",
   "formats": "ipynb,py:light"
  },
  "kernelspec": {
   "display_name": "Python 3",
   "language": "python",
   "name": "python3"
  },
  "language_info": {
   "codemirror_mode": {
    "name": "ipython",
    "version": 3
   },
   "file_extension": ".py",
   "mimetype": "text/x-python",
   "name": "python",
   "nbconvert_exporter": "python",
   "pygments_lexer": "ipython3",
   "version": "3.7.9"
  },
  "toc": {
   "base_numbering": 1,
   "nav_menu": {},
   "number_sections": true,
   "sideBar": true,
   "skip_h1_title": false,
   "title_cell": "Table of Contents",
   "title_sidebar": "Contents",
   "toc_cell": false,
   "toc_position": {},
   "toc_section_display": true,
   "toc_window_display": false
  }
 },
 "nbformat": 4,
 "nbformat_minor": 4
}
