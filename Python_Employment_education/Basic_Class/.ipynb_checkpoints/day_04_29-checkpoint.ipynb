{
 "cells": [
  {
   "cell_type": "markdown",
   "metadata": {},
   "source": [
    "# 어제 숙제 답"
   ]
  },
  {
   "cell_type": "code",
   "execution_count": 193,
   "metadata": {
    "ExecuteTime": {
     "end_time": "2021-04-29T05:22:49.740658Z",
     "start_time": "2021-04-29T05:22:49.729669Z"
    }
   },
   "outputs": [
    {
     "name": "stdout",
     "output_type": "stream",
     "text": [
      "14\n"
     ]
    }
   ],
   "source": [
    "num =123\n",
    "sum = 0\n",
    "while num:\n",
    "    sum += (num%10)**2\n",
    "    num //= 10\n",
    "print(sum)"
   ]
  },
  {
   "cell_type": "code",
   "execution_count": 7,
   "metadata": {
    "ExecuteTime": {
     "end_time": "2021-04-29T06:44:05.573986Z",
     "start_time": "2021-04-29T06:44:05.563932Z"
    },
    "scrolled": true
   },
   "outputs": [
    {
     "data": {
      "text/html": [
       "<div>\n",
       "<style scoped>\n",
       "    .dataframe tbody tr th:only-of-type {\n",
       "        vertical-align: middle;\n",
       "    }\n",
       "\n",
       "    .dataframe tbody tr th {\n",
       "        vertical-align: top;\n",
       "    }\n",
       "\n",
       "    .dataframe thead th {\n",
       "        text-align: right;\n",
       "    }\n",
       "</style>\n",
       "<table border=\"1\" class=\"dataframe\">\n",
       "  <thead>\n",
       "    <tr style=\"text-align: right;\">\n",
       "      <th></th>\n",
       "      <th>0</th>\n",
       "      <th>1</th>\n",
       "      <th>2</th>\n",
       "      <th>3</th>\n",
       "    </tr>\n",
       "  </thead>\n",
       "  <tbody>\n",
       "    <tr>\n",
       "      <th>0</th>\n",
       "      <td>1</td>\n",
       "      <td>2</td>\n",
       "      <td>3</td>\n",
       "      <td>NaN</td>\n",
       "    </tr>\n",
       "    <tr>\n",
       "      <th>1</th>\n",
       "      <td>3</td>\n",
       "      <td>4</td>\n",
       "      <td>5</td>\n",
       "      <td>6.0</td>\n",
       "    </tr>\n",
       "  </tbody>\n",
       "</table>\n",
       "</div>"
      ],
      "text/plain": [
       "   0  1  2    3\n",
       "0  1  2  3  NaN\n",
       "1  3  4  5  6.0"
      ]
     },
     "execution_count": 7,
     "metadata": {},
     "output_type": "execute_result"
    }
   ],
   "source": [
    "import pandas as pd\n",
    "\n",
    "l = [[1,2,3],[3,4,5,6]]\n",
    "pd.DataFrame(l)"
   ]
  },
  {
   "cell_type": "code",
   "execution_count": null,
   "metadata": {},
   "outputs": [],
   "source": []
  },
  {
   "cell_type": "code",
   "execution_count": 18,
   "metadata": {
    "ExecuteTime": {
     "end_time": "2021-04-29T07:17:23.990457Z",
     "start_time": "2021-04-29T07:17:23.981891Z"
    }
   },
   "outputs": [
    {
     "name": "stdout",
     "output_type": "stream",
     "text": [
      "['H', 'e', 'l', 'l', 'o', ' ', 'P', 'y', 't', 'h', 'o', 'n']\n",
      "Hello Python\n",
      "HELLO PYTHON\n",
      "hello python\n"
     ]
    }
   ],
   "source": [
    "#str 나누기\n",
    "x= 'Hello Python'\n",
    "str_l=[]\n",
    "for i in x:\n",
    "    str_l.append(i)\n",
    "print(str_l) # 문자열 분해\n",
    "print(''.join(str_l)) # 문자열 합치기\n",
    "print(x.upper()) # 대문자 변환\n",
    "print(x.lower()) # 소문자 변환"
   ]
  },
  {
   "cell_type": "code",
   "execution_count": 12,
   "metadata": {
    "ExecuteTime": {
     "end_time": "2021-04-29T07:08:23.753946Z",
     "start_time": "2021-04-29T07:08:23.745968Z"
    }
   },
   "outputs": [
    {
     "name": "stdout",
     "output_type": "stream",
     "text": [
      "['C', 'D', 'B', 'A', 'E']\n"
     ]
    }
   ],
   "source": [
    "my_list = ['A', 'B', 'C', 'D', 'B', 'D', 'E']\n",
    "my_set = set(my_list) #집합set으로 변환\n",
    "new_list = list(my_set) #list로 변환\n",
    "print(new_list)"
   ]
  },
  {
   "cell_type": "code",
   "execution_count": 53,
   "metadata": {
    "ExecuteTime": {
     "end_time": "2021-04-29T07:33:20.176669Z",
     "start_time": "2021-04-29T07:33:20.165621Z"
    }
   },
   "outputs": [
    {
     "name": "stdout",
     "output_type": "stream",
     "text": [
      "hello Python We are the world \n"
     ]
    },
    {
     "data": {
      "text/plain": [
       "['hello', 'Python', 'We', 'are', 'the', 'world']"
      ]
     },
     "execution_count": 53,
     "metadata": {},
     "output_type": "execute_result"
    }
   ],
   "source": [
    "y = 'hello Python We are the world '\n",
    "#print(x[x.rfind(' ')+1: ])\n",
    "print(y)\n",
    "str_l = []\n",
    "for i in range(6):\n",
    "    tmp = y[:y.find(' ')]\n",
    "    str_l.append(tmp)\n",
    "    y= y.replace(tmp+' ', '')\n",
    "str_l   \n",
    "    "
   ]
  },
  {
   "cell_type": "code",
   "execution_count": 68,
   "metadata": {
    "ExecuteTime": {
     "end_time": "2021-04-29T07:46:58.708029Z",
     "start_time": "2021-04-29T07:46:58.690313Z"
    }
   },
   "outputs": [
    {
     "name": "stdout",
     "output_type": "stream",
     "text": [
      "hello Python We are the world \n",
      "['hello', 'Python', 'We', 'are', 'the', 'world']\n",
      "Wall time: 0 ns\n"
     ]
    }
   ],
   "source": [
    "%%time\n",
    "y = 'hello Python We are the world '\n",
    "#print(x[x.rfind(' ')+1: ])\n",
    "print(y)\n",
    "str_l = []\n",
    "while True : \n",
    "    loc = y.find(' ')\n",
    "    tmp = y[:loc]\n",
    "    str_l.append(tmp)\n",
    "    y = y.replace(tmp,'')[1:]\n",
    "    if loc == -1:\n",
    "        break;\n",
    "str_l.remove('')\n",
    "print(str_l)"
   ]
  },
  {
   "cell_type": "code",
   "execution_count": 81,
   "metadata": {
    "ExecuteTime": {
     "end_time": "2021-04-29T08:09:41.806645Z",
     "start_time": "2021-04-29T08:09:38.916152Z"
    }
   },
   "outputs": [
    {
     "name": "stdout",
     "output_type": "stream",
     "text": [
      "키와 몸무게를 입력하시오.178 88\n",
      "당신의 키는 178(cm) 이며 무게는 88(kg)입니다.\n",
      "\n",
      "당신의 bmi지수는 27.77 입니다.\n"
     ]
    }
   ],
   "source": [
    "#height과 weight을 입력으로 받아 bmi지수 출력\n",
    "\n",
    "##출력 형태 당신의 키는 (cm) 이며\n",
    "## 당신의 무게는 (kg)입니다.\n",
    "\n",
    "## 당신의 bmi 지수는 (소수점 2번째 자리까지) 얼마입니다.\n",
    "\n",
    "heiht,weight = map(int, input(\"키와 몸무게를 입력하시오.\").split())\n",
    "bmi = weight / (( heiht /100) ** 2 )\n",
    "print(\"당신의 키는 {}(cm) 이며 무게는 {}(kg)입니다.\\n\\n당신의 bmi지수는 {} 입니다.\".format(heiht,weight,round(bmi,2)))"
   ]
  },
  {
   "cell_type": "code",
   "execution_count": 89,
   "metadata": {
    "ExecuteTime": {
     "end_time": "2021-04-29T08:39:19.338172Z",
     "start_time": "2021-04-29T08:39:19.323161Z"
    }
   },
   "outputs": [
    {
     "name": "stdout",
     "output_type": "stream",
     "text": [
      "입출력테스트\n"
     ]
    }
   ],
   "source": [
    "# 파일 입출력\n",
    "file_l = open ('test.txt','r',encoding='utf-8') ## 파일 열기 \n",
    "print(file_l.read()) ## 파일 읽기\n",
    "file_l.close() ## 파일 닫기"
   ]
  },
  {
   "cell_type": "code",
   "execution_count": 94,
   "metadata": {
    "ExecuteTime": {
     "end_time": "2021-04-29T08:43:55.227253Z",
     "start_time": "2021-04-29T08:43:55.215770Z"
    }
   },
   "outputs": [
    {
     "name": "stdout",
     "output_type": "stream",
     "text": [
      "9\n",
      "81\n"
     ]
    }
   ],
   "source": [
    "def sq(x,y):\n",
    "    return x**y\n",
    "print((lambda x: x**2)(3))\n",
    "\n",
    "print((lambda x,y: x**y)(3,4))"
   ]
  },
  {
   "cell_type": "markdown",
   "metadata": {},
   "source": [
    "# '얼른 마스크'씨 회사 전기자동차의 행복한 일련번호\n",
    "\n",
    "    마스크를 쓰지 않고는 밖을 다니면 안 되는 코로나19 시대입니다.\n",
    "    코로나19가 장기화되면서 코로나 블루라는 말이 나올 정도로 우울한 사람들이 많아지고 있습니다.\n",
    "\n",
    "    세계적인 전기자동차 회사 경영자인 '얼른 마스크'씨는\n",
    "    자신의 전기자동차를 타는 고객들이 조금이라도 행복할 수 있기를 바라며\n",
    "    판매하는 전기자동차 번호판 일련번호 4자리를 행복 수(happy number)로 채우고자 합니다.\n",
    "\n",
    "    행복 수는 각 자릿수의 제곱의 합으로 변환하는 과정을 반복할 때 언젠가는 1에 도달하는 수입니다.\n",
    "    예로, 13 → 1x1 + 3x3 = 10 → 1x1 + 0x0 = 1이므로 13은 행복 수입니다.\n",
    "\n",
    "    행복 수가 아닌 것은 슬픈(sad) 수 또는 불행(unhappy) 수라고 불립니다.\n",
    "    예로, 4 → 4x4 = 16 → 1x1 + 6x6 = 37 → 3x3 + 7x7 = 58 → ... → 4 로 순환하여 결코 1에 도달할 수 없으니 4는 슬픈 수입니다.\n",
    "\n",
    "## 문제\n",
    "    '얼른 마스크'씨 회사 전기자동차의 일련번호가 될 수 있는 1 ~ 9999 범위의 행복 수는 모두 몇 개이고\n",
    "    그 총합은 얼마인지 구하는 프로그램을 작성해서 보내주세요 작성하세요.\n",
    "\n",
    "## 입력\n",
    "    각 범위의 최댓값을 한 줄에 하나씩 입력으로 받습니다. 최종적으로 구하고자 하는 범위의 최댓값은 9999이므로 소스코드 안에 하드코딩 해도 됩니다.\n",
    "    9\n",
    "    99\n",
    "## 출력\n",
    "    범위와 행복 수의 개수 그리고 총합을 아래와 같이 출력합니다.\n",
    "    1 ~ 9 범위의 행복 수는 2개이고 총합은 8입니다.\n",
    "    1 ~ 99 범위의 행복 수는 19개이고 총합은 924입니다."
   ]
  },
  {
   "cell_type": "code",
   "execution_count": 48,
   "metadata": {
    "ExecuteTime": {
     "end_time": "2021-05-02T07:18:01.430382Z",
     "start_time": "2021-05-02T07:17:53.306237Z"
    },
    "code_folding": []
   },
   "outputs": [
    {
     "name": "stdout",
     "output_type": "stream",
     "text": [
      "9999\n",
      "1 ~ 9999 범위의 행복 수는 1441개이고 총합은 7087069입니다.\n",
      "행복 수 개수 * 총합 = 10212466429\n"
     ]
    }
   ],
   "source": [
    "# 결국 자릿수별 제곱의 합을 반복하다 1이나오면 행복한수\n",
    "# 그렇지 않으면 불행한수 이다.\n",
    "\n",
    "happyNum = {1}\n",
    "sadNum = set()\n",
    "ans = set()\n",
    "\n",
    "num = int(input())\n",
    "def doubleSum(x):\n",
    "    tmpNum = x\n",
    "    num = 0\n",
    "    while tmpNum:\n",
    "        num += (tmpNum%10)**2\n",
    "        tmpNum//= 10        \n",
    "    return num\n",
    "\n",
    "for i in range(1,num+1):\n",
    "    tmp = doubleSum(i)\n",
    "    tmpL= [i]\n",
    "    while True:\n",
    "        if tmp in happyNum:\n",
    "            happyNum.update(tmpL)\n",
    "            ans.update([i])\n",
    "            break\n",
    "        elif tmp in sadNum or tmp in tmpL:\n",
    "            sadNum.update(tmpL)            \n",
    "            break\n",
    "        else :                    \n",
    "            tmpL.append(tmp)\n",
    "        tmp = doubleSum(tmp)        \n",
    "print('1 ~ {} 범위의 행복 수는 {}개이고 총합은 {}입니다.'.format(num,len(ans),sum(ans)))\n",
    "print('행복 수 개수 * 총합 = {}'.format(len(ans) * sum(ans)))"
   ]
  }
 ],
 "metadata": {
  "kernelspec": {
   "display_name": "Python 3",
   "language": "python",
   "name": "python3"
  },
  "language_info": {
   "codemirror_mode": {
    "name": "ipython",
    "version": 3
   },
   "file_extension": ".py",
   "mimetype": "text/x-python",
   "name": "python",
   "nbconvert_exporter": "python",
   "pygments_lexer": "ipython3",
   "version": "3.7.9"
  },
  "toc": {
   "base_numbering": 1,
   "nav_menu": {},
   "number_sections": true,
   "sideBar": true,
   "skip_h1_title": false,
   "title_cell": "Table of Contents",
   "title_sidebar": "Contents",
   "toc_cell": false,
   "toc_position": {
    "height": "372px",
    "left": "733.725px",
    "top": "96.6px",
    "width": "333.475px"
   },
   "toc_section_display": true,
   "toc_window_display": false
  }
 },
 "nbformat": 4,
 "nbformat_minor": 4
}
