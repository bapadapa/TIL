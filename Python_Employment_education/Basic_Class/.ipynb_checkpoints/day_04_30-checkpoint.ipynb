{
 "cells": [
  {
   "cell_type": "markdown",
   "metadata": {},
   "source": [
    "- 반복문을 배우는 이유는 프로그래밍을 편하게 하기 위해서이다!!\n",
    "\n",
    "# 함수"
   ]
  },
  {
   "cell_type": "code",
   "execution_count": 2,
   "metadata": {
    "ExecuteTime": {
     "end_time": "2021-04-30T00:28:27.746366Z",
     "start_time": "2021-04-30T00:28:27.736392Z"
    }
   },
   "outputs": [],
   "source": [
    "def fn1():\n",
    "    return \"hello world\""
   ]
  },
  {
   "cell_type": "code",
   "execution_count": 8,
   "metadata": {
    "ExecuteTime": {
     "end_time": "2021-04-30T00:29:27.589726Z",
     "start_time": "2021-04-30T00:29:27.577734Z"
    }
   },
   "outputs": [
    {
     "name": "stdout",
     "output_type": "stream",
     "text": [
      "<class 'str'>\n",
      "hello world\n"
     ]
    }
   ],
   "source": [
    "x= fn1()\n",
    "print(type(x))\n",
    "print(x)"
   ]
  },
  {
   "cell_type": "code",
   "execution_count": 9,
   "metadata": {
    "ExecuteTime": {
     "end_time": "2021-04-30T00:32:51.481362Z",
     "start_time": "2021-04-30T00:32:51.452437Z"
    }
   },
   "outputs": [],
   "source": [
    "def fn1(x,y) :\n",
    "    return x * y"
   ]
  },
  {
   "cell_type": "code",
   "execution_count": 11,
   "metadata": {
    "ExecuteTime": {
     "end_time": "2021-04-30T00:33:27.899698Z",
     "start_time": "2021-04-30T00:33:27.886733Z"
    }
   },
   "outputs": [],
   "source": [
    "key = ['one','two','three']\n",
    "value = [1,2,3]"
   ]
  },
  {
   "cell_type": "code",
   "execution_count": 12,
   "metadata": {
    "ExecuteTime": {
     "end_time": "2021-04-30T00:34:02.418586Z",
     "start_time": "2021-04-30T00:34:02.399634Z"
    }
   },
   "outputs": [
    {
     "data": {
      "text/plain": [
       "{'one': 1, 'two': 2, 'three': 3}"
      ]
     },
     "execution_count": 12,
     "metadata": {},
     "output_type": "execute_result"
    }
   ],
   "source": [
    "dic = {key[0] : value[0],key[1] : value[1],key[2] : value[2]}\n",
    "dic"
   ]
  },
  {
   "cell_type": "code",
   "execution_count": 15,
   "metadata": {
    "ExecuteTime": {
     "end_time": "2021-04-30T00:38:44.901769Z",
     "start_time": "2021-04-30T00:38:44.887769Z"
    }
   },
   "outputs": [
    {
     "name": "stdout",
     "output_type": "stream",
     "text": [
      "one\n",
      "1\n",
      "two\n",
      "2\n",
      "three\n",
      "3\n"
     ]
    }
   ],
   "source": [
    "for k,v in enumerate(key):\n",
    "        print(v)\n",
    "        print(value[k])"
   ]
  },
  {
   "cell_type": "code",
   "execution_count": 17,
   "metadata": {
    "ExecuteTime": {
     "end_time": "2021-04-30T00:39:36.998423Z",
     "start_time": "2021-04-30T00:39:36.980468Z"
    }
   },
   "outputs": [],
   "source": [
    "def fn2(x,y):\n",
    "    dic = {}\n",
    "    for k,v in enumerate(x):\n",
    "        dic[v] = y[k]\n",
    "    return dic"
   ]
  },
  {
   "cell_type": "code",
   "execution_count": 19,
   "metadata": {
    "ExecuteTime": {
     "end_time": "2021-04-30T00:40:03.150517Z",
     "start_time": "2021-04-30T00:40:03.145503Z"
    }
   },
   "outputs": [
    {
     "data": {
      "text/plain": [
       "{'one': 1, 'two': 2, 'three': 3}"
      ]
     },
     "execution_count": 19,
     "metadata": {},
     "output_type": "execute_result"
    }
   ],
   "source": [
    "key = ['one','two','three']\n",
    "value = [1,2,3]\n",
    "fn2(key,value)"
   ]
  },
  {
   "cell_type": "code",
   "execution_count": 25,
   "metadata": {
    "ExecuteTime": {
     "end_time": "2021-04-30T01:22:19.293922Z",
     "start_time": "2021-04-30T01:22:19.269230Z"
    }
   },
   "outputs": [
    {
     "name": "stdout",
     "output_type": "stream",
     "text": [
      "0 one\n",
      "1 two\n",
      "2 three\n",
      "3 four\n"
     ]
    },
    {
     "ename": "IndexError",
     "evalue": "list index out of range",
     "output_type": "error",
     "traceback": [
      "\u001b[1;31m---------------------------------------------------------------------------\u001b[0m",
      "\u001b[1;31mIndexError\u001b[0m                                Traceback (most recent call last)",
      "\u001b[1;32m<ipython-input-25-950584c5d52d>\u001b[0m in \u001b[0;36m<module>\u001b[1;34m\u001b[0m\n\u001b[0;32m     12\u001b[0m \u001b[0mkey\u001b[0m \u001b[1;33m=\u001b[0m \u001b[1;33m[\u001b[0m\u001b[1;34m'one'\u001b[0m\u001b[1;33m,\u001b[0m\u001b[1;34m'two'\u001b[0m\u001b[1;33m,\u001b[0m\u001b[1;34m'three'\u001b[0m\u001b[1;33m,\u001b[0m\u001b[1;34m'four'\u001b[0m\u001b[1;33m]\u001b[0m\u001b[1;33m\u001b[0m\u001b[1;33m\u001b[0m\u001b[0m\n\u001b[0;32m     13\u001b[0m \u001b[0mvalue\u001b[0m \u001b[1;33m=\u001b[0m \u001b[1;33m[\u001b[0m\u001b[1;36m1\u001b[0m\u001b[1;33m,\u001b[0m\u001b[1;36m2\u001b[0m\u001b[1;33m,\u001b[0m\u001b[1;36m3\u001b[0m\u001b[1;33m]\u001b[0m\u001b[1;33m\u001b[0m\u001b[1;33m\u001b[0m\u001b[0m\n\u001b[1;32m---> 14\u001b[1;33m \u001b[0mfnc2\u001b[0m\u001b[1;33m(\u001b[0m\u001b[0mkey\u001b[0m\u001b[1;33m,\u001b[0m\u001b[0mvalue\u001b[0m\u001b[1;33m)\u001b[0m\u001b[1;33m\u001b[0m\u001b[1;33m\u001b[0m\u001b[0m\n\u001b[0m",
      "\u001b[1;32m<ipython-input-25-950584c5d52d>\u001b[0m in \u001b[0;36mfnc2\u001b[1;34m(x, y)\u001b[0m\n\u001b[0;32m      7\u001b[0m     \u001b[1;32mfor\u001b[0m \u001b[0mk\u001b[0m\u001b[1;33m,\u001b[0m\u001b[0mv\u001b[0m \u001b[1;32min\u001b[0m \u001b[0menumerate\u001b[0m\u001b[1;33m(\u001b[0m\u001b[0mx\u001b[0m\u001b[1;33m)\u001b[0m\u001b[1;33m:\u001b[0m\u001b[1;33m\u001b[0m\u001b[1;33m\u001b[0m\u001b[0m\n\u001b[0;32m      8\u001b[0m         \u001b[0mprint\u001b[0m \u001b[1;33m(\u001b[0m\u001b[0mk\u001b[0m \u001b[1;33m,\u001b[0m \u001b[0mv\u001b[0m\u001b[1;33m)\u001b[0m\u001b[1;33m\u001b[0m\u001b[1;33m\u001b[0m\u001b[0m\n\u001b[1;32m----> 9\u001b[1;33m         \u001b[0mdic\u001b[0m\u001b[1;33m[\u001b[0m\u001b[0mv\u001b[0m\u001b[1;33m]\u001b[0m \u001b[1;33m=\u001b[0m \u001b[0my\u001b[0m\u001b[1;33m[\u001b[0m\u001b[0mk\u001b[0m\u001b[1;33m]\u001b[0m\u001b[1;33m\u001b[0m\u001b[1;33m\u001b[0m\u001b[0m\n\u001b[0m\u001b[0;32m     10\u001b[0m     \u001b[1;32mreturn\u001b[0m \u001b[0mdic\u001b[0m\u001b[1;33m\u001b[0m\u001b[1;33m\u001b[0m\u001b[0m\n\u001b[0;32m     11\u001b[0m \u001b[1;33m\u001b[0m\u001b[0m\n",
      "\u001b[1;31mIndexError\u001b[0m: list index out of range"
     ]
    }
   ],
   "source": [
    "# 딕셔너리는 key : value로 구성된다\n",
    "# 그런데 key값과 value 값의 갯수가 다른 경우가 있다. \n",
    "# 그 때 갯수가 적은 값을 기준으로 삽입하는 함수를 작석하시오\n",
    "\n",
    "def fnc2(x,y):\n",
    "    dic = {}\n",
    "    for k,v in enumerate(x):\n",
    "        print (k , v)\n",
    "        dic[v] = y[k]\n",
    "    return dic\n",
    "\n",
    "key = ['one','two','three','four']\n",
    "value = [1,2,3]\n",
    "fnc2(key,value)"
   ]
  },
  {
   "cell_type": "code",
   "execution_count": 31,
   "metadata": {
    "ExecuteTime": {
     "end_time": "2021-04-30T01:27:44.391648Z",
     "start_time": "2021-04-30T01:27:44.383077Z"
    }
   },
   "outputs": [],
   "source": [
    "def train_test_split(x,y):\n",
    "    ind = int(len(x)*y)\n",
    "    train_x = x[:ind]\n",
    "    train_y = x[ind:]\n",
    "    return train_x,train_y"
   ]
  },
  {
   "cell_type": "code",
   "execution_count": 32,
   "metadata": {
    "ExecuteTime": {
     "end_time": "2021-04-30T01:27:47.396869Z",
     "start_time": "2021-04-30T01:27:47.386353Z"
    }
   },
   "outputs": [],
   "source": [
    "tr_x,tr_y = train_test_split([1,3,4,7,7,8],0.8)"
   ]
  },
  {
   "cell_type": "code",
   "execution_count": 39,
   "metadata": {
    "ExecuteTime": {
     "end_time": "2021-04-30T02:04:31.474224Z",
     "start_time": "2021-04-30T02:04:31.451258Z"
    }
   },
   "outputs": [],
   "source": [
    "import random\n",
    "randomList = []\n",
    "while len(randomList) < 1000: \n",
    "    if x not in randomList :\n",
    "        randomList.append(random.randint(0,1000))\n",
    "        randomList\n",
    "    \n",
    "    "
   ]
  },
  {
   "cell_type": "code",
   "execution_count": 41,
   "metadata": {
    "ExecuteTime": {
     "end_time": "2021-04-30T02:09:42.621395Z",
     "start_time": "2021-04-30T02:09:42.612973Z"
    }
   },
   "outputs": [],
   "source": [
    "def random_list(x):\n",
    "    randomlist = []\n",
    "    while len(randomlist) < x:\n",
    "        if x not in randomlist:\n",
    "            randomlist.append(random.randint(0,x))\n",
    "    return randomlist\n",
    "\n",
    "def tran_test_split(x,y):\n",
    "    random_len = len(x)\n",
    "    random_list = random_list(random_len)\n",
    "    ind = int(len(landom_list)*y)\n",
    "    train_ind = random_list[:ind]\n",
    "    test_ind = random_list[:ind]\n",
    "    train_x ,test_x=[],[]\n",
    "    for i in train_ind:\n",
    "        train_x.append(x[i])\n",
    "    for i in test_x:\n",
    "        test_x.append(x[i])\n",
    "    return train_x,test_x"
   ]
  },
  {
   "cell_type": "code",
   "execution_count": 42,
   "metadata": {
    "ExecuteTime": {
     "end_time": "2021-04-30T02:10:45.976430Z",
     "start_time": "2021-04-30T02:10:45.969414Z"
    }
   },
   "outputs": [
    {
     "name": "stdout",
     "output_type": "stream",
     "text": [
      "[3, 3, 2, 4, 5, 6, 7, 10]\n",
      "[6, 10]\n"
     ]
    }
   ],
   "source": [
    "x= [3,3,2,4,5,6,7,10,6,10]\n",
    "train_x , test_x = train_test_split(x,0.8)\n",
    "print(train_x)\n",
    "print(test_x)"
   ]
  },
  {
   "cell_type": "code",
   "execution_count": 50,
   "metadata": {
    "ExecuteTime": {
     "end_time": "2021-04-30T04:27:14.573825Z",
     "start_time": "2021-04-30T04:27:14.562160Z"
    }
   },
   "outputs": [
    {
     "data": {
      "text/plain": [
       "{'x': [19, 300, 30, 19, 300.3, 19, 300, 30], 'y': 0.6}"
      ]
     },
     "execution_count": 50,
     "metadata": {},
     "output_type": "execute_result"
    }
   ],
   "source": [
    "x = [ 19,300,30,19,300.30,19,300,30]\n",
    "y = 0.6\n",
    "param = {'x':x , 'y':y}\n",
    "param\n"
   ]
  },
  {
   "cell_type": "code",
   "execution_count": 52,
   "metadata": {
    "ExecuteTime": {
     "end_time": "2021-04-30T04:27:43.179533Z",
     "start_time": "2021-04-30T04:27:43.164999Z"
    }
   },
   "outputs": [],
   "source": [
    "def add_sub(a,b,c): return a+b+c,(a+b)*c"
   ]
  },
  {
   "cell_type": "code",
   "execution_count": 55,
   "metadata": {
    "ExecuteTime": {
     "end_time": "2021-04-30T04:48:02.013808Z",
     "start_time": "2021-04-30T04:48:01.998831Z"
    }
   },
   "outputs": [
    {
     "data": {
      "text/plain": [
       "(9, 20)"
      ]
     },
     "execution_count": 55,
     "metadata": {},
     "output_type": "execute_result"
    }
   ],
   "source": [
    "x = {'a':3,'b':2,'c':4}\n",
    "add_sub(**x)"
   ]
  },
  {
   "cell_type": "code",
   "execution_count": 61,
   "metadata": {
    "ExecuteTime": {
     "end_time": "2021-04-30T04:50:05.066778Z",
     "start_time": "2021-04-30T04:50:05.062459Z"
    }
   },
   "outputs": [
    {
     "name": "stdout",
     "output_type": "stream",
     "text": [
      "1 hello world\n",
      "2 hello world\n",
      "3 hello world\n",
      "4 hello world\n",
      "5 hello world\n",
      "6 hello world\n",
      "7 hello world\n",
      "8 hello world\n",
      "9 hello world\n",
      "10 hello world\n"
     ]
    }
   ],
   "source": [
    "# 제귀함수\n",
    "def hello(x) : \n",
    "    if x > 10:\n",
    "        return\n",
    "    print(\"{} hello world\".format(x))\n",
    "    x +=1\n",
    "    hello(x)\n",
    "hello(1)"
   ]
  },
  {
   "cell_type": "code",
   "execution_count": 65,
   "metadata": {
    "ExecuteTime": {
     "end_time": "2021-04-30T05:19:38.653002Z",
     "start_time": "2021-04-30T05:19:38.644517Z"
    }
   },
   "outputs": [
    {
     "name": "stdout",
     "output_type": "stream",
     "text": [
      "hi\n",
      "hi\n"
     ]
    }
   ],
   "source": [
    "def hi(x):\n",
    "    if x == 0:\n",
    "        return\n",
    "    print(\"hi\")\n",
    "    x -=1\n",
    "    hi(x)\n",
    "    \n",
    "hi(2)"
   ]
  },
  {
   "cell_type": "code",
   "execution_count": 67,
   "metadata": {
    "ExecuteTime": {
     "end_time": "2021-04-30T05:20:21.247678Z",
     "start_time": "2021-04-30T05:20:21.234698Z"
    }
   },
   "outputs": [],
   "source": [
    "def make_tuple(x):\n",
    "    if len(x) == 0:\n",
    "        return \"end\"\n",
    "    y = (x[0],x[-1])\n",
    "    x.pop(0)\n",
    "    x.pop(-1)\n",
    "    make_tuple(x)\n",
    "    "
   ]
  },
  {
   "cell_type": "code",
   "execution_count": 71,
   "metadata": {
    "ExecuteTime": {
     "end_time": "2021-04-30T05:33:30.253180Z",
     "start_time": "2021-04-30T05:33:30.243179Z"
    }
   },
   "outputs": [
    {
     "name": "stdout",
     "output_type": "stream",
     "text": [
      "None\n"
     ]
    }
   ],
   "source": [
    "print(make_tuple(list(range(10))))"
   ]
  },
  {
   "cell_type": "code",
   "execution_count": 79,
   "metadata": {
    "ExecuteTime": {
     "end_time": "2021-04-30T06:03:44.263725Z",
     "start_time": "2021-04-30T06:03:44.250519Z"
    }
   },
   "outputs": [
    {
     "name": "stdout",
     "output_type": "stream",
     "text": [
      "[1, 1, 2, 3, 5, 8, 13, 21, 34, 55]\n"
     ]
    }
   ],
   "source": [
    "# 피보나치 수열 구현하기\n",
    "nums = [1,1]\n",
    "for i in range(2,10):\n",
    "    nums.append(nums[i-2]+nums[i-1])\n",
    "print(nums)"
   ]
  },
  {
   "cell_type": "code",
   "execution_count": 19,
   "metadata": {
    "ExecuteTime": {
     "end_time": "2021-04-30T07:19:14.881625Z",
     "start_time": "2021-04-30T07:19:14.870620Z"
    }
   },
   "outputs": [],
   "source": [
    "import time"
   ]
  },
  {
   "cell_type": "code",
   "execution_count": 16,
   "metadata": {
    "ExecuteTime": {
     "end_time": "2021-04-30T07:18:01.971143Z",
     "start_time": "2021-04-30T07:18:01.718801Z"
    }
   },
   "outputs": [
    {
     "name": "stdout",
     "output_type": "stream",
     "text": [
      "Wall time: 246 ms\n"
     ]
    }
   ],
   "source": [
    "\n",
    "fibos = [[1],[1,1]]\n",
    "cnt = 1000\n",
    "for i in range(2,cnt) :\n",
    "    tmp = []\n",
    "    for j in range(i+1):        \n",
    "        if j == 0 or j == i:\n",
    "            tmp.append(1)        \n",
    "        else:\n",
    "            tmp.append(fibos[i-1][j-1] + fibos[i-1][j])\n",
    "    fibos.append(tmp)"
   ]
  },
  {
   "cell_type": "code",
   "execution_count": 18,
   "metadata": {
    "ExecuteTime": {
     "end_time": "2021-04-30T07:18:06.580599Z",
     "start_time": "2021-04-30T07:18:06.224980Z"
    }
   },
   "outputs": [
    {
     "name": "stdout",
     "output_type": "stream",
     "text": [
      "Wall time: 346 ms\n"
     ]
    }
   ],
   "source": [
    "%%time\n",
    "n = 1000\n",
    "Pre = [1]\n",
    "for i in range(n) : \n",
    "    L = []\n",
    "    for j in range(len(Pre)+1) : \n",
    "        L.append(sum(Pre[max(0,j-1) : j+1]))\n",
    "    Pre = L\n",
    "    #print(Pre)"
   ]
  },
  {
   "cell_type": "code",
   "execution_count": 24,
   "metadata": {
    "ExecuteTime": {
     "end_time": "2021-04-30T07:46:45.168439Z",
     "start_time": "2021-04-30T07:46:36.977922Z"
    }
   },
   "outputs": [
    {
     "name": "stderr",
     "output_type": "stream",
     "text": [
      "Matplotlib is building the font cache; this may take a moment.\n"
     ]
    }
   ],
   "source": [
    "import datetime\n",
    "import matplotlib.pyplot as plt\n"
   ]
  },
  {
   "cell_type": "code",
   "execution_count": 29,
   "metadata": {
    "ExecuteTime": {
     "end_time": "2021-04-30T08:04:22.345372Z",
     "start_time": "2021-04-30T08:04:08.428494Z"
    }
   },
   "outputs": [
    {
     "data": {
      "text/plain": [
       "[<matplotlib.lines.Line2D at 0x2d5c2e016c8>]"
      ]
     },
     "execution_count": 29,
     "metadata": {},
     "output_type": "execute_result"
    },
    {
     "data": {
      "image/png": "[encoded data removed]",
      "text/plain": [
       "<Figure size 432x288 with 1 Axes>"
      ]
     },
     "metadata": {
      "needs_background": "light"
     },
     "output_type": "display_data"
    }
   ],
   "source": [
    "\n",
    "fibos = [[1],[1,1]]\n",
    "elap_time = []\n",
    "for n in range(100, 5000,100):\n",
    "    start = time.time()\n",
    "    for i in range(2,cnt) :\n",
    "        tmp = []\n",
    "        for j in range(i+1):        \n",
    "            if j == 0 or j == i:\n",
    "                tmp.append(1)        \n",
    "            else:\n",
    "                tmp.append(fibos[i-1][j-1] + fibos[i-1][j])\n",
    "        fibos.append(tmp)\n",
    "    elap_time.append(time.time() - start)\n",
    "\n",
    "plt.plot(elap_time)"
   ]
  },
  {
   "cell_type": "code",
   "execution_count": 36,
   "metadata": {
    "ExecuteTime": {
     "end_time": "2021-04-30T08:15:51.340022Z",
     "start_time": "2021-04-30T08:15:51.334064Z"
    }
   },
   "outputs": [
    {
     "data": {
      "text/plain": [
       "'B'"
      ]
     },
     "execution_count": 36,
     "metadata": {},
     "output_type": "execute_result"
    }
   ],
   "source": [
    "(lambda x : 'A' if x %3 ==0 else 'B')(2)"
   ]
  },
  {
   "cell_type": "code",
   "execution_count": 48,
   "metadata": {
    "ExecuteTime": {
     "end_time": "2021-04-30T08:27:10.694962Z",
     "start_time": "2021-04-30T08:27:10.681981Z"
    }
   },
   "outputs": [
    {
     "data": {
      "text/plain": [
       "'C'"
      ]
     },
     "execution_count": 48,
     "metadata": {},
     "output_type": "execute_result"
    }
   ],
   "source": [
    "## 90이상 A , 80~89 : B , 70~78 = D , 나머지 : F\n",
    "\n",
    "(lambda x : 'A' if x >= 90  else 'B' if x >= 80 else 'C' if x >=70 else 'D')(71)"
   ]
  }
 ],
 "metadata": {
  "kernelspec": {
   "display_name": "Python 3",
   "language": "python",
   "name": "python3"
  },
  "language_info": {
   "codemirror_mode": {
    "name": "ipython",
    "version": 3
   },
   "file_extension": ".py",
   "mimetype": "text/x-python",
   "name": "python",
   "nbconvert_exporter": "python",
   "pygments_lexer": "ipython3",
   "version": "3.7.9"
  },
  "toc": {
   "base_numbering": 1,
   "nav_menu": {},
   "number_sections": true,
   "sideBar": true,
   "skip_h1_title": false,
   "title_cell": "Table of Contents",
   "title_sidebar": "Contents",
   "toc_cell": false,
   "toc_position": {},
   "toc_section_display": true,
   "toc_window_display": false
  }
 },
 "nbformat": 4,
 "nbformat_minor": 4
}
