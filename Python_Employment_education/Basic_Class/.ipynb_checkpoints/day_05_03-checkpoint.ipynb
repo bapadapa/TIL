{
 "cells": [
  {
   "cell_type": "code",
   "execution_count": 2,
   "metadata": {
    "ExecuteTime": {
     "end_time": "2021-05-03T01:11:43.554176Z",
     "start_time": "2021-05-03T01:11:43.538181Z"
    }
   },
   "outputs": [],
   "source": [
    "import pandas as pd\n"
   ]
  },
  {
   "cell_type": "code",
   "execution_count": 10,
   "metadata": {
    "ExecuteTime": {
     "end_time": "2021-05-03T01:22:28.124590Z",
     "start_time": "2021-05-03T01:22:24.549402Z"
    }
   },
   "outputs": [
    {
     "name": "stdout",
     "output_type": "stream",
     "text": [
      "10 1\n",
      "9 16\n"
     ]
    }
   ],
   "source": [
    "# 1안\n",
    "h, m = map(int,input().split())\n",
    "if m < 45:\n",
    "    h -= 1;\n",
    "    m += 60;\n",
    "\n",
    "if h < 0:\n",
    "    h = 23:\n",
    "m -= 45:\n",
    "\n",
    "print(\"{} {}\".format(h,m))"
   ]
  },
  {
   "cell_type": "code",
   "execution_count": 15,
   "metadata": {
    "ExecuteTime": {
     "end_time": "2021-05-03T01:23:43.667239Z",
     "start_time": "2021-05-03T01:23:37.513192Z"
    }
   },
   "outputs": [
    {
     "name": "stdout",
     "output_type": "stream",
     "text": [
      "23 5\n",
      "22 20\n"
     ]
    }
   ],
   "source": [
    "#2안\n",
    "h,m = map(int , input().split())\n",
    "m -= 45\n",
    "if m < 0:\n",
    "    h-=1\n",
    "    m+=60\n",
    "if h < 0:\n",
    "    h=23\n",
    "print(\"{} {}\".format(h,m))"
   ]
  },
  {
   "cell_type": "code",
   "execution_count": 17,
   "metadata": {
    "ExecuteTime": {
     "end_time": "2021-05-03T02:24:51.333787Z",
     "start_time": "2021-05-03T02:24:48.595698Z"
    },
    "scrolled": true
   },
   "outputs": [
    {
     "name": "stdout",
     "output_type": "stream",
     "text": [
      "1 1\n",
      "0 16\n"
     ]
    }
   ],
   "source": [
    "#3안\n",
    "h,m = map(int , input().split())\n",
    "m -= 45\n",
    "if m < 0:\n",
    "    h-=1\n",
    "    m+=60\n",
    "if h < 0:\n",
    "    h=23\n",
    "print(\"{} {}\".format(h,m))"
   ]
  },
  {
   "cell_type": "code",
   "execution_count": 35,
   "metadata": {
    "ExecuteTime": {
     "end_time": "2021-05-03T02:39:37.634916Z",
     "start_time": "2021-05-03T02:39:37.623907Z"
    }
   },
   "outputs": [],
   "source": [
    "del sum"
   ]
  },
  {
   "cell_type": "code",
   "execution_count": 43,
   "metadata": {
    "ExecuteTime": {
     "end_time": "2021-05-03T02:44:16.199758Z",
     "start_time": "2021-05-03T02:43:55.300608Z"
    }
   },
   "outputs": [
    {
     "name": "stdout",
     "output_type": "stream",
     "text": [
      "270029126\n",
      "Wall time: 20.9 s\n"
     ]
    }
   ],
   "source": [
    "%%time\n",
    "#랜덤으로 값을 받아온다.\n",
    "def hap(x):\n",
    "    num = 0\n",
    "    y= str(x)\n",
    "    for i in y:\n",
    "        num += int(i)\n",
    "    return num\n",
    "# def hap2(x):\n",
    "#     num = 0    \n",
    "#     while x:\n",
    "#         num += x%10\n",
    "#         x //=10\n",
    "#     return num\n",
    "# import numpy as np\n",
    "np.random.seed(10)\n",
    "x = np.random.randint(0,999999,10000000)\n",
    "\n",
    "ansL = list(map(hap,x))\n",
    "ans = sum(ansL)\n",
    "print(ans)"
   ]
  },
  {
   "cell_type": "markdown",
   "metadata": {},
   "source": [
    "# 세자리 수를 곱해 만들 수 있는 가장 큰 대칭수\n",
    "https://euler.synap.co.kr/problem=4\n",
    "앞에서부터 읽을 때나 뒤에서부터 읽을 때나 모양이 같은 수를 대칭수(palindrome)라고 부릅니다.\n",
    "\n",
    "두 자리 수를 곱해 만들 수 있는 대칭수 중 가장 큰 수는 9009 (= 91 × 99) 입니다.\n",
    "\n",
    "세 자리 수를 곱해 만들 수 있는 가장 큰 대칭수는 얼마입니까?"
   ]
  },
  {
   "cell_type": "code",
   "execution_count": 117,
   "metadata": {
    "ExecuteTime": {
     "end_time": "2021-05-03T04:39:45.797454Z",
     "start_time": "2021-05-03T04:39:45.655864Z"
    }
   },
   "outputs": [
    {
     "name": "stdout",
     "output_type": "stream",
     "text": [
      "906609\n"
     ]
    }
   ],
   "source": [
    "checkP = (lambda x : True if x[:len(x)//2] == x[:len(x)//2-1:-1] else False )\n",
    "maxNum= 0\n",
    "for i in range(999,0,-1):\n",
    "    for j in range(999,0,-1):\n",
    "        if i*j > maxNum and  checkP(str(i*j)):\n",
    "            maxNum=i*j\n",
    "print(maxNum)\n"
   ]
  },
  {
   "cell_type": "code",
   "execution_count": 162,
   "metadata": {
    "ExecuteTime": {
     "end_time": "2021-05-03T12:40:59.503721Z",
     "start_time": "2021-05-03T12:40:58.719653Z"
    }
   },
   "outputs": [
    {
     "name": "stdout",
     "output_type": "stream",
     "text": [
      "5\n",
      "  *\n",
      " ***\n",
      "*****\n",
      " ***\n",
      "  *\n"
     ]
    }
   ],
   "source": [
    "# 마른모 별짓기\n",
    "\n",
    "num = int(input())\n",
    "cnt = 0\n",
    "for i in range(num):\n",
    "    print(' '*(num//2-cnt),end ='')    \n",
    "    print('*'*(cnt*2),end='*\\n')    \n",
    "    cnt = (lambda x : cnt+1 if x < num//2 else cnt-1)(i)"
   ]
  },
  {
   "cell_type": "code",
   "execution_count": null,
   "metadata": {},
   "outputs": [],
   "source": []
  }
 ],
 "metadata": {
  "kernelspec": {
   "display_name": "Python 3",
   "language": "python",
   "name": "python3"
  },
  "language_info": {
   "codemirror_mode": {
    "name": "ipython",
    "version": 3
   },
   "file_extension": ".py",
   "mimetype": "text/x-python",
   "name": "python",
   "nbconvert_exporter": "python",
   "pygments_lexer": "ipython3",
   "version": "3.7.9"
  },
  "toc": {
   "base_numbering": 1,
   "nav_menu": {},
   "number_sections": true,
   "sideBar": true,
   "skip_h1_title": false,
   "title_cell": "Table of Contents",
   "title_sidebar": "Contents",
   "toc_cell": false,
   "toc_position": {},
   "toc_section_display": true,
   "toc_window_display": false
  }
 },
 "nbformat": 4,
 "nbformat_minor": 4
}
