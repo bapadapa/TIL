{
 "cells": [
  {
   "cell_type": "markdown",
   "id": "fewer-spectrum",
   "metadata": {},
   "source": [
    "## Pandas 구성\n",
    "- Series\n",
    "    - 구조, 속성, 변환 및 접근, 생성, 특징, 메소드, 연산\n",
    "- DataFrame\n",
    "    - 구조, 생성 및 컬럼 할당, 컬럼 삭제, 인덱스, 열 접근, 행 접근\n",
    "- MutliIndex\n",
    "    - 생성, 내부 구조, 적용\n",
    "- DataFrame(MultiIndex)\n",
    "    - 전치, 열 접근, 행 접근, 데이터 변경, groupby, 병합\n",
    "- pandas 모듈 임포트\n",
    "    - import pandas as pd "
   ]
  },
  {
   "cell_type": "markdown",
   "id": "legendary-fashion",
   "metadata": {},
   "source": [
    "## Sereis\n",
    "- 1차원의 데이터를 관리하는 구조\n",
    "- 기본 구조\n",
    "    - pd.Series(data,index,dtypes,name)\n",
    "    - data : 실제 데이터 값 - numpy, list의 collect type 데이터 \n",
    "    - index : 데이터를 접근할 정보 - numpy, list의 collect type 데이터\n",
    "    - dictionary 타입을 Series로 사용할 경우 key는 index로 value는 data로 변환\n",
    "    - dtypes : 데이터들의 타입\n",
    "    - name : Sereies 인스턴스의 이름\n",
    "- Series의 구조 속성\n",
    "    - name : 인스턴스 이름\n",
    "    - shape : DataFrame의 행렬구조 Sereis에서는 (1,)형태로 표현\n",
    "    - dtypes : 데이터 타입을 표현\n",
    "    - ndim : 차원에 대한 정보를 표시\n",
    "    - size : 원소들의 개수\n",
    "    - index : 생성된 행에 대한 index 표시\n",
    "    - values : 실제 데이터를 numpy 로 변환 \n",
    "\n",
    "#### Series는 numpy ndarray 데이터를 사용하여 index, value의 속성으로 구성됨 <sup>***</sup>"
   ]
  },
  {
   "cell_type": "code",
   "execution_count": 19,
   "id": "parliamentary-wilderness",
   "metadata": {},
   "outputs": [
    {
     "name": "stdout",
     "output_type": "stream",
     "text": [
      "0    1\n",
      "1    2\n",
      "2    3\n",
      "3    4\n",
      "4    5\n",
      "dtype: int64\n",
      "[1 2 3 4 5]\n",
      "RangeIndex(start=0, stop=5, step=1)\n",
      "int64\n",
      "None\n",
      "one      1\n",
      "two      2\n",
      "three    3\n",
      "four     4\n",
      "five     5\n",
      "dtype: int64\n",
      "[1 2 3 4 5]\n",
      "Index(['one', 'two', 'three', 'four', 'five'], dtype='object')\n",
      "int64\n",
      "None\n",
      "[1 2 3 4 5]\n",
      "Index(['one', 'two', 'three', 'four', 'five'], dtype='object')\n"
     ]
    }
   ],
   "source": [
    "## 1,2,3,4,5의 원소로 구성된 Series데이터 생성하고 Series데이터 구조 확인\n",
    "import pandas as pd # pandas 모듈 임포트 일반적으로 pandas 모듈의 별칭은 pd로 한다\n",
    "import numpy as np\n",
    "data = [1,2,3,4,5]\n",
    "obj = pd.Series(data)\n",
    "print(obj)\n",
    "print(obj.values)\n",
    "print(obj.index)\n",
    "print(obj.dtypes)\n",
    "print(obj.name)\n",
    "# one, two, three, four, five로 구성된 index를 명시적으로부여\n",
    "obj = pd.Series(data,index=['one','two','three','four','five'])\n",
    "print(obj)\n",
    "print(obj.values)\n",
    "print(obj.index)\n",
    "print(obj.dtypes)\n",
    "print(obj.name)\n",
    "# dictionary 사용하여 Series 생성\n",
    "dic = {'one':1,'two':2,'three':3,'four':4,'five':5}\n",
    "obj = pd.Series(dic)\n",
    "print(obj.values)\n",
    "print(obj.index)"
   ]
  },
  {
   "cell_type": "code",
   "execution_count": 20,
   "id": "necessary-weekend",
   "metadata": {},
   "outputs": [
    {
     "name": "stdout",
     "output_type": "stream",
     "text": [
      "(5,)\n",
      "1\n",
      "5\n",
      "[Index(['one', 'two', 'three', 'four', 'five'], dtype='object')]\n",
      "None\n",
      "obj_name\n",
      "[1 2 3 4 5]\n",
      "Index(['one', 'two', 'three', 'four', 'five'], dtype='object')\n",
      "object_name\n"
     ]
    }
   ],
   "source": [
    "## 위에서 생성한 obj를 사용하여 Series 객체 속성 확인\n",
    "print(obj.shape)\n",
    "print(obj.ndim)\n",
    "print(obj.size)\n",
    "print(obj.axes)\n",
    "print(obj.name)\n",
    "## obj에 이름 부여 \n",
    "obj.name = 'obj_name'\n",
    "print(obj.name)\n",
    "## Series 구조를 이루는 value, index, name속성을 사용하여 Series 객체 만들기\n",
    "data = np.array([1,2,3,4,5])\n",
    "obj = pd.Series(data)\n",
    "obj.index = ['one','two','three','four','five']\n",
    "obj.name = 'object_name'\n",
    "print(obj.values)\n",
    "print(obj.index)\n",
    "print(obj.name)"
   ]
  },
  {
   "cell_type": "markdown",
   "id": "living-rwanda",
   "metadata": {},
   "source": [
    "## Series 객체의 접근 (DataFrame은 행과 열로 적용)\n",
    "- get : index 값이나 index 순번을 통해 접근\n",
    "- at : 인덱스 값을 통해 1개의 값에 접근\n",
    "- iat : 정수 위치를 통해 1개의 값에 접근\n",
    "- loc : 인덱스 값을 통해 여러개의 값에 접근\n",
    "- iloc : 정수 위치\n",
    "- iteritems or items: 인덱스와 값을 튜플로 반환 접근"
   ]
  },
  {
   "cell_type": "code",
   "execution_count": 21,
   "id": "confidential-mortgage",
   "metadata": {},
   "outputs": [
    {
     "name": "stdout",
     "output_type": "stream",
     "text": [
      "[('one', 1), ('two', 2), ('three', 3), ('four', 4), ('five', 5)]\n",
      "True\n",
      "False\n"
     ]
    }
   ],
   "source": [
    "obj.get(0)\n",
    "obj.get('one')\n",
    "obj.get([0,3])\n",
    "obj.get(['one','three'])\n",
    "obj.at['one']\n",
    "obj.iat[0]\n",
    "obj.loc[['one','four']]\n",
    "obj.iloc[[2,3,4]]\n",
    "print(list(obj.iteritems()))\n",
    "print(list(obj.iteritems()) == list(obj.items()))\n",
    "print(obj.iteritems() == obj.items())"
   ]
  },
  {
   "cell_type": "markdown",
   "id": "headed-award",
   "metadata": {},
   "source": [
    "## Series 객체의 변환\n",
    "- astype : Series 객체의 데이터 타입 변경\n",
    "- infer_objects : 적절한 데이터 타입 추천\n",
    "- tolist : Series 객체를 list 형태로 변환\n",
    "- to_dict : Series 객체를 dictionary 형태로 변환 Series의 Index는 key로 values는 value로 변환\n",
    "- to_json : Series 객체를 json형태로 변환"
   ]
  },
  {
   "cell_type": "code",
   "execution_count": 22,
   "id": "revised-clearing",
   "metadata": {},
   "outputs": [
    {
     "name": "stdout",
     "output_type": "stream",
     "text": [
      "one      1\n",
      "two      2\n",
      "three    3\n",
      "four     4\n",
      "five     5\n",
      "Name: object_name, dtype: object\n",
      "one      1\n",
      "two      2\n",
      "three    3\n",
      "four     4\n",
      "five     5\n",
      "Name: object_name, dtype: int64\n",
      "{'one': 1, 'two': 2, 'three': 3, 'four': 4, 'five': 5}\n",
      "[1, 2, 3, 4, 5]\n"
     ]
    },
    {
     "data": {
      "text/plain": [
       "'{\"one\":1,\"two\":2,\"three\":3,\"four\":4,\"five\":5}'"
      ]
     },
     "execution_count": 22,
     "metadata": {},
     "output_type": "execute_result"
    }
   ],
   "source": [
    "obj = obj.astype('object')\n",
    "print(obj)\n",
    "print(obj.infer_objects())\n",
    "print(obj.to_dict())\n",
    "print(obj.tolist())\n",
    "obj.to_json()"
   ]
  },
  {
   "cell_type": "markdown",
   "id": "inappropriate-assembly",
   "metadata": {},
   "source": [
    "## Series 특징 (ndarray - like)\n",
    "- ndarray와 매우 유사하게 동작\n",
    "- index로 슬라이스 접근 가능\n",
    "\n",
    "## dict - like\n",
    "- Series는 인덱스를 사용하여 값을 가져오거나 변경/설정할 수 있다는 점에서 dict와 유사\n",
    "- 객체[key] = value로 해당 key에 대한 값을 변경/설정\n",
    "- Series의 슬라이스는 순서를 나타내는 것이므로 index가 문자 가능"
   ]
  },
  {
   "cell_type": "code",
   "execution_count": 23,
   "id": "commercial-divorce",
   "metadata": {},
   "outputs": [
    {
     "name": "stdout",
     "output_type": "stream",
     "text": [
      "one       1\n",
      "two       2\n",
      "three    33\n",
      "four      4\n",
      "five      5\n",
      "Name: dic, dtype: int64\n",
      "three    33\n",
      "four      4\n",
      "five      5\n",
      "Name: dic, dtype: int64\n"
     ]
    }
   ],
   "source": [
    "dic = {'one':1,'two':2,'three':3,'four':4,'five':5}\n",
    "obj = pd.Series(dic,name='dic')\n",
    "obj[0]\n",
    "obj[:3]\n",
    "obj[obj>3]\n",
    "obj[::-1]\n",
    "obj[[1,2,3]]\n",
    "obj['three']\n",
    "obj['three'] = 33\n",
    "print(obj)\n",
    "print(obj['three':'five'])"
   ]
  },
  {
   "cell_type": "markdown",
   "id": "healthy-visit",
   "metadata": {},
   "source": [
    "## Series 주요 메소드\n",
    "- 변경 메소스 replace\n",
    "    - series 내의 값을 변경\n",
    "    - 인자로 지정한 값과 동일한 값 전체를 변경\n",
    "    - replace 함수 사용시 변경 후 자동 저장되지 않음 (inplace 옵션 설정 필요)\n",
    "    - 특정 위치의 값 만을 변경하기 위해서는 특정된 범위 지정 후 변경가능\n",
    "\n",
    "- 정렬 메소드\n",
    "    - sort_values : value값을 기준으로 정렬\n",
    "    - 주요인자\n",
    "        - ascending : bool, default = True\n",
    "        - inplace : bool, default = False\n",
    "    - sort_index : index 값을 기준으로 정렬\n",
    "        - ascending : bool, default = True\n",
    "        - inplace : bool, default = True\n",
    "        "
   ]
  },
  {
   "cell_type": "code",
   "execution_count": 24,
   "id": "distinguished-arlington",
   "metadata": {},
   "outputs": [
    {
     "name": "stdout",
     "output_type": "stream",
     "text": [
      "one      1\n",
      "two      2\n",
      "three    3\n",
      "four     4\n",
      "five     5\n",
      "Name: dic, dtype: int64\n",
      "one      1\n",
      "two      2\n",
      "three    3\n",
      "four     4\n",
      "five     5\n",
      "Name: dic, dtype: int64\n",
      "one       1\n",
      "two       2\n",
      "three    33\n",
      "four      4\n",
      "five      5\n",
      "Name: dic, dtype: int64\n",
      "five      5\n",
      "four      4\n",
      "one       1\n",
      "three    33\n",
      "two       2\n",
      "Name: dic, dtype: int64\n"
     ]
    }
   ],
   "source": [
    "## replace 메소드 사용\n",
    "obj.replace(33,3,inplace=True)\n",
    "print(obj)\n",
    "obj.replace(3,33)\n",
    "print(obj)\n",
    "obj['three':'five'].replace(3,33,inplace=True)\n",
    "print(obj)\n",
    "## 정렬 메소드 사용\n",
    "obj.sort_values()\n",
    "print(obj.sort_index())"
   ]
  },
  {
   "cell_type": "markdown",
   "id": "skilled-sample",
   "metadata": {},
   "source": [
    "## Series 산술연산<sup>**</sup>\n",
    "- Series 간 산술 연산 시 동일 위치 원소 간 계산\n",
    "- index 매칭되지 않을 시 NaN 처리\n",
    "## Series 여러 메소드\n",
    "- 연결 메소스 append \n",
    "    - verify_integrity : index가 중복될 시 에러 발생 default False (참고만)\n",
    "- 집계 메소드 \n",
    "    - count : Null이 아닌 개수 확인\n",
    "    - mode : value 중 가장 많은 값 (Series 형태 - key,value 쌍으로 반환)\n",
    "    - mean, std, var, describe : 각각 평균, 표준편차, 분산 및 한꺼번에 구하기(형태 반환이 중요)\n",
    "    - unique : 중복되지 않은 단일 값(numpy array로 출력)\n",
    "    - describe 사용 sentence \n",
    "        - count : 전체 원소 수\n",
    "        - unique : 단일 문자 수\n",
    "        - freq : 가장 많은 문자 중복 수\n",
    "        - top : 가장 많은 단어"
   ]
  },
  {
   "cell_type": "code",
   "execution_count": 39,
   "id": "chinese-keyboard",
   "metadata": {},
   "outputs": [
    {
     "name": "stdout",
     "output_type": "stream",
     "text": [
      "one       2\n",
      "two       4\n",
      "three    66\n",
      "four      8\n",
      "five     10\n",
      "Name: dic, dtype: int64\n",
      "five      9.0\n",
      "four      NaN\n",
      "one       2.0\n",
      "three    35.0\n",
      "two       5.0\n",
      "dtype: float64\n",
      "one       1\n",
      "two       2\n",
      "three    33\n",
      "four      4\n",
      "five      5\n",
      "one       1\n",
      "three     2\n",
      "two       3\n",
      "five      4\n",
      "dtype: int64\n",
      "count     9.000000\n",
      "mean      6.111111\n",
      "std      10.178954\n",
      "min       1.000000\n",
      "25%       2.000000\n",
      "50%       3.000000\n",
      "75%       4.000000\n",
      "max      33.000000\n",
      "dtype: float64\n",
      "0     G\n",
      "1     o\n",
      "2     o\n",
      "3     d\n",
      "4      \n",
      "5     M\n",
      "6     o\n",
      "7     r\n",
      "8     n\n",
      "9     i\n",
      "10    g\n",
      "11     \n",
      "12    W\n",
      "13    e\n",
      "14    l\n",
      "15    c\n",
      "16    o\n",
      "17    m\n",
      "18    e\n",
      "19     \n",
      "20    t\n",
      "21    o\n",
      "22     \n",
      "23    P\n",
      "24    y\n",
      "25    h\n",
      "26    o\n",
      "27    n\n",
      "28     \n",
      "29    T\n",
      "30    r\n",
      "31    a\n",
      "32    i\n",
      "33    n\n",
      "34    g\n",
      "dtype: object\n"
     ]
    },
    {
     "data": {
      "text/plain": [
       "count     35\n",
       "unique    20\n",
       "top        o\n",
       "freq       6\n",
       "dtype: object"
      ]
     },
     "execution_count": 39,
     "metadata": {},
     "output_type": "execute_result"
    }
   ],
   "source": [
    "## 산술 연산 \n",
    "print(obj + obj)\n",
    "obj1 = pd.Series([1,2,3,4],index = ['one','three','two','five'])\n",
    "print(obj+obj1)\n",
    "## 연결 메소드 append\n",
    "obj2 = obj.append(obj1)\n",
    "obj3 = obj.append(obj1,)\n",
    "print(obj2)\n",
    "print(obj3.describe())\n",
    "string = 'Good Mornig Welcome to Pyhon Traing'\n",
    "sentence = list(string)\n",
    "sentence = pd.Series(sentence)\n",
    "print(sentence)\n",
    "sentence.describe()"
   ]
  },
  {
   "attachments": {
    "b7ec4f68-058e-4e43-89f0-a1872e19f07a.png": {
     "image/png": "[encoded data removed]"
    },
    "d2a553ac-0604-4f54-8f06-f9f64a6d2aff.png": {
     "image/png": "[encoded data removed]"
    }
   },
   "cell_type": "markdown",
   "id": "professional-rough",
   "metadata": {},
   "source": [
    "## DataFrame 구조\n",
    "- n by m 행렬 구조를 가지며, index와 column이 별도의 이름을 갖고, column별로 다른 데이터 타입을 가질 수 있음\n",
    "![image.png](attachment:d2a553ac-0604-4f54-8f06-f9f64a6d2aff.png)\n",
    "\n",
    "- DataFrame은 기본적으로 column 단위로 데이터를 관리\n",
    "- 각 Column은 Series 이다\n",
    "![image.png](attachment:b7ec4f68-058e-4e43-89f0-a1872e19f07a.png)\n",
    "---\n",
    "## DataFrame 생성 \n",
    "- 일반적인 DataFrame은 외부 데이터를 pandas에서 읽어오면 DataFrame으로 변환된다\n",
    "- column 추가\n",
    "    - DataFrame 생성 후 column 추가\n",
    "         - 객체명['컬럼명'] = 데이터\n",
    "         - 추가 하려는 컬럼이 존재하지 않을 경우 추가 됨\n",
    "---\n",
    "## 컬럼속성\n",
    "- column 변경\n",
    "    - DataFrame.columns 속성\n",
    "        - 컬럼명 속성을 통해 각 컬럼명 지정 가능\n",
    "        - DataFrame의 rename 메소드 사용 \n",
    "            - 1) DataFrame.rename(columns = {'대상컬럼명':'바꿀컬럼명'})\n",
    "            - 2) DataFrame.rename({'대상컬럼명':'바꿀컬럼명'},axis='columns')\n",
    "- column에 데이터 재할당\n",
    "    - 컬럼이 존재할 때는 덮어쓰기\n",
    "- column 삭제\n",
    "    - drop 메소드 \n",
    "        - 1) drop(컬럼명, axis=1) \n",
    "        - 2) drop(columns=['컬럼명'])\n",
    "    - del 객체명['컬럼명']\n",
    "- 신규 컬럼에 컬럼 간 연산 데이터 저장\n",
    "    - 두개의 컬럼 연산 시 동일 행 간 연산\n",
    "    - 컬럼은 Series 이기 때문에 Series연산과 동일"
   ]
  },
  {
   "cell_type": "code",
   "execution_count": 77,
   "id": "experimental-pregnancy",
   "metadata": {},
   "outputs": [
    {
     "name": "stdout",
     "output_type": "stream",
     "text": [
      "       0\n",
      "one    1\n",
      "two    2\n",
      "three  3\n",
      "four   4\n",
      "       col1  col2  col3\n",
      "one       1   NaN     9\n",
      "two       2   NaN    10\n",
      "three     3   NaN    11\n",
      "four      4   NaN    12\n",
      "       col1  col_2  col3\n",
      "one       1    NaN     9\n",
      "two       2    NaN    10\n",
      "three     3    NaN    11\n",
      "four      4    NaN    12\n",
      "       col1  col_2  col3  col4\n",
      "one       1    NaN     9    10\n",
      "two       2    NaN    10    12\n",
      "three     3    NaN    11    14\n",
      "four      4    NaN    12    16\n"
     ]
    }
   ],
   "source": [
    "## Series를 사용하여 DataFrame 생성\n",
    "col1 = pd.Series([1,2,3,4],index = ['one','two','three','four'])\n",
    "col2 = pd.Series([5,6,7,8],index = ['five','six','seven','eight'])\n",
    "col3 = pd.Series([9,10,11,12],index = ['one','two','three','four'])\n",
    "df = pd.DataFrame(col1)\n",
    "print(df)\n",
    "df.columns = ['col1']\n",
    "df['col2'] = col2\n",
    "df['col3'] = col3\n",
    "print(df)\n",
    "\n",
    "df.rename({'col2':'col_2'}, axis='columns',inplace=True)\n",
    "print(df)\n",
    "\n",
    "## col1,과 col3를 합하여 col4 생성\n",
    "df['col4'] = df.col1 + df.col3\n",
    "print(df)\n",
    "## col1,col3,col4를 col_1, col_3, col_4로 column 이름 변경\n"
   ]
  },
  {
   "cell_type": "markdown",
   "id": "ecological-blind",
   "metadata": {},
   "source": [
    "## 인덱스 속성\n",
    "- index 조회/설정/변경 가능\n",
    "    - DataFrame.index\n",
    "    - DataFrame의 rename 메소드 사용 \n",
    "        - 1) DataFrame.rename(index = {'대상인덱스명':'바꿀인덱스명'})\n",
    "        - 2) DataFrame.rename({'대상인덱스명':'바꿀인덱스명'},axis='index')\n",
    "- 행의 수와 index수는 일치해야 함"
   ]
  },
  {
   "cell_type": "code",
   "execution_count": 87,
   "id": "answering-cabin",
   "metadata": {},
   "outputs": [
    {
     "name": "stdout",
     "output_type": "stream",
     "text": [
      "       col1  col2  col3\n",
      "one       1   NaN     9\n",
      "two       2   NaN    10\n",
      "three     3   NaN    11\n",
      "four      4   NaN    12\n",
      "       col1  col3\n",
      "one       1     9\n",
      "two       2    10\n",
      "three     3    11\n",
      "four      4    12\n",
      "       col1  col3  col2\n",
      "one       1     9     5\n",
      "two       2    10     6\n",
      "three     3    11     7\n",
      "four      4    12     8\n"
     ]
    }
   ],
   "source": [
    "## Series를 사용하여 DataFrame 생성\n",
    "col1 = pd.Series([1,2,3,4],index = ['one','two','three','four'])\n",
    "col2 = pd.Series([5,6,7,8],index = ['five','six','seven','eight'])\n",
    "col3 = pd.Series([9,10,11,12],index = ['one','two','three','four'])\n",
    "df = pd.DataFrame(col1)\n",
    "df.columns = ['col1']\n",
    "df['col2'] = col2\n",
    "df['col3'] = col3\n",
    "print(df)\n",
    "## df의 col2 삭제\n",
    "df.drop('col2',axis=1,inplace=True)\n",
    "print(df)\n",
    "col2.index = col1.index\n",
    "df['col2'] = col2\n",
    "print(df)"
   ]
  },
  {
   "cell_type": "markdown",
   "id": "parliamentary-packing",
   "metadata": {},
   "source": [
    "## DataFrame 열 접근\n",
    "- 단일 열 검색 : 인덱스 방식 []사용\n",
    "    - 객체명['컬럼명']\n",
    "- 멀티 열 검색 : 리스트 방식[[,]]\n",
    "    - 객체명[['컬럼명1','컬럼명2']]\n",
    "    - 검색하려는 열을 리스트 형태로 전달\n",
    "    - 컬럼명을 지정하여 전달하는 것이므로 슬라이스 방식 불가\n",
    "    \n",
    "## DataFrame 행 접근\n",
    "- 객체명[인덱스 슬라이스]\n",
    "- 객체명[boolean]\n",
    "- 상기 두가지 외에는 []를 사용하여 행 접근 하는 것은 불가 <sup>***</sup>"
   ]
  },
  {
   "cell_type": "code",
   "execution_count": 97,
   "id": "experienced-gender",
   "metadata": {},
   "outputs": [
    {
     "data": {
      "text/html": [
       "<div>\n",
       "<style scoped>\n",
       "    .dataframe tbody tr th:only-of-type {\n",
       "        vertical-align: middle;\n",
       "    }\n",
       "\n",
       "    .dataframe tbody tr th {\n",
       "        vertical-align: top;\n",
       "    }\n",
       "\n",
       "    .dataframe thead th {\n",
       "        text-align: right;\n",
       "    }\n",
       "</style>\n",
       "<table border=\"1\" class=\"dataframe\">\n",
       "  <thead>\n",
       "    <tr style=\"text-align: right;\">\n",
       "      <th></th>\n",
       "      <th>col1</th>\n",
       "      <th>col3</th>\n",
       "      <th>col2</th>\n",
       "    </tr>\n",
       "  </thead>\n",
       "  <tbody>\n",
       "    <tr>\n",
       "      <th>two</th>\n",
       "      <td>2</td>\n",
       "      <td>10</td>\n",
       "      <td>6</td>\n",
       "    </tr>\n",
       "    <tr>\n",
       "      <th>three</th>\n",
       "      <td>3</td>\n",
       "      <td>11</td>\n",
       "      <td>7</td>\n",
       "    </tr>\n",
       "  </tbody>\n",
       "</table>\n",
       "</div>"
      ],
      "text/plain": [
       "       col1  col3  col2\n",
       "two       2    10     6\n",
       "three     3    11     7"
      ]
     },
     "execution_count": 97,
     "metadata": {},
     "output_type": "execute_result"
    }
   ],
   "source": [
    "## DataFrame의 열 접근\n",
    "df['col1']\n",
    "df[['col1','col2']]\n",
    "## DataFrame의 행 접근\n",
    "df[0:2]\n",
    "df[df.col1>1]\n",
    "df[[False,True,True,False]]  "
   ]
  },
  {
   "cell_type": "markdown",
   "id": "rubber-antarctica",
   "metadata": {},
   "source": [
    "## DataFrame의 행렬 접근 <sup>*****</sup>\n",
    "- loc 속성\n",
    "    - 라벨 인덱스 기반 검색\n",
    "- iloc 속성 <sup>****</sup> 주의요함\n",
    "    - 숫자 인덱스 기반 검색\n",
    "- at 속성\n",
    "    - 라벨 기준 특정 한 개의 원소 검색\n",
    "    - at[행,열]\n",
    "- iat 속성\n",
    "    - 숫자 인덱스 기준 특정 한 개의 원소 검색\n",
    "    - iat[행,열]"
   ]
  },
  {
   "cell_type": "code",
   "execution_count": 131,
   "id": "affecting-plate",
   "metadata": {},
   "outputs": [
    {
     "data": {
      "text/plain": [
       "9"
      ]
     },
     "execution_count": 131,
     "metadata": {},
     "output_type": "execute_result"
    }
   ],
   "source": [
    "df.loc[['one','two'],['col1','col2']]\n",
    "df.loc[df.col1>2,['col2','col1']]\n",
    "\n",
    "df.iloc[0:2,0:2]\n",
    "df.iloc[[0,1],[True,False,True]]\n",
    "df.at['one','col1']\n",
    "df.iat[0,1]\n",
    "## df 의 컬럼중 col1의 값이 2보다 큰 값을 찾는 것을 iloc을 사용하여 접근하면\n"
   ]
  },
  {
   "cell_type": "markdown",
   "id": "continent-extent",
   "metadata": {},
   "source": [
    "## iterable한 객체를 사용한 DataFrame 생성 : list\n",
    "- column 단위의 리스트를 zip을 이용하여 순서쌍을 만들어 DataFrame의 data로 생성\n",
    "- DataFrame 생성 시 columns, index를 지정가능\n",
    "- DataFrame 생성 후 columns, index 속성을 통해 지정 가능\n",
    "\n",
    "## iterable한 객체를 사용한 DataFrame 생성 : dict\n",
    "- column 단위의 리스트(Sequence)로 dict에 대입하여 데이터프레임 생성\n",
    "- dict의 key값이 column명이 됨\n",
    "- DataFrame 생성 시 index 지정 가능"
   ]
  },
  {
   "cell_type": "code",
   "execution_count": 140,
   "id": "palestinian-banner",
   "metadata": {},
   "outputs": [
    {
     "data": {
      "text/html": [
       "<div>\n",
       "<style scoped>\n",
       "    .dataframe tbody tr th:only-of-type {\n",
       "        vertical-align: middle;\n",
       "    }\n",
       "\n",
       "    .dataframe tbody tr th {\n",
       "        vertical-align: top;\n",
       "    }\n",
       "\n",
       "    .dataframe thead th {\n",
       "        text-align: right;\n",
       "    }\n",
       "</style>\n",
       "<table border=\"1\" class=\"dataframe\">\n",
       "  <thead>\n",
       "    <tr style=\"text-align: right;\">\n",
       "      <th></th>\n",
       "      <th>time</th>\n",
       "      <th>score</th>\n",
       "      <th>grade</th>\n",
       "    </tr>\n",
       "  </thead>\n",
       "  <tbody>\n",
       "    <tr>\n",
       "      <th>0</th>\n",
       "      <td>3</td>\n",
       "      <td>85</td>\n",
       "      <td>B</td>\n",
       "    </tr>\n",
       "    <tr>\n",
       "      <th>1</th>\n",
       "      <td>2</td>\n",
       "      <td>92</td>\n",
       "      <td>A</td>\n",
       "    </tr>\n",
       "    <tr>\n",
       "      <th>2</th>\n",
       "      <td>2</td>\n",
       "      <td>89</td>\n",
       "      <td>B</td>\n",
       "    </tr>\n",
       "    <tr>\n",
       "      <th>3</th>\n",
       "      <td>1</td>\n",
       "      <td>95</td>\n",
       "      <td>A</td>\n",
       "    </tr>\n",
       "  </tbody>\n",
       "</table>\n",
       "</div>"
      ],
      "text/plain": [
       "   time  score grade\n",
       "0     3     85     B\n",
       "1     2     92     A\n",
       "2     2     89     B\n",
       "3     1     95     A"
      ]
     },
     "execution_count": 140,
     "metadata": {},
     "output_type": "execute_result"
    }
   ],
   "source": [
    "## list 와 zip사용 DataFrame 생성\n",
    "time = [3,2,2,1]\n",
    "score = [85,92,89,95]\n",
    "data  = zip(time,score)\n",
    "df = pd.DataFrame(data,columns=[\"time\",\"score\"])\n",
    "df['grad'] = np.where(df.score >= 90,'A','B')\n",
    "## dict 사용 DataFrame 생성\n",
    "grade = np.where(df.score >= 90,'A','B')\n",
    "data = {'time':time,'score':score,'grade':grade}\n",
    "df = pd.DataFrame(data)\n",
    "df"
   ]
  },
  {
   "cell_type": "markdown",
   "id": "super-runner",
   "metadata": {},
   "source": [
    "## DataFrame groupby : 기준 column index화\n",
    "- groupby의 목적 : 기준 값을 통한 aggregation data(평균, 카운트 등) 자료 획득<sup>****</sup>\n",
    "- groupby 한 기준 값이 반환 값의 index\n",
    "- as_idex=False(defaul는 True) 설정 시 groupby 기준 컬럼은 index가 아닌 column으로 됨"
   ]
  },
  {
   "cell_type": "code",
   "execution_count": 164,
   "id": "important-motorcycle",
   "metadata": {},
   "outputs": [
    {
     "data": {
      "text/plain": [
       "kind\n",
       "cat    57.680851\n",
       "dog    54.037736\n",
       "Name: mean, dtype: float64"
      ]
     },
     "execution_count": 164,
     "metadata": {},
     "output_type": "execute_result"
    }
   ],
   "source": [
    "## DataFrame 생성\n",
    "weight = np.random.randint(10,100,100)\n",
    "height = np.random.randint(10,30,100)\n",
    "kind = np.random.randint(0,2,100)\n",
    "kind = np.where(kind == 0,'dog','cat')\n",
    "data = zip(kind,weight,height)\n",
    "df = pd.DataFrame(data)\n",
    "df.columns = ['kind','weight','height']\n",
    "## Groupby 적용\n",
    "df.groupby('kind').mean()\n",
    "df.groupby('kind').agg(['mean','sum','count'])\n",
    "df.groupby('kind').agg(['mean','sum','count']).weight['mean']"
   ]
  },
  {
   "cell_type": "markdown",
   "id": "biblical-support",
   "metadata": {},
   "source": [
    "## DataFrame 병합 : concat 함수\n",
    "- numpy의 concatenate와 유사\n",
    "- 기본적으로 DataFrame의 행으로 병합\n",
    "- 파라메터 axis를 1로 할당시 열로 병합\n",
    "- 기본 outer 병합 (index를 key로)\n",
    "- join 파라메터를 사용하여 inner join가능\n",
    "\n",
    "## DataFrame 병합 : join 방식\n",
    "- left(left outer join) : 왼쪽 DataFrame 기준으로 데이터 병합\n",
    "- right(right outer join) : 오른쪽 DataFrame 기준으로 데이터 병합\n",
    "- outer(full outer join) : 양쪽 DataFrame 기준으로 데이터 병합\n",
    "- inner(inner join) : 양쪽 DataFrame의 key가 존재하는 것만 병합"
   ]
  },
  {
   "cell_type": "code",
   "execution_count": 171,
   "id": "active-feature",
   "metadata": {},
   "outputs": [
    {
     "name": "stdout",
     "output_type": "stream",
     "text": [
      "[    col1  col2  col3\n",
      "0     68    27     2\n",
      "1     58    29    75\n",
      "2     84     0     6\n",
      "3     97    13    54\n",
      "4     67    90    99\n",
      "5     82    82    88\n",
      "6     24    52    34\n",
      "7     85    77    12\n",
      "8     40    65    12\n",
      "9     61     6    71\n",
      "10    50     8    83\n",
      "11    69    24    51\n",
      "12    20    12    51\n",
      "13    58    51    94\n",
      "14    99    60    32\n",
      "15     0    92     7\n",
      "16    39    63    84\n",
      "17    86    34     0\n",
      "18    74    90    71\n",
      "19    72     5    94,     col1  col2  col3\n",
      "0     32    65    23\n",
      "1      4    39    88\n",
      "2     47    21    92\n",
      "3     43    42    38\n",
      "4     41    64    68\n",
      "5     79    16    18\n",
      "6     50    54    11\n",
      "7     49    14    70\n",
      "8     24    65     9\n",
      "9     98    96    65\n",
      "10    27    20    83\n",
      "11    81    89    37\n",
      "12    71    67    62\n",
      "13    20    49    97\n",
      "14    41    83    19\n",
      "15    96    47     4\n",
      "16    34    11    95\n",
      "17    29    11    90\n",
      "18    41     7    41\n",
      "19    11    63    54,     col1  col2  col3\n",
      "0     41    97    11\n",
      "1     86    74    41\n",
      "2     12    28    48\n",
      "3     27    73    87\n",
      "4     78    98    59\n",
      "5     70    66    48\n",
      "6     67    15    37\n",
      "7     58    47    23\n",
      "8     30    83     9\n",
      "9     34    74    36\n",
      "10    62     9    52\n",
      "11    46    30    92\n",
      "12    94    84    81\n",
      "13    39    13     7\n",
      "14    81     4    18\n",
      "15    63    78    10\n",
      "16    52    78    19\n",
      "17    48    25    42\n",
      "18     0    93    85\n",
      "19    51    58    86]\n"
     ]
    }
   ],
   "source": [
    "df_list = []\n",
    "for i in range(3):\n",
    "    col1 = np.random.randint(0,100,20)\n",
    "    col2 = np.random.randint(0,100,20)\n",
    "    col3 = np.random.randint(0,100,20)\n",
    "    data = zip(col1,col2,col3)\n",
    "    tmp = pd.DataFrame(data,columns=['col1','col2','col3'])\n",
    "    df_list.append(tmp)\n",
    "print(df_list)\n",
    "\n",
    "df = pd.concat(df_list)\n",
    "df_col = pd.concat(df_list,axis=1)"
   ]
  },
  {
   "cell_type": "markdown",
   "id": "greater-cradle",
   "metadata": {},
   "source": [
    "## DataFrame 병합 : merge 함수\n",
    "- merge함수\n",
    "    - 기본적으로 inner 방식으로 병합\n",
    "    - on 인수 : 병합하기 위한 기준이 되는 key지정(key를 멀티로 지정 가능)"
   ]
  },
  {
   "cell_type": "code",
   "execution_count": 187,
   "id": "religious-willow",
   "metadata": {},
   "outputs": [],
   "source": [
    "# 병합 하기 위한 두개의 DataFrame 생성\n",
    "## 첫번째 DataFrame 생성\n",
    "weight = np.random.randint(10,100,100)\n",
    "height = np.random.randint(10,30,100)\n",
    "kind = np.random.randint(0,2,100)\n",
    "kind = np.where(kind == 0,'dog','cat')\n",
    "data = zip(kind,weight,height)\n",
    "left = pd.DataFrame(data)\n",
    "left.columns = ['kind','weight','height']\n",
    "## 두번째 DataFrame 생성\n",
    "weight = np.random.randint(10,100,100)\n",
    "height = np.random.randint(10,30,100)\n",
    "kind = np.random.randint(0,2,100)\n",
    "kind = np.where(kind == 0,'dog','cat')\n",
    "data = zip(kind,weight,height)\n",
    "right = pd.DataFrame(data)\n",
    "right.columns = ['kind','weight','height']\n",
    "df1 = pd.merge(left,right, on=['kind','weight'],how='outer')\n",
    "df2 = pd.merge(left,right, on=['kind','weight'],how='inner')"
   ]
  },
  {
   "cell_type": "markdown",
   "id": "human-concept",
   "metadata": {},
   "source": [
    "## DataFrame 병합 : append 메소드\n",
    "- 기본적으로 outer 방식으로 병합\n",
    "- ignore_index인자 default False\n",
    "- ignore_index가 True일 경우 index 번호 재배열"
   ]
  },
  {
   "cell_type": "code",
   "execution_count": 196,
   "id": "celtic-mirror",
   "metadata": {},
   "outputs": [
    {
     "data": {
      "text/html": [
       "<div>\n",
       "<style scoped>\n",
       "    .dataframe tbody tr th:only-of-type {\n",
       "        vertical-align: middle;\n",
       "    }\n",
       "\n",
       "    .dataframe tbody tr th {\n",
       "        vertical-align: top;\n",
       "    }\n",
       "\n",
       "    .dataframe thead th {\n",
       "        text-align: right;\n",
       "    }\n",
       "</style>\n",
       "<table border=\"1\" class=\"dataframe\">\n",
       "  <thead>\n",
       "    <tr style=\"text-align: right;\">\n",
       "      <th></th>\n",
       "      <th>kind</th>\n",
       "      <th>weight</th>\n",
       "      <th>height</th>\n",
       "    </tr>\n",
       "  </thead>\n",
       "  <tbody>\n",
       "    <tr>\n",
       "      <th>0</th>\n",
       "      <td>cat</td>\n",
       "      <td>35</td>\n",
       "      <td>25</td>\n",
       "    </tr>\n",
       "    <tr>\n",
       "      <th>1</th>\n",
       "      <td>cat</td>\n",
       "      <td>38</td>\n",
       "      <td>23</td>\n",
       "    </tr>\n",
       "    <tr>\n",
       "      <th>2</th>\n",
       "      <td>cat</td>\n",
       "      <td>88</td>\n",
       "      <td>23</td>\n",
       "    </tr>\n",
       "    <tr>\n",
       "      <th>3</th>\n",
       "      <td>cat</td>\n",
       "      <td>98</td>\n",
       "      <td>21</td>\n",
       "    </tr>\n",
       "    <tr>\n",
       "      <th>4</th>\n",
       "      <td>dog</td>\n",
       "      <td>84</td>\n",
       "      <td>14</td>\n",
       "    </tr>\n",
       "    <tr>\n",
       "      <th>...</th>\n",
       "      <td>...</td>\n",
       "      <td>...</td>\n",
       "      <td>...</td>\n",
       "    </tr>\n",
       "    <tr>\n",
       "      <th>195</th>\n",
       "      <td>cat</td>\n",
       "      <td>83</td>\n",
       "      <td>10</td>\n",
       "    </tr>\n",
       "    <tr>\n",
       "      <th>196</th>\n",
       "      <td>cat</td>\n",
       "      <td>75</td>\n",
       "      <td>28</td>\n",
       "    </tr>\n",
       "    <tr>\n",
       "      <th>197</th>\n",
       "      <td>dog</td>\n",
       "      <td>29</td>\n",
       "      <td>11</td>\n",
       "    </tr>\n",
       "    <tr>\n",
       "      <th>198</th>\n",
       "      <td>dog</td>\n",
       "      <td>25</td>\n",
       "      <td>26</td>\n",
       "    </tr>\n",
       "    <tr>\n",
       "      <th>199</th>\n",
       "      <td>dog</td>\n",
       "      <td>75</td>\n",
       "      <td>22</td>\n",
       "    </tr>\n",
       "  </tbody>\n",
       "</table>\n",
       "<p>200 rows × 3 columns</p>\n",
       "</div>"
      ],
      "text/plain": [
       "    kind  weight  height\n",
       "0    cat      35      25\n",
       "1    cat      38      23\n",
       "2    cat      88      23\n",
       "3    cat      98      21\n",
       "4    dog      84      14\n",
       "..   ...     ...     ...\n",
       "195  cat      83      10\n",
       "196  cat      75      28\n",
       "197  dog      29      11\n",
       "198  dog      25      26\n",
       "199  dog      75      22\n",
       "\n",
       "[200 rows x 3 columns]"
      ]
     },
     "execution_count": 196,
     "metadata": {},
     "output_type": "execute_result"
    }
   ],
   "source": [
    "left.append(right,ignore_index=True)"
   ]
  },
  {
   "cell_type": "markdown",
   "id": "discrete-split",
   "metadata": {},
   "source": [
    "## DataFrame 병합 : join 메소드\n",
    "- 기본적으로 index를 기준으로 병합\n",
    "- 기본 how='left'\n",
    "- how='outer' : 기준 DataFrame과 병합대상 DataFrame 양쪽 모두 존재하는 key값을 대상으로 병합\n",
    "- on 인자 index 대신 기준이 되는 key값 지정"
   ]
  },
  {
   "attachments": {
    "8588e06e-3ca8-4a4e-8cbb-48ce52692161.png": {
     "image/png": "[encoded data removed]"
    }
   },
   "cell_type": "markdown",
   "id": "thrown-charles",
   "metadata": {},
   "source": [
    "## DataFrame IO : to_*/read_*\n",
    "![image.png](attachment:8588e06e-3ca8-4a4e-8cbb-48ce52692161.png)"
   ]
  },
  {
   "cell_type": "code",
   "execution_count": 202,
   "id": "central-berkeley",
   "metadata": {},
   "outputs": [],
   "source": [
    "df.to_csv('df.csv') ## 저장할 때\n",
    "df = pd.read_csv('df.csv') ## 읽어 올 때"
   ]
  }
 ],
 "metadata": {
  "kernelspec": {
   "display_name": "keras",
   "language": "python",
   "name": "keras"
  },
  "language_info": {
   "codemirror_mode": {
    "name": "ipython",
    "version": 3
   },
   "file_extension": ".py",
   "mimetype": "text/x-python",
   "name": "python",
   "nbconvert_exporter": "python",
   "pygments_lexer": "ipython3",
   "version": "3.8.8"
  }
 },
 "nbformat": 4,
 "nbformat_minor": 5
}
