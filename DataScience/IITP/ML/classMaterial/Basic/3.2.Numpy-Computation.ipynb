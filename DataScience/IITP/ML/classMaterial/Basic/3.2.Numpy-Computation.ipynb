{
 "cells": [
  {
   "cell_type": "markdown",
   "metadata": {},
   "source": [
    "## - array의 값으로 1을 나누는 계산 \n",
    "\n",
    "## loop를 사용한 계산"
   ]
  },
  {
   "cell_type": "code",
   "execution_count": 5,
   "metadata": {
    "collapsed": false,
    "jupyter": {
     "outputs_hidden": false
    }
   },
   "outputs": [
    {
     "output_type": "execute_result",
     "data": {
      "text/plain": [
       "array([0.16666667, 1.        , 0.25      , 0.25      , 0.125     ])"
      ]
     },
     "metadata": {},
     "execution_count": 5
    }
   ],
   "source": [
    "import numpy as np\n",
    "np.random.seed(0)\n",
    "\n",
    "def compute_reciprocals(values):\n",
    "    output = np.empty(len(values))\n",
    "    for i in range(len(values)):\n",
    "        output[i] = 1.0 / values[i]\n",
    "    return output\n",
    "        \n",
    "values = np.random.randint(1, 10, size=5)\n",
    "compute_reciprocals(values)"
   ]
  },
  {
   "cell_type": "markdown",
   "metadata": {},
   "source": [
    "## UFuncs : *vectorized* operation\n",
    "\n",
    "### 벡터 계산"
   ]
  },
  {
   "cell_type": "code",
   "execution_count": 6,
   "metadata": {
    "collapsed": false,
    "jupyter": {
     "outputs_hidden": false
    }
   },
   "outputs": [
    {
     "output_type": "stream",
     "name": "stdout",
     "text": [
      "[0.16666667 1.         0.25       0.25       0.125     ]\n[0.16666667 1.         0.25       0.25       0.125     ]\n"
     ]
    }
   ],
   "source": [
    "print(compute_reciprocals(values))\n",
    "print(1.0 / values)"
   ]
  },
  {
   "cell_type": "markdown",
   "metadata": {},
   "source": [
    "### 1. 속도 비교"
   ]
  },
  {
   "cell_type": "code",
   "execution_count": 7,
   "metadata": {
    "collapsed": false,
    "jupyter": {
     "outputs_hidden": false
    }
   },
   "outputs": [
    {
     "output_type": "stream",
     "name": "stdout",
     "text": [
      "8.14 s ± 1.02 s per loop (mean ± std. dev. of 7 runs, 1 loop each)\n",
      "3.79 ms ± 1.09 ms per loop (mean ± std. dev. of 7 runs, 100 loops each)\n"
     ]
    }
   ],
   "source": [
    "big_array = np.random.randint(1, 100, size=1000000)\n",
    "%timeit compute_reciprocals(big_array)\n",
    "%timeit (1.0 / big_array)"
   ]
  },
  {
   "cell_type": "code",
   "execution_count": 9,
   "metadata": {
    "collapsed": false,
    "jupyter": {
     "outputs_hidden": false
    }
   },
   "outputs": [
    {
     "output_type": "execute_result",
     "data": {
      "text/plain": [
       "array([0.        , 0.5       , 0.66666667, 0.75      , 0.8       ])"
      ]
     },
     "metadata": {},
     "execution_count": 9
    }
   ],
   "source": [
    "np.arange(5) / np.arange(1, 6)"
   ]
  },
  {
   "cell_type": "code",
   "execution_count": 10,
   "metadata": {
    "collapsed": false,
    "jupyter": {
     "outputs_hidden": false
    }
   },
   "outputs": [
    {
     "output_type": "execute_result",
     "data": {
      "text/plain": [
       "array([[  1,   2,   4],\n",
       "       [  8,  16,  32],\n",
       "       [ 64, 128, 256]], dtype=int32)"
      ]
     },
     "metadata": {},
     "execution_count": 10
    }
   ],
   "source": [
    "# 2-D Array\n",
    "x = np.arange(9).reshape((3, 3))\n",
    "2 ** x"
   ]
  },
  {
   "cell_type": "markdown",
   "metadata": {},
   "source": [
    "### 2. 산술 연산"
   ]
  },
  {
   "cell_type": "code",
   "execution_count": 11,
   "metadata": {
    "collapsed": false,
    "jupyter": {
     "outputs_hidden": false
    }
   },
   "outputs": [
    {
     "output_type": "stream",
     "name": "stdout",
     "text": [
      "x     = [0 1 2 3]\nx + 5 = [5 6 7 8]\nx - 5 = [-5 -4 -3 -2]\nx * 2 = [0 2 4 6]\nx / 2 = [0.  0.5 1.  1.5]\nx // 2 = [0 0 1 1]\n-x     =  [ 0 -1 -2 -3]\nx ** 2 =  [0 1 4 9]\nx % 2  =  [0 1 0 1]\n"
     ]
    }
   ],
   "source": [
    "x = np.arange(4)\n",
    "print(\"x     =\", x)\n",
    "print(\"x + 5 =\", x + 5)\n",
    "print(\"x - 5 =\", x - 5)\n",
    "print(\"x * 2 =\", x * 2)\n",
    "print(\"x / 2 =\", x / 2)\n",
    "print(\"x // 2 =\", x // 2) \n",
    "print(\"-x     = \", -x)\n",
    "print(\"x ** 2 = \", x ** 2)\n",
    "print(\"x % 2  = \", x % 2)"
   ]
  },
  {
   "cell_type": "code",
   "execution_count": 12,
   "metadata": {
    "collapsed": false,
    "jupyter": {
     "outputs_hidden": false
    }
   },
   "outputs": [
    {
     "output_type": "execute_result",
     "data": {
      "text/plain": [
       "array([-1.  , -2.25, -4.  , -6.25])"
      ]
     },
     "metadata": {},
     "execution_count": 12
    }
   ],
   "source": [
    "-(0.5*x + 1) ** 2"
   ]
  },
  {
   "cell_type": "code",
   "execution_count": 16,
   "metadata": {
    "collapsed": false,
    "jupyter": {
     "outputs_hidden": false
    }
   },
   "outputs": [
    {
     "output_type": "execute_result",
     "data": {
      "text/plain": [
       "array([2, 3, 4, 5])"
      ]
     },
     "metadata": {},
     "execution_count": 16
    }
   ],
   "source": [
    "np.add(x, 2)"
   ]
  },
  {
   "cell_type": "markdown",
   "metadata": {},
   "source": [
    "#### - wrapper\n",
    "\n",
    "| Operator\t    | Equivalent ufunc    | Description                           |\n",
    "|---------------|---------------------|---------------------------------------|\n",
    "|``+``          |``np.add``           |Addition (e.g., ``1 + 1 = 2``)         |\n",
    "|``-``          |``np.subtract``      |Subtraction (e.g., ``3 - 2 = 1``)      |\n",
    "|``-``          |``np.negative``      |Unary negation (e.g., ``-2``)          |\n",
    "|``*``          |``np.multiply``      |Multiplication (e.g., ``2 * 3 = 6``)   |\n",
    "|``/``          |``np.divide``        |Division (e.g., ``3 / 2 = 1.5``)       |\n",
    "|``//``         |``np.floor_divide``  |Floor division (e.g., ``3 // 2 = 1``)  |\n",
    "|``**``         |``np.power``         |Exponentiation (e.g., ``2 ** 3 = 8``)  |\n",
    "|``%``          |``np.mod``           |Modulus/remainder (e.g., ``9 % 4 = 1``)|"
   ]
  },
  {
   "cell_type": "markdown",
   "metadata": {},
   "source": [
    "### 3. Absolute value"
   ]
  },
  {
   "cell_type": "code",
   "execution_count": 17,
   "metadata": {
    "collapsed": false,
    "jupyter": {
     "outputs_hidden": false
    }
   },
   "outputs": [
    {
     "output_type": "execute_result",
     "data": {
      "text/plain": [
       "array([2, 1, 0, 1, 2])"
      ]
     },
     "metadata": {},
     "execution_count": 17
    }
   ],
   "source": [
    "# python 내장 함수\n",
    "x = np.array([-2, -1, 0, 1, 2])\n",
    "abs(x)"
   ]
  },
  {
   "cell_type": "code",
   "execution_count": 18,
   "metadata": {
    "collapsed": false,
    "jupyter": {
     "outputs_hidden": false
    }
   },
   "outputs": [
    {
     "output_type": "execute_result",
     "data": {
      "text/plain": [
       "array([2, 1, 0, 1, 2])"
      ]
     },
     "metadata": {},
     "execution_count": 18
    }
   ],
   "source": [
    "# numpy 함수\n",
    "np.absolute(x) #  np.abs(x)"
   ]
  },
  {
   "cell_type": "code",
   "execution_count": 19,
   "metadata": {},
   "outputs": [
    {
     "output_type": "stream",
     "name": "stdout",
     "text": [
      "1.96 µs ± 175 ns per loop (mean ± std. dev. of 7 runs, 100000 loops each)\n",
      "613 ns ± 10.8 ns per loop (mean ± std. dev. of 7 runs, 1000000 loops each)\n"
     ]
    }
   ],
   "source": [
    "np.random.randint(-100,100,100000)\n",
    "%timeit abs(x)\n",
    "%timeit np.abs(x)"
   ]
  },
  {
   "cell_type": "code",
   "execution_count": 23,
   "metadata": {
    "collapsed": false,
    "jupyter": {
     "outputs_hidden": false
    }
   },
   "outputs": [
    {
     "output_type": "execute_result",
     "data": {
      "text/plain": [
       "array([5., 5., 2., 1.])"
      ]
     },
     "metadata": {},
     "execution_count": 23
    }
   ],
   "source": [
    "x = np.array([3 - 4j, 4 - 3j, 2 + 0j, 0 + 1j])\n",
    "np.abs(x)\n"
   ]
  },
  {
   "cell_type": "markdown",
   "metadata": {},
   "source": [
    "### 4. 삼각 함수"
   ]
  },
  {
   "cell_type": "code",
   "execution_count": 24,
   "metadata": {
    "collapsed": false,
    "jupyter": {
     "outputs_hidden": false
    }
   },
   "outputs": [
    {
     "output_type": "execute_result",
     "data": {
      "text/plain": [
       "array([0.        , 1.57079633, 3.14159265])"
      ]
     },
     "metadata": {},
     "execution_count": 24
    }
   ],
   "source": [
    "theta = np.linspace(0, np.pi, 3)\n",
    "theta"
   ]
  },
  {
   "cell_type": "code",
   "execution_count": 25,
   "metadata": {
    "collapsed": false,
    "jupyter": {
     "outputs_hidden": false
    }
   },
   "outputs": [
    {
     "output_type": "stream",
     "name": "stdout",
     "text": [
      "sin(theta) =  [0.0000000e+00 1.0000000e+00 1.2246468e-16]\ncos(theta) =  [ 1.000000e+00  6.123234e-17 -1.000000e+00]\ntan(theta) =  [ 0.00000000e+00  1.63312394e+16 -1.22464680e-16]\n"
     ]
    }
   ],
   "source": [
    "print(\"sin(theta) = \", np.sin(theta))\n",
    "print(\"cos(theta) = \", np.cos(theta))\n",
    "print(\"tan(theta) = \", np.tan(theta))"
   ]
  },
  {
   "cell_type": "code",
   "execution_count": 26,
   "metadata": {
    "collapsed": false,
    "jupyter": {
     "outputs_hidden": false
    }
   },
   "outputs": [
    {
     "output_type": "stream",
     "name": "stdout",
     "text": [
      "x         =  [-1, 0, 1]\narcsin(x) =  [-1.57079633  0.          1.57079633]\narccos(x) =  [3.14159265 1.57079633 0.        ]\narctan(x) =  [-0.78539816  0.          0.78539816]\n"
     ]
    }
   ],
   "source": [
    "# 역삼각 함수\n",
    "x = [-1, 0, 1]\n",
    "print(\"x         = \", x)\n",
    "print(\"arcsin(x) = \", np.arcsin(x))\n",
    "print(\"arccos(x) = \", np.arccos(x))\n",
    "print(\"arctan(x) = \", np.arctan(x))"
   ]
  },
  {
   "cell_type": "markdown",
   "metadata": {},
   "source": [
    "### 5. Exp, Log"
   ]
  },
  {
   "cell_type": "code",
   "execution_count": 28,
   "metadata": {
    "collapsed": false,
    "jupyter": {
     "outputs_hidden": false
    }
   },
   "outputs": [
    {
     "output_type": "stream",
     "name": "stdout",
     "text": [
      "x     = [1, 2, 3]\ne^x   = [ 2.71828183  7.3890561  20.08553692]\n2^x   = [2. 4. 8.]\n3^x   = [ 3  9 27]\n"
     ]
    }
   ],
   "source": [
    "x = [1, 2, 3]\n",
    "print(\"x     =\", x)\n",
    "print(\"e^x   =\", np.exp(x))\n",
    "print(\"2^x   =\", np.exp2(x))\n",
    "print(\"3^x   =\", np.power(3, x))"
   ]
  },
  {
   "cell_type": "code",
   "execution_count": 29,
   "metadata": {
    "collapsed": false,
    "jupyter": {
     "outputs_hidden": false
    }
   },
   "outputs": [
    {
     "output_type": "stream",
     "name": "stdout",
     "text": [
      "x        = [1, 2, 4, 10]\nln(x)    = [0.         0.69314718 1.38629436 2.30258509]\nlog2(x)  = [0.         1.         2.         3.32192809]\nlog10(x) = [0.         0.30103    0.60205999 1.        ]\n"
     ]
    }
   ],
   "source": [
    "x = [1, 2, 4, 10]\n",
    "print(\"x        =\", x)\n",
    "print(\"ln(x)    =\", np.log(x))\n",
    "print(\"log2(x)  =\", np.log2(x))\n",
    "print(\"log10(x) =\", np.log10(x))"
   ]
  },
  {
   "cell_type": "markdown",
   "metadata": {},
   "source": [
    "## Advanced Ufunc Features"
   ]
  },
  {
   "cell_type": "markdown",
   "metadata": {},
   "source": [
    "### 1. Specifying output"
   ]
  },
  {
   "cell_type": "code",
   "execution_count": 41,
   "metadata": {},
   "outputs": [
    {
     "output_type": "execute_result",
     "data": {
      "text/plain": [
       "array([ 0, 10, 20, 30, 40])"
      ]
     },
     "metadata": {},
     "execution_count": 41
    }
   ],
   "source": [
    "x = np.arange(5)\n",
    "y = np.empty(5)\n",
    "z = np.multiply(x, 10)\n",
    "z"
   ]
  },
  {
   "cell_type": "code",
   "execution_count": 43,
   "metadata": {
    "collapsed": false,
    "jupyter": {
     "outputs_hidden": false
    }
   },
   "outputs": [
    {
     "output_type": "execute_result",
     "data": {
      "text/plain": [
       "array([ 0, 10, 20, 30, 40])"
      ]
     },
     "metadata": {},
     "execution_count": 43
    }
   ],
   "source": [
    "x = np.arange(5)\n",
    "y = np.empty(5)\n",
    "np.multiply(x, 10, out=z) # output 지정\n",
    "z"
   ]
  },
  {
   "cell_type": "code",
   "execution_count": 64,
   "metadata": {
    "collapsed": false,
    "jupyter": {
     "outputs_hidden": false
    }
   },
   "outputs": [
    {
     "output_type": "error",
     "ename": "ValueError",
     "evalue": "operands could not be broadcast together with shapes () (5,) (10,) ",
     "traceback": [
      "\u001b[1;31m---------------------------------------------------------------------------\u001b[0m",
      "\u001b[1;31mValueError\u001b[0m                                Traceback (most recent call last)",
      "\u001b[1;32m<ipython-input-64-b7b92ae0d26b>\u001b[0m in \u001b[0;36m<module>\u001b[1;34m\u001b[0m\n\u001b[0;32m      1\u001b[0m \u001b[1;31m# 크기가 다름\u001b[0m\u001b[1;33m\u001b[0m\u001b[1;33m\u001b[0m\u001b[1;33m\u001b[0m\u001b[0m\n\u001b[0;32m      2\u001b[0m \u001b[0my\u001b[0m \u001b[1;33m=\u001b[0m \u001b[0mnp\u001b[0m\u001b[1;33m.\u001b[0m\u001b[0mzeros\u001b[0m\u001b[1;33m(\u001b[0m\u001b[1;36m10\u001b[0m\u001b[1;33m)\u001b[0m\u001b[1;33m\u001b[0m\u001b[1;33m\u001b[0m\u001b[0m\n\u001b[1;32m----> 3\u001b[1;33m \u001b[0mnp\u001b[0m\u001b[1;33m.\u001b[0m\u001b[0mpower\u001b[0m\u001b[1;33m(\u001b[0m\u001b[1;36m2\u001b[0m\u001b[1;33m,\u001b[0m \u001b[0mx\u001b[0m\u001b[1;33m,\u001b[0m \u001b[0mout\u001b[0m\u001b[1;33m=\u001b[0m\u001b[0my\u001b[0m\u001b[1;33m)\u001b[0m\u001b[1;33m\u001b[0m\u001b[1;33m\u001b[0m\u001b[0m\n\u001b[0m\u001b[0;32m      4\u001b[0m \u001b[0my\u001b[0m\u001b[1;33m\u001b[0m\u001b[1;33m\u001b[0m\u001b[0m\n",
      "\u001b[1;31mValueError\u001b[0m: operands could not be broadcast together with shapes () (5,) (10,) "
     ]
    }
   ],
   "source": [
    "# 크기가 다름 \n",
    "y = np.zeros(10)\n",
    "np.power(2, x, out=y)\n",
    "y"
   ]
  },
  {
   "cell_type": "code",
   "execution_count": 67,
   "metadata": {},
   "outputs": [
    {
     "output_type": "stream",
     "name": "stdout",
     "text": [
      "[0. 0. 0. 0. 0. 0. 0. 0. 0. 0.]\n"
     ]
    },
    {
     "output_type": "execute_result",
     "data": {
      "text/plain": [
       "array([ 1.,  0.,  2.,  0.,  4.,  0.,  8.,  0., 16.,  0.])"
      ]
     },
     "metadata": {},
     "execution_count": 67
    }
   ],
   "source": [
    "y = np.zeros(10)\n",
    "print(y)\n",
    "np.power(2, x, out=y[::2])  # y[::2] : step 2\n",
    "y\n"
   ]
  },
  {
   "cell_type": "markdown",
   "metadata": {},
   "source": [
    "### 2. Outer products\n",
    "\n",
    "a = [a0, a1, ..., aM] , b = [b0, b1, ..., bN]\n",
    "\n",
    "```\n",
    " [[a0*b0  a0*b1 ... a0*bN ]\n",
    " [a1*b0    .\n",
    " [ ...          .\n",
    " [aM*b0            aM*bN ]]\n",
    "```\n"
   ]
  },
  {
   "cell_type": "code",
   "execution_count": 81,
   "metadata": {
    "collapsed": false,
    "jupyter": {
     "outputs_hidden": false
    },
    "scrolled": true
   },
   "outputs": [
    {
     "output_type": "execute_result",
     "data": {
      "text/plain": [
       "array([[ 1,  2,  3,  4,  5],\n",
       "       [ 2,  4,  6,  8, 10],\n",
       "       [ 3,  6,  9, 12, 15],\n",
       "       [ 4,  8, 12, 16, 20],\n",
       "       [ 5, 10, 15, 20, 25]])"
      ]
     },
     "metadata": {},
     "execution_count": 81
    }
   ],
   "source": [
    "x = np.arange(1, 6)\n",
    "np.outer(x, x)"
   ]
  },
  {
   "cell_type": "markdown",
   "metadata": {},
   "source": [
    "## Aggregations"
   ]
  },
  {
   "cell_type": "markdown",
   "metadata": {},
   "source": [
    "### 1. Sum"
   ]
  },
  {
   "cell_type": "code",
   "execution_count": 82,
   "metadata": {
    "collapsed": false,
    "jupyter": {
     "outputs_hidden": false
    }
   },
   "outputs": [
    {
     "output_type": "execute_result",
     "data": {
      "text/plain": [
       "51.42007124536917"
      ]
     },
     "metadata": {},
     "execution_count": 82
    }
   ],
   "source": [
    "# python 내장함수\n",
    "L = np.random.random(100)\n",
    "sum(L)"
   ]
  },
  {
   "cell_type": "code",
   "execution_count": 83,
   "metadata": {
    "collapsed": false,
    "jupyter": {
     "outputs_hidden": false
    }
   },
   "outputs": [
    {
     "output_type": "execute_result",
     "data": {
      "text/plain": [
       "51.42007124536917"
      ]
     },
     "metadata": {},
     "execution_count": 83
    }
   ],
   "source": [
    "# numpy 함수\n",
    "np.sum(L) "
   ]
  },
  {
   "cell_type": "code",
   "execution_count": 84,
   "metadata": {
    "collapsed": false,
    "jupyter": {
     "outputs_hidden": false
    }
   },
   "outputs": [
    {
     "output_type": "stream",
     "name": "stdout",
     "text": [
      "401 ms ± 104 ms per loop (mean ± std. dev. of 7 runs, 1 loop each)\n",
      "4.06 ms ± 756 µs per loop (mean ± std. dev. of 7 runs, 100 loops each)\n"
     ]
    }
   ],
   "source": [
    "# 속도 비교\n",
    "big_array = np.random.rand(1000000)\n",
    "%timeit sum(big_array)\n",
    "%timeit np.sum(big_array)"
   ]
  },
  {
   "cell_type": "markdown",
   "metadata": {},
   "source": [
    "### 2. Min, Max"
   ]
  },
  {
   "cell_type": "code",
   "execution_count": 88,
   "metadata": {
    "collapsed": false,
    "jupyter": {
     "outputs_hidden": false
    }
   },
   "outputs": [
    {
     "output_type": "execute_result",
     "data": {
      "text/plain": [
       "(1.9760029844606564e-06, 0.9999986906665383)"
      ]
     },
     "metadata": {},
     "execution_count": 88
    }
   ],
   "source": [
    "min(big_array), max(big_array)"
   ]
  },
  {
   "cell_type": "code",
   "execution_count": 91,
   "metadata": {
    "collapsed": false,
    "jupyter": {
     "outputs_hidden": false
    }
   },
   "outputs": [
    {
     "output_type": "execute_result",
     "data": {
      "text/plain": [
       "(1.9760029844606564e-06, 0.9999986906665383)"
      ]
     },
     "metadata": {},
     "execution_count": 91
    }
   ],
   "source": [
    "np.min(big_array), np.max(big_array)"
   ]
  },
  {
   "cell_type": "code",
   "execution_count": 92,
   "metadata": {},
   "outputs": [
    {
     "output_type": "execute_result",
     "data": {
      "text/plain": [
       "(1.9760029844606564e-06, 0.9999986906665383, 500377.5463169642)"
      ]
     },
     "metadata": {},
     "execution_count": 92
    }
   ],
   "source": [
    "big_array.min(), big_array.max(), big_array.sum()"
   ]
  },
  {
   "cell_type": "code",
   "execution_count": 93,
   "metadata": {
    "collapsed": false,
    "jupyter": {
     "outputs_hidden": false
    }
   },
   "outputs": [
    {
     "output_type": "stream",
     "name": "stdout",
     "text": [
      "74.4 ms ± 1.33 ms per loop (mean ± std. dev. of 7 runs, 10 loops each)\n",
      "620 µs ± 28.3 µs per loop (mean ± std. dev. of 7 runs, 1000 loops each)\n",
      "607 µs ± 22.8 µs per loop (mean ± std. dev. of 7 runs, 1000 loops each)\n"
     ]
    }
   ],
   "source": [
    "%timeit min(big_array)\n",
    "%timeit np.min(big_array)\n",
    "%timeit big_array.min()"
   ]
  },
  {
   "cell_type": "markdown",
   "metadata": {},
   "source": [
    "### 3. Multi dimensional aggregates"
   ]
  },
  {
   "cell_type": "code",
   "execution_count": 94,
   "metadata": {
    "collapsed": false,
    "jupyter": {
     "outputs_hidden": false
    }
   },
   "outputs": [
    {
     "output_type": "execute_result",
     "data": {
      "text/plain": [
       "array([[0.02444781, 0.79491573, 0.51605622, 0.68126578],\n",
       "       [0.09626704, 0.24843591, 0.95486523, 0.0175746 ],\n",
       "       [0.33121693, 0.04156122, 0.50477581, 0.38373791]])"
      ]
     },
     "metadata": {},
     "execution_count": 94
    }
   ],
   "source": [
    "M = np.random.random((3, 4))\n",
    "M"
   ]
  },
  {
   "cell_type": "code",
   "execution_count": 95,
   "metadata": {
    "collapsed": false,
    "jupyter": {
     "outputs_hidden": false
    }
   },
   "outputs": [
    {
     "output_type": "execute_result",
     "data": {
      "text/plain": [
       "4.595120190421901"
      ]
     },
     "metadata": {},
     "execution_count": 95
    }
   ],
   "source": [
    "M.sum()"
   ]
  },
  {
   "cell_type": "code",
   "execution_count": 96,
   "metadata": {
    "collapsed": false,
    "jupyter": {
     "outputs_hidden": false
    }
   },
   "outputs": [
    {
     "output_type": "execute_result",
     "data": {
      "text/plain": [
       "array([0.02444781, 0.04156122, 0.50477581, 0.0175746 ])"
      ]
     },
     "metadata": {},
     "execution_count": 96
    }
   ],
   "source": [
    "# column 중에서 min\n",
    "M.min(axis=0)"
   ]
  },
  {
   "cell_type": "code",
   "execution_count": 99,
   "metadata": {},
   "outputs": [
    {
     "output_type": "stream",
     "text": [
      "\u001b[1;31mCall signature:\u001b[0m  \u001b[0mnp\u001b[0m\u001b[1;33m.\u001b[0m\u001b[0mpower\u001b[0m\u001b[1;33m(\u001b[0m\u001b[1;33m*\u001b[0m\u001b[0margs\u001b[0m\u001b[1;33m,\u001b[0m \u001b[1;33m**\u001b[0m\u001b[0mkwargs\u001b[0m\u001b[1;33m)\u001b[0m\u001b[1;33m\u001b[0m\u001b[1;33m\u001b[0m\u001b[0m\n",
      "\u001b[1;31mType:\u001b[0m            ufunc\n",
      "\u001b[1;31mString form:\u001b[0m     <ufunc 'power'>\n",
      "\u001b[1;31mFile:\u001b[0m            c:\\users\\painc\\anaconda3\\lib\\site-packages\\numpy\\__init__.py\n",
      "\u001b[1;31mDocstring:\u001b[0m      \n",
      "power(x1, x2, /, out=None, *, where=True, casting='same_kind', order='K', dtype=None, subok=True[, signature, extobj])\n",
      "\n",
      "First array elements raised to powers from second array, element-wise.\n",
      "\n",
      "Raise each base in `x1` to the positionally-corresponding power in\n",
      "`x2`.  `x1` and `x2` must be broadcastable to the same shape. Note that an\n",
      "integer type raised to a negative integer power will raise a ValueError.\n",
      "\n",
      "Parameters\n",
      "----------\n",
      "x1 : array_like\n",
      "    The bases.\n",
      "x2 : array_like\n",
      "    The exponents.\n",
      "    If ``x1.shape != x2.shape``, they must be broadcastable to a common\n",
      "    shape (which becomes the shape of the output).\n",
      "out : ndarray, None, or tuple of ndarray and None, optional\n",
      "    A location into which the result is stored. If provided, it must have\n",
      "    a shape that the inputs broadcast to. If not provided or None,\n",
      "    a freshly-allocated array is returned. A tuple (possible only as a\n",
      "    keyword argument) must have length equal to the number of outputs.\n",
      "where : array_like, optional\n",
      "    This condition is broadcast over the input. At locations where the\n",
      "    condition is True, the `out` array will be set to the ufunc result.\n",
      "    Elsewhere, the `out` array will retain its original value.\n",
      "    Note that if an uninitialized `out` array is created via the default\n",
      "    ``out=None``, locations within it where the condition is False will\n",
      "    remain uninitialized.\n",
      "**kwargs\n",
      "    For other keyword-only arguments, see the\n",
      "    :ref:`ufunc docs <ufuncs.kwargs>`.\n",
      "\n",
      "Returns\n",
      "-------\n",
      "y : ndarray\n",
      "    The bases in `x1` raised to the exponents in `x2`.\n",
      "    This is a scalar if both `x1` and `x2` are scalars.\n",
      "\n",
      "See Also\n",
      "--------\n",
      "float_power : power function that promotes integers to float\n",
      "\n",
      "Examples\n",
      "--------\n",
      "Cube each element in an array.\n",
      "\n",
      ">>> x1 = np.arange(6)\n",
      ">>> x1\n",
      "[0, 1, 2, 3, 4, 5]\n",
      ">>> np.power(x1, 3)\n",
      "array([  0,   1,   8,  27,  64, 125])\n",
      "\n",
      "Raise the bases to different exponents.\n",
      "\n",
      ">>> x2 = [1.0, 2.0, 3.0, 3.0, 2.0, 1.0]\n",
      ">>> np.power(x1, x2)\n",
      "array([  0.,   1.,   8.,  27.,  16.,   5.])\n",
      "\n",
      "The effect of broadcasting.\n",
      "\n",
      ">>> x2 = np.array([[1, 2, 3, 3, 2, 1], [1, 2, 3, 3, 2, 1]])\n",
      ">>> x2\n",
      "array([[1, 2, 3, 3, 2, 1],\n",
      "       [1, 2, 3, 3, 2, 1]])\n",
      ">>> np.power(x1, x2)\n",
      "array([[ 0,  1,  8, 27, 16,  5],\n",
      "       [ 0,  1,  8, 27, 16,  5]])\n",
      "\n",
      "The ``**`` operator can be used as a shorthand for ``np.power`` on\n",
      "ndarrays.\n",
      "\n",
      ">>> x2 = np.array([1, 2, 3, 3, 2, 1])\n",
      ">>> x1 = np.arange(6)\n",
      ">>> x1 ** x2\n",
      "array([ 0,  1,  8, 27, 16,  5])\n",
      "\u001b[1;31mClass docstring:\u001b[0m\n",
      "Functions that operate element by element on whole arrays.\n",
      "\n",
      "To see the documentation for a specific ufunc, use `info`.  For\n",
      "example, ``np.info(np.sin)``.  Because ufuncs are written in C\n",
      "(for speed) and linked into Python with NumPy's ufunc facility,\n",
      "Python's help() function finds this page whenever help() is called\n",
      "on a ufunc.\n",
      "\n",
      "A detailed explanation of ufuncs can be found in the docs for :ref:`ufuncs`.\n",
      "\n",
      "**Calling ufuncs:** ``op(*x[, out], where=True, **kwargs)``\n",
      "\n",
      "Apply `op` to the arguments `*x` elementwise, broadcasting the arguments.\n",
      "\n",
      "The broadcasting rules are:\n",
      "\n",
      "* Dimensions of length 1 may be prepended to either array.\n",
      "* Arrays may be repeated along dimensions of length 1.\n",
      "\n",
      "Parameters\n",
      "----------\n",
      "*x : array_like\n",
      "    Input arrays.\n",
      "out : ndarray, None, or tuple of ndarray and None, optional\n",
      "    Alternate array object(s) in which to put the result; if provided, it\n",
      "    must have a shape that the inputs broadcast to. A tuple of arrays\n",
      "    (possible only as a keyword argument) must have length equal to the\n",
      "    number of outputs; use None for uninitialized outputs to be\n",
      "    allocated by the ufunc.\n",
      "where : array_like, optional\n",
      "    This condition is broadcast over the input. At locations where the\n",
      "    condition is True, the `out` array will be set to the ufunc result.\n",
      "    Elsewhere, the `out` array will retain its original value.\n",
      "    Note that if an uninitialized `out` array is created via the default\n",
      "    ``out=None``, locations within it where the condition is False will\n",
      "    remain uninitialized.\n",
      "**kwargs\n",
      "    For other keyword-only arguments, see the :ref:`ufunc docs <ufuncs.kwargs>`.\n",
      "\n",
      "Returns\n",
      "-------\n",
      "r : ndarray or tuple of ndarray\n",
      "    `r` will have the shape that the arrays in `x` broadcast to; if `out` is\n",
      "    provided, it will be returned. If not, `r` will be allocated and\n",
      "    may contain uninitialized values. If the function has more than one\n",
      "    output, then the result will be a tuple of arrays.\n"
     ],
     "name": "stdout"
    }
   ],
   "source": [
    "import numpy as np\n",
    "?M.min\n",
    "?np.power"
   ]
  },
  {
   "cell_type": "code",
   "execution_count": 100,
   "metadata": {},
   "outputs": [
    {
     "output_type": "execute_result",
     "data": {
      "text/plain": [
       "array([0.02444781, 0.0175746 , 0.04156122])"
      ]
     },
     "metadata": {},
     "execution_count": 100
    }
   ],
   "source": [
    "# row 중에서 min\n",
    "M.min(axis=1)"
   ]
  },
  {
   "cell_type": "markdown",
   "metadata": {},
   "source": [
    "### 4. Other aggregation functions\n",
    "\n",
    "|Function Name      |   NaN-safe Version  | Description                                   |\n",
    "|-------------------|---------------------|-----------------------------------------------|\n",
    "| ``np.sum``        | ``np.nansum``       | Compute sum of elements                       |\n",
    "| ``np.prod``       | ``np.nanprod``      | Compute product of elements                   |\n",
    "| ``np.mean``       | ``np.nanmean``      | Compute mean of elements                      |\n",
    "| ``np.std``        | ``np.nanstd``       | Compute standard deviation                    |\n",
    "| ``np.var``        | ``np.nanvar``       | Compute variance                              |\n",
    "| ``np.min``        | ``np.nanmin``       | Find minimum value                            |\n",
    "| ``np.max``        | ``np.nanmax``       | Find maximum value                            |\n",
    "| ``np.argmin``     | ``np.nanargmin``    | Find index of minimum value                   |\n",
    "| ``np.argmax``     | ``np.nanargmax``    | Find index of maximum value                   |\n",
    "| ``np.median``     | ``np.nanmedian``    | Compute median of elements                    |\n",
    "| ``np.percentile`` | ``np.nanpercentile``| Compute rank-based statistics of elements     |\n",
    "| ``np.any``        | N/A                 | Evaluate whether any elements are true        |\n",
    "| ``np.all``        | N/A                 | Evaluate whether all elements are true        |"
   ]
  },
  {
   "cell_type": "markdown",
   "metadata": {},
   "source": [
    "### 5. reduce, accumulate"
   ]
  },
  {
   "cell_type": "code",
   "execution_count": 104,
   "metadata": {
    "collapsed": false,
    "jupyter": {
     "outputs_hidden": false
    }
   },
   "outputs": [
    {
     "output_type": "execute_result",
     "data": {
      "text/plain": [
       "15"
      ]
     },
     "metadata": {},
     "execution_count": 104
    }
   ],
   "source": [
    "x = np.arange(1, 6)\n",
    "np.add.reduce(x)"
   ]
  },
  {
   "cell_type": "code",
   "execution_count": 105,
   "metadata": {
    "collapsed": false,
    "jupyter": {
     "outputs_hidden": false
    }
   },
   "outputs": [
    {
     "output_type": "execute_result",
     "data": {
      "text/plain": [
       "120"
      ]
     },
     "metadata": {},
     "execution_count": 105
    }
   ],
   "source": [
    "np.multiply.reduce(x)"
   ]
  },
  {
   "cell_type": "code",
   "execution_count": 110,
   "metadata": {
    "collapsed": false,
    "jupyter": {
     "outputs_hidden": false
    }
   },
   "outputs": [
    {
     "output_type": "stream",
     "name": "stdout",
     "text": [
      "[ 1  3  6 10 15]\n[ 1  3  6 10 15]\n"
     ]
    }
   ],
   "source": [
    "#accumulate 을 사용하면 누적값을 알 수 있다.\n",
    "# 누적 합\n",
    "print(np.add.accumulate(x))\n",
    "print(np.cumsum(x))"
   ]
  },
  {
   "cell_type": "code",
   "execution_count": 51,
   "metadata": {},
   "outputs": [
    {
     "data": {
      "text/plain": [
       "array([  1,   2,   6,  24, 120])"
      ]
     },
     "execution_count": 51,
     "metadata": {},
     "output_type": "execute_result"
    }
   ],
   "source": [
    "# 누적 곱\n",
    "np.multiply.accumulate(x)"
   ]
  },
  {
   "cell_type": "markdown",
   "metadata": {},
   "source": [
    "## Broadcasting\n",
    "\n",
    "#### - 크기가 다른 array간의 연산"
   ]
  },
  {
   "cell_type": "code",
   "execution_count": 111,
   "metadata": {
    "collapsed": false,
    "jupyter": {
     "outputs_hidden": false
    }
   },
   "outputs": [
    {
     "output_type": "execute_result",
     "data": {
      "text/plain": [
       "array([5, 6, 7])"
      ]
     },
     "metadata": {},
     "execution_count": 111
    }
   ],
   "source": [
    "a = np.array([0, 1, 2])\n",
    "a + 5"
   ]
  },
  {
   "cell_type": "code",
   "execution_count": 113,
   "metadata": {},
   "outputs": [
    {
     "output_type": "execute_result",
     "data": {
      "text/plain": [
       "array([5, 6, 7])"
      ]
     },
     "metadata": {},
     "execution_count": 113
    }
   ],
   "source": [
    "b = np.array([5, 5, 5])\n",
    "a + b"
   ]
  },
  {
   "cell_type": "code",
   "execution_count": 114,
   "metadata": {
    "collapsed": false,
    "jupyter": {
     "outputs_hidden": false
    }
   },
   "outputs": [
    {
     "output_type": "execute_result",
     "data": {
      "text/plain": [
       "array([5, 6, 7])"
      ]
     },
     "metadata": {},
     "execution_count": 114
    }
   ],
   "source": [
    "b = np.array([5])\n",
    "a + b"
   ]
  },
  {
   "cell_type": "code",
   "execution_count": 115,
   "metadata": {
    "collapsed": false,
    "jupyter": {
     "outputs_hidden": false
    }
   },
   "outputs": [
    {
     "output_type": "execute_result",
     "data": {
      "text/plain": [
       "array([[1., 1., 1.],\n",
       "       [1., 1., 1.],\n",
       "       [1., 1., 1.]])"
      ]
     },
     "metadata": {},
     "execution_count": 115
    }
   ],
   "source": [
    "M = np.ones((3, 3))\n",
    "M"
   ]
  },
  {
   "cell_type": "code",
   "execution_count": 116,
   "metadata": {
    "collapsed": false,
    "jupyter": {
     "outputs_hidden": false
    }
   },
   "outputs": [
    {
     "output_type": "execute_result",
     "data": {
      "text/plain": [
       "array([[1., 2., 3.],\n",
       "       [1., 2., 3.],\n",
       "       [1., 2., 3.]])"
      ]
     },
     "metadata": {},
     "execution_count": 116
    }
   ],
   "source": [
    "M + a # shape 자동 변환"
   ]
  },
  {
   "cell_type": "code",
   "execution_count": 117,
   "metadata": {
    "collapsed": false,
    "jupyter": {
     "outputs_hidden": false
    }
   },
   "outputs": [
    {
     "output_type": "stream",
     "name": "stdout",
     "text": [
      "[0 1 2]\n[[0]\n [1]\n [2]]\n"
     ]
    }
   ],
   "source": [
    "a = np.arange(3)\n",
    "b = np.arange(3)[:, np.newaxis]\n",
    "print(a)\n",
    "print(b)"
   ]
  },
  {
   "cell_type": "code",
   "execution_count": 118,
   "metadata": {
    "collapsed": false,
    "jupyter": {
     "outputs_hidden": false
    }
   },
   "outputs": [
    {
     "output_type": "execute_result",
     "data": {
      "text/plain": [
       "array([[0, 1, 2],\n",
       "       [1, 2, 3],\n",
       "       [2, 3, 4]])"
      ]
     },
     "metadata": {},
     "execution_count": 118
    }
   ],
   "source": [
    "a + b\n"
   ]
  },
  {
   "cell_type": "code",
   "execution_count": 132,
   "metadata": {},
   "outputs": [
    {
     "output_type": "execute_result",
     "data": {
      "text/plain": [
       "array([1, 2, 1, 2, 1, 2, 1, 2])"
      ]
     },
     "metadata": {},
     "execution_count": 132
    }
   ],
   "source": [
    "np.repeat(np.array([1,2]),30).size\n",
    "np.tile(np.array([1,2]),4)"
   ]
  },
  {
   "cell_type": "markdown",
   "metadata": {},
   "source": [
    "### 1. Concept\n",
    "\n",
    "<img src='broadcasting.png'>broadcasting</img>"
   ]
  },
  {
   "cell_type": "markdown",
   "metadata": {},
   "source": [
    "### 2. Rules\n",
    "\n",
    " 1. 두 array의 차원 수가 다른 경우 더 적은 차원을 가진 배열의 모양이 앞쪽 (왼쪽)에 채워 짐\n",
    " 2. 두 array의 모양이 어떤 차원에서도 일치하지 않으면 해당 차원에서 모양이 1 인 배열은 다른 모양과 일치하도록 늘어 남\n",
    " 3. 어떤 차원에서든 크기가 일치하지 않고 1과 같지 않으면 오류가 발생"
   ]
  },
  {
   "cell_type": "markdown",
   "metadata": {},
   "source": [
    "### 3. example 1"
   ]
  },
  {
   "cell_type": "code",
   "execution_count": 155,
   "metadata": {},
   "outputs": [
    {
     "output_type": "execute_result",
     "data": {
      "text/plain": [
       "array([[  1,   3,   5],\n",
       "       [  4,   6,   8],\n",
       "       [  7,   9,  11],\n",
       "       [ 10,  12,  14],\n",
       "       [ 13,  15,  17],\n",
       "       [ 16,  18,  20],\n",
       "       [ 19,  21,  23],\n",
       "       [ 22,  24,  26],\n",
       "       [ 25,  27,  29],\n",
       "       [ 28,  30,  32],\n",
       "       [ 31,  33,  35],\n",
       "       [ 34,  36,  38],\n",
       "       [ 37,  39,  41],\n",
       "       [ 40,  42,  44],\n",
       "       [ 43,  45,  47],\n",
       "       [ 46,  48,  50],\n",
       "       [ 49,  51,  53],\n",
       "       [ 52,  54,  56],\n",
       "       [ 55,  57,  59],\n",
       "       [ 58,  60,  62],\n",
       "       [ 61,  63,  65],\n",
       "       [ 64,  66,  68],\n",
       "       [ 67,  69,  71],\n",
       "       [ 70,  72,  74],\n",
       "       [ 73,  75,  77],\n",
       "       [ 76,  78,  80],\n",
       "       [ 79,  81,  83],\n",
       "       [ 82,  84,  86],\n",
       "       [ 85,  87,  89],\n",
       "       [ 88,  90,  92],\n",
       "       [ 91,  93,  95],\n",
       "       [ 94,  96,  98],\n",
       "       [ 97,  99, 101]])"
      ]
     },
     "metadata": {},
     "execution_count": 155
    }
   ],
   "source": [
    "x = np.arange(99)\n",
    "y = np.arange(1,4)\n",
    "z = np.tile(y,33)\n",
    "(x+z).reshape(33,3)"
   ]
  },
  {
   "cell_type": "code",
   "execution_count": 156,
   "metadata": {
    "collapsed": false,
    "jupyter": {
     "outputs_hidden": false
    }
   },
   "outputs": [
    {
     "output_type": "stream",
     "name": "stdout",
     "text": [
      "(2, 3)\n(3,)\n"
     ]
    }
   ],
   "source": [
    "M = np.ones((2, 3))\n",
    "a = np.arange(3)\n",
    "print(M.shape)\n",
    "print(a.shape)"
   ]
  },
  {
   "cell_type": "code",
   "execution_count": 159,
   "metadata": {},
   "outputs": [
    {
     "output_type": "stream",
     "name": "stdout",
     "text": [
      "[[1. 1. 1.]\n [1. 1. 1.]]\n[0 1 2]\n"
     ]
    }
   ],
   "source": [
    "print(M)\n",
    "print(a)"
   ]
  },
  {
   "cell_type": "markdown",
   "metadata": {},
   "source": [
    "- ``M.shape = (2, 3)``\n",
    "- ``a.shape = (3,)``\n",
    "\n",
    "rule 1 >>>\n",
    "\n",
    "- ``M.shape -> (2, 3)``\n",
    "- ``a.shape -> (1, 3)``\n",
    "\n",
    "rule 2 >>> \n",
    "\n",
    "- ``M.shape -> (2, 3)``\n",
    "- ``a.shape -> (2, 3)``\n",
    "\n",
    "broadcasting **a** :  ``(2, 3)``:\n",
    "\n",
    "`` [[0, 1, 2]\n",
    "  [0, 1, 2]]``"
   ]
  },
  {
   "cell_type": "code",
   "execution_count": 160,
   "metadata": {
    "collapsed": false,
    "jupyter": {
     "outputs_hidden": false
    }
   },
   "outputs": [
    {
     "output_type": "execute_result",
     "data": {
      "text/plain": [
       "array([[1., 2., 3.],\n",
       "       [1., 2., 3.]])"
      ]
     },
     "metadata": {},
     "execution_count": 160
    }
   ],
   "source": [
    "M + a"
   ]
  },
  {
   "cell_type": "markdown",
   "metadata": {},
   "source": [
    "### 4. example 2"
   ]
  },
  {
   "cell_type": "code",
   "execution_count": 145,
   "metadata": {
    "collapsed": false,
    "jupyter": {
     "outputs_hidden": false
    }
   },
   "outputs": [
    {
     "output_type": "stream",
     "name": "stdout",
     "text": [
      "[[0]\n [1]\n [2]]\n[0 1 2]\n"
     ]
    }
   ],
   "source": [
    "a = np.arange(3).reshape((3, 1))\n",
    "b = np.arange(3)\n",
    "print(a)\n",
    "print(b)"
   ]
  },
  {
   "cell_type": "markdown",
   "metadata": {},
   "source": [
    "- ``a.shape = (3, 1)``\n",
    "- ``b.shape = (3,)``\n",
    "\n",
    "Rule 1 >>>\n",
    "\n",
    "- ``a.shape -> (3, 1)``\n",
    "- ``b.shape -> (1, 3)``\n",
    "\n",
    "rule 2 >>>\n",
    "\n",
    "- ``a.shape -> (3, 3)``\n",
    "- ``b.shape -> (3, 3)``\n",
    "\n",
    "broadcasting **a** :\n",
    "\n",
    "``[[0, 0, 0]\n",
    " [1, 1, 1]\n",
    " [2, 2, 2]]``\n",
    "\n",
    "broadcasting **b** :\n",
    "\n",
    "``[[0, 1, 2]\n",
    " [0, 1, 2]\n",
    " [0, 1, 2]]``"
   ]
  },
  {
   "cell_type": "code",
   "execution_count": 146,
   "metadata": {
    "collapsed": false,
    "jupyter": {
     "outputs_hidden": false
    }
   },
   "outputs": [
    {
     "output_type": "execute_result",
     "data": {
      "text/plain": [
       "array([[0, 1, 2],\n",
       "       [1, 2, 3],\n",
       "       [2, 3, 4]])"
      ]
     },
     "metadata": {},
     "execution_count": 146
    }
   ],
   "source": [
    "a + b"
   ]
  },
  {
   "cell_type": "markdown",
   "metadata": {},
   "source": [
    "### 5. example 3"
   ]
  },
  {
   "cell_type": "code",
   "execution_count": 162,
   "metadata": {
    "collapsed": false,
    "jupyter": {
     "outputs_hidden": false
    }
   },
   "outputs": [
    {
     "output_type": "stream",
     "name": "stdout",
     "text": [
      "[[1. 1.]\n [1. 1.]\n [1. 1.]]\n[0 1 2]\n"
     ]
    }
   ],
   "source": [
    "M = np.ones((3, 2))\n",
    "a = np.arange(3)\n",
    "print(M)\n",
    "print(a)"
   ]
  },
  {
   "cell_type": "markdown",
   "metadata": {},
   "source": [
    "- ``M.shape = (3, 2)``\n",
    "- ``a.shape = (3,)``\n",
    "\n",
    "rule 1 >>>\n",
    "\n",
    "- ``M.shape -> (3, 2)``\n",
    "- ``a.shape -> (1, 3)``\n",
    "\n",
    "rule 2 >>>\n",
    "\n",
    "- ``M.shape -> (3, 2)``\n",
    "- ``a.shape -> (3, 3)``\n",
    "\n",
    "rule 3 >>> error"
   ]
  },
  {
   "cell_type": "code",
   "execution_count": 164,
   "metadata": {
    "collapsed": false,
    "jupyter": {
     "outputs_hidden": false
    }
   },
   "outputs": [
    {
     "output_type": "error",
     "ename": "ValueError",
     "evalue": "operands could not be broadcast together with shapes (3,2) (3,) ",
     "traceback": [
      "\u001b[1;31m---------------------------------------------------------------------------\u001b[0m",
      "\u001b[1;31mValueError\u001b[0m                                Traceback (most recent call last)",
      "\u001b[1;32m<ipython-input-164-8cac1d547906>\u001b[0m in \u001b[0;36m<module>\u001b[1;34m\u001b[0m\n\u001b[1;32m----> 1\u001b[1;33m \u001b[0mM\u001b[0m \u001b[1;33m+\u001b[0m \u001b[0ma\u001b[0m\u001b[1;33m\u001b[0m\u001b[1;33m\u001b[0m\u001b[0m\n\u001b[0m",
      "\u001b[1;31mValueError\u001b[0m: operands could not be broadcast together with shapes (3,2) (3,) "
     ]
    }
   ],
   "source": [
    "M + a"
   ]
  }
 ],
 "metadata": {
  "anaconda-cloud": {},
  "kernelspec": {
   "name": "python3",
   "display_name": "Python 3.8.8 64-bit ('base': conda)"
  },
  "language_info": {
   "codemirror_mode": {
    "name": "ipython",
    "version": 3
   },
   "file_extension": ".py",
   "mimetype": "text/x-python",
   "name": "python",
   "nbconvert_exporter": "python",
   "pygments_lexer": "ipython3",
   "version": "3.8.8"
  },
  "interpreter": {
   "hash": "68964f74c11d332c21e95cd675b1759e0933fc99bd167841b9b8a4ac82dd0a35"
  }
 },
 "nbformat": 4,
 "nbformat_minor": 4
}