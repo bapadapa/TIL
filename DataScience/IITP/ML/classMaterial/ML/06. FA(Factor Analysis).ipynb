{
 "cells": [
  {
   "cell_type": "code",
   "execution_count": null,
   "source": [
    "from sklearn import datasets\r\n",
    "from sklearn.model_selection import train_test_split\r\n",
    "import matplotlib.pyplot as plt\r\n",
    "iris = datasets.load_iris()\r\n",
    "X = iris.data\r\n",
    "y = iris.target\r\n",
    "target_names = iris.target_names\r\n",
    "X_train, X_test, y_train, y_test = train_test_split(X, y, test_size=0.3)"
   ],
   "outputs": [],
   "metadata": {
    "collapsed": true
   }
  },
  {
   "cell_type": "code",
   "execution_count": null,
   "source": [
    "from sklearn.decomposition import FactorAnalysis\r\n",
    "\r\n",
    "fa = FactorAnalysis()\r\n",
    "X_r = fa.fit(X).transform(X)\r\n",
    "\r\n",
    "plt.figure()\r\n",
    "colors = ['navy', 'turquoise', 'darkorange']\r\n",
    "lw = 2\r\n",
    "\r\n",
    "for color, i, target_name in zip(colors, [0, 1, 2], target_names):\r\n",
    "    plt.scatter(X_r[y == i, 0], X_r[y == i, 1], color=color, alpha=.8, lw=lw,\r\n",
    "                label=target_name)\r\n",
    "plt.legend(loc='best', shadow=False, scatterpoints=1)\r\n",
    "plt.title('FA of IRIS dataset')\r\n",
    "\r\n",
    "plt.show()\r\n"
   ],
   "outputs": [],
   "metadata": {
    "collapsed": false
   }
  }
 ],
 "metadata": {
  "kernelspec": {
   "display_name": "Python 3",
   "language": "python",
   "name": "python3"
  },
  "language_info": {
   "codemirror_mode": {
    "name": "ipython",
    "version": 3
   },
   "file_extension": ".py",
   "mimetype": "text/x-python",
   "name": "python",
   "nbconvert_exporter": "python",
   "pygments_lexer": "ipython3",
   "version": "3.6.0"
  }
 },
 "nbformat": 4,
 "nbformat_minor": 2
}