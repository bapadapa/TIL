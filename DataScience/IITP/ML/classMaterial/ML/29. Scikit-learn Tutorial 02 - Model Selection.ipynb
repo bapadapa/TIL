{
 "cells": [
  {
   "cell_type": "code",
   "execution_count": null,
   "metadata": {
    "collapsed": true
   },
   "outputs": [],
   "source": [
    "%matplotlib inline\n",
    "import matplotlib.pyplot as plt\n",
    "import numpy as np\n",
    "\n",
    "# Some nice default configuration for plots\n",
    "plt.rcParams['figure.figsize'] = 10, 7.5\n",
    "plt.rcParams['axes.grid'] = True\n",
    "plt.gray()"
   ]
  },
  {
   "cell_type": "markdown",
   "metadata": {},
   "source": [
    "### 데이터 준비"
   ]
  },
  {
   "cell_type": "code",
   "execution_count": null,
   "metadata": {
    "collapsed": true
   },
   "outputs": [],
   "source": [
    "from sklearn.datasets import load_digits\n",
    "digits = load_digits()\n",
    "X, y = digits.data, digits.target\n",
    "n_samples, n_features = X.shape\n",
    "\n",
    "print(\"data shape: %r, target shape: %r\" % (X.shape, y.shape))\n",
    "print(\"classes: %r\" % list(np.unique(y)))"
   ]
  },
  {
   "cell_type": "code",
   "execution_count": null,
   "metadata": {
    "collapsed": true
   },
   "outputs": [],
   "source": [
    "X[0,:]"
   ]
  },
  {
   "cell_type": "code",
   "execution_count": null,
   "metadata": {
    "collapsed": true
   },
   "outputs": [],
   "source": [
    "def plot_gallery(data, labels, shape, interpolation='nearest'):\n",
    "    for i in range(data.shape[0]):\n",
    "        plt.subplot(1, data.shape[0], (i + 1))\n",
    "        plt.imshow(data[i].reshape(shape), interpolation=interpolation)\n",
    "        plt.title(labels[i])\n",
    "        plt.xticks(()), plt.yticks(())"
   ]
  },
  {
   "cell_type": "code",
   "execution_count": null,
   "metadata": {
    "collapsed": true
   },
   "outputs": [],
   "source": [
    "subsample = np.random.permutation(X.shape[0])[:5]\n",
    "images = X[subsample]\n",
    "labels = ['True class: %d' % l for l in y[subsample]]\n",
    "plot_gallery(images, labels, shape=(8, 8))"
   ]
  },
  {
   "cell_type": "markdown",
   "metadata": {},
   "source": [
    "### feature reduction"
   ]
  },
  {
   "cell_type": "code",
   "execution_count": null,
   "metadata": {
    "collapsed": true
   },
   "outputs": [],
   "source": [
    "from sklearn.decomposition import PCA\n",
    "\n",
    "pca = PCA(n_components=2)\n",
    "X_pca = pca.fit_transform(X)\n",
    "\n",
    "X_pca.shape"
   ]
  },
  {
   "cell_type": "code",
   "execution_count": null,
   "metadata": {
    "collapsed": true
   },
   "outputs": [],
   "source": [
    "from itertools import cycle\n",
    "\n",
    "colors = ['b', 'g', 'r', 'c', 'm', 'y', 'k']\n",
    "markers = ['+', 'o', '^', 'v', '<', '>', 'D', 'h', 's']\n",
    "for i, c, m in zip(np.unique(y), cycle(colors), cycle(markers)):\n",
    "    plt.scatter(X_pca[y == i, 0], X_pca[y == i, 1],\n",
    "        c=c, marker=m, label=i, alpha=0.5)\n",
    "    \n",
    "_ = plt.legend(loc='best')"
   ]
  },
  {
   "cell_type": "code",
   "execution_count": null,
   "metadata": {
    "collapsed": true
   },
   "outputs": [],
   "source": [
    "labels = ['Component #%d' % i for i in range(len(pca.components_))]\n",
    "plot_gallery(pca.components_, labels, shape=(8, 8))"
   ]
  },
  {
   "cell_type": "markdown",
   "metadata": {},
   "source": [
    "### 모델 생성 - overfit"
   ]
  },
  {
   "cell_type": "code",
   "execution_count": null,
   "metadata": {
    "collapsed": true
   },
   "outputs": [],
   "source": [
    "from sklearn.model_selection import train_test_split\n",
    "\n",
    "X_train, X_test, y_train, y_test = train_test_split(\n",
    "    X, y, test_size=0.25, random_state=0)\n",
    "\n",
    "from sklearn.svm import SVC\n",
    "svc = SVC(kernel='rbf').fit(X_train, y_train)\n",
    "train_score = svc.score(X_train, y_train) \n",
    "train_score"
   ]
  },
  {
   "cell_type": "code",
   "execution_count": null,
   "metadata": {
    "collapsed": true
   },
   "outputs": [],
   "source": [
    "test_score = svc.score(X_test, y_test)\n",
    "test_score"
   ]
  },
  {
   "cell_type": "markdown",
   "metadata": {},
   "source": [
    "### parameter tuning"
   ]
  },
  {
   "cell_type": "code",
   "execution_count": null,
   "metadata": {
    "collapsed": true
   },
   "outputs": [],
   "source": [
    "svc_2 = SVC(kernel='rbf', C=100, gamma=0.001).fit(X_train, y_train)\n",
    "svc_2.score(X_train, y_train)"
   ]
  },
  {
   "cell_type": "code",
   "execution_count": null,
   "metadata": {
    "collapsed": true
   },
   "outputs": [],
   "source": [
    "svc_2.score(X_test, y_test)"
   ]
  },
  {
   "cell_type": "markdown",
   "metadata": {},
   "source": [
    "### cross validation"
   ]
  },
  {
   "cell_type": "code",
   "execution_count": null,
   "metadata": {
    "collapsed": true
   },
   "outputs": [],
   "source": [
    "from sklearn.model_selection import ShuffleSplit\n",
    "\n",
    "cv = ShuffleSplit(n_splits=3, test_size=.25, random_state=0)\n",
    "\n",
    "for train_index, test_index in cv.split(X):\n",
    "    svc = SVC(kernel=\"rbf\", C=1, gamma=0.001).fit(X[train_index], y[train_index])\n",
    "    print(\"train score: {0:.3f}, test score: {1:.3f}\\n\".format(\n",
    "        svc.score(X[train_index], y[train_index]), svc.score(X[test_index], y[test_index])))"
   ]
  },
  {
   "cell_type": "code",
   "execution_count": null,
   "metadata": {
    "collapsed": true
   },
   "outputs": [],
   "source": [
    "from sklearn.model_selection import cross_val_score\n",
    "\n",
    "svc = SVC(kernel=\"rbf\", C=1, gamma=0.001)\n",
    "cv = ShuffleSplit(n_splits=3, test_size=.25, random_state=0)\n",
    "\n",
    "test_scores = cross_val_score(svc, X, y, cv=cv, n_jobs=2)\n",
    "test_scores"
   ]
  },
  {
   "cell_type": "markdown",
   "metadata": {},
   "source": [
    "### model selection"
   ]
  },
  {
   "cell_type": "code",
   "execution_count": null,
   "metadata": {
    "collapsed": true
   },
   "outputs": [],
   "source": [
    "n_gammas = 10\n",
    "n_iter = 5\n",
    "cv = ShuffleSplit(n_splits=n_iter, test_size=.25, random_state=0)\n",
    "\n",
    "train_scores = np.zeros((n_gammas, n_iter))\n",
    "test_scores = np.zeros((n_gammas, n_iter))\n",
    "gammas = np.logspace(-7, -1, n_gammas)\n",
    "\n",
    "for i, gamma in enumerate(gammas):\n",
    "    for j,(train, test) in enumerate(cv.split(X)):\n",
    "        clf = SVC(C=10, gamma=gamma).fit(X[train], y[train])\n",
    "        train_scores[i, j] = clf.score(X[train], y[train])\n",
    "        test_scores[i, j] = clf.score(X[test], y[test])"
   ]
  },
  {
   "cell_type": "code",
   "execution_count": null,
   "metadata": {
    "collapsed": true
   },
   "outputs": [],
   "source": [
    "def plot_validation_curves(param_values, train_scores, test_scores):\n",
    "    for i in range(train_scores.shape[1]):\n",
    "        plt.semilogx(param_values, train_scores[:, i], alpha=0.4, lw=2, c='b')\n",
    "        plt.semilogx(param_values, test_scores[:, i], alpha=0.4, lw=2, c='g')\n",
    "\n",
    "plot_validation_curves(gammas, train_scores, test_scores)\n",
    "plt.ylabel(\"score for SVC(C=10, gamma=gamma)\")\n",
    "plt.xlabel(\"gamma\")\n",
    "plt.text(1e-6, 0.5, \"Underfitting\", fontsize=16, ha='center', va='bottom')\n",
    "plt.text(1e-4, 0.5, \"Good\", fontsize=16, ha='center', va='bottom')\n",
    "plt.text(1e-2, 0.5, \"Overfitting\", fontsize=16, ha='center', va='bottom')\n",
    "plt.title('Validation curves for the gamma parameter');"
   ]
  },
  {
   "cell_type": "markdown",
   "metadata": {},
   "source": [
    "### validation curve"
   ]
  },
  {
   "cell_type": "code",
   "execution_count": null,
   "metadata": {
    "collapsed": true
   },
   "outputs": [],
   "source": [
    "from sklearn.model_selection  import validation_curve\n",
    "\n",
    "n_Cs = 10\n",
    "Cs = np.logspace(-5, 5, n_Cs)\n",
    "\n",
    "train_scores, test_scores = validation_curve(\n",
    "    SVC(gamma=1e-3), X, y, 'C', Cs, cv=cv)"
   ]
  },
  {
   "cell_type": "code",
   "execution_count": null,
   "metadata": {
    "collapsed": true
   },
   "outputs": [],
   "source": [
    "plot_validation_curves(Cs, train_scores, test_scores)\n",
    "plt.ylabel(\"score for SVC(C=C, gamma=1e-3)\")\n",
    "plt.xlabel(\"C\")\n",
    "plt.text(1e-3, 0.5, \"Underfitting\", fontsize=16, ha='center', va='bottom')\n",
    "plt.text(1e3, 0.5, \"Few Overfitting\", fontsize=16, ha='center', va='bottom')\n",
    "plt.title('Validation curves for the C parameter');"
   ]
  },
  {
   "cell_type": "markdown",
   "metadata": {},
   "source": [
    "### best model"
   ]
  },
  {
   "cell_type": "code",
   "execution_count": null,
   "metadata": {
    "collapsed": true
   },
   "outputs": [],
   "source": [
    "from sklearn.model_selection import GridSearchCV\n",
    "from pprint import pprint\n",
    "\n",
    "svc_params = {\n",
    "    'C': np.logspace(-1, 2, 4),\n",
    "    'gamma': np.logspace(-4, 0, 5),\n",
    "}\n",
    "pprint(svc_params)"
   ]
  },
  {
   "cell_type": "code",
   "execution_count": null,
   "metadata": {
    "collapsed": true
   },
   "outputs": [],
   "source": [
    "n_subsamples = 500\n",
    "X_small_train, y_small_train = X_train[:n_subsamples], y_train[:n_subsamples]\n",
    "gs_svc = GridSearchCV(SVC(), svc_params, cv=3, n_jobs=-1)\n",
    "%time _ = gs_svc.fit(X_small_train, y_small_train)"
   ]
  },
  {
   "cell_type": "code",
   "execution_count": null,
   "metadata": {
    "collapsed": true
   },
   "outputs": [],
   "source": [
    "gs_svc.best_params_, gs_svc.best_score_"
   ]
  },
  {
   "cell_type": "code",
   "execution_count": null,
   "metadata": {
    "collapsed": true
   },
   "outputs": [],
   "source": [
    "gs_svc.cv_results_"
   ]
  },
  {
   "cell_type": "code",
   "execution_count": null,
   "metadata": {
    "collapsed": true
   },
   "outputs": [],
   "source": [
    "gs_svc.score(X_test, y_test)"
   ]
  },
  {
   "cell_type": "markdown",
   "metadata": {},
   "source": [
    "### Bias-Variance analysis"
   ]
  },
  {
   "cell_type": "code",
   "execution_count": null,
   "metadata": {
    "collapsed": true
   },
   "outputs": [],
   "source": [
    "train_sizes = np.logspace(2, 3, 5).astype(np.int)\n",
    "train_sizes"
   ]
  },
  {
   "cell_type": "code",
   "execution_count": null,
   "metadata": {
    "collapsed": true
   },
   "outputs": [],
   "source": [
    "help(np.logspace)"
   ]
  },
  {
   "cell_type": "code",
   "execution_count": null,
   "metadata": {
    "collapsed": true
   },
   "outputs": [],
   "source": [
    "n_iter = 20\n",
    "train_scores = np.zeros((train_sizes.shape[0], n_iter), dtype=np.float)\n",
    "test_scores = np.zeros((train_sizes.shape[0], n_iter), dtype=np.float)"
   ]
  },
  {
   "cell_type": "code",
   "execution_count": null,
   "metadata": {
    "collapsed": true
   },
   "outputs": [],
   "source": [
    "svc = SVC(C=1, gamma=0.0005)\n",
    "\n",
    "for i, train_size in enumerate(train_sizes):\n",
    "    cv = ShuffleSplit(n_iter,train_size=train_size)\n",
    "    for j, (train_index, test_index) in enumerate(cv.split(X)):\n",
    "        svc.fit(X[train_index], y[train_index])\n",
    "        train_scores[i, j] = svc.score(X[train_index], y[train_index])\n",
    "        test_scores[i, j] = svc.score(X[test_index], y[test_index])"
   ]
  },
  {
   "cell_type": "code",
   "execution_count": null,
   "metadata": {
    "collapsed": true
   },
   "outputs": [],
   "source": [
    "from scipy.stats import sem\n",
    "\n",
    "mean_train = np.mean(train_scores, axis=1)\n",
    "confidence = sem(train_scores, axis=1) * 2\n",
    "\n",
    "plt.fill_between(train_sizes,\n",
    "                 mean_train - confidence,\n",
    "                 mean_train + confidence,\n",
    "                 color = 'b', alpha = .2)\n",
    "plt.plot(train_sizes, mean_train, 'o-k', c='b', label='Train score')\n",
    "\n",
    "mean_test = np.mean(test_scores, axis=1)\n",
    "confidence = sem(test_scores, axis=1) * 2\n",
    "\n",
    "plt.fill_between(train_sizes,\n",
    "                 mean_test - confidence,\n",
    "                 mean_test + confidence,\n",
    "                 color = 'g', alpha = .2)\n",
    "plt.plot(train_sizes, mean_test, 'o-k', c='g', label='Test score')\n",
    "\n",
    "plt.xlabel('Training set size')\n",
    "plt.ylabel('Score')\n",
    "plt.xlim(0, X_train.shape[0])\n",
    "plt.ylim((None, 1.01))  # The best possible score is 1.0\n",
    "plt.legend(loc='best')\n",
    "\n",
    "plt.text(250, 0.9, \"Overfitting a lot\", fontsize=16, ha='center', va='bottom')\n",
    "plt.text(800, 0.9, \"Overfitting a little\", fontsize=16, ha='center', va='bottom')\n",
    "plt.title('Main train and test scores +/- 2 standard errors');"
   ]
  }
 ],
 "metadata": {
  "kernelspec": {
   "display_name": "Python 3",
   "language": "python",
   "name": "python3"
  },
  "language_info": {
   "codemirror_mode": {
    "name": "ipython",
    "version": 3
   },
   "file_extension": ".py",
   "mimetype": "text/x-python",
   "name": "python",
   "nbconvert_exporter": "python",
   "pygments_lexer": "ipython3",
   "version": "3.6.5"
  }
 },
 "nbformat": 4,
 "nbformat_minor": 2
}
