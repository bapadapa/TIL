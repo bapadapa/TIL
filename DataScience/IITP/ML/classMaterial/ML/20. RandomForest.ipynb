{
 "cells": [
  {
   "cell_type": "code",
   "execution_count": 2,
   "metadata": {},
   "outputs": [
    {
     "data": {
      "text/plain": [
       "RandomForestRegressor(bootstrap=True, criterion='mse', max_depth=None,\n",
       "           max_features='auto', max_leaf_nodes=None,\n",
       "           min_impurity_split=1e-07, min_samples_leaf=1,\n",
       "           min_samples_split=2, min_weight_fraction_leaf=0.0,\n",
       "           n_estimators=10, n_jobs=1, oob_score=False, random_state=None,\n",
       "           verbose=0, warm_start=False)"
      ]
     },
     "execution_count": 2,
     "metadata": {},
     "output_type": "execute_result"
    }
   ],
   "source": [
    "from sklearn.ensemble import RandomForestRegressor\n",
    "import numpy as np\n",
    "from sklearn.datasets import load_boston\n",
    "from sklearn.model_selection import train_test_split\n",
    "\n",
    "boston = load_boston()\n",
    "X = boston.data\n",
    "y = boston.target\n",
    "X_train, X_test, y_train, y_test = train_test_split(X, y, test_size=0.3, random_state=0)\n",
    "\n",
    "rf = RandomForestRegressor()\n",
    "rf.fit(X_train, y_train)"
   ]
  },
  {
   "cell_type": "code",
   "execution_count": 3,
   "metadata": {},
   "outputs": [
    {
     "name": "stdout",
     "output_type": "stream",
     "text": [
      "Instance 0 prediction: [ 8.75]\n",
      "Instance 1 prediction: [ 23.94]\n"
     ]
    }
   ],
   "source": [
    "predictSample = X_test[[10, 20]]\n",
    "print(\"Instance 0 prediction:\", rf.predict(predictSample[0].reshape(1,-1)))\n",
    "print(\"Instance 1 prediction:\", rf.predict(predictSample[1].reshape(1,-1)))"
   ]
  },
  {
   "cell_type": "markdown",
   "metadata": {},
   "source": [
    "### 모델 해석"
   ]
  },
  {
   "cell_type": "code",
   "execution_count": 4,
   "metadata": {},
   "outputs": [
    {
     "name": "stdout",
     "output_type": "stream",
     "text": [
      "Instance : 0\n",
      "Bias (trainset mean) : 22.898870\n",
      "Feature contributions:\n",
      "LSTAT -5.75\n",
      "CRIM -3.67\n",
      "RM -2.48\n",
      "DIS -1.0\n",
      "NOX -0.65\n",
      "TAX -0.54\n",
      "AGE -0.06\n",
      "B -0.0\n",
      "ZN 0.0\n",
      "INDUS 0.0\n",
      "CHAS 0.0\n",
      "RAD 0.0\n",
      "PTRATIO 0.0\n",
      "prediction : 8.750000 \n",
      "bias + sum of contribution : 8.750000 \n",
      "--------------------\n",
      "Instance : 1\n",
      "Bias (trainset mean) : 22.898870\n",
      "Feature contributions:\n",
      "LSTAT 4.67\n",
      "RM -3.53\n",
      "AGE -0.21\n",
      "TAX -0.21\n",
      "INDUS 0.11\n",
      "ZN 0.07\n",
      "PTRATIO 0.07\n",
      "RAD 0.05\n",
      "DIS 0.03\n",
      "CHAS -0.02\n",
      "NOX 0.01\n",
      "CRIM -0.0\n",
      "B -0.0\n",
      "prediction : 23.940000 \n",
      "bias + sum of contribution : 23.940000 \n",
      "--------------------\n"
     ]
    }
   ],
   "source": [
    "from treeinterpreter import treeinterpreter as ti\n",
    "\n",
    "prediction, bias, contributions = ti.predict(rf, predictSample)\n",
    "for i in range(len(predictSample)):\n",
    "    print(\"Instance : %d\" % i)\n",
    "    print(\"Bias (trainset mean) : %f\" % bias[i])\n",
    "    print(\"Feature contributions:\")\n",
    "    for c, feature in sorted(zip(contributions[i], \n",
    "                                 boston.feature_names), \n",
    "                             key=lambda x: -abs(x[0])):\n",
    "        print(feature, round(c, 2))\n",
    "    print('prediction : %f ' % prediction[i])\n",
    "    print('bias + sum of contribution : %f ' % (bias[i] + np.sum(contributions[i])))    \n",
    "    print(\"-\"*20) "
   ]
  },
  {
   "cell_type": "markdown",
   "metadata": {},
   "source": [
    "### dataset 간의 비교"
   ]
  },
  {
   "cell_type": "code",
   "execution_count": 5,
   "metadata": {},
   "outputs": [
    {
     "data": {
      "text/plain": [
       "(152, 13)"
      ]
     },
     "execution_count": 5,
     "metadata": {},
     "output_type": "execute_result"
    }
   ],
   "source": [
    "X_test.shape"
   ]
  },
  {
   "cell_type": "code",
   "execution_count": 7,
   "metadata": {
    "collapsed": true
   },
   "outputs": [],
   "source": [
    "ds1 = X_test.data[0:76]\n",
    "ds2 = X_test.data[76:]\n",
    "\n",
    "prediction1, bias1, contributions1 = ti.predict(rf, ds1)\n",
    "prediction2, bias2, contributions2 = ti.predict(rf, ds2)"
   ]
  },
  {
   "cell_type": "code",
   "execution_count": 8,
   "metadata": {},
   "outputs": [
    {
     "name": "stdout",
     "output_type": "stream",
     "text": [
      "0.0\n",
      "-0.334342105263\n",
      "-0.334342105263\n"
     ]
    }
   ],
   "source": [
    "totalc1 = np.mean(contributions1, axis=0) \n",
    "totalc2 = np.mean(contributions2, axis=0) \n",
    "\n",
    "# bias 는 동일, prediction의 차이는 contribution의 차이\n",
    "print(np.sum(bias1) - np.sum(bias2))\n",
    "print(np.sum(totalc1 - totalc2))\n",
    "print(np.mean(prediction1) - np.mean(prediction2))"
   ]
  },
  {
   "cell_type": "code",
   "execution_count": null,
   "metadata": {
    "collapsed": true
   },
   "outputs": [],
   "source": [
    "for c, feature in sorted(zip(totalc1 - totalc2, \n",
    "                             boston.feature_names), reverse=True):\n",
    "    print(feature, round(c, 2))"
   ]
  },
  {
   "cell_type": "markdown",
   "metadata": {},
   "source": [
    "### classification"
   ]
  },
  {
   "cell_type": "code",
   "execution_count": null,
   "metadata": {
    "collapsed": true
   },
   "outputs": [],
   "source": [
    "from sklearn.ensemble import RandomForestClassifier\n",
    "from sklearn.datasets import load_iris\n",
    "iris = load_iris()\n",
    " \n",
    "rf = RandomForestClassifier(max_depth = 4)\n",
    "rf.fit(iris.data, iris.target)\n",
    "\n",
    "instance = iris.data[100:101]\n",
    "prediction, bias, contributions = ti.predict(rf, instance)\n",
    "print(\"Prediction \", prediction)\n",
    "print(\"Bias (trainset prior) \", bias)\n",
    "print(\"Feature contributions:\")\n",
    "for c, feature in zip(contributions[0], iris.feature_names):\n",
    "    print(feature, c)"
   ]
  },
  {
   "cell_type": "code",
   "execution_count": null,
   "metadata": {
    "collapsed": true
   },
   "outputs": [],
   "source": []
  }
 ],
 "metadata": {
  "kernelspec": {
   "display_name": "Python 3",
   "language": "python",
   "name": "python3"
  },
  "language_info": {
   "codemirror_mode": {
    "name": "ipython",
    "version": 3
   },
   "file_extension": ".py",
   "mimetype": "text/x-python",
   "name": "python",
   "nbconvert_exporter": "python",
   "pygments_lexer": "ipython3",
   "version": "3.5.3"
  }
 },
 "nbformat": 4,
 "nbformat_minor": 2
}
