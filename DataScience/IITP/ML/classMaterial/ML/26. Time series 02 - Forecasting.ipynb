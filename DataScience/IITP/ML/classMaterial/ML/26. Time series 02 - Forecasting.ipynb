{
 "cells": [
  {
   "cell_type": "code",
   "execution_count": 2,
   "metadata": {},
   "outputs": [
    {
     "data": {
      "text/html": [
       "<div>\n",
       "<table border=\"1\" class=\"dataframe\">\n",
       "  <thead>\n",
       "    <tr style=\"text-align: right;\">\n",
       "      <th></th>\n",
       "      <th>Real daily wages in pounds, England. 1260 ? 1994</th>\n",
       "    </tr>\n",
       "    <tr>\n",
       "      <th>Year</th>\n",
       "      <th></th>\n",
       "    </tr>\n",
       "  </thead>\n",
       "  <tbody>\n",
       "    <tr>\n",
       "      <th>1260</th>\n",
       "      <td>4.41</td>\n",
       "    </tr>\n",
       "    <tr>\n",
       "      <th>1261</th>\n",
       "      <td>4.63</td>\n",
       "    </tr>\n",
       "    <tr>\n",
       "      <th>1262</th>\n",
       "      <td>4.38</td>\n",
       "    </tr>\n",
       "    <tr>\n",
       "      <th>1263</th>\n",
       "      <td>4.52</td>\n",
       "    </tr>\n",
       "    <tr>\n",
       "      <th>1264</th>\n",
       "      <td>4.42</td>\n",
       "    </tr>\n",
       "    <tr>\n",
       "      <th>1265</th>\n",
       "      <td>4.64</td>\n",
       "    </tr>\n",
       "    <tr>\n",
       "      <th>1266</th>\n",
       "      <td>4.44</td>\n",
       "    </tr>\n",
       "    <tr>\n",
       "      <th>1267</th>\n",
       "      <td>5.15</td>\n",
       "    </tr>\n",
       "    <tr>\n",
       "      <th>1268</th>\n",
       "      <td>5.23</td>\n",
       "    </tr>\n",
       "    <tr>\n",
       "      <th>1269</th>\n",
       "      <td>4.42</td>\n",
       "    </tr>\n",
       "    <tr>\n",
       "      <th>1270</th>\n",
       "      <td>4.71</td>\n",
       "    </tr>\n",
       "    <tr>\n",
       "      <th>1271</th>\n",
       "      <td>3.76</td>\n",
       "    </tr>\n",
       "    <tr>\n",
       "      <th>1272</th>\n",
       "      <td>2.80</td>\n",
       "    </tr>\n",
       "    <tr>\n",
       "      <th>1273</th>\n",
       "      <td>3.76</td>\n",
       "    </tr>\n",
       "    <tr>\n",
       "      <th>1274</th>\n",
       "      <td>3.91</td>\n",
       "    </tr>\n",
       "    <tr>\n",
       "      <th>1275</th>\n",
       "      <td>3.68</td>\n",
       "    </tr>\n",
       "    <tr>\n",
       "      <th>1276</th>\n",
       "      <td>3.83</td>\n",
       "    </tr>\n",
       "    <tr>\n",
       "      <th>1277</th>\n",
       "      <td>3.71</td>\n",
       "    </tr>\n",
       "    <tr>\n",
       "      <th>1278</th>\n",
       "      <td>3.61</td>\n",
       "    </tr>\n",
       "    <tr>\n",
       "      <th>1279</th>\n",
       "      <td>3.91</td>\n",
       "    </tr>\n",
       "    <tr>\n",
       "      <th>1280</th>\n",
       "      <td>3.91</td>\n",
       "    </tr>\n",
       "    <tr>\n",
       "      <th>1281</th>\n",
       "      <td>3.98</td>\n",
       "    </tr>\n",
       "    <tr>\n",
       "      <th>1282</th>\n",
       "      <td>3.54</td>\n",
       "    </tr>\n",
       "    <tr>\n",
       "      <th>1283</th>\n",
       "      <td>3.32</td>\n",
       "    </tr>\n",
       "    <tr>\n",
       "      <th>1284</th>\n",
       "      <td>3.10</td>\n",
       "    </tr>\n",
       "    <tr>\n",
       "      <th>1285</th>\n",
       "      <td>4.42</td>\n",
       "    </tr>\n",
       "    <tr>\n",
       "      <th>1286</th>\n",
       "      <td>4.05</td>\n",
       "    </tr>\n",
       "    <tr>\n",
       "      <th>1287</th>\n",
       "      <td>4.05</td>\n",
       "    </tr>\n",
       "    <tr>\n",
       "      <th>1288</th>\n",
       "      <td>5.08</td>\n",
       "    </tr>\n",
       "    <tr>\n",
       "      <th>1289</th>\n",
       "      <td>5.31</td>\n",
       "    </tr>\n",
       "    <tr>\n",
       "      <th>...</th>\n",
       "      <td>...</td>\n",
       "    </tr>\n",
       "    <tr>\n",
       "      <th>1965</th>\n",
       "      <td>28.32</td>\n",
       "    </tr>\n",
       "    <tr>\n",
       "      <th>1966</th>\n",
       "      <td>28.35</td>\n",
       "    </tr>\n",
       "    <tr>\n",
       "      <th>1967</th>\n",
       "      <td>28.92</td>\n",
       "    </tr>\n",
       "    <tr>\n",
       "      <th>1968</th>\n",
       "      <td>29.51</td>\n",
       "    </tr>\n",
       "    <tr>\n",
       "      <th>1969</th>\n",
       "      <td>28.64</td>\n",
       "    </tr>\n",
       "    <tr>\n",
       "      <th>1970</th>\n",
       "      <td>29.83</td>\n",
       "    </tr>\n",
       "    <tr>\n",
       "      <th>1971</th>\n",
       "      <td>30.20</td>\n",
       "    </tr>\n",
       "    <tr>\n",
       "      <th>1972</th>\n",
       "      <td>31.99</td>\n",
       "    </tr>\n",
       "    <tr>\n",
       "      <th>1973</th>\n",
       "      <td>37.36</td>\n",
       "    </tr>\n",
       "    <tr>\n",
       "      <th>1974</th>\n",
       "      <td>37.53</td>\n",
       "    </tr>\n",
       "    <tr>\n",
       "      <th>1975</th>\n",
       "      <td>40.09</td>\n",
       "    </tr>\n",
       "    <tr>\n",
       "      <th>1976</th>\n",
       "      <td>39.52</td>\n",
       "    </tr>\n",
       "    <tr>\n",
       "      <th>1977</th>\n",
       "      <td>37.01</td>\n",
       "    </tr>\n",
       "    <tr>\n",
       "      <th>1978</th>\n",
       "      <td>36.98</td>\n",
       "    </tr>\n",
       "    <tr>\n",
       "      <th>1979</th>\n",
       "      <td>36.10</td>\n",
       "    </tr>\n",
       "    <tr>\n",
       "      <th>1980</th>\n",
       "      <td>35.65</td>\n",
       "    </tr>\n",
       "    <tr>\n",
       "      <th>1981</th>\n",
       "      <td>35.96</td>\n",
       "    </tr>\n",
       "    <tr>\n",
       "      <th>1982</th>\n",
       "      <td>36.21</td>\n",
       "    </tr>\n",
       "    <tr>\n",
       "      <th>1983</th>\n",
       "      <td>37.24</td>\n",
       "    </tr>\n",
       "    <tr>\n",
       "      <th>1984</th>\n",
       "      <td>37.58</td>\n",
       "    </tr>\n",
       "    <tr>\n",
       "      <th>1985</th>\n",
       "      <td>38.30</td>\n",
       "    </tr>\n",
       "    <tr>\n",
       "      <th>1986</th>\n",
       "      <td>39.97</td>\n",
       "    </tr>\n",
       "    <tr>\n",
       "      <th>1987</th>\n",
       "      <td>41.42</td>\n",
       "    </tr>\n",
       "    <tr>\n",
       "      <th>1988</th>\n",
       "      <td>43.76</td>\n",
       "    </tr>\n",
       "    <tr>\n",
       "      <th>1989</th>\n",
       "      <td>45.40</td>\n",
       "    </tr>\n",
       "    <tr>\n",
       "      <th>1990</th>\n",
       "      <td>46.19</td>\n",
       "    </tr>\n",
       "    <tr>\n",
       "      <th>1991</th>\n",
       "      <td>46.86</td>\n",
       "    </tr>\n",
       "    <tr>\n",
       "      <th>1992</th>\n",
       "      <td>49.42</td>\n",
       "    </tr>\n",
       "    <tr>\n",
       "      <th>1993</th>\n",
       "      <td>49.51</td>\n",
       "    </tr>\n",
       "    <tr>\n",
       "      <th>1994</th>\n",
       "      <td>49.99</td>\n",
       "    </tr>\n",
       "  </tbody>\n",
       "</table>\n",
       "<p>735 rows × 1 columns</p>\n",
       "</div>"
      ],
      "text/plain": [
       "      Real daily wages in pounds, England. 1260 ? 1994\n",
       "Year                                                  \n",
       "1260                                              4.41\n",
       "1261                                              4.63\n",
       "1262                                              4.38\n",
       "1263                                              4.52\n",
       "1264                                              4.42\n",
       "1265                                              4.64\n",
       "1266                                              4.44\n",
       "1267                                              5.15\n",
       "1268                                              5.23\n",
       "1269                                              4.42\n",
       "1270                                              4.71\n",
       "1271                                              3.76\n",
       "1272                                              2.80\n",
       "1273                                              3.76\n",
       "1274                                              3.91\n",
       "1275                                              3.68\n",
       "1276                                              3.83\n",
       "1277                                              3.71\n",
       "1278                                              3.61\n",
       "1279                                              3.91\n",
       "1280                                              3.91\n",
       "1281                                              3.98\n",
       "1282                                              3.54\n",
       "1283                                              3.32\n",
       "1284                                              3.10\n",
       "1285                                              4.42\n",
       "1286                                              4.05\n",
       "1287                                              4.05\n",
       "1288                                              5.08\n",
       "1289                                              5.31\n",
       "...                                                ...\n",
       "1965                                             28.32\n",
       "1966                                             28.35\n",
       "1967                                             28.92\n",
       "1968                                             29.51\n",
       "1969                                             28.64\n",
       "1970                                             29.83\n",
       "1971                                             30.20\n",
       "1972                                             31.99\n",
       "1973                                             37.36\n",
       "1974                                             37.53\n",
       "1975                                             40.09\n",
       "1976                                             39.52\n",
       "1977                                             37.01\n",
       "1978                                             36.98\n",
       "1979                                             36.10\n",
       "1980                                             35.65\n",
       "1981                                             35.96\n",
       "1982                                             36.21\n",
       "1983                                             37.24\n",
       "1984                                             37.58\n",
       "1985                                             38.30\n",
       "1986                                             39.97\n",
       "1987                                             41.42\n",
       "1988                                             43.76\n",
       "1989                                             45.40\n",
       "1990                                             46.19\n",
       "1991                                             46.86\n",
       "1992                                             49.42\n",
       "1993                                             49.51\n",
       "1994                                             49.99\n",
       "\n",
       "[735 rows x 1 columns]"
      ]
     },
     "execution_count": 2,
     "metadata": {},
     "output_type": "execute_result"
    }
   ],
   "source": [
    "import pandas as pd\n",
    "import numpy as np\n",
    "import matplotlib.pylab as plt\n",
    "%matplotlib inline\n",
    "from matplotlib.pylab import rcParams\n",
    "\n",
    "from pandas import Series\n",
    "data = pd.read_csv('data/real-daily-wages-in-pounds-engla.csv', header=0, parse_dates=[0], index_col=0)\n",
    "data = data.astype(float)\n",
    "data"
   ]
  },
  {
   "cell_type": "code",
   "execution_count": 1,
   "metadata": {},
   "outputs": [
    {
     "data": {
      "text/plain": [
       "'0.8.0.dev0+a218660'"
      ]
     },
     "execution_count": 1,
     "metadata": {},
     "output_type": "execute_result"
    }
   ],
   "source": [
    "import statsmodels\n",
    "statsmodels.__version__"
   ]
  },
  {
   "cell_type": "markdown",
   "metadata": {},
   "source": [
    "### ARIMA"
   ]
  },
  {
   "cell_type": "code",
   "execution_count": 18,
   "metadata": {},
   "outputs": [
    {
     "data": {
      "text/plain": [
       "<matplotlib.axes._subplots.AxesSubplot at 0x1db538666a0>"
      ]
     },
     "execution_count": 18,
     "metadata": {},
     "output_type": "execute_result"
    },
    {
     "data": {
      "image/png": "[encoded data removed]",
      "text/plain": [
       "<matplotlib.figure.Figure at 0x1db50ff2a90>"
      ]
     },
     "metadata": {},
     "output_type": "display_data"
    }
   ],
   "source": [
    "from pandas.tools.plotting import autocorrelation_plot\n",
    " \n",
    "autocorrelation_plot(data)"
   ]
  },
  {
   "cell_type": "code",
   "execution_count": 3,
   "metadata": {},
   "outputs": [
    {
     "name": "stderr",
     "output_type": "stream",
     "text": [
      "c:\\anaconda3\\envs\\spark\\lib\\site-packages\\statsmodels-0.8.0-py3.5-win-amd64.egg\\statsmodels\\tsa\\base\\tsa_model.py:225: ValueWarning: An unsupported index was provided and will be ignored when e.g. forecasting.\n",
      "  ' ignored when e.g. forecasting.', ValueWarning)\n"
     ]
    },
    {
     "name": "stdout",
     "output_type": "stream",
     "text": [
      "                                             ARIMA Model Results                                              \n",
      "==============================================================================================================\n",
      "Dep. Variable:     D.Real daily wages in pounds, England. 1260 ? 1994   No. Observations:                  734\n",
      "Model:                                                ARIMA(10, 1, 0)   Log Likelihood                -751.404\n",
      "Method:                                                       css-mle   S.D. of innovations              0.673\n",
      "Date:                                                Wed, 17 May 2017   AIC                           1526.808\n",
      "Time:                                                        13:43:23   BIC                           1581.991\n",
      "Sample:                                                             1   HQIC                          1548.093\n",
      "                                                                                                              \n",
      "=============================================================================================================================\n",
      "                                                                coef    std err          z      P>|z|      [0.025      0.975]\n",
      "-----------------------------------------------------------------------------------------------------------------------------\n",
      "const                                                         0.0622      0.024      2.548      0.011       0.014       0.110\n",
      "ar.L1.D.Real daily wages in pounds, England. 1260 ? 1994      0.1663      0.037      4.503      0.000       0.094       0.239\n",
      "ar.L2.D.Real daily wages in pounds, England. 1260 ? 1994     -0.1276      0.037     -3.411      0.001      -0.201      -0.054\n",
      "ar.L3.D.Real daily wages in pounds, England. 1260 ? 1994     -0.0344      0.038     -0.903      0.367      -0.109       0.040\n",
      "ar.L4.D.Real daily wages in pounds, England. 1260 ? 1994     -0.0542      0.038     -1.423      0.155      -0.129       0.020\n",
      "ar.L5.D.Real daily wages in pounds, England. 1260 ? 1994      0.0187      0.038      0.491      0.624      -0.056       0.094\n",
      "ar.L6.D.Real daily wages in pounds, England. 1260 ? 1994     -0.0032      0.038     -0.083      0.934      -0.078       0.072\n",
      "ar.L7.D.Real daily wages in pounds, England. 1260 ? 1994     -0.0318      0.039     -0.824      0.410      -0.107       0.044\n",
      "ar.L8.D.Real daily wages in pounds, England. 1260 ? 1994      0.0479      0.039      1.243      0.214      -0.028       0.123\n",
      "ar.L9.D.Real daily wages in pounds, England. 1260 ? 1994     -0.0273      0.038     -0.713      0.476      -0.102       0.048\n",
      "ar.L10.D.Real daily wages in pounds, England. 1260 ? 1994     0.0248      0.038      0.652      0.515      -0.050       0.099\n",
      "                                    Roots                                     \n",
      "==============================================================================\n",
      "                  Real           Imaginary           Modulus         Frequency\n",
      "------------------------------------------------------------------------------\n",
      "AR.1            -1.3460           -0.0000j            1.3460           -0.5000\n",
      "AR.2            -0.9652           -0.9095j            1.3262           -0.3797\n",
      "AR.3            -0.9652           +0.9095j            1.3262            0.3797\n",
      "AR.4             1.5355           -0.0000j            1.5355           -0.0000\n",
      "AR.5             1.1267           -0.9017j            1.4431           -0.1074\n",
      "AR.6             1.1267           +0.9017j            1.4431            0.1074\n",
      "AR.7            -0.2268           -1.5241j            1.5408           -0.2735\n",
      "AR.8            -0.2268           +1.5241j            1.5408            0.2735\n",
      "AR.9             0.5210           -1.4042j            1.4978           -0.1935\n",
      "AR.10            0.5210           +1.4042j            1.4978            0.1935\n",
      "------------------------------------------------------------------------------\n"
     ]
    },
    {
     "data": {
      "image/png": "[encoded data removed]",
      "text/plain": [
       "<matplotlib.figure.Figure at 0x2b2e6c53c18>"
      ]
     },
     "metadata": {},
     "output_type": "display_data"
    },
    {
     "data": {
      "image/png": "[encoded data removed]",
      "text/plain": [
       "<matplotlib.figure.Figure at 0x2b2e6d21240>"
      ]
     },
     "metadata": {},
     "output_type": "display_data"
    },
    {
     "name": "stdout",
     "output_type": "stream",
     "text": [
      "                0\n",
      "count  734.000000\n",
      "mean    -0.000093\n",
      "std      0.673946\n",
      "min     -3.041996\n",
      "25%     -0.342418\n",
      "50%     -0.031479\n",
      "75%      0.317667\n",
      "max      5.064106\n"
     ]
    }
   ],
   "source": [
    "from statsmodels.tsa.arima_model import ARIMA\n",
    "from matplotlib import pyplot\n",
    " \n",
    "# fit model\n",
    "model = ARIMA(data, order=(10,1,0))\n",
    "model_fit = model.fit(disp=0)\n",
    "print(model_fit.summary())\n",
    "# plot residual errors\n",
    "residuals = pd.DataFrame(model_fit.resid)\n",
    "residuals.plot()\n",
    "pyplot.show()\n",
    "residuals.plot(kind='kde')\n",
    "pyplot.show()\n",
    "print(residuals.describe())"
   ]
  },
  {
   "cell_type": "markdown",
   "metadata": {},
   "source": [
    "### Facebook Prophet\n",
    "\n",
    "http://pystan.readthedocs.io/en/latest/windows.html"
   ]
  },
  {
   "cell_type": "code",
   "execution_count": null,
   "metadata": {
    "collapsed": true
   },
   "outputs": [],
   "source": [
    "from fbprophet import Prophet\n",
    "\n",
    "df = pd.read_csv('data/monthly-milk-production-pounds-p.csv', header=0)\n",
    "df.columns = ['ds','y']\n",
    "\n",
    "m = Prophet()\n",
    "m.fit(df)"
   ]
  },
  {
   "cell_type": "code",
   "execution_count": null,
   "metadata": {
    "collapsed": true
   },
   "outputs": [],
   "source": [
    "future = m.make_future_dataframe(periods=12, freq='M')\n",
    "future.tail()"
   ]
  },
  {
   "cell_type": "code",
   "execution_count": null,
   "metadata": {
    "collapsed": true
   },
   "outputs": [],
   "source": [
    "forecast = m.predict(future)\n",
    "forecast[['ds', 'yhat', 'yhat_lower', 'yhat_upper']].tail()"
   ]
  },
  {
   "cell_type": "code",
   "execution_count": null,
   "metadata": {
    "collapsed": true
   },
   "outputs": [],
   "source": [
    "m.plot(forecast)"
   ]
  },
  {
   "cell_type": "code",
   "execution_count": null,
   "metadata": {
    "collapsed": true
   },
   "outputs": [],
   "source": [
    "m.plot_components(forecast)"
   ]
  },
  {
   "cell_type": "code",
   "execution_count": null,
   "metadata": {
    "collapsed": true
   },
   "outputs": [],
   "source": []
  }
 ],
 "metadata": {
  "kernelspec": {
   "display_name": "Python 3",
   "language": "python",
   "name": "python3"
  },
  "language_info": {
   "codemirror_mode": {
    "name": "ipython",
    "version": 3
   },
   "file_extension": ".py",
   "mimetype": "text/x-python",
   "name": "python",
   "nbconvert_exporter": "python",
   "pygments_lexer": "ipython3",
   "version": "3.5.3"
  }
 },
 "nbformat": 4,
 "nbformat_minor": 2
}
