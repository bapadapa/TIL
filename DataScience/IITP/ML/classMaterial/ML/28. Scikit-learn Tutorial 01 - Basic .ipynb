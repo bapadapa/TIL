{
 "cells": [
  {
   "cell_type": "code",
   "execution_count": null,
   "metadata": {},
   "outputs": [],
   "source": [
    "%matplotlib inline\n",
    "import numpy as np\n",
    "from matplotlib import pyplot as plt\n",
    "from sklearn.linear_model import LinearRegression\n",
    "\n",
    "np.random.seed(0)\n",
    "X = np.random.random(size=(20, 1))\n",
    "y = 3 * X[:, 0] + 2 + np.random.normal(size=20)\n",
    "\n",
    "model = LinearRegression(fit_intercept=True)\n",
    "model.fit(X, y)\n",
    "print(\"Model coefficient: %.5f, and intercept: %.5f\"\n",
    "      % (model.coef_, model.intercept_))\n",
    "\n",
    "# Plot the data and the model prediction\n",
    "X_test = np.linspace(0, 1, 100)[:, np.newaxis]\n",
    "y_test = model.predict(X_test)\n",
    "\n",
    "plt.plot(X[:, 0], y, 'o')\n",
    "plt.plot(X_test[:, 0], y_test)\n",
    "plt.title('Linear regression with a single input variable');"
   ]
  },
  {
   "cell_type": "markdown",
   "metadata": {},
   "source": [
    "### estimator"
   ]
  },
  {
   "cell_type": "markdown",
   "metadata": {},
   "source": [
    "- **all Estimators**\n",
    "  + `model.fit()` : training data 학습.  \n",
    "       - supervised learning : `model.fit(X, y)`    \n",
    "       - unsupervised learning : `model.fit(X)`  \n",
    "               \n",
    "               \n",
    "- **supervised estimators**\n",
    "  + `model.predict()` : 학습된 모델을 사용하여 새로운 데이터의 target 예측, `model.predict(X_new)`\n",
    "  + `model.predict_proba()` : classification 에서 각 category로 분류될 확률 예측.\n",
    "  + `model.score()` : classification 또는 regression 의 모델 정확도(0~1)\n",
    "  \n",
    "  \n",
    "  \n",
    "- **unsupervised estimators**\n",
    "  + `model.transform()` : 데이터 변형\n",
    "  + `model.fit_transform()` : fit & transform"
   ]
  },
  {
   "cell_type": "code",
   "execution_count": null,
   "metadata": {},
   "outputs": [],
   "source": [
    "from sklearn import datasets\n",
    "from sklearn.cluster import KMeans\n",
    "import pandas as pd\n",
    "\n",
    "iris = datasets.load_iris()\n",
    "x = pd.DataFrame(iris.data)\n",
    "x.columns = ['Sepal_Length','Sepal_Width','Petal_Length','Petal_Width']\n",
    " \n",
    "model = KMeans(n_clusters=3)\n",
    "\n",
    "# Transform X to a cluster-distance space.\n",
    "x_trans = model.fit_transform(x)\n",
    "x_trans"
   ]
  },
  {
   "cell_type": "markdown",
   "metadata": {},
   "source": [
    "### heterogeneous data type"
   ]
  },
  {
   "cell_type": "code",
   "execution_count": null,
   "metadata": {},
   "outputs": [],
   "source": [
    "import pandas as pd\n",
    "\n",
    "data = pd.read_csv('data/titanic/train.csv')\n",
    "data.head(5)"
   ]
  },
  {
   "cell_type": "code",
   "execution_count": null,
   "metadata": {},
   "outputs": [],
   "source": [
    "data.dtypes"
   ]
  },
  {
   "cell_type": "code",
   "execution_count": null,
   "metadata": {},
   "outputs": [],
   "source": [
    "y =  data['Survived']\n",
    "y.head(5)"
   ]
  },
  {
   "cell_type": "code",
   "execution_count": null,
   "metadata": {},
   "outputs": [],
   "source": [
    "numerical_features = data[['Fare', 'Pclass', 'Age']]\n",
    "numerical_features.head(5)"
   ]
  },
  {
   "cell_type": "code",
   "execution_count": null,
   "metadata": {},
   "outputs": [],
   "source": [
    "median_features = numerical_features.dropna().median()\n",
    "imputed_features = numerical_features.fillna(median_features)\n",
    "imputed_features.head(10)"
   ]
  },
  {
   "cell_type": "code",
   "execution_count": null,
   "metadata": {},
   "outputs": [],
   "source": [
    "pd.get_dummies(data['Sex'], prefix='Sex').head(5)"
   ]
  },
  {
   "cell_type": "code",
   "execution_count": null,
   "metadata": {},
   "outputs": [],
   "source": [
    "from sklearn.preprocessing import LabelEncoder\n",
    "le = LabelEncoder()\n",
    "\n",
    "categorical_feagures = data['Sex']\n",
    "new_categorical_feagures = le.fit_transform(categorical_feagures)\n",
    "new_categorical_feagures"
   ]
  },
  {
   "cell_type": "code",
   "execution_count": null,
   "metadata": {},
   "outputs": [],
   "source": [
    "new_categorical_feagures = categorical_feagures.factorize()[0]\n",
    "new_categorical_feagures"
   ]
  },
  {
   "cell_type": "code",
   "execution_count": null,
   "metadata": {},
   "outputs": [],
   "source": [
    "df = pd.DataFrame(data=new_categorical_feagures, columns=['Sex'])\n",
    "new_features = pd.concat([imputed_features, df], axis=1)\n",
    "new_features.head(5)"
   ]
  }
 ],
 "metadata": {
  "kernelspec": {
   "display_name": "Python 3",
   "language": "python",
   "name": "python3"
  },
  "language_info": {
   "codemirror_mode": {
    "name": "ipython",
    "version": 3
   },
   "file_extension": ".py",
   "mimetype": "text/x-python",
   "name": "python",
   "nbconvert_exporter": "python",
   "pygments_lexer": "ipython3",
   "version": "3.5.3"
  }
 },
 "nbformat": 4,
 "nbformat_minor": 2
}
