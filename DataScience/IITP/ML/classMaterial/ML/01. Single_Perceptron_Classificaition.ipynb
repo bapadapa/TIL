{
 "cells": [
  {
   "cell_type": "markdown",
   "metadata": {},
   "source": [
    "<div style=\"width:600px\">\n",
    "<h1>Rosenblatt perceptron</h1>\n",
    "![title](img/perceptron.png)\n",
    "</div>\n",
    "\\begin{align} &\n",
    "w_i  := w_i + \\Delta w_i ( \\Delta w_i : update\\  w_i) \\\\  &\n",
    "\\Delta w_i = \\eta(y_i - y'_i)x_i  &\n",
    "\\end{align}"
   ]
  },
  {
   "cell_type": "code",
   "execution_count": null,
   "metadata": {
    "collapsed": true
   },
   "outputs": [],
   "source": [
    "import numpy as np\n",
    "\n",
    "w = np.zeros(3)\n",
    "errors = []\n",
    "\n",
    "def fit(x, y, n_iter, learingrate):\n",
    "    for _ in range(n_iter):\n",
    "        error = 0\n",
    "        for xi, target in zip(x,y):\n",
    "            update = learingrate * (target - predict(xi))\n",
    "            w[1:] += update * xi\n",
    "            w[0] += update\n",
    "            error += int(update != 0.0)\n",
    "        errors.append(error)\n",
    "    return w, errors\n",
    "        \n",
    "def net_input(x):\n",
    "    return(np.dot(x, w[1:])) + w[0]\n",
    "\n",
    "def predict(x):\n",
    "    return np.where(net_input(x) >= 0.0, 1, -1)"
   ]
  },
  {
   "cell_type": "code",
   "execution_count": null,
   "metadata": {},
   "outputs": [],
   "source": [
    "import pandas as pd\n",
    "\n",
    "df = pd.read_csv(\"https://archive.ics.uci.edu/ml/machine-learning-databases/iris/iris.data\", header=None)\n",
    "df.head(10)"
   ]
  },
  {
   "cell_type": "code",
   "execution_count": null,
   "metadata": {},
   "outputs": [],
   "source": [
    "import matplotlib.pyplot as plt\n",
    "%matplotlib inline\n",
    "\n",
    "msk = np.random.rand(len(df)) < 0.7\n",
    "train = df[msk]\n",
    "test= df[~msk]\n",
    "y = train.iloc[:,4].values\n",
    "y = np.where(y =='Iris-setosa', 1, -1)\n",
    "x = train.iloc[:, [0,2]].values\n",
    "w, errors = fit(x, y, 10, 0.01)\n",
    "plt.plot(range(1,len(errors)+1), errors, marker='o')\n",
    "plt.xlabel('num# of try')\n",
    "plt.ylabel('num# of misclassification')"
   ]
  },
  {
   "cell_type": "code",
   "execution_count": null,
   "metadata": {},
   "outputs": [],
   "source": [
    "testY = test.iloc[:,4].values\n",
    "testY = np.where(testY =='Iris-setosa', 1, -1)\n",
    "testX = test.iloc[:, [0,2]].values\n",
    "result = predict(testX)\n",
    "df_confusion = pd.crosstab(testY, result)\n",
    "df_confusion"
   ]
  },
  {
   "cell_type": "markdown",
   "metadata": {},
   "source": [
    "<div style=\"width:600px\">\n",
    "<h1>Adaline(AD Adaptive LInear NEuron)</h1>\n",
    "![title](img/adaline.png)\n",
    "</div>\n",
    "\\begin{align} &\n",
    "J(w) = \\frac {2} {1} \\sum(y_i - \\phi(z_i))^2 &\n",
    "\\end{align}"
   ]
  },
  {
   "cell_type": "markdown",
   "metadata": {},
   "source": [
    "<h1>Gradient Descent</h1>\n",
    "<table><tr>\n",
    "<td width=\"400px\">![title](img/gd1.png)</td>\n",
    "<td width=\"400px\">![title](img/gd2.png)</td>\n",
    "</tr></table>"
   ]
  },
  {
   "cell_type": "code",
   "execution_count": null,
   "metadata": {
    "collapsed": true
   },
   "outputs": [],
   "source": [
    "w = np.zeros(1 + x.shape[1])\n",
    "\n",
    "def fit(X, y, n_iter, eta):\n",
    "    costs = []\n",
    "    for i in range(n_iter):\n",
    "        output = activation(X)\n",
    "        errors = (y - output)\n",
    "        w[1:] += eta * X.T.dot(errors)\n",
    "        w[0] += eta * errors.sum()\n",
    "        cost = (errors**2).sum() / 2.0\n",
    "        costs.append(cost)\n",
    "    return costs\n",
    "\n",
    "def activation(X):\n",
    "    return(np.dot(x, w[1:])) + w[0]"
   ]
  },
  {
   "cell_type": "code",
   "execution_count": null,
   "metadata": {},
   "outputs": [],
   "source": [
    "fig, ax = plt.subplots(nrows=1, ncols=2, figsize=(8, 4))\n",
    "\n",
    "cost1 = fit(x, y, 10, 0.0001)\n",
    "ax[0].plot(range(1, len(cost1) + 1), cost1, marker='o')\n",
    "ax[0].set_xlabel('Epochs')\n",
    "ax[0].set_ylabel('Sum-squared-error')\n",
    "ax[0].set_title('Adaline - Learning rate 0.0001')\n",
    "\n",
    "cost2 = fit(x, y, 10, 0.01)\n",
    "ax[1].plot(range(1, len(cost2) + 1), cost2, marker='o')\n",
    "ax[1].set_xlabel('Epochs')\n",
    "ax[1].set_ylabel('Sum-squared-error')\n",
    "ax[1].set_title('Adaline - Learning rate 0.01')\n",
    "\n",
    "plt.tight_layout()"
   ]
  },
  {
   "cell_type": "markdown",
   "metadata": {},
   "source": [
    "<div style=\"width:600px\">\n",
    "![title](img/lr.png)\n",
    "</div>"
   ]
  }
 ],
 "metadata": {
  "kernelspec": {
   "display_name": "Python 3",
   "language": "python",
   "name": "python3"
  },
  "language_info": {
   "codemirror_mode": {
    "name": "ipython",
    "version": 3
   },
   "file_extension": ".py",
   "mimetype": "text/x-python",
   "name": "python",
   "nbconvert_exporter": "python",
   "pygments_lexer": "ipython3",
   "version": "3.5.3"
  }
 },
 "nbformat": 4,
 "nbformat_minor": 2
}
