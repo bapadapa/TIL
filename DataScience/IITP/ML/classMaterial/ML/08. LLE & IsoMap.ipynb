{
 "cells": [
  {
   "cell_type": "code",
   "execution_count": null,
   "metadata": {
    "collapsed": false
   },
   "outputs": [],
   "source": [
    "import numpy as np\n",
    "import matplotlib.pyplot as plt\n",
    "from mpl_toolkits.mplot3d import Axes3D\n",
    "from sklearn.datasets import make_swiss_roll\n",
    "\n",
    "np.random.seed(0)\n",
    "\n",
    "X, y = make_swiss_roll(n_samples=3000, noise=0.05)\n",
    "\n",
    "fig = plt.figure()\n",
    "ax = fig.add_subplot(111, projection='3d')\n",
    "ax.scatter(X[:, 0], X[:, 1], X[:, 2], c=y, cmap=plt.cm.Spectral)\n",
    "plt.show()"
   ]
  },
  {
   "cell_type": "markdown",
   "metadata": {},
   "source": [
    "<div style=\"width:600px\">\n",
    "<h1>Locally Linear Embedding</h1>\n",
    "![title](img/lle.gif)\n",
    "</div>"
   ]
  },
  {
   "cell_type": "code",
   "execution_count": null,
   "metadata": {
    "collapsed": false
   },
   "outputs": [],
   "source": [
    "from sklearn import manifold\n",
    "lle = manifold.LocallyLinearEmbedding(n_neighbors=12,\n",
    "                                             n_components=2)\n",
    "X_r = lle.fit_transform(X)\n",
    "print(\"Done. Reconstruction error: %g\" % lle.reconstruction_error_)\n",
    "plt.scatter(X_r[:, 0], X_r[:, 1], c=y, cmap=plt.cm.Spectral)\n",
    "plt.show()"
   ]
  },
  {
   "cell_type": "code",
   "execution_count": null,
   "metadata": {
    "collapsed": false
   },
   "outputs": [],
   "source": [
    "iso = manifold.Isomap(n_neighbors=12, n_components=2)\n",
    "X_r = iso.fit_transform(X)\n",
    "plt.scatter(X_r[:, 0], X_r[:, 1], c=y, cmap=plt.cm.Spectral)\n",
    "plt.show()"
   ]
  }
 ],
 "metadata": {
  "kernelspec": {
   "display_name": "Python 3",
   "language": "python",
   "name": "python3"
  },
  "language_info": {
   "codemirror_mode": {
    "name": "ipython",
    "version": 3
   },
   "file_extension": ".py",
   "mimetype": "text/x-python",
   "name": "python",
   "nbconvert_exporter": "python",
   "pygments_lexer": "ipython3",
   "version": "3.6.0"
  }
 },
 "nbformat": 4,
 "nbformat_minor": 2
}
