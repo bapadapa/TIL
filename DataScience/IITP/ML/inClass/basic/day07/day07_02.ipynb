{
 "metadata": {
  "language_info": {
   "codemirror_mode": {
    "name": "ipython",
    "version": 3
   },
   "file_extension": ".py",
   "mimetype": "text/x-python",
   "name": "python",
   "nbconvert_exporter": "python",
   "pygments_lexer": "ipython3",
   "version": "3.8.8"
  },
  "orig_nbformat": 4,
  "kernelspec": {
   "name": "python3",
   "display_name": "Python 3.8.8 64-bit ('base': conda)"
  },
  "interpreter": {
   "hash": "68964f74c11d332c21e95cd675b1759e0933fc99bd167841b9b8a4ac82dd0a35"
  }
 },
 "nbformat": 4,
 "nbformat_minor": 2,
 "cells": [
  {
   "cell_type": "code",
   "execution_count": 117,
   "metadata": {},
   "outputs": [],
   "source": [
    "import numpy as np\n",
    "import pandas as pd\n",
    "\n",
    "import plotly.express as px\n",
    "\n",
    "import dash\n",
    "import dash_html_components as html\n",
    "import dash_core_components as dcc\n",
    "import dash_bootstrap_components as dbc\n",
    "from dash.dependencies import Input,Output,State"
   ]
  },
  {
   "cell_type": "code",
   "execution_count": 127,
   "metadata": {},
   "outputs": [
    {
     "output_type": "execute_result",
     "data": {
      "text/plain": [
       "Index(['country', 'continent', 'year', 'lifeExp', 'pop', 'gdpPercap',\n",
       "       'iso_alpha', 'iso_num'],\n",
       "      dtype='object')"
      ]
     },
     "metadata": {},
     "execution_count": 127
    }
   ],
   "source": [
    "data = px.data.gapminder()\n",
    "data.columns\n"
   ]
  },
  {
   "cell_type": "code",
   "execution_count": 128,
   "metadata": {},
   "outputs": [],
   "source": [
    "country_dropdown =dcc.Dropdown(\n",
    "            id = 'country-dropdown',\n",
    "            options = [{'label':i,'value':i} for i in data.country.unique()],\n",
    "            value = [\"Korea, Rep.\",\"Korea, Dem. Rep.\"],\n",
    "            multi = True\n",
    "        )\n",
    "line_graph =dcc.Graph(\n",
    "            id = 'line-graph'\n",
    "        )\n",
    "pi_graph=dcc.Graph(\n",
    "            id = 'pi-graph'\n",
    "        )"
   ]
  },
  {
   "cell_type": "code",
   "execution_count": 129,
   "metadata": {},
   "outputs": [],
   "source": [
    "app = dash.Dash(__name__,external_stylesheets=[dbc.themes.SOLAR])\n",
    "app.layout = html.Div(\n",
    "    [\n",
    "        dbc.Row(country_dropdown),\n",
    "        dbc.Row(\n",
    "            [dbc.Col(pi_graph),\n",
    "            dbc.Col(line_graph),]\n",
    "        )\n",
    "    ]\n",
    ")"
   ]
  },
  {
   "cell_type": "code",
   "execution_count": 130,
   "metadata": {},
   "outputs": [],
   "source": [
    "@app.callback(\n",
    "    Output('line-graph','figure'),\n",
    "    Input('country-dropdown','value')\n",
    ")\n",
    "def update_line_graph(countries):\n",
    "    df1 = data.loc[data.country.isin(countries),:]\n",
    "    fig1 = px.line(df1,x = 'year',y ='gdpPercap',color='country',\n",
    "                custom_data = ['pop','lifeExp','continent'])\n",
    "    fig1.update_traces(mode = 'lines+markers') \n",
    "    return fig1\n",
    "\n",
    "@app.callback(\n",
    "    Output('pi-graph','figure'),\n",
    "    Input('country-dropdown','value'),\n",
    "    Input('line-graph','hoverData')\n",
    ")\n",
    "def update_pi_graph(countries,hvData):\n",
    "    year = hvData['points'][0]['x']\n",
    "    df2 = data.loc[data.country.isin(countries)& (data.year == year),:]\n",
    "    fig2= px.pie(df2,values='pop',names = 'country')\n",
    "    return fig2\n",
    "    "
   ]
  },
  {
   "cell_type": "code",
   "execution_count": 131,
   "metadata": {},
   "outputs": [
    {
     "output_type": "execute_result",
     "data": {
      "text/plain": [
       "2007"
      ]
     },
     "metadata": {},
     "execution_count": 131
    }
   ],
   "source": [
    "x ={\n",
    "    'points': [\n",
    "        {\n",
    "        'curveNumber': 0,\n",
    "        'pointNumber': 11,\n",
    "        'pointIndex': 11,\n",
    "        'x': 2007,\n",
    "        'y': 1593.06548,\n",
    "        'customdata': [23301725, 67.297, 'Asia']\n",
    "        }\n",
    "    ]\n",
    "}\n",
    "x['points'][0]['x']"
   ]
  },
  {
   "cell_type": "code",
   "execution_count": 126,
   "metadata": {
    "tags": []
   },
   "outputs": [
    {
     "output_type": "stream",
     "name": "stdout",
     "text": [
      "Dash is running on http://127.0.0.1:8050/\n",
      "\n",
      "Dash is running on http://127.0.0.1:8050/\n",
      "\n",
      "Dash is running on http://127.0.0.1:8050/\n",
      "\n",
      "Dash is running on http://127.0.0.1:8050/\n",
      "\n",
      "Dash is running on http://127.0.0.1:8050/\n",
      "\n",
      "Dash is running on http://127.0.0.1:8050/\n",
      "\n",
      "Dash is running on http://127.0.0.1:8050/\n",
      "\n",
      "Dash is running on http://127.0.0.1:8050/\n",
      "\n",
      "Dash is running on http://127.0.0.1:8050/\n",
      "\n",
      "Dash is running on http://127.0.0.1:8050/\n",
      "\n",
      "Dash is running on http://127.0.0.1:8050/\n",
      "\n",
      "Dash is running on http://127.0.0.1:8050/\n",
      "\n",
      "Dash is running on http://127.0.0.1:8050/\n",
      "\n",
      "Dash is running on http://127.0.0.1:8050/\n",
      "\n",
      "Dash is running on http://127.0.0.1:8050/\n",
      "\n",
      "Dash is running on http://127.0.0.1:8050/\n",
      "\n",
      "Dash is running on http://127.0.0.1:8050/\n",
      "\n",
      "Dash is running on http://127.0.0.1:8050/\n",
      "\n",
      "Dash is running on http://127.0.0.1:8050/\n",
      "\n",
      " * Serving Flask app \"__main__\" (lazy loading)\n",
      " * Environment: production\n",
      "   WARNING: This is a development server. Do not use it in a production deployment.\n",
      "   Use a production WSGI server instead.\n",
      " * Debug mode: off\n",
      " * Running on http://127.0.0.1:8050/ (Press CTRL+C to quit)\n",
      "127.0.0.1 - - [16/Jun/2021 14:45:29] \"\u001b[37mGET / HTTP/1.1\u001b[0m\" 200 -\n",
      "127.0.0.1 - - [16/Jun/2021 14:45:29] \"\u001b[37mGET /_dash-layout HTTP/1.1\u001b[0m\" 200 -\n",
      "127.0.0.1 - - [16/Jun/2021 14:45:29] \"\u001b[37mGET /_dash-dependencies HTTP/1.1\u001b[0m\" 200 -\n",
      "127.0.0.1 - - [16/Jun/2021 14:45:29] \"\u001b[37mGET /_favicon.ico?v=1.20.0 HTTP/1.1\u001b[0m\" 200 -\n"
     ]
    }
   ],
   "source": [
    "app.run_server()"
   ]
  }
 ]
}