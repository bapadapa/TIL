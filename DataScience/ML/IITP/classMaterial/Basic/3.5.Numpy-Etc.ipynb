{
 "cells": [
  {
   "cell_type": "markdown",
   "metadata": {},
   "source": [
    "## Fancy Indexing"
   ]
  },
  {
   "cell_type": "code",
   "execution_count": 6,
   "metadata": {
    "collapsed": false,
    "jupyter": {
     "outputs_hidden": false
    }
   },
   "outputs": [
    {
     "output_type": "stream",
     "name": "stdout",
     "text": [
      "[51 92 14 71 60 20 82 86 74 74]\n"
     ]
    }
   ],
   "source": [
    "import numpy as np\n",
    "rand = np.random.RandomState(42)\n",
    "\n",
    "x = rand.randint(100, size=10)\n",
    "print(x)"
   ]
  },
  {
   "cell_type": "code",
   "execution_count": 7,
   "metadata": {
    "collapsed": false,
    "jupyter": {
     "outputs_hidden": false
    }
   },
   "outputs": [
    {
     "output_type": "execute_result",
     "data": {
      "text/plain": [
       "array([71, 86, 60])"
      ]
     },
     "metadata": {},
     "execution_count": 7
    }
   ],
   "source": [
    "ind = [3, 7, 4]\n",
    "x[ind]"
   ]
  },
  {
   "cell_type": "code",
   "execution_count": 8,
   "metadata": {
    "collapsed": false,
    "jupyter": {
     "outputs_hidden": false
    }
   },
   "outputs": [
    {
     "output_type": "execute_result",
     "data": {
      "text/plain": [
       "array([[71, 86],\n",
       "       [60, 20]])"
      ]
     },
     "metadata": {},
     "execution_count": 8
    }
   ],
   "source": [
    "ind = np.array([[3, 7],\n",
    "                [4, 5]])\n",
    "x[ind]"
   ]
  },
  {
   "cell_type": "code",
   "execution_count": 9,
   "metadata": {
    "collapsed": false,
    "jupyter": {
     "outputs_hidden": false
    }
   },
   "outputs": [
    {
     "output_type": "execute_result",
     "data": {
      "text/plain": [
       "array([[ 0,  1,  2,  3],\n",
       "       [ 4,  5,  6,  7],\n",
       "       [ 8,  9, 10, 11]])"
      ]
     },
     "metadata": {},
     "execution_count": 9
    }
   ],
   "source": [
    "X = np.arange(12).reshape((3, 4))\n",
    "X"
   ]
  },
  {
   "cell_type": "code",
   "execution_count": 23,
   "metadata": {
    "collapsed": false,
    "jupyter": {
     "outputs_hidden": false
    }
   },
   "outputs": [
    {
     "output_type": "execute_result",
     "data": {
      "text/plain": [
       "array([[ 0,  1,  2,  3],\n",
       "       [ 4,  5,  6,  7],\n",
       "       [ 8,  9, 10, 11]])"
      ]
     },
     "metadata": {},
     "execution_count": 23
    }
   ],
   "source": [
    "row = np.array([0, 1, 2])\n",
    "col = np.array([2, 1, 3])\n",
    "X[row, col] # X[0, 2], X[1, 1], X[2, 3]\n",
    "X"
   ]
  },
  {
   "cell_type": "code",
   "execution_count": 24,
   "metadata": {
    "collapsed": false,
    "jupyter": {
     "outputs_hidden": false
    }
   },
   "outputs": [
    {
     "output_type": "execute_result",
     "data": {
      "text/plain": [
       "array([[ 2,  1,  3],\n",
       "       [ 6,  5,  7],\n",
       "       [10,  9, 11]])"
      ]
     },
     "metadata": {},
     "execution_count": 24
    }
   ],
   "source": [
    "# broadcasting\n",
    "X[row[:, np.newaxis], col]"
   ]
  },
  {
   "cell_type": "markdown",
   "metadata": {},
   "source": [
    "## Combined Indexing"
   ]
  },
  {
   "cell_type": "code",
   "execution_count": 25,
   "metadata": {
    "collapsed": false,
    "jupyter": {
     "outputs_hidden": false
    }
   },
   "outputs": [
    {
     "output_type": "stream",
     "name": "stdout",
     "text": [
      "[[ 0  1  2  3]\n [ 4  5  6  7]\n [ 8  9 10 11]]\n"
     ]
    }
   ],
   "source": [
    "print(X)"
   ]
  },
  {
   "cell_type": "code",
   "execution_count": 26,
   "metadata": {
    "collapsed": false,
    "jupyter": {
     "outputs_hidden": false
    }
   },
   "outputs": [
    {
     "output_type": "execute_result",
     "data": {
      "text/plain": [
       "array([10,  8,  9])"
      ]
     },
     "metadata": {},
     "execution_count": 26
    }
   ],
   "source": [
    "X[2, [2, 0, 1]]  # X[2,2], X[2,0], X[2,1]"
   ]
  },
  {
   "cell_type": "code",
   "execution_count": 27,
   "metadata": {
    "collapsed": false,
    "jupyter": {
     "outputs_hidden": false
    }
   },
   "outputs": [
    {
     "output_type": "execute_result",
     "data": {
      "text/plain": [
       "array([[ 6,  4,  5],\n",
       "       [10,  8,  9]])"
      ]
     },
     "metadata": {},
     "execution_count": 27
    }
   ],
   "source": [
    "X[1:, [2, 0, 1]] # X[1,2], X[1,0], X[1,1], X[2,2], X[2,0], X[2,1], "
   ]
  },
  {
   "cell_type": "code",
   "execution_count": 28,
   "metadata": {
    "collapsed": false,
    "jupyter": {
     "outputs_hidden": false
    }
   },
   "outputs": [
    {
     "output_type": "execute_result",
     "data": {
      "text/plain": [
       "array([[ 0,  2],\n",
       "       [ 4,  6],\n",
       "       [ 8, 10]])"
      ]
     },
     "metadata": {},
     "execution_count": 28
    }
   ],
   "source": [
    "mask = np.array([1, 0, 1, 0], dtype=bool)\n",
    "X[row[:, np.newaxis], mask]"
   ]
  },
  {
   "cell_type": "markdown",
   "metadata": {},
   "source": [
    "## Modifying Values with Fancy Indexing"
   ]
  },
  {
   "cell_type": "code",
   "execution_count": 30,
   "metadata": {
    "collapsed": false,
    "jupyter": {
     "outputs_hidden": false
    }
   },
   "outputs": [
    {
     "output_type": "stream",
     "name": "stdout",
     "text": [
      "[0 1 2 3 4 5 6 7 8 9]\n[ 0 99 99  3 99  5  6  7 99  9]\n"
     ]
    }
   ],
   "source": [
    "x = np.arange(10)\n",
    "i = np.array([2, 1, 8, 4])\n",
    "x[i] = 99\n",
    "print(x)"
   ]
  },
  {
   "cell_type": "code",
   "execution_count": 56,
   "metadata": {},
   "outputs": [
    {
     "output_type": "stream",
     "name": "stdout",
     "text": [
      "30.05877575684013\n50.2\n[10 16 65 29 90 94 30  9 74  1 41 37 17 12 55 89 63 34 73 79 50 52 55 78\n 70 14 26 14 93 87 31 31 90 13 66 32 58 37 28 19 94 78 23 24 95 12 29 75\n 89 10 16 19 81 72 89 12 18 47  8 76 29 34 85 97 89 45  6  5 72 89 89 51\n 55 35 16 78 89 16  7 86 23 12 13 93 97 63 58 80 43 58 98 51 46 41 90 74\n 38  1 19 24  4 30 17 85 83 15 52 80 18 51 54 26 49 18 33 82 81 42 91 13\n 31 82 18 17  1 32 74 65 39 23 97 67 68 63 96 28 83 63 78 49 94 76 87 38\n 12 22 34 96 44 89 97 74 41 44 91 72  9 86 73 29 31 90 26 79 82 86 63 14\n 42 34  5 88 95 29 40 92 10  8 23 33  4 10 53 77 69 31 71 75 31 10  3 66\n 14 76 53  6 94 85 49 63]\n"
     ]
    },
    {
     "output_type": "execute_result",
     "data": {
      "text/plain": [
       "array([ 10.        ,  16.        ,  95.05877576,  29.        ,\n",
       "       120.05877576, 124.05877576,  30.        ,   9.        ,\n",
       "       104.05877576,   1.        ,  41.        ,  37.        ,\n",
       "        17.        ,  12.        ,  85.05877576, 119.05877576,\n",
       "        93.05877576,  34.        , 103.05877576, 109.05877576,\n",
       "        50.        ,  82.05877576,  85.05877576, 108.05877576,\n",
       "       100.05877576,  14.        ,  26.        ,  14.        ,\n",
       "       123.05877576, 117.05877576,  31.        ,  31.        ,\n",
       "       120.05877576,  13.        ,  96.05877576,  32.        ,\n",
       "        88.05877576,  37.        ,  28.        ,  19.        ,\n",
       "       124.05877576, 108.05877576,  23.        ,  24.        ,\n",
       "       125.05877576,  12.        ,  29.        , 105.05877576,\n",
       "       119.05877576,  10.        ,  16.        ,  19.        ,\n",
       "       111.05877576, 102.05877576, 119.05877576,  12.        ,\n",
       "        18.        ,  47.        ,   8.        , 106.05877576,\n",
       "        29.        ,  34.        , 115.05877576, 127.05877576,\n",
       "       119.05877576,  45.        ,   6.        ,   5.        ,\n",
       "       102.05877576, 119.05877576, 119.05877576,  81.05877576,\n",
       "        85.05877576,  35.        ,  16.        , 108.05877576,\n",
       "       119.05877576,  16.        ,   7.        , 116.05877576,\n",
       "        23.        ,  12.        ,  13.        , 123.05877576,\n",
       "       127.05877576,  93.05877576,  88.05877576, 110.05877576,\n",
       "        43.        ,  88.05877576, 128.05877576,  81.05877576,\n",
       "        46.        ,  41.        , 120.05877576, 104.05877576,\n",
       "        38.        ,   1.        ,  19.        ,  24.        ,\n",
       "         4.        ,  30.        ,  17.        , 115.05877576,\n",
       "       113.05877576,  15.        ,  82.05877576, 110.05877576,\n",
       "        18.        ,  81.05877576,  84.05877576,  26.        ,\n",
       "        49.        ,  18.        ,  33.        , 112.05877576,\n",
       "       111.05877576,  42.        , 121.05877576,  13.        ,\n",
       "        31.        , 112.05877576,  18.        ,  17.        ,\n",
       "         1.        ,  32.        , 104.05877576,  95.05877576,\n",
       "        39.        ,  23.        , 127.05877576,  97.05877576,\n",
       "        98.05877576,  93.05877576, 126.05877576,  28.        ,\n",
       "       113.05877576,  93.05877576, 108.05877576,  49.        ,\n",
       "       124.05877576, 106.05877576, 117.05877576,  38.        ,\n",
       "        12.        ,  22.        ,  34.        , 126.05877576,\n",
       "        44.        , 119.05877576, 127.05877576, 104.05877576,\n",
       "        41.        ,  44.        , 121.05877576, 102.05877576,\n",
       "         9.        , 116.05877576, 103.05877576,  29.        ,\n",
       "        31.        , 120.05877576,  26.        , 109.05877576,\n",
       "       112.05877576, 116.05877576,  93.05877576,  14.        ,\n",
       "        42.        ,  34.        ,   5.        , 118.05877576,\n",
       "       125.05877576,  29.        ,  40.        , 122.05877576,\n",
       "        10.        ,   8.        ,  23.        ,  33.        ,\n",
       "         4.        ,  10.        ,  83.05877576, 107.05877576,\n",
       "        99.05877576,  31.        , 101.05877576, 105.05877576,\n",
       "        31.        ,  10.        ,   3.        ,  96.05877576,\n",
       "        14.        , 106.05877576,  83.05877576,   6.        ,\n",
       "       124.05877576, 115.05877576,  49.        ,  93.05877576])"
      ]
     },
     "metadata": {},
     "execution_count": 56
    }
   ],
   "source": [
    "# x의 평균보다 큰값을 찾아 표준편차를 더하고고\n",
    "\n",
    "np.random.seed(10)\n",
    "x = np.random.randint(1,100,200)\n",
    "print(x.std())\n",
    "print(x.mean())\n",
    "print(x)\n",
    "# x = np.where( lambda x : x > x.mean(), x +x.std() , x)\n",
    "# 아래와 같이 할려면, x를 float으로 형 변환해줘야한다.\n",
    "# 이유 : ndarray는 같은 자료형만 있을 수 있다! std() == flaot!\n",
    "x = x.astype('float')\n",
    "x[x>x.mean()]+= x.std()\n",
    "x\n",
    "\n"
   ]
  },
  {
   "cell_type": "code",
   "execution_count": 57,
   "metadata": {
    "collapsed": false,
    "jupyter": {
     "outputs_hidden": false
    }
   },
   "outputs": [
    {
     "output_type": "stream",
     "name": "stdout",
     "text": [
      "[ 10.           6.          85.05877576  29.         110.05877576\n 124.05877576  30.           9.          94.05877576   1.\n  41.          37.          17.          12.          85.05877576\n 119.05877576  93.05877576  34.         103.05877576 109.05877576\n  50.          82.05877576  85.05877576 108.05877576 100.05877576\n  14.          26.          14.         123.05877576 117.05877576\n  31.          31.         120.05877576  13.          96.05877576\n  32.          88.05877576  37.          28.          19.\n 124.05877576 108.05877576  23.          24.         125.05877576\n  12.          29.         105.05877576 119.05877576  10.\n  16.          19.         111.05877576 102.05877576 119.05877576\n  12.          18.          47.           8.         106.05877576\n  29.          34.         115.05877576 127.05877576 119.05877576\n  45.           6.           5.         102.05877576 119.05877576\n 119.05877576  81.05877576  85.05877576  35.          16.\n 108.05877576 119.05877576  16.           7.         116.05877576\n  23.          12.          13.         123.05877576 127.05877576\n  93.05877576  88.05877576 110.05877576  43.          88.05877576\n 128.05877576  81.05877576  46.          41.         120.05877576\n 104.05877576  38.           1.          19.          24.\n   4.          30.          17.         115.05877576 113.05877576\n  15.          82.05877576 110.05877576  18.          81.05877576\n  84.05877576  26.          49.          18.          33.\n 112.05877576 111.05877576  42.         121.05877576  13.\n  31.         112.05877576  18.          17.           1.\n  32.         104.05877576  95.05877576  39.          23.\n 127.05877576  97.05877576  98.05877576  93.05877576 126.05877576\n  28.         113.05877576  93.05877576 108.05877576  49.\n 124.05877576 106.05877576 117.05877576  38.          12.\n  22.          34.         126.05877576  44.         119.05877576\n 127.05877576 104.05877576  41.          44.         121.05877576\n 102.05877576   9.         116.05877576 103.05877576  29.\n  31.         120.05877576  26.         109.05877576 112.05877576\n 116.05877576  93.05877576  14.          42.          34.\n   5.         118.05877576 125.05877576  29.          40.\n 122.05877576  10.           8.          23.          33.\n   4.          10.          83.05877576 107.05877576  99.05877576\n  31.         101.05877576 105.05877576  31.          10.\n   3.          96.05877576  14.         106.05877576  83.05877576\n   6.         124.05877576 115.05877576  49.          93.05877576]\n"
     ]
    }
   ],
   "source": [
    "x[i] -= 10\n",
    "print(x)"
   ]
  },
  {
   "cell_type": "code",
   "execution_count": 64,
   "metadata": {
    "collapsed": false,
    "jupyter": {
     "outputs_hidden": false
    }
   },
   "outputs": [
    {
     "output_type": "stream",
     "name": "stdout",
     "text": [
      "[4. 0. 0. 6. 0. 0. 0. 0. 0. 0.]\n"
     ]
    }
   ],
   "source": [
    "x = np.zeros(10)\n",
    "x[[0, 3]] = [4, 6]  # x[0] = 4, x[0] = 6, 두번 변경\n",
    "print(x) "
   ]
  },
  {
   "cell_type": "code",
   "execution_count": 65,
   "metadata": {
    "collapsed": false,
    "jupyter": {
     "outputs_hidden": false
    }
   },
   "outputs": [
    {
     "output_type": "execute_result",
     "data": {
      "text/plain": [
       "array([4., 0., 1., 7., 1., 0., 0., 0., 0., 0.])"
      ]
     },
     "metadata": {},
     "execution_count": 65
    }
   ],
   "source": [
    "i = [2, 3, 3, 4, 4, 4]\n",
    "x[i] += 1  # x[3], x[4] 값 확인\n",
    "x"
   ]
  },
  {
   "cell_type": "code",
   "execution_count": 68,
   "metadata": {
    "collapsed": false,
    "jupyter": {
     "outputs_hidden": false
    }
   },
   "outputs": [
    {
     "output_type": "stream",
     "name": "stdout",
     "text": [
      "[0. 0. 1. 2. 3. 0. 0. 0. 0. 0.]\n"
     ]
    }
   ],
   "source": [
    "x = np.zeros(10)\n",
    "np.add.at(x, i, 1) # x[3], x[4] 값 확인\n",
    "print(x)"
   ]
  },
  {
   "cell_type": "markdown",
   "metadata": {},
   "source": [
    "## Sorting"
   ]
  },
  {
   "cell_type": "code",
   "execution_count": 69,
   "metadata": {
    "collapsed": false,
    "jupyter": {
     "outputs_hidden": false
    }
   },
   "outputs": [
    {
     "output_type": "execute_result",
     "data": {
      "text/plain": [
       "array([1, 2, 3, 4, 5])"
      ]
     },
     "metadata": {},
     "execution_count": 69
    }
   ],
   "source": [
    "x = np.array([2, 1, 4, 3, 5])\n",
    "np.sort(x)"
   ]
  },
  {
   "cell_type": "code",
   "execution_count": 70,
   "metadata": {
    "collapsed": false,
    "jupyter": {
     "outputs_hidden": false
    }
   },
   "outputs": [
    {
     "output_type": "stream",
     "name": "stdout",
     "text": [
      "[1 2 3 4 5]\n"
     ]
    }
   ],
   "source": [
    "x.sort()\n",
    "print(x)"
   ]
  },
  {
   "cell_type": "code",
   "execution_count": 72,
   "metadata": {
    "collapsed": false,
    "jupyter": {
     "outputs_hidden": false
    }
   },
   "outputs": [
    {
     "output_type": "stream",
     "name": "stdout",
     "text": [
      "[1 0 3 2 4]\n"
     ]
    }
   ],
   "source": [
    "# index 반환\n",
    "x = np.array([2, 1, 4, 3, 5])\n",
    "i = np.argsort(x)\n",
    "print(i)"
   ]
  },
  {
   "cell_type": "code",
   "execution_count": 73,
   "metadata": {
    "collapsed": false,
    "jupyter": {
     "outputs_hidden": false
    }
   },
   "outputs": [
    {
     "output_type": "execute_result",
     "data": {
      "text/plain": [
       "array([1, 2, 3, 4, 5])"
      ]
     },
     "metadata": {},
     "execution_count": 73
    }
   ],
   "source": [
    "x[i]"
   ]
  },
  {
   "cell_type": "markdown",
   "metadata": {},
   "source": [
    "## Sorting along rows or columns"
   ]
  },
  {
   "cell_type": "code",
   "execution_count": 74,
   "metadata": {
    "collapsed": false,
    "jupyter": {
     "outputs_hidden": false
    }
   },
   "outputs": [
    {
     "output_type": "stream",
     "name": "stdout",
     "text": [
      "[[6 3 7 4 6 9]\n [2 6 7 4 3 7]\n [7 2 5 4 1 7]\n [5 1 4 0 9 5]]\n"
     ]
    }
   ],
   "source": [
    "rand = np.random.RandomState(42)\n",
    "X = rand.randint(0, 10, (4, 6))\n",
    "print(X)"
   ]
  },
  {
   "cell_type": "code",
   "execution_count": 75,
   "metadata": {
    "collapsed": false,
    "jupyter": {
     "outputs_hidden": false
    }
   },
   "outputs": [
    {
     "output_type": "execute_result",
     "data": {
      "text/plain": [
       "array([[2, 1, 4, 0, 1, 5],\n",
       "       [5, 2, 5, 4, 3, 7],\n",
       "       [6, 3, 7, 4, 6, 7],\n",
       "       [7, 6, 7, 4, 9, 9]])"
      ]
     },
     "metadata": {},
     "execution_count": 75
    }
   ],
   "source": [
    "# sort each column of X\n",
    "np.sort(X, axis=0)"
   ]
  },
  {
   "cell_type": "code",
   "execution_count": 76,
   "metadata": {
    "collapsed": false,
    "jupyter": {
     "outputs_hidden": false
    }
   },
   "outputs": [
    {
     "output_type": "execute_result",
     "data": {
      "text/plain": [
       "array([[3, 4, 6, 6, 7, 9],\n",
       "       [2, 3, 4, 6, 7, 7],\n",
       "       [1, 2, 4, 5, 7, 7],\n",
       "       [0, 1, 4, 5, 5, 9]])"
      ]
     },
     "metadata": {},
     "execution_count": 76
    }
   ],
   "source": [
    "# sort each row of X\n",
    "np.sort(X, axis=1)"
   ]
  },
  {
   "cell_type": "markdown",
   "metadata": {},
   "source": [
    "## Partial Sorts: Partitioning"
   ]
  },
  {
   "cell_type": "code",
   "execution_count": 77,
   "metadata": {
    "collapsed": false,
    "jupyter": {
     "outputs_hidden": false
    }
   },
   "outputs": [
    {
     "output_type": "execute_result",
     "data": {
      "text/plain": [
       "array([  0,  -1,   1,   4,   5,   7, 100])"
      ]
     },
     "metadata": {},
     "execution_count": 77
    }
   ],
   "source": [
    "x = np.array([7, 0, 4, 1, -1, 5, 100])\n",
    "np.partition(x, 3) # 3번쨰 요소 기준(x.sort()후 x[3])으로 작은 것은 왼쪽, 같거나 큰것은 오른쪽"
   ]
  },
  {
   "cell_type": "code",
   "execution_count": 24,
   "metadata": {},
   "outputs": [
    {
     "data": {
      "text/plain": [
       "array([  0,  -1,   1,   4,   5,   7, 100])"
      ]
     },
     "execution_count": 24,
     "metadata": {},
     "output_type": "execute_result"
    }
   ],
   "source": [
    "np.partition(x, 4)"
   ]
  },
  {
   "cell_type": "code",
   "execution_count": 25,
   "metadata": {},
   "outputs": [
    {
     "data": {
      "text/plain": [
       "array([[6, 3, 7, 4, 6, 9],\n",
       "       [2, 6, 7, 4, 3, 7],\n",
       "       [7, 2, 5, 4, 1, 7],\n",
       "       [5, 1, 4, 0, 9, 5]])"
      ]
     },
     "execution_count": 25,
     "metadata": {},
     "output_type": "execute_result"
    }
   ],
   "source": [
    "X"
   ]
  },
  {
   "cell_type": "code",
   "execution_count": 79,
   "metadata": {
    "collapsed": false,
    "jupyter": {
     "outputs_hidden": false
    }
   },
   "outputs": [
    {
     "output_type": "execute_result",
     "data": {
      "text/plain": [
       "array([[3, 4, 6, 7, 6, 9],\n",
       "       [2, 3, 4, 7, 6, 7],\n",
       "       [1, 2, 4, 5, 7, 7],\n",
       "       [0, 1, 4, 5, 9, 5]])"
      ]
     },
     "metadata": {},
     "execution_count": 79
    }
   ],
   "source": [
    "np.partition(X, 2, axis=1)\n"
   ]
  },
  {
   "cell_type": "code",
   "execution_count": 107,
   "metadata": {},
   "outputs": [
    {
     "output_type": "stream",
     "name": "stdout",
     "text": [
      "[10 16 65 29 90 94 30  9 74  1]\n[ 1  9 10 16 29 30 65 74 90 94]\n[ 9  1 10 16 29 30 94 65 74 90]\n"
     ]
    }
   ],
   "source": [
    "# \n",
    "np.random.seed(10)\n",
    "x = np.random.randint(1,100,10)\n",
    "print ( x)\n",
    "print (np.sort(x))\n",
    "print(np.partition(x,5))\n"
   ]
  },
  {
   "cell_type": "code",
   "execution_count": null,
   "metadata": {},
   "outputs": [],
   "source": []
  }
 ],
 "metadata": {
  "anaconda-cloud": {},
  "kernelspec": {
   "name": "python3",
   "display_name": "Python 3.8.8 64-bit ('base': conda)"
  },
  "language_info": {
   "codemirror_mode": {
    "name": "ipython",
    "version": 3
   },
   "file_extension": ".py",
   "mimetype": "text/x-python",
   "name": "python",
   "nbconvert_exporter": "python",
   "pygments_lexer": "ipython3",
   "version": "3.8.8"
  },
  "interpreter": {
   "hash": "68964f74c11d332c21e95cd675b1759e0933fc99bd167841b9b8a4ac82dd0a35"
  }
 },
 "nbformat": 4,
 "nbformat_minor": 4
}