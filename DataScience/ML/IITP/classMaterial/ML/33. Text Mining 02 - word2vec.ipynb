{
 "cells": [
  {
   "cell_type": "code",
   "execution_count": 1,
   "metadata": {
    "collapsed": true
   },
   "outputs": [],
   "source": [
    "import os\n",
    "os.environ[\"JAVA_HOME\"] = \"C:\\Program Files\\Java\\jdk1.8.0_121\\jre\"\n",
    "\n",
    "import nltk\n",
    "import konlpy\n",
    "from konlpy.corpus import kobill    \n",
    "from konlpy.tag import Twitter\n",
    "\n",
    "t = Twitter()\n",
    "\n",
    "docs_ko = [kobill.open(i).read() for i in kobill.fileids()]\n",
    "pos = lambda d: ['/'.join(p) for p in t.pos(d, stem=True, norm=True)]\n",
    "texts_ko = [pos(doc) for doc in docs_ko]"
   ]
  },
  {
   "cell_type": "code",
   "execution_count": 2,
   "metadata": {},
   "outputs": [
    {
     "name": "stderr",
     "output_type": "stream",
     "text": [
      "c:\\anaconda3\\envs\\spark\\lib\\site-packages\\gensim\\utils.py:860: UserWarning: detected Windows; aliasing chunkize to chunkize_serial\n",
      "  warnings.warn(\"detected Windows; aliasing chunkize to chunkize_serial\")\n"
     ]
    }
   ],
   "source": [
    "from gensim.models import word2vec\n",
    "wv_model_ko = word2vec.Word2Vec(texts_ko)\n",
    "wv_model_ko.init_sims(replace=True)\n",
    "wv_model_ko.save('ko_word2vec.model')"
   ]
  },
  {
   "cell_type": "code",
   "execution_count": 3,
   "metadata": {},
   "outputs": [
    {
     "data": {
      "text/plain": [
       "[('파견/Noun', 0.9996110200881958),\n",
       " ('가다/Verb', 0.9996074438095093),\n",
       " ('비/Noun', 0.9996057748794556),\n",
       " ('○/Foreign', 0.9995948076248169),\n",
       " ('의/Noun', 0.9995774030685425),\n",
       " ('등/Noun', 0.9995754957199097),\n",
       " (',/Punctuation', 0.9995710849761963),\n",
       " ('UAE/Alpha', 0.9995684623718262),\n",
       " ('부대/Noun', 0.9995663166046143),\n",
       " ('법/Noun', 0.9995572566986084)]"
      ]
     },
     "execution_count": 3,
     "metadata": {},
     "output_type": "execute_result"
    }
   ],
   "source": [
    "wv_model_ko.most_similar(pos('정부'))"
   ]
  },
  {
   "cell_type": "code",
   "execution_count": 9,
   "metadata": {},
   "outputs": [
    {
     "data": {
      "text/plain": [
       "[('자녀/Noun', 0.999687671661377),\n",
       " ('로/Josa', 0.9996576309204102),\n",
       " ('에서/Josa', 0.9996516704559326),\n",
       " ('6/Number', 0.9996508359909058),\n",
       " ('전/Noun', 0.9995948672294617),\n",
       " ('8/Number', 0.9995861053466797),\n",
       " ('｢/Foreign', 0.9995802640914917),\n",
       " ('”/Foreign', 0.9995699524879456),\n",
       " ('“/Foreign', 0.9995611906051636),\n",
       " ('또는/Adverb', 0.9995510578155518)]"
      ]
     },
     "execution_count": 9,
     "metadata": {},
     "output_type": "execute_result"
    }
   ],
   "source": [
    "wv_model_ko.most_similar(pos('초등학교'))"
   ]
  },
  {
   "cell_type": "code",
   "execution_count": null,
   "metadata": {
    "collapsed": true
   },
   "outputs": [],
   "source": []
  }
 ],
 "metadata": {
  "kernelspec": {
   "display_name": "Python 3",
   "language": "python",
   "name": "python3"
  },
  "language_info": {
   "codemirror_mode": {
    "name": "ipython",
    "version": 3
   },
   "file_extension": ".py",
   "mimetype": "text/x-python",
   "name": "python",
   "nbconvert_exporter": "python",
   "pygments_lexer": "ipython3",
   "version": "3.5.3"
  }
 },
 "nbformat": 4,
 "nbformat_minor": 2
}
