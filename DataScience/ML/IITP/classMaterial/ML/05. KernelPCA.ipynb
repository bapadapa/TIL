{
 "cells": [
  {
   "cell_type": "code",
   "execution_count": null,
   "metadata": {
    "collapsed": false,
    "deletable": true,
    "editable": true
   },
   "outputs": [],
   "source": [
    "import numpy as np\n",
    "import matplotlib.pyplot as plt\n",
    "from sklearn.datasets import make_moons\n",
    "\n",
    "np.random.seed(0)\n",
    "\n",
    "X, y = make_moons(n_samples=100, random_state=123)\n",
    "\n",
    "plt.scatter(X[y==0, 0],X[y==0, 1], color='red', marker=\"x\", alpha=0.5)\n",
    "plt.scatter(X[y==1, 0],X[y==1, 1], color='blue', marker=\"o\", alpha=0.5)\n",
    "plt.show()"
   ]
  },
  {
   "cell_type": "code",
   "execution_count": null,
   "metadata": {
    "collapsed": false,
    "deletable": true,
    "editable": true
   },
   "outputs": [],
   "source": [
    "from sklearn.decomposition import PCA, KernelPCA\n",
    "pca = PCA(n_components=2)\n",
    "X_pca = pca.fit_transform(X)\n",
    "X_pca_back = pca.inverse_transform(X_pca)\n",
    "fig, ax = plt.subplots(nrows=1, ncols=2)\n",
    "\n",
    "ax[0].scatter(X_pca[y==0, 0],X_pca[y==0, 1], color='red', marker=\"x\", alpha=0.5)\n",
    "ax[0].scatter(X_pca[y==1, 0],X_pca[y==1, 1], color='blue', marker=\"o\", alpha=0.5)\n",
    "ax[1].scatter(X_pca[y==0, 0],np.zeros((50,1))+0.001, color='red', marker=\"x\", alpha=0.5)\n",
    "ax[1].scatter(X_pca[y==1, 0],np.zeros((50,1))-0.001, color='blue', marker=\"o\", alpha=0.5)\n",
    "plt.show()"
   ]
  },
  {
   "cell_type": "code",
   "execution_count": null,
   "metadata": {
    "collapsed": false
   },
   "outputs": [],
   "source": [
    "def KPCA(k):\n",
    "    pca = KernelPCA(kernel=k, n_components=2, gamma=15)\n",
    "    X_pca = pca.fit_transform(X)\n",
    "    fig, ax = plt.subplots(nrows=1, ncols=2)\n",
    "    ax[0].scatter(X_pca[y==0, 0],X_pca[y==0, 1], color='red', marker=\"x\", alpha=0.5)\n",
    "    ax[0].scatter(X_pca[y==1, 0],X_pca[y==1, 1], color='blue', marker=\"o\", alpha=0.5)\n",
    "    ax[1].scatter(X_pca[y==0, 0],np.zeros((50,1))+0.001, color='red', marker=\"x\", alpha=0.5)\n",
    "    ax[1].scatter(X_pca[y==1, 0],np.zeros((50,1))-0.001, color='blue', marker=\"o\", alpha=0.5)\n",
    "    plt.title(k)\n",
    "    plt.show()"
   ]
  },
  {
   "cell_type": "code",
   "execution_count": null,
   "metadata": {
    "collapsed": false
   },
   "outputs": [],
   "source": [
    "for k in ['linear', 'poly', 'rbf', 'sigmoid', 'cosine']:\n",
    "    KPCA(k)"
   ]
  }
 ],
 "metadata": {
  "kernelspec": {
   "display_name": "Python 3",
   "language": "python",
   "name": "python3"
  },
  "language_info": {
   "codemirror_mode": {
    "name": "ipython",
    "version": 3
   },
   "file_extension": ".py",
   "mimetype": "text/x-python",
   "name": "python",
   "nbconvert_exporter": "python",
   "pygments_lexer": "ipython3",
   "version": "3.6.0"
  }
 },
 "nbformat": 4,
 "nbformat_minor": 2
}
