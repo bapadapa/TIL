{
 "cells": [
  {
   "cell_type": "code",
   "execution_count": 1,
   "source": [
    "from sklearn import datasets\r\n",
    "from sklearn.model_selection import train_test_split\r\n",
    "iris = datasets.load_iris()\r\n",
    "\r\n",
    "X = iris.data\r\n",
    "y = iris.target\r\n",
    "target_names = iris.target_names\r\n",
    "X_train, X_test, y_train, y_test = train_test_split(X, y, test_size=0.3)"
   ],
   "outputs": [],
   "metadata": {
    "collapsed": true
   }
  },
  {
   "cell_type": "markdown",
   "source": [
    "### 데이터 표준화(d 차원)"
   ],
   "metadata": {}
  },
  {
   "cell_type": "code",
   "execution_count": 2,
   "source": [
    "from sklearn.preprocessing import StandardScaler\r\n",
    "sc= StandardScaler()\r\n",
    "sc.fit(X_train)\r\n",
    "X_train_std = sc.transform(X_train)\r\n",
    "X_test_std = sc.transform(X_test)"
   ],
   "outputs": [],
   "metadata": {
    "collapsed": true
   }
  },
  {
   "cell_type": "markdown",
   "source": [
    "### 공분산 행렬 만들기"
   ],
   "metadata": {}
  },
  {
   "cell_type": "code",
   "execution_count": 3,
   "source": [
    "import numpy as np\r\n",
    "cov_mat = np.cov(X_train_std.T)\r\n",
    "cov_mat"
   ],
   "outputs": [
    {
     "output_type": "execute_result",
     "data": {
      "text/plain": [
       "array([[ 1.00961538, -0.16628112,  0.85436016,  0.78898935],\n",
       "       [-0.16628112,  1.00961538, -0.49583462, -0.40900104],\n",
       "       [ 0.85436016, -0.49583462,  1.00961538,  0.96482461],\n",
       "       [ 0.78898935, -0.40900104,  0.96482461,  1.00961538]])"
      ]
     },
     "metadata": {},
     "execution_count": 3
    }
   ],
   "metadata": {}
  },
  {
   "cell_type": "markdown",
   "source": [
    "### 공분산 행렬을 고유값과 고유벡터로 분해 "
   ],
   "metadata": {}
  },
  {
   "cell_type": "code",
   "execution_count": 4,
   "source": [
    "eigen_vals, eigen_vecs = np.linalg.eig(cov_mat)\r\n",
    "print(eigen_vals)\r\n",
    "print(eigen_vecs)"
   ],
   "outputs": [
    {
     "output_type": "stream",
     "name": "stdout",
     "text": [
      "[2.95331455 0.87663108 0.18554473 0.02297119]\n",
      "[[ 0.50758884 -0.41886102 -0.7096898   0.25149435]\n",
      " [-0.30863616 -0.90320406  0.26146299 -0.14353834]\n",
      " [ 0.57903122 -0.02803196  0.14664708 -0.80151836]\n",
      " [ 0.55840857 -0.08939849  0.63755167  0.52317841]]\n"
     ]
    }
   ],
   "metadata": {}
  },
  {
   "cell_type": "markdown",
   "source": [
    "### 가장 큰 고유값(k)에 대한 고유벡터(k vector) 선택, k는 새로운 feature 부분공간의 차원( k <= d )"
   ],
   "metadata": {}
  },
  {
   "cell_type": "code",
   "execution_count": 5,
   "source": [
    "from operator import itemgetter\r\n",
    "indices, eigen_sorted = zip(*sorted(enumerate(eigen_vals), reverse=True, key=itemgetter(1)))\r\n",
    "topk = indices[0]\r\n",
    "top_eigenvectors = eigen_vecs[topk]\r\n",
    "top_eigenvectors"
   ],
   "outputs": [
    {
     "output_type": "execute_result",
     "data": {
      "text/plain": [
       "array([ 0.50758884, -0.41886102, -0.7096898 ,  0.25149435])"
      ]
     },
     "metadata": {},
     "execution_count": 5
    }
   ],
   "metadata": {}
  },
  {
   "cell_type": "markdown",
   "source": [
    "### 고유벡터(k)로 부터 투영행렬 W 생성"
   ],
   "metadata": {}
  },
  {
   "cell_type": "code",
   "execution_count": 6,
   "source": [
    "eigen_pairs = [(np.abs(eigen_vals[i]), eigen_vecs[:, i])\r\n",
    "               for i in range(len(eigen_vals))]\r\n",
    "eigen_pairs.sort(key=lambda k: k[0], reverse=True)\r\n",
    "eigen_pairs"
   ],
   "outputs": [
    {
     "output_type": "execute_result",
     "data": {
      "text/plain": [
       "[(2.9533145485533017,\n",
       "  array([ 0.50758884, -0.30863616,  0.57903122,  0.55840857])),\n",
       " (0.8766310757215627,\n",
       "  array([-0.41886102, -0.90320406, -0.02803196, -0.08939849])),\n",
       " (0.1855447276223351,\n",
       "  array([-0.7096898 ,  0.26146299,  0.14664708,  0.63755167])),\n",
       " (0.022971186564342865,\n",
       "  array([ 0.25149435, -0.14353834, -0.80151836,  0.52317841]))]"
      ]
     },
     "metadata": {},
     "execution_count": 6
    }
   ],
   "metadata": {}
  },
  {
   "cell_type": "code",
   "execution_count": 7,
   "source": [
    "w = np.hstack((eigen_pairs[0][1][:,np.newaxis], eigen_pairs[1][1][:,np.newaxis]))\r\n",
    "w"
   ],
   "outputs": [
    {
     "output_type": "execute_result",
     "data": {
      "text/plain": [
       "array([[ 0.50758884, -0.41886102],\n",
       "       [-0.30863616, -0.90320406],\n",
       "       [ 0.57903122, -0.02803196],\n",
       "       [ 0.55840857, -0.08939849]])"
      ]
     },
     "metadata": {},
     "execution_count": 7
    }
   ],
   "metadata": {}
  },
  {
   "cell_type": "markdown",
   "source": [
    "### 투영행렬 W를 사용하여 d 차원의 입력 데이터를 변환, k 차원 데이터 생성"
   ],
   "metadata": {}
  },
  {
   "cell_type": "code",
   "execution_count": 8,
   "source": [
    "import matplotlib.pyplot as plt\r\n",
    "%matplotlib inline\r\n",
    "\r\n",
    "X_train_pca = X_train_std.dot(w)\r\n",
    "colors = ['navy', 'turquoise', 'darkorange']\r\n",
    "for l,c,m in zip(np.unique(y_train), colors, target_names):\r\n",
    "    plt.scatter(X_train_pca[y_train==l, 0],\r\n",
    "                X_train_pca[y_train==l, 1],\r\n",
    "                c=c, label=m)\r\n",
    "\r\n",
    "plt.xlabel('PC 1')\r\n",
    "plt.ylabel('PC 2')\r\n",
    "plt.legend(loc='best')\r\n",
    "plt.show()\r\n",
    "                "
   ],
   "outputs": [
    {
     "output_type": "display_data",
     "data": {
      "text/plain": [
       "<Figure size 432x288 with 1 Axes>"
      ],
      "image/png": "[encoded data removed]"
     },
     "metadata": {
      "needs_background": "light"
     }
    }
   ],
   "metadata": {}
  },
  {
   "cell_type": "code",
   "execution_count": 14,
   "source": [
    "from sklearn.tree import DecisionTreeClassifier\r\n",
    "from sklearn.model_selection import train_test_split\r\n",
    "from sklearn.decomposition import PCA,KernelPCA\r\n",
    "from sklearn.metrics import accuracy_score\r\n",
    "from sklearn import datasets\r\n",
    "iris = datasets.load_iris()\r\n",
    "X = iris.data\r\n",
    "y = iris.target\r\n",
    "\r\n",
    "# PCA실행\r\n",
    "pca = PCA()\r\n",
    "kpca_rbf = KernelPCA(kernel='rbf',n_components=2)\r\n",
    "kpca_simoid = KernelPCA(kernel='sigmoid',n_components=2)\r\n",
    "\r\n",
    "X_r2 = pca.fit_transform(X)\r\n",
    "X_rbf = kpca_rbf.fit_transform(X)\r\n",
    "X_sigmoid = kpca_simoid.fit_transform(X)\r\n",
    "# None , PCA , KPCA(rbf), KPCA(sigmoid)\r\n",
    "X_train ,X_test,y_train,y_test=  train_test_split(X,y, test_size= 0.3)\r\n",
    "X_train_pca ,X_test_pca,y_train_pca,y_test_pca=  train_test_split(X_r2,y, test_size= 0.2)\r\n",
    "X_train_rbf ,X_test_rbf,y_train_rbf,y_test_rbf=  train_test_split(X_rbf,y, test_size= 0.2)\r\n",
    "X_train_sigmoid ,X_test_sigmoid,y_train_sigmoid,y_test_sigmoid = train_test_split(X_sigmoid,y, test_size= 0.2)\r\n",
    "\r\n",
    "dt_clf = DecisionTreeClassifier()\r\n",
    "dt_clf.fit(X_train,y_train)\r\n",
    "print(\" None PAC : \" ,accuracy_score(dt_clf.predict(X_test),y_test))\r\n",
    "\r\n",
    "dt_clf = DecisionTreeClassifier()\r\n",
    "dt_clf.fit(X_train_pca,y_train_pca)\r\n",
    "print(\" PAC : \" ,accuracy_score(dt_clf.predict(X_test_pca),y_test_pca))\r\n",
    "\r\n",
    "dt_clf = DecisionTreeClassifier()\r\n",
    "dt_clf.fit(X_train_rbf,y_train_rbf)\r\n",
    "print(\" rbf : \" ,accuracy_score(dt_clf.predict(X_test_rbf),y_test_rbf))\r\n",
    "\r\n",
    "dt_clf = DecisionTreeClassifier()\r\n",
    "dt_clf.fit(X_train_sigmoid,y_train_sigmoid)\r\n",
    "print(\" sigmoid : \" ,accuracy_score(dt_clf.predict(X_test_sigmoid),y_test_sigmoid))\r\n",
    "\r\n",
    "\r\n",
    "\r\n",
    "\r\n"
   ],
   "outputs": [
    {
     "output_type": "stream",
     "name": "stdout",
     "text": [
      " None PAC :  0.9555555555555556\n",
      " PAC :  0.9666666666666667\n",
      " rbf :  0.8666666666666667\n",
      " sigmoid :  0.8333333333333334\n"
     ]
    }
   ],
   "metadata": {}
  },
  {
   "cell_type": "markdown",
   "source": [
    "### scikit-learn"
   ],
   "metadata": {}
  },
  {
   "cell_type": "code",
   "execution_count": null,
   "source": [
    "from sklearn.decomposition import PCA\r\n",
    "\r\n",
    "pca = PCA(n_components=2)\r\n",
    "X_r = pca.fit(X).transform(X)\r\n",
    "\r\n",
    "# Percentage of variance explained for each components\r\n",
    "print('explained variance ratio (first two components): %s'\r\n",
    "      % str(pca.explained_variance_ratio_))\r\n",
    "\r\n",
    "plt.figure()\r\n",
    "colors = ['navy', 'turquoise', 'darkorange']\r\n",
    "lw = 2\r\n",
    "\r\n",
    "for color, i, target_name in zip(colors, [0, 1, 2], target_names):\r\n",
    "    plt.scatter(X_r[y == i, 0], X_r[y == i, 1], color=color, alpha=.8, lw=lw,\r\n",
    "                label=target_name)\r\n",
    "plt.legend(loc='best', shadow=False, scatterpoints=1)\r\n",
    "plt.title('PCA of IRIS dataset')\r\n",
    "\r\n",
    "plt.show()"
   ],
   "outputs": [],
   "metadata": {}
  }
 ],
 "metadata": {
  "kernelspec": {
   "name": "python3",
   "display_name": "Python 3.8.8 64-bit ('base': conda)"
  },
  "language_info": {
   "codemirror_mode": {
    "name": "ipython",
    "version": 3
   },
   "file_extension": ".py",
   "mimetype": "text/x-python",
   "name": "python",
   "nbconvert_exporter": "python",
   "pygments_lexer": "ipython3",
   "version": "3.8.8"
  },
  "interpreter": {
   "hash": "68964f74c11d332c21e95cd675b1759e0933fc99bd167841b9b8a4ac82dd0a35"
  }
 },
 "nbformat": 4,
 "nbformat_minor": 2
}