{
 "cells": [
  {
   "cell_type": "markdown",
   "metadata": {},
   "source": [
    "<h1>Linear transform</h1>\n",
    "\\begin{equation*}\n",
    "Av = b \\\\\n",
    "\\begin{bmatrix}\n",
    "    2 & 1  \\\\\n",
    "    1.5 & 7\n",
    "  \\end{bmatrix}\n",
    "  * \n",
    "  \\begin{bmatrix}\n",
    "    0.75  \\\\\n",
    "    0.25\n",
    "  \\end{bmatrix}\n",
    "  = \n",
    "  \\begin{bmatrix}\n",
    "    1.75  \\\\\n",
    "    1.625\n",
    "  \\end{bmatrix}\n",
    "\\end{equation*}\n",
    "\n",
    "<div style=\"width:600px\">\n",
    "![title](img/two_vectors.png)\n",
    "</div>\n"
   ]
  },
  {
   "cell_type": "markdown",
   "metadata": {},
   "source": [
    "<h1>eigenvalue & eigenvector</h1>\n",
    "\n",
    "\\begin{equation*}\n",
    "Av = \\lambda b \\\\\n",
    "v\\ : \\ eigenvector, \\ \\lambda \\ : \\ eigenvalue \\\\\n",
    "\\begin{bmatrix}\n",
    "    2 & 1  \\\\\n",
    "    1.5 & 7\n",
    "  \\end{bmatrix}\n",
    "  * \n",
    "  \\begin{bmatrix}\n",
    "    x_1  \\\\\n",
    "    x_2\n",
    "  \\end{bmatrix}\n",
    "  = \n",
    "  \\lambda\n",
    "  \\begin{bmatrix}\n",
    "    1.75  \\\\\n",
    "    1.625\n",
    "  \\end{bmatrix}\n",
    "\\end{equation*}\n"
   ]
  },
  {
   "cell_type": "markdown",
   "metadata": {},
   "source": [
    "<div style=\"width:600px\">\n",
    "<h1>projection</h1>\n",
    "![title](img/Eigenvectors.gif)\n",
    "</div>"
   ]
  }
 ],
 "metadata": {
  "kernelspec": {
   "display_name": "Python 3",
   "language": "python",
   "name": "python3"
  },
  "language_info": {
   "codemirror_mode": {
    "name": "ipython",
    "version": 3
   },
   "file_extension": ".py",
   "mimetype": "text/x-python",
   "name": "python",
   "nbconvert_exporter": "python",
   "pygments_lexer": "ipython3",
   "version": "3.5.3"
  }
 },
 "nbformat": 4,
 "nbformat_minor": 2
}
