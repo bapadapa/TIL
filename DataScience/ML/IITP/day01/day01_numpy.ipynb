{
 "metadata": {
  "language_info": {
   "codemirror_mode": {
    "name": "ipython",
    "version": 3
   },
   "file_extension": ".py",
   "mimetype": "text/x-python",
   "name": "python",
   "nbconvert_exporter": "python",
   "pygments_lexer": "ipython3",
   "version": "3.8.8"
  },
  "orig_nbformat": 2,
  "kernelspec": {
   "name": "python388jvsc74a57bd0d60348b02a7c4ed479eb3f7f0ae3c184c88a07a7708bcee5e907fb336f87c6fe",
   "display_name": "Python 3.8.8 64-bit ('base': conda)"
  }
 },
 "nbformat": 4,
 "nbformat_minor": 2,
 "cells": [
  {
   "cell_type": "code",
   "execution_count": 9,
   "metadata": {},
   "outputs": [],
   "source": [
    "# 넘파이 임포트\n",
    "import numpy as np"
   ]
  },
  {
   "cell_type": "code",
   "execution_count": 10,
   "metadata": {},
   "outputs": [],
   "source": [
    "l = [1,2,3,4]\n",
    "# l+3 <- 불가능함!"
   ]
  },
  {
   "cell_type": "code",
   "execution_count": 11,
   "metadata": {},
   "outputs": [
    {
     "output_type": "error",
     "ename": "AttributeError",
     "evalue": "module 'numpy' has no attribute 'array'",
     "traceback": [
      "\u001b[1;31m---------------------------------------------------------------------------\u001b[0m",
      "\u001b[1;31mAttributeError\u001b[0m                            Traceback (most recent call last)",
      "\u001b[1;32m<ipython-input-11-7a8215c3bd8a>\u001b[0m in \u001b[0;36m<module>\u001b[1;34m\u001b[0m\n\u001b[0;32m      1\u001b[0m \u001b[1;31m# l을 np.array로 변환\u001b[0m\u001b[1;33m\u001b[0m\u001b[1;33m\u001b[0m\u001b[1;33m\u001b[0m\u001b[0m\n\u001b[0;32m      2\u001b[0m \u001b[1;31m# 형 변환을 한다면 , 행열연산을 할 수 있다.\u001b[0m\u001b[1;33m\u001b[0m\u001b[1;33m\u001b[0m\u001b[1;33m\u001b[0m\u001b[0m\n\u001b[1;32m----> 3\u001b[1;33m \u001b[0marr1\u001b[0m \u001b[1;33m=\u001b[0m \u001b[0mnp\u001b[0m\u001b[1;33m.\u001b[0m\u001b[0marray\u001b[0m\u001b[1;33m(\u001b[0m\u001b[0ml\u001b[0m\u001b[1;33m)\u001b[0m\u001b[1;33m+\u001b[0m\u001b[1;36m3\u001b[0m\u001b[1;33m\u001b[0m\u001b[1;33m\u001b[0m\u001b[0m\n\u001b[0m",
      "\u001b[1;31mAttributeError\u001b[0m: module 'numpy' has no attribute 'array'"
     ]
    }
   ],
   "source": [
    "# l을 np.array로 변환\n",
    "# 형 변환을 한다면 , 행열연산을 할 수 있다.\n",
    "arr1 = np.array(l)+3"
   ]
  },
  {
   "cell_type": "code",
   "execution_count": 15,
   "metadata": {},
   "outputs": [
    {
     "output_type": "error",
     "ename": "AttributeError",
     "evalue": "module 'numpy' has no attribute 'array'",
     "traceback": [
      "\u001b[1;31m---------------------------------------------------------------------------\u001b[0m",
      "\u001b[1;31mAttributeError\u001b[0m                            Traceback (most recent call last)",
      "\u001b[1;32m<ipython-input-15-1319ef0120b3>\u001b[0m in \u001b[0;36m<module>\u001b[1;34m\u001b[0m\n\u001b[0;32m      1\u001b[0m \u001b[1;31m# reshape (n,m,...)\u001b[0m\u001b[1;33m\u001b[0m\u001b[1;33m\u001b[0m\u001b[1;33m\u001b[0m\u001b[0m\n\u001b[0;32m      2\u001b[0m \u001b[1;31m# 배열의 모양을 변형시켜준다.\u001b[0m\u001b[1;33m\u001b[0m\u001b[1;33m\u001b[0m\u001b[1;33m\u001b[0m\u001b[0m\n\u001b[1;32m----> 3\u001b[1;33m \u001b[0marr2\u001b[0m \u001b[1;33m=\u001b[0m \u001b[0mnp\u001b[0m\u001b[1;33m.\u001b[0m\u001b[0marray\u001b[0m\u001b[1;33m(\u001b[0m\u001b[0ml\u001b[0m\u001b[1;33m)\u001b[0m\u001b[1;33m.\u001b[0m\u001b[0mreshape\u001b[0m\u001b[1;33m(\u001b[0m\u001b[1;36m4\u001b[0m\u001b[1;33m,\u001b[0m\u001b[1;36m1\u001b[0m\u001b[1;33m)\u001b[0m\u001b[1;33m\u001b[0m\u001b[1;33m\u001b[0m\u001b[0m\n\u001b[0m",
      "\u001b[1;31mAttributeError\u001b[0m: module 'numpy' has no attribute 'array'"
     ]
    }
   ],
   "source": [
    "# reshape (n,m,...) \n",
    "# 배열의 모양을 변형시켜준다.\n",
    "arr2 = np.array(l).reshape(4,1)"
   ]
  },
  {
   "cell_type": "code",
   "execution_count": 12,
   "metadata": {},
   "outputs": [
    {
     "output_type": "error",
     "ename": "AttributeError",
     "evalue": "module 'numpy' has no attribute 'array'",
     "traceback": [
      "\u001b[1;31m---------------------------------------------------------------------------\u001b[0m",
      "\u001b[1;31mAttributeError\u001b[0m                            Traceback (most recent call last)",
      "\u001b[1;32m<ipython-input-12-83aa01657e07>\u001b[0m in \u001b[0;36m<module>\u001b[1;34m\u001b[0m\n\u001b[1;32m----> 1\u001b[1;33m \u001b[0marr3\u001b[0m \u001b[1;33m=\u001b[0m \u001b[0mnp\u001b[0m\u001b[1;33m.\u001b[0m\u001b[0marray\u001b[0m\u001b[1;33m(\u001b[0m\u001b[1;33m[\u001b[0m\u001b[1;33m[\u001b[0m\u001b[1;36m3\u001b[0m\u001b[1;33m,\u001b[0m\u001b[1;36m4\u001b[0m\u001b[1;33m,\u001b[0m\u001b[1;36m5\u001b[0m\u001b[1;33m,\u001b[0m\u001b[1;36m6\u001b[0m\u001b[1;33m]\u001b[0m\u001b[1;33m]\u001b[0m\u001b[1;33m)\u001b[0m\u001b[1;33m\u001b[0m\u001b[1;33m\u001b[0m\u001b[0m\n\u001b[0m\u001b[0;32m      2\u001b[0m \u001b[0marr1\u001b[0m\u001b[1;33m+\u001b[0m\u001b[0marr3\u001b[0m\u001b[1;33m\u001b[0m\u001b[1;33m\u001b[0m\u001b[0m\n",
      "\u001b[1;31mAttributeError\u001b[0m: module 'numpy' has no attribute 'array'"
     ]
    }
   ],
   "source": [
    "arr3 = np.array([[3,4,5,6]])\n",
    "arr1+arr3"
   ]
  },
  {
   "cell_type": "code",
   "execution_count": 20,
   "metadata": {},
   "outputs": [
    {
     "output_type": "stream",
     "name": "stdout",
     "text": [
      "arr3.shape :  (1, 4)\narr3.ndim :  2\n"
     ]
    },
    {
     "output_type": "execute_result",
     "data": {
      "text/plain": [
       "array([0, 1, 2, 3, 4, 5, 6, 7, 8, 9])"
      ]
     },
     "metadata": {},
     "execution_count": 20
    }
   ],
   "source": [
    "print(\"arr3.shape : \",arr3.shape)\n",
    "print(\"arr3.ndim : \" ,arr3.ndim)\n",
    "# range와 유사함.\n",
    "np.arange(10)\n"
   ]
  },
  {
   "cell_type": "code",
   "execution_count": 24,
   "metadata": {},
   "outputs": [
    {
     "output_type": "stream",
     "name": "stdout",
     "text": [
      "Wall time: 17.3 s\n",
      "<timed eval>:1: RuntimeWarning: overflow encountered in long_scalars\n"
     ]
    },
    {
     "output_type": "execute_result",
     "data": {
      "text/plain": [
       "887459712"
      ]
     },
     "metadata": {},
     "execution_count": 24
    }
   ],
   "source": [
    "%%time\n",
    "sum(np.arange(1,100000000))"
   ]
  },
  {
   "cell_type": "code",
   "execution_count": 23,
   "metadata": {},
   "outputs": [
    {
     "output_type": "stream",
     "name": "stdout",
     "text": [
      "Wall time: 6.63 s\n"
     ]
    },
    {
     "output_type": "execute_result",
     "data": {
      "text/plain": [
       "4999999950000000"
      ]
     },
     "metadata": {},
     "execution_count": 23
    }
   ],
   "source": [
    "%%time\n",
    "sum(range(1,100000000))"
   ]
  },
  {
   "cell_type": "code",
   "execution_count": 26,
   "metadata": {},
   "outputs": [],
   "source": [
    "# dtype = 자료형 을 이용하여 자료형을 명시해줄 수 있다.\n",
    "# dtype을 사용하면 변수의 자료형을 볼 수 있다.\n",
    "arr5 = np.array([1,2,3,4] , dtype = np.int8)\n",
    "arr5_1 = np.array((1,2,3,4))"
   ]
  },
  {
   "cell_type": "code",
   "execution_count": 30,
   "metadata": {},
   "outputs": [
    {
     "output_type": "stream",
     "name": "stdout",
     "text": [
      "arr6.dtype :  float64\narr6.size :  30\n[[[6.23042070e-307 4.67296746e-307]\n  [1.69121096e-306 1.11260280e-306]\n  [8.34441742e-308 1.37961302e-306]]\n\n [[9.34593493e-307 1.33511290e-306]\n  [1.33511969e-306 1.69120416e-306]\n  [1.37962117e-306 1.11260280e-306]]\n\n [[1.42420617e-306 1.60219035e-306]\n  [1.00132398e-307 8.34425615e-308]\n  [1.16820622e-307 1.27946076e-307]]\n\n [[2.22522597e-306 1.33511969e-306]\n  [9.34604358e-307 1.11261027e-306]\n  [2.22522597e-306 1.33511969e-306]]\n\n [[8.45594613e-307 1.86921958e-306]\n  [6.89804133e-307 1.11261162e-306]\n  [8.34443015e-308 2.22813476e-312]]]\n"
     ]
    }
   ],
   "source": [
    "arr6 = np.ndarray((5,3,2))\n",
    "print(\"arr6.dtype : \",arr6.dtype)\n",
    "print(\"arr6.size : \",arr6.size)\n",
    "print(arr6)\n"
   ]
  },
  {
   "cell_type": "code",
   "execution_count": 43,
   "metadata": {},
   "outputs": [
    {
     "output_type": "stream",
     "name": "stdout",
     "text": [
      "arr7 \n [[1 2 3]\n [4 5 6]]\narr7.T \n [[1 4]\n [2 5]\n [3 6]]\narr7.dot(arr.T)\n [[14 32]\n [32 77]]\n"
     ]
    }
   ],
   "source": [
    "arr7= np.arange(1,7).reshape(2,3)\n",
    "print(\"arr7 \\n\",arr7)\n",
    "# 행렬을 전치시켜줌 Transpose\n",
    "print(\"arr7.T \\n\",arr7.T)\n",
    "print(\"arr7.dot(arr.T)\\n\",arr7.dot(arr7.T))\n"
   ]
  },
  {
   "cell_type": "code",
   "execution_count": 47,
   "metadata": {},
   "outputs": [
    {
     "output_type": "execute_result",
     "data": {
      "text/plain": [
       "array([87, 85, 96, 79, 94, 90, 94, 90, 77, 61])"
      ]
     },
     "metadata": {},
     "execution_count": 47
    }
   ],
   "source": [
    "# seed값에 따라 randint값이 달라진다.\n",
    "np.random.seed(10)\n",
    "# 60~100 사이의 값중 10개를 가져온다\n",
    "np.random.randint(60,100,100)\n",
    "#\n",
    "np.random.choice(x,10)"
   ]
  },
  {
   "cell_type": "code",
   "execution_count": 48,
   "metadata": {},
   "outputs": [
    {
     "output_type": "execute_result",
     "data": {
      "text/plain": [
       "3240"
      ]
     },
     "metadata": {},
     "execution_count": 48
    }
   ],
   "source": [
    "x = np.random.randint(60,100,100)\n",
    "s = 0\n",
    "for i in x:\n",
    "    if i % 3 ==0:\n",
    "        s+=i\n",
    "s"
   ]
  },
  {
   "cell_type": "code",
   "execution_count": 61,
   "metadata": {},
   "outputs": [
    {
     "output_type": "stream",
     "name": "stdout",
     "text": [
      "for문이용 :  3240\nsum(x[x%3 ==0]) 3240\n"
     ]
    }
   ],
   "source": [
    "x_t = []\n",
    "for i in x:\n",
    "    if i %3 ==0:\n",
    "        x_t.append(i)\n",
    "print(\"for문이용 : \",sum(x_t))\n",
    "print(\"sum(x[x%3 ==0])\",sum(x[x%3 ==0]))"
   ]
  },
  {
   "source": [
    "\n"
   ],
   "cell_type": "markdown",
   "metadata": {}
  },
  {
   "cell_type": "code",
   "execution_count": 57,
   "metadata": {},
   "outputs": [
    {
     "output_type": "stream",
     "name": "stdout",
     "text": [
      "y :  [3 4 6]\ny[[True,False,True]] :  [3 6]\n"
     ]
    }
   ],
   "source": [
    "y = np.array([3,4,6])\n",
    "print(\"y : \", y)\n",
    "# True,False를 이용하여 필요한 값만 가져올 수있다.\n",
    "print(\"y[[True,False,True]] : \",y[[True,False,True]])\n"
   ]
  },
  {
   "cell_type": "code",
   "execution_count": 76,
   "metadata": {},
   "outputs": [
    {
     "output_type": "stream",
     "name": "stdout",
     "text": [
      "60.109298273404086\n3.7947\n"
     ]
    }
   ],
   "source": [
    "np.random.seed(100)\n",
    "x = np.random.randint(20,100,100000)\n",
    "#3의배수이면서, 5의 배수인 것의 평균\n",
    "ans = x[(x%3 ==0) & (x%5 == 0)].mean()\n",
    "ans2 = np.sum(x[(x%3 ==0) & (x%5 == 0)])/x.size\n",
    "\n",
    "print(ans)\n",
    "print(ans2)"
   ]
  },
  {
   "cell_type": "code",
   "execution_count": 80,
   "metadata": {},
   "outputs": [
    {
     "output_type": "execute_result",
     "data": {
      "text/plain": [
       "array([[28, 44],\n",
       "       [68, 30]])"
      ]
     },
     "metadata": {},
     "execution_count": 80
    }
   ],
   "source": [
    "# -1를 삽입하면, 장동으로 설치된다.\n",
    "score = x.reshape(-1,4)\n",
    "score.shape\n",
    "score[[0,1]][:,[0,1]]"
   ]
  },
  {
   "cell_type": "code",
   "execution_count": null,
   "metadata": {},
   "outputs": [],
   "source": [
    "# select avg(국어) + avg(영어)\n",
    "# from  X\n",
    "# where X >b"
   ]
  },
  {
   "cell_type": "code",
   "execution_count": 2,
   "metadata": {},
   "outputs": [
    {
     "output_type": "error",
     "ename": "ModuleNotFoundError",
     "evalue": "No module named 'numpy.core._multiarray_umath'",
     "traceback": [
      "\u001b[1;31m---------------------------------------------------------------------------\u001b[0m",
      "\u001b[1;31mModuleNotFoundError\u001b[0m                       Traceback (most recent call last)",
      "\u001b[1;31mModuleNotFoundError\u001b[0m: No module named 'numpy.core._multiarray_umath'"
     ]
    }
   ],
   "source": [
    "from tensorflow.python.client import device_lib\n",
    "print(device_lib.list_local_devices())"
   ]
  },
  {
   "cell_type": "code",
   "execution_count": 21,
   "metadata": {},
   "outputs": [
    {
     "output_type": "error",
     "ename": "ModuleNotFoundError",
     "evalue": "No module named 'numpy.core._multiarray_umath'",
     "traceback": [
      "\u001b[1;31m---------------------------------------------------------------------------\u001b[0m",
      "\u001b[1;31mModuleNotFoundError\u001b[0m                       Traceback (most recent call last)",
      "\u001b[1;31mModuleNotFoundError\u001b[0m: No module named 'numpy.core._multiarray_umath'"
     ]
    }
   ],
   "source": [
    "import tensorflow as tf\n",
    "a=tf.constant(3)\n",
    "sess = tf.Session()\n"
   ]
  },
  {
   "cell_type": "code",
   "execution_count": null,
   "metadata": {},
   "outputs": [],
   "source": []
  }
 ]
}