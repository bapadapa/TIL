{
 "metadata": {
  "language_info": {
   "codemirror_mode": {
    "name": "ipython",
    "version": 3
   },
   "file_extension": ".py",
   "mimetype": "text/x-python",
   "name": "python",
   "nbconvert_exporter": "python",
   "pygments_lexer": "ipython3",
   "version": "3.8.8"
  },
  "orig_nbformat": 4,
  "kernelspec": {
   "name": "python3",
   "display_name": "Python 3.8.8 64-bit ('base': conda)"
  },
  "interpreter": {
   "hash": "68964f74c11d332c21e95cd675b1759e0933fc99bd167841b9b8a4ac82dd0a35"
  }
 },
 "nbformat": 4,
 "nbformat_minor": 2,
 "cells": [
  {
   "cell_type": "code",
   "execution_count": 28,
   "metadata": {},
   "outputs": [],
   "source": [
    "import numpy as np\n",
    "import pandas as pd\n",
    "import matplotlib as plt\n",
    "from sklearn.model_selection import train_test_split\n",
    "from sklearn.ensemble import RandomForestClassifier\n",
    " "
   ]
  },
  {
   "cell_type": "code",
   "execution_count": 29,
   "metadata": {},
   "outputs": [],
   "source": [
    "#사용할 파일 임포트\n",
    "df = pd.read_csv(\"../data/us_new_born_2million.csv\")"
   ]
  },
  {
   "cell_type": "code",
   "execution_count": 30,
   "metadata": {},
   "outputs": [
    {
     "output_type": "execute_result",
     "data": {
      "text/plain": [
       "weight_pounds         float64\n",
       "state                  object\n",
       "year                    int64\n",
       "month                   int64\n",
       "child_race            float64\n",
       "plurality               int64\n",
       "mother_race           float64\n",
       "mother_age              int64\n",
       "cigarette_use          object\n",
       "cigarettes_per_day    float64\n",
       "alcohol_use            object\n",
       "drinks_per_week       float64\n",
       "father_race           float64\n",
       "father_age              int64\n",
       "is_male                  bool\n",
       "gestation_weeks         int64\n",
       "dtype: object"
      ]
     },
     "metadata": {},
     "execution_count": 30
    }
   ],
   "source": [
    "df.dtypes"
   ]
  },
  {
   "cell_type": "code",
   "execution_count": 31,
   "metadata": {},
   "outputs": [
    {
     "output_type": "execute_result",
     "data": {
      "text/plain": [
       "weight_pounds         False\n",
       "state                 False\n",
       "year                  False\n",
       "month                 False\n",
       "child_race             True\n",
       "plurality             False\n",
       "mother_race           False\n",
       "mother_age            False\n",
       "cigarette_use         False\n",
       "cigarettes_per_day     True\n",
       "alcohol_use           False\n",
       "drinks_per_week        True\n",
       "father_race           False\n",
       "father_age            False\n",
       "is_male               False\n",
       "gestation_weeks       False\n",
       "dtype: bool"
      ]
     },
     "metadata": {},
     "execution_count": 31
    }
   ],
   "source": [
    "# 각 값이 빈 값 여부 판단\n",
    "# 비어있다면 True ,  안 비어있다면 False\n",
    "df.isna()\n",
    "# sum 과 함께 사용하면, 빈값, 즉 True의 개수를 return 해준다.\n",
    "df.isna().sum()\n",
    "# shape를 이용하면 , (row수, col수)로 return 해준다.\n",
    "df.shape\n",
    "# 아래와 같이 작성하면 True의 비율을 알 수 있다.\n",
    "df.isna().sum()/df.shape[0]\n",
    "# 아래와 같이 작성하면, True 의 비율이 0.7 이상인 것을 구할 수 있다. (이상이면 True, 미만이면 False)\n",
    "df.isna().sum()/df.shape[0] > 0.7\n",
    "\n"
   ]
  },
  {
   "cell_type": "code",
   "execution_count": 32,
   "metadata": {},
   "outputs": [
    {
     "output_type": "execute_result",
     "data": {
      "text/plain": [
       "Index(['child_race', 'cigarettes_per_day', 'drinks_per_week'], dtype='object')"
      ]
     },
     "metadata": {},
     "execution_count": 32
    }
   ],
   "source": [
    "df.isna().sum()[df.isna().sum()/df.shape[0] > \n",
    "                ((df.isna().sum()/df.shape[0]).mean()+ \n",
    "                (df.isna().sum()/df.shape[0]).std())].index\n",
    "\n",
    "    "
   ]
  },
  {
   "cell_type": "code",
   "execution_count": 33,
   "metadata": {},
   "outputs": [
    {
     "output_type": "execute_result",
     "data": {
      "text/plain": [
       "         year  month  child_race  plurality  mother_race  mother_age  \\\n",
       "0        2003      9         NaN          1          1.0          34   \n",
       "1        2003      1         NaN          1          1.0          37   \n",
       "2        2003     12         NaN          1          1.0          30   \n",
       "3        2003      4         NaN          1          7.0          39   \n",
       "4        2004      2         NaN          1          1.0          38   \n",
       "...       ...    ...         ...        ...          ...         ...   \n",
       "1998241  2003      9         NaN          1         38.0          35   \n",
       "1998242  2003      1         NaN          1          2.0          32   \n",
       "1998243  2004      8         NaN          1          2.0          30   \n",
       "1998244  2004     12         NaN          2          2.0          29   \n",
       "1998245  2003     10         NaN          1          2.0          31   \n",
       "\n",
       "        cigarette_use  cigarettes_per_day alcohol_use  drinks_per_week  \\\n",
       "0               False                 NaN       False              NaN   \n",
       "1                True                15.0        True              0.0   \n",
       "2               False                 NaN       False              NaN   \n",
       "3               False                 NaN       False              NaN   \n",
       "4               False                 NaN       False              NaN   \n",
       "...               ...                 ...         ...              ...   \n",
       "1998241         False                 NaN       False              NaN   \n",
       "1998242          True                 6.0        True              0.0   \n",
       "1998243         False                 NaN       False              NaN   \n",
       "1998244         False                 NaN       False              NaN   \n",
       "1998245          True                 9.0        True              0.0   \n",
       "\n",
       "         father_race  father_age  is_male  gestation_weeks  \n",
       "0                1.0          39    False               39  \n",
       "1                1.0          31     True               41  \n",
       "2                1.0          38    False               40  \n",
       "3                1.0          39     True               40  \n",
       "4                1.0          39     True               40  \n",
       "...              ...         ...      ...              ...  \n",
       "1998241         99.0          99     True               40  \n",
       "1998242         99.0          99     True               38  \n",
       "1998243         99.0          48    False               39  \n",
       "1998244         99.0          99    False               40  \n",
       "1998245         99.0          99     True               38  \n",
       "\n",
       "[1998246 rows x 14 columns]"
      ],
      "text/html": "<div>\n<style scoped>\n    .dataframe tbody tr th:only-of-type {\n        vertical-align: middle;\n    }\n\n    .dataframe tbody tr th {\n        vertical-align: top;\n    }\n\n    .dataframe thead th {\n        text-align: right;\n    }\n</style>\n<table border=\"1\" class=\"dataframe\">\n  <thead>\n    <tr style=\"text-align: right;\">\n      <th></th>\n      <th>year</th>\n      <th>month</th>\n      <th>child_race</th>\n      <th>plurality</th>\n      <th>mother_race</th>\n      <th>mother_age</th>\n      <th>cigarette_use</th>\n      <th>cigarettes_per_day</th>\n      <th>alcohol_use</th>\n      <th>drinks_per_week</th>\n      <th>father_race</th>\n      <th>father_age</th>\n      <th>is_male</th>\n      <th>gestation_weeks</th>\n    </tr>\n  </thead>\n  <tbody>\n    <tr>\n      <th>0</th>\n      <td>2003</td>\n      <td>9</td>\n      <td>NaN</td>\n      <td>1</td>\n      <td>1.0</td>\n      <td>34</td>\n      <td>False</td>\n      <td>NaN</td>\n      <td>False</td>\n      <td>NaN</td>\n      <td>1.0</td>\n      <td>39</td>\n      <td>False</td>\n      <td>39</td>\n    </tr>\n    <tr>\n      <th>1</th>\n      <td>2003</td>\n      <td>1</td>\n      <td>NaN</td>\n      <td>1</td>\n      <td>1.0</td>\n      <td>37</td>\n      <td>True</td>\n      <td>15.0</td>\n      <td>True</td>\n      <td>0.0</td>\n      <td>1.0</td>\n      <td>31</td>\n      <td>True</td>\n      <td>41</td>\n    </tr>\n    <tr>\n      <th>2</th>\n      <td>2003</td>\n      <td>12</td>\n      <td>NaN</td>\n      <td>1</td>\n      <td>1.0</td>\n      <td>30</td>\n      <td>False</td>\n      <td>NaN</td>\n      <td>False</td>\n      <td>NaN</td>\n      <td>1.0</td>\n      <td>38</td>\n      <td>False</td>\n      <td>40</td>\n    </tr>\n    <tr>\n      <th>3</th>\n      <td>2003</td>\n      <td>4</td>\n      <td>NaN</td>\n      <td>1</td>\n      <td>7.0</td>\n      <td>39</td>\n      <td>False</td>\n      <td>NaN</td>\n      <td>False</td>\n      <td>NaN</td>\n      <td>1.0</td>\n      <td>39</td>\n      <td>True</td>\n      <td>40</td>\n    </tr>\n    <tr>\n      <th>4</th>\n      <td>2004</td>\n      <td>2</td>\n      <td>NaN</td>\n      <td>1</td>\n      <td>1.0</td>\n      <td>38</td>\n      <td>False</td>\n      <td>NaN</td>\n      <td>False</td>\n      <td>NaN</td>\n      <td>1.0</td>\n      <td>39</td>\n      <td>True</td>\n      <td>40</td>\n    </tr>\n    <tr>\n      <th>...</th>\n      <td>...</td>\n      <td>...</td>\n      <td>...</td>\n      <td>...</td>\n      <td>...</td>\n      <td>...</td>\n      <td>...</td>\n      <td>...</td>\n      <td>...</td>\n      <td>...</td>\n      <td>...</td>\n      <td>...</td>\n      <td>...</td>\n      <td>...</td>\n    </tr>\n    <tr>\n      <th>1998241</th>\n      <td>2003</td>\n      <td>9</td>\n      <td>NaN</td>\n      <td>1</td>\n      <td>38.0</td>\n      <td>35</td>\n      <td>False</td>\n      <td>NaN</td>\n      <td>False</td>\n      <td>NaN</td>\n      <td>99.0</td>\n      <td>99</td>\n      <td>True</td>\n      <td>40</td>\n    </tr>\n    <tr>\n      <th>1998242</th>\n      <td>2003</td>\n      <td>1</td>\n      <td>NaN</td>\n      <td>1</td>\n      <td>2.0</td>\n      <td>32</td>\n      <td>True</td>\n      <td>6.0</td>\n      <td>True</td>\n      <td>0.0</td>\n      <td>99.0</td>\n      <td>99</td>\n      <td>True</td>\n      <td>38</td>\n    </tr>\n    <tr>\n      <th>1998243</th>\n      <td>2004</td>\n      <td>8</td>\n      <td>NaN</td>\n      <td>1</td>\n      <td>2.0</td>\n      <td>30</td>\n      <td>False</td>\n      <td>NaN</td>\n      <td>False</td>\n      <td>NaN</td>\n      <td>99.0</td>\n      <td>48</td>\n      <td>False</td>\n      <td>39</td>\n    </tr>\n    <tr>\n      <th>1998244</th>\n      <td>2004</td>\n      <td>12</td>\n      <td>NaN</td>\n      <td>2</td>\n      <td>2.0</td>\n      <td>29</td>\n      <td>False</td>\n      <td>NaN</td>\n      <td>False</td>\n      <td>NaN</td>\n      <td>99.0</td>\n      <td>99</td>\n      <td>False</td>\n      <td>40</td>\n    </tr>\n    <tr>\n      <th>1998245</th>\n      <td>2003</td>\n      <td>10</td>\n      <td>NaN</td>\n      <td>1</td>\n      <td>2.0</td>\n      <td>31</td>\n      <td>True</td>\n      <td>9.0</td>\n      <td>True</td>\n      <td>0.0</td>\n      <td>99.0</td>\n      <td>99</td>\n      <td>True</td>\n      <td>38</td>\n    </tr>\n  </tbody>\n</table>\n<p>1998246 rows × 14 columns</p>\n</div>"
     },
     "metadata": {},
     "execution_count": 33
    }
   ],
   "source": [
    "#weigt , state 칼럼 삭제하기.\n",
    "# df에 삭제시킨 것을 바로 적용시키고 싶다면, 'inplace = True' 옵션을 추가해주면 된다.\n",
    "df.drop(['weight_pounds','state'],axis =1 )"
   ]
  },
  {
   "cell_type": "code",
   "execution_count": 34,
   "metadata": {},
   "outputs": [],
   "source": [
    "# 추출한 index와 drop을 한번에 작성하기 !\n",
    "# 빈데이터가 na값이 \n",
    "\n",
    "df.drop(df.isna().sum()[df.isna().sum()/df.shape[0] > \n",
    "                ((df.isna().sum()/df.shape[0]).mean()+ \n",
    "                (df.isna().sum()/df.shape[0]).std())].index , axis =1 , inplace= True)"
   ]
  },
  {
   "cell_type": "code",
   "execution_count": 35,
   "metadata": {},
   "outputs": [
    {
     "output_type": "execute_result",
     "data": {
      "text/plain": [
       "13"
      ]
     },
     "metadata": {},
     "execution_count": 35
    }
   ],
   "source": [
    "df.columns.size"
   ]
  },
  {
   "cell_type": "code",
   "execution_count": 36,
   "metadata": {},
   "outputs": [
    {
     "output_type": "execute_result",
     "data": {
      "text/plain": [
       "   weight_pounds state  year  month  plurality  mother_race  mother_age  \\\n",
       "0       7.813183    GA  2003      9          1          1.0          34   \n",
       "1       8.000575    GA  2003      1          1          1.0          37   \n",
       "2       7.251004    GA  2003     12          1          1.0          30   \n",
       "3       9.568062    GA  2003      4          1          7.0          39   \n",
       "4       7.187070    GA  2004      2          1          1.0          38   \n",
       "\n",
       "  cigarette_use alcohol_use  father_race  father_age  is_male  gestation_weeks  \n",
       "0         False       False          1.0          39    False               39  \n",
       "1          True        True          1.0          31     True               41  \n",
       "2         False       False          1.0          38    False               40  \n",
       "3         False       False          1.0          39     True               40  \n",
       "4         False       False          1.0          39     True               40  "
      ],
      "text/html": "<div>\n<style scoped>\n    .dataframe tbody tr th:only-of-type {\n        vertical-align: middle;\n    }\n\n    .dataframe tbody tr th {\n        vertical-align: top;\n    }\n\n    .dataframe thead th {\n        text-align: right;\n    }\n</style>\n<table border=\"1\" class=\"dataframe\">\n  <thead>\n    <tr style=\"text-align: right;\">\n      <th></th>\n      <th>weight_pounds</th>\n      <th>state</th>\n      <th>year</th>\n      <th>month</th>\n      <th>plurality</th>\n      <th>mother_race</th>\n      <th>mother_age</th>\n      <th>cigarette_use</th>\n      <th>alcohol_use</th>\n      <th>father_race</th>\n      <th>father_age</th>\n      <th>is_male</th>\n      <th>gestation_weeks</th>\n    </tr>\n  </thead>\n  <tbody>\n    <tr>\n      <th>0</th>\n      <td>7.813183</td>\n      <td>GA</td>\n      <td>2003</td>\n      <td>9</td>\n      <td>1</td>\n      <td>1.0</td>\n      <td>34</td>\n      <td>False</td>\n      <td>False</td>\n      <td>1.0</td>\n      <td>39</td>\n      <td>False</td>\n      <td>39</td>\n    </tr>\n    <tr>\n      <th>1</th>\n      <td>8.000575</td>\n      <td>GA</td>\n      <td>2003</td>\n      <td>1</td>\n      <td>1</td>\n      <td>1.0</td>\n      <td>37</td>\n      <td>True</td>\n      <td>True</td>\n      <td>1.0</td>\n      <td>31</td>\n      <td>True</td>\n      <td>41</td>\n    </tr>\n    <tr>\n      <th>2</th>\n      <td>7.251004</td>\n      <td>GA</td>\n      <td>2003</td>\n      <td>12</td>\n      <td>1</td>\n      <td>1.0</td>\n      <td>30</td>\n      <td>False</td>\n      <td>False</td>\n      <td>1.0</td>\n      <td>38</td>\n      <td>False</td>\n      <td>40</td>\n    </tr>\n    <tr>\n      <th>3</th>\n      <td>9.568062</td>\n      <td>GA</td>\n      <td>2003</td>\n      <td>4</td>\n      <td>1</td>\n      <td>7.0</td>\n      <td>39</td>\n      <td>False</td>\n      <td>False</td>\n      <td>1.0</td>\n      <td>39</td>\n      <td>True</td>\n      <td>40</td>\n    </tr>\n    <tr>\n      <th>4</th>\n      <td>7.187070</td>\n      <td>GA</td>\n      <td>2004</td>\n      <td>2</td>\n      <td>1</td>\n      <td>1.0</td>\n      <td>38</td>\n      <td>False</td>\n      <td>False</td>\n      <td>1.0</td>\n      <td>39</td>\n      <td>True</td>\n      <td>40</td>\n    </tr>\n  </tbody>\n</table>\n</div>"
     },
     "metadata": {},
     "execution_count": 36
    }
   ],
   "source": [
    "df.head()"
   ]
  },
  {
   "cell_type": "code",
   "execution_count": 37,
   "metadata": {},
   "outputs": [
    {
     "output_type": "execute_result",
     "data": {
      "text/plain": [
       "Int64Index([   6990,    6991,    6992,    6993,    6994,    6995,    6996,\n",
       "               6997,    6998,    6999,\n",
       "            ...\n",
       "            1998156, 1998157, 1998158, 1998159, 1998160, 1998161, 1998162,\n",
       "            1998163, 1998164, 1998165],\n",
       "           dtype='int64', length=226858)"
      ]
     },
     "metadata": {},
     "execution_count": 37
    }
   ],
   "source": [
    "# 행의 nan 갯수가 30% 이상인 행 추출\n",
    "df.isna().sum(axis=1)[df.isna().sum(axis=1) /df.columns.size >0.3].index\n"
   ]
  },
  {
   "cell_type": "code",
   "execution_count": 38,
   "metadata": {},
   "outputs": [],
   "source": [
    "# 추출한 행 삭제하기\n",
    "df.drop(df.isna().sum(axis=1)[df.isna().sum(axis=1) /df.columns.size >0.3].index,axis=0 , inplace=True)"
   ]
  },
  {
   "cell_type": "code",
   "execution_count": 39,
   "metadata": {},
   "outputs": [
    {
     "output_type": "execute_result",
     "data": {
      "text/plain": [
       "(1771388, 13)"
      ]
     },
     "metadata": {},
     "execution_count": 39
    }
   ],
   "source": [
    "df.shape"
   ]
  },
  {
   "cell_type": "code",
   "execution_count": 40,
   "metadata": {},
   "outputs": [],
   "source": [
    "# .copy()로 복사해야, df1과 df가 독립적으로 수행이된다.(서로 다른 변수가 된다.)\n",
    "df1 = df.copy()"
   ]
  },
  {
   "cell_type": "code",
   "execution_count": 84,
   "metadata": {},
   "outputs": [],
   "source": [
    "df1.weight_pounds.fillna(df1.weight_pounds.mean(),inplace = True)\n"
   ]
  },
  {
   "cell_type": "code",
   "execution_count": 85,
   "metadata": {},
   "outputs": [
    {
     "output_type": "stream",
     "name": "stderr",
     "text": [
      "<ipython-input-85-6b227b849999>:1: SettingWithCopyWarning: \nA value is trying to be set on a copy of a slice from a DataFrame\n\nSee the caveats in the documentation: https://pandas.pydata.org/pandas-docs/stable/user_guide/indexing.html#returning-a-view-versus-a-copy\n  df.weight_pounds[df1.is_male & df.weight_pounds.isna()] = df.loc[df1.is_male,'weight_pounds']\n"
     ]
    }
   ],
   "source": [
    "df.weight_pounds[df1.is_male & df.weight_pounds.isna()] = df.loc[df1.is_male,'weight_pounds']"
   ]
  },
  {
   "cell_type": "code",
   "execution_count": 86,
   "metadata": {},
   "outputs": [
    {
     "output_type": "error",
     "ename": "ValueError",
     "evalue": "operands could not be broadcast together with shapes (1771388,) (907224,) (864164,) ",
     "traceback": [
      "\u001b[1;31m---------------------------------------------------------------------------\u001b[0m",
      "\u001b[1;31mValueError\u001b[0m                                Traceback (most recent call last)",
      "\u001b[1;32m<ipython-input-86-43b331274c94>\u001b[0m in \u001b[0;36m<module>\u001b[1;34m\u001b[0m\n\u001b[0;32m      1\u001b[0m df1 = np.where(~df.weight_pounds.isna() , df.weight_pounds,\n\u001b[1;32m----> 2\u001b[1;33m         np.where(df.is_male  , \n\u001b[0m\u001b[0;32m      3\u001b[0m             df.loc[df.is_male,'weight_pounds'] ,  df.loc[~df.is_male,'weight_pounds']))\n",
      "\u001b[1;32m<__array_function__ internals>\u001b[0m in \u001b[0;36mwhere\u001b[1;34m(*args, **kwargs)\u001b[0m\n",
      "\u001b[1;31mValueError\u001b[0m: operands could not be broadcast together with shapes (1771388,) (907224,) (864164,) "
     ]
    }
   ],
   "source": [
    "df1 = np.where(~df.weight_pounds.isna() , df.weight_pounds,\n",
    "        np.where(df.is_male  , \n",
    "            df.loc[df.is_male,'weight_pounds'] ,  df.loc[~df.is_male,'weight_pounds']))"
   ]
  },
  {
   "cell_type": "code",
   "execution_count": 44,
   "metadata": {},
   "outputs": [],
   "source": [
    "df1.loc[df1.cigarette_use.isna(),:]\n",
    "# cigarette_use | alcohol_use ! = nan 인 행 추출\n",
    "data = df1.loc[~df1.cigarette_use.isna() | ~df1.alcohol_use.isna()]\n",
    "cols = ['plurality','mother_race','mother_age','father_race','father_age','cigarette_use']\n",
    "data = data[cols]\n",
    "# cigarette_use 를 int32로 형변환\n",
    "data.cigarette_use = data.cigarette_use.astype('int32')\n",
    "# 분석을 위해 x,y로 구분 \n",
    "X = data.iloc[:,:-1]\n",
    "Y = data.iloc[:,-1]\n",
    "# train, test로 나누어줌\n",
    "# X_train, X_test ,Y_train, Y_test = train_test_split(X,Y,test_size=0.2)\n",
    "# rf = RandomForestClassifier()\n",
    "# rf.fit(X_train,Y_train)\n",
    "\n",
    "# 아래 3줄을 주석을 풀어야함... 그런데 너무 오래걸림.. ( Tensor꼭 성공하자...)\n",
    "\n"
   ]
  },
  {
   "cell_type": "code",
   "execution_count": 45,
   "metadata": {},
   "outputs": [
    {
     "output_type": "error",
     "ename": "NameError",
     "evalue": "name 'rf' is not defined",
     "traceback": [
      "\u001b[1;31m---------------------------------------------------------------------------\u001b[0m",
      "\u001b[1;31mNameError\u001b[0m                                 Traceback (most recent call last)",
      "\u001b[1;32m<ipython-input-45-af045d68468c>\u001b[0m in \u001b[0;36m<module>\u001b[1;34m\u001b[0m\n\u001b[0;32m      1\u001b[0m \u001b[1;31m# 신뢰도 점수!\u001b[0m\u001b[1;33m\u001b[0m\u001b[1;33m\u001b[0m\u001b[1;33m\u001b[0m\u001b[0m\n\u001b[1;32m----> 2\u001b[1;33m \u001b[0mrf\u001b[0m\u001b[1;33m.\u001b[0m\u001b[0mscore\u001b[0m\u001b[1;33m(\u001b[0m\u001b[0mX_test\u001b[0m\u001b[1;33m,\u001b[0m\u001b[0mY_test\u001b[0m\u001b[1;33m)\u001b[0m\u001b[1;33m\u001b[0m\u001b[1;33m\u001b[0m\u001b[0m\n\u001b[0m",
      "\u001b[1;31mNameError\u001b[0m: name 'rf' is not defined"
     ]
    }
   ],
   "source": [
    "# 신뢰도 점수!\n",
    "rf.score(X_test,Y_test)"
   ]
  },
  {
   "cell_type": "code",
   "execution_count": 46,
   "metadata": {},
   "outputs": [
    {
     "output_type": "execute_result",
     "data": {
      "text/plain": [
       "         weight_pounds state  year  month  plurality  mother_race  mother_age  \\\n",
       "0             7.813183    GA  2003      9          1          1.0          34   \n",
       "1             8.000575    GA  2003      1          1          1.0          37   \n",
       "2             7.251004    GA  2003     12          1          1.0          30   \n",
       "3             9.568062    GA  2003      4          1          7.0          39   \n",
       "4             7.187070    GA  2004      2          1          1.0          38   \n",
       "...                ...   ...   ...    ...        ...          ...         ...   \n",
       "1998241       7.228958    HI  2003      9          1         38.0          35   \n",
       "1998242       6.375769    IL  2003      1          1          2.0          32   \n",
       "1998243       6.375769    MD  2004      8          1          2.0          30   \n",
       "1998244       6.750554    MS  2004     12          2          2.0          29   \n",
       "1998245       5.690131    NY  2003     10          1          2.0          31   \n",
       "\n",
       "        cigarette_use alcohol_use  father_race  father_age  is_male  \\\n",
       "0               False       False          1.0          39    False   \n",
       "1                True        True          1.0          31     True   \n",
       "2               False       False          1.0          38    False   \n",
       "3               False       False          1.0          39     True   \n",
       "4               False       False          1.0          39     True   \n",
       "...               ...         ...          ...         ...      ...   \n",
       "1998241         False       False         99.0          99     True   \n",
       "1998242          True        True         99.0          99     True   \n",
       "1998243         False       False         99.0          48    False   \n",
       "1998244         False       False         99.0          99    False   \n",
       "1998245          True        True         99.0          99     True   \n",
       "\n",
       "         gestation_weeks  \n",
       "0                     39  \n",
       "1                     41  \n",
       "2                     40  \n",
       "3                     40  \n",
       "4                     40  \n",
       "...                  ...  \n",
       "1998241               40  \n",
       "1998242               38  \n",
       "1998243               39  \n",
       "1998244               40  \n",
       "1998245               38  \n",
       "\n",
       "[1492553 rows x 13 columns]"
      ],
      "text/html": "<div>\n<style scoped>\n    .dataframe tbody tr th:only-of-type {\n        vertical-align: middle;\n    }\n\n    .dataframe tbody tr th {\n        vertical-align: top;\n    }\n\n    .dataframe thead th {\n        text-align: right;\n    }\n</style>\n<table border=\"1\" class=\"dataframe\">\n  <thead>\n    <tr style=\"text-align: right;\">\n      <th></th>\n      <th>weight_pounds</th>\n      <th>state</th>\n      <th>year</th>\n      <th>month</th>\n      <th>plurality</th>\n      <th>mother_race</th>\n      <th>mother_age</th>\n      <th>cigarette_use</th>\n      <th>alcohol_use</th>\n      <th>father_race</th>\n      <th>father_age</th>\n      <th>is_male</th>\n      <th>gestation_weeks</th>\n    </tr>\n  </thead>\n  <tbody>\n    <tr>\n      <th>0</th>\n      <td>7.813183</td>\n      <td>GA</td>\n      <td>2003</td>\n      <td>9</td>\n      <td>1</td>\n      <td>1.0</td>\n      <td>34</td>\n      <td>False</td>\n      <td>False</td>\n      <td>1.0</td>\n      <td>39</td>\n      <td>False</td>\n      <td>39</td>\n    </tr>\n    <tr>\n      <th>1</th>\n      <td>8.000575</td>\n      <td>GA</td>\n      <td>2003</td>\n      <td>1</td>\n      <td>1</td>\n      <td>1.0</td>\n      <td>37</td>\n      <td>True</td>\n      <td>True</td>\n      <td>1.0</td>\n      <td>31</td>\n      <td>True</td>\n      <td>41</td>\n    </tr>\n    <tr>\n      <th>2</th>\n      <td>7.251004</td>\n      <td>GA</td>\n      <td>2003</td>\n      <td>12</td>\n      <td>1</td>\n      <td>1.0</td>\n      <td>30</td>\n      <td>False</td>\n      <td>False</td>\n      <td>1.0</td>\n      <td>38</td>\n      <td>False</td>\n      <td>40</td>\n    </tr>\n    <tr>\n      <th>3</th>\n      <td>9.568062</td>\n      <td>GA</td>\n      <td>2003</td>\n      <td>4</td>\n      <td>1</td>\n      <td>7.0</td>\n      <td>39</td>\n      <td>False</td>\n      <td>False</td>\n      <td>1.0</td>\n      <td>39</td>\n      <td>True</td>\n      <td>40</td>\n    </tr>\n    <tr>\n      <th>4</th>\n      <td>7.187070</td>\n      <td>GA</td>\n      <td>2004</td>\n      <td>2</td>\n      <td>1</td>\n      <td>1.0</td>\n      <td>38</td>\n      <td>False</td>\n      <td>False</td>\n      <td>1.0</td>\n      <td>39</td>\n      <td>True</td>\n      <td>40</td>\n    </tr>\n    <tr>\n      <th>...</th>\n      <td>...</td>\n      <td>...</td>\n      <td>...</td>\n      <td>...</td>\n      <td>...</td>\n      <td>...</td>\n      <td>...</td>\n      <td>...</td>\n      <td>...</td>\n      <td>...</td>\n      <td>...</td>\n      <td>...</td>\n      <td>...</td>\n    </tr>\n    <tr>\n      <th>1998241</th>\n      <td>7.228958</td>\n      <td>HI</td>\n      <td>2003</td>\n      <td>9</td>\n      <td>1</td>\n      <td>38.0</td>\n      <td>35</td>\n      <td>False</td>\n      <td>False</td>\n      <td>99.0</td>\n      <td>99</td>\n      <td>True</td>\n      <td>40</td>\n    </tr>\n    <tr>\n      <th>1998242</th>\n      <td>6.375769</td>\n      <td>IL</td>\n      <td>2003</td>\n      <td>1</td>\n      <td>1</td>\n      <td>2.0</td>\n      <td>32</td>\n      <td>True</td>\n      <td>True</td>\n      <td>99.0</td>\n      <td>99</td>\n      <td>True</td>\n      <td>38</td>\n    </tr>\n    <tr>\n      <th>1998243</th>\n      <td>6.375769</td>\n      <td>MD</td>\n      <td>2004</td>\n      <td>8</td>\n      <td>1</td>\n      <td>2.0</td>\n      <td>30</td>\n      <td>False</td>\n      <td>False</td>\n      <td>99.0</td>\n      <td>48</td>\n      <td>False</td>\n      <td>39</td>\n    </tr>\n    <tr>\n      <th>1998244</th>\n      <td>6.750554</td>\n      <td>MS</td>\n      <td>2004</td>\n      <td>12</td>\n      <td>2</td>\n      <td>2.0</td>\n      <td>29</td>\n      <td>False</td>\n      <td>False</td>\n      <td>99.0</td>\n      <td>99</td>\n      <td>False</td>\n      <td>40</td>\n    </tr>\n    <tr>\n      <th>1998245</th>\n      <td>5.690131</td>\n      <td>NY</td>\n      <td>2003</td>\n      <td>10</td>\n      <td>1</td>\n      <td>2.0</td>\n      <td>31</td>\n      <td>True</td>\n      <td>True</td>\n      <td>99.0</td>\n      <td>99</td>\n      <td>True</td>\n      <td>38</td>\n    </tr>\n  </tbody>\n</table>\n<p>1492553 rows × 13 columns</p>\n</div>"
     },
     "metadata": {},
     "execution_count": 46
    }
   ],
   "source": [
    "#데이터 확인\n",
    "df1.alcohol_use.value_counts()\n",
    "#분석을 통해 na를 imputation해준다.\n",
    "data = df1.loc[~df1.alcohol_use.isna(),:]\n",
    "data"
   ]
  },
  {
   "cell_type": "code",
   "execution_count": 47,
   "metadata": {},
   "outputs": [
    {
     "output_type": "execute_result",
     "data": {
      "text/plain": [
       "         plurality  mother_race  mother_age  cigarette_use  father_race  \\\n",
       "0            False        False       False          False        False   \n",
       "1            False        False       False          False        False   \n",
       "2            False        False       False          False        False   \n",
       "3            False        False       False          False        False   \n",
       "4            False        False       False          False        False   \n",
       "...            ...          ...         ...            ...          ...   \n",
       "1998241      False        False       False          False        False   \n",
       "1998242      False        False       False          False        False   \n",
       "1998243      False        False       False          False        False   \n",
       "1998244      False        False       False          False        False   \n",
       "1998245      False        False       False          False        False   \n",
       "\n",
       "         father_age  alcohol_use  \n",
       "0             False        False  \n",
       "1             False        False  \n",
       "2             False        False  \n",
       "3             False        False  \n",
       "4             False        False  \n",
       "...             ...          ...  \n",
       "1998241       False        False  \n",
       "1998242       False        False  \n",
       "1998243       False        False  \n",
       "1998244       False        False  \n",
       "1998245       False        False  \n",
       "\n",
       "[1492553 rows x 7 columns]"
      ],
      "text/html": "<div>\n<style scoped>\n    .dataframe tbody tr th:only-of-type {\n        vertical-align: middle;\n    }\n\n    .dataframe tbody tr th {\n        vertical-align: top;\n    }\n\n    .dataframe thead th {\n        text-align: right;\n    }\n</style>\n<table border=\"1\" class=\"dataframe\">\n  <thead>\n    <tr style=\"text-align: right;\">\n      <th></th>\n      <th>plurality</th>\n      <th>mother_race</th>\n      <th>mother_age</th>\n      <th>cigarette_use</th>\n      <th>father_race</th>\n      <th>father_age</th>\n      <th>alcohol_use</th>\n    </tr>\n  </thead>\n  <tbody>\n    <tr>\n      <th>0</th>\n      <td>False</td>\n      <td>False</td>\n      <td>False</td>\n      <td>False</td>\n      <td>False</td>\n      <td>False</td>\n      <td>False</td>\n    </tr>\n    <tr>\n      <th>1</th>\n      <td>False</td>\n      <td>False</td>\n      <td>False</td>\n      <td>False</td>\n      <td>False</td>\n      <td>False</td>\n      <td>False</td>\n    </tr>\n    <tr>\n      <th>2</th>\n      <td>False</td>\n      <td>False</td>\n      <td>False</td>\n      <td>False</td>\n      <td>False</td>\n      <td>False</td>\n      <td>False</td>\n    </tr>\n    <tr>\n      <th>3</th>\n      <td>False</td>\n      <td>False</td>\n      <td>False</td>\n      <td>False</td>\n      <td>False</td>\n      <td>False</td>\n      <td>False</td>\n    </tr>\n    <tr>\n      <th>4</th>\n      <td>False</td>\n      <td>False</td>\n      <td>False</td>\n      <td>False</td>\n      <td>False</td>\n      <td>False</td>\n      <td>False</td>\n    </tr>\n    <tr>\n      <th>...</th>\n      <td>...</td>\n      <td>...</td>\n      <td>...</td>\n      <td>...</td>\n      <td>...</td>\n      <td>...</td>\n      <td>...</td>\n    </tr>\n    <tr>\n      <th>1998241</th>\n      <td>False</td>\n      <td>False</td>\n      <td>False</td>\n      <td>False</td>\n      <td>False</td>\n      <td>False</td>\n      <td>False</td>\n    </tr>\n    <tr>\n      <th>1998242</th>\n      <td>False</td>\n      <td>False</td>\n      <td>False</td>\n      <td>False</td>\n      <td>False</td>\n      <td>False</td>\n      <td>False</td>\n    </tr>\n    <tr>\n      <th>1998243</th>\n      <td>False</td>\n      <td>False</td>\n      <td>False</td>\n      <td>False</td>\n      <td>False</td>\n      <td>False</td>\n      <td>False</td>\n    </tr>\n    <tr>\n      <th>1998244</th>\n      <td>False</td>\n      <td>False</td>\n      <td>False</td>\n      <td>False</td>\n      <td>False</td>\n      <td>False</td>\n      <td>False</td>\n    </tr>\n    <tr>\n      <th>1998245</th>\n      <td>False</td>\n      <td>False</td>\n      <td>False</td>\n      <td>False</td>\n      <td>False</td>\n      <td>False</td>\n      <td>False</td>\n    </tr>\n  </tbody>\n</table>\n<p>1492553 rows × 7 columns</p>\n</div>"
     },
     "metadata": {},
     "execution_count": 47
    }
   ],
   "source": [
    "# 필요한 데이터 추출(정리)\n",
    "cols = ['plurality','mother_race','mother_age','cigarette_use','father_race','father_age','alcohol_use']\n",
    "data = data[cols]\n",
    "data.isna()\n"
   ]
  },
  {
   "cell_type": "code",
   "execution_count": 48,
   "metadata": {},
   "outputs": [
    {
     "output_type": "stream",
     "name": "stderr",
     "text": [
      "C:\\Users\\painc\\Anaconda3\\lib\\site-packages\\pandas\\core\\generic.py:5494: SettingWithCopyWarning: \nA value is trying to be set on a copy of a slice from a DataFrame.\nTry using .loc[row_indexer,col_indexer] = value instead\n\nSee the caveats in the documentation: https://pandas.pydata.org/pandas-docs/stable/user_guide/indexing.html#returning-a-view-versus-a-copy\n  self[name] = value\n"
     ]
    },
    {
     "output_type": "execute_result",
     "data": {
      "text/plain": [
       "plurality          int64\n",
       "mother_race      float64\n",
       "mother_age         int64\n",
       "cigarette_use      int32\n",
       "father_race      float64\n",
       "father_age         int64\n",
       "alcohol_use        int32\n",
       "dtype: object"
      ]
     },
     "metadata": {},
     "execution_count": 48
    }
   ],
   "source": [
    "data.isna().sum()\n",
    "data.dtypes\n",
    "#  cigarette_use, alcohol_use 이 Object이기 때문에 형변환\n",
    "data.cigarette_use = data.cigarette_use.astype('int32')\n",
    "data.alcohol_use = data.alcohol_use.astype('int32')\n",
    "data.dtypes"
   ]
  },
  {
   "cell_type": "code",
   "execution_count": 49,
   "metadata": {},
   "outputs": [
    {
     "output_type": "stream",
     "name": "stdout",
     "text": [
      "1492553\n(1492553, 6)\n"
     ]
    }
   ],
   "source": [
    "X = data.iloc[:,:-1]\n",
    "Y = data.iloc[:,-1]\n",
    "ind = np.random.choice(X.index,X.index.size,replace=False)\n",
    "print(ind.size)\n",
    "print(X.shape)"
   ]
  },
  {
   "cell_type": "code",
   "execution_count": 50,
   "metadata": {},
   "outputs": [],
   "source": [
    "tr_ind = ind[ : np.ceil(ind.size*0.8).astype('int32')]\n",
    "ta_ind = ind[np.ceil(ind.size*0.8).astype('int32'):]"
   ]
  },
  {
   "cell_type": "code",
   "execution_count": 51,
   "metadata": {},
   "outputs": [],
   "source": [
    "X_train = X.loc[tr_ind,:]\n",
    "X_test =  X.loc[ta_ind,:]\n",
    "Y_train = Y[tr_ind]\n",
    "Y_test =  Y[ta_ind]\n"
   ]
  },
  {
   "cell_type": "code",
   "execution_count": 53,
   "metadata": {},
   "outputs": [
    {
     "output_type": "stream",
     "name": "stderr",
     "text": [
      "C:\\Users\\painc\\Anaconda3\\lib\\site-packages\\sklearn\\linear_model\\_logistic.py:763: ConvergenceWarning: lbfgs failed to converge (status=1):\nSTOP: TOTAL NO. of ITERATIONS REACHED LIMIT.\n\nIncrease the number of iterations (max_iter) or scale the data as shown in:\n    https://scikit-learn.org/stable/modules/preprocessing.html\nPlease also refer to the documentation for alternative solver options:\n    https://scikit-learn.org/stable/modules/linear_model.html#logistic-regression\n  n_iter_i = _check_optimize_result(\n"
     ]
    },
    {
     "output_type": "execute_result",
     "data": {
      "text/plain": [
       "1.0"
      ]
     },
     "metadata": {},
     "execution_count": 53
    }
   ],
   "source": [
    "# from sklearn.svm import SVC\n",
    "# sv_model = SVC(C =10 , kernel = 'rbf')\n",
    "# sv_model.fit(X_train,Y_train)\n",
    "# sv_model.score(X_test,Y_test)\n",
    "# svm은 너무 오래걸린다..\n",
    "from sklearn.linear_model import LogisticRegression\n",
    "lr = LogisticRegression()\n",
    "lr.fit(X_train,Y_train)\n",
    "lr.score(X_test,Y_test)\n"
   ]
  },
  {
   "cell_type": "code",
   "execution_count": 61,
   "metadata": {},
   "outputs": [],
   "source": [
    "x = df1.loc[df1.alcohol_use.isna(),cols]"
   ]
  },
  {
   "cell_type": "code",
   "execution_count": 63,
   "metadata": {},
   "outputs": [
    {
     "output_type": "error",
     "ename": "ValueError",
     "evalue": "Input contains NaN, infinity or a value too large for dtype('float64').",
     "traceback": [
      "\u001b[1;31m---------------------------------------------------------------------------\u001b[0m",
      "\u001b[1;31mValueError\u001b[0m                                Traceback (most recent call last)",
      "\u001b[1;32m<ipython-input-63-3c93f054da92>\u001b[0m in \u001b[0;36m<module>\u001b[1;34m\u001b[0m\n\u001b[1;32m----> 1\u001b[1;33m \u001b[0mpred\u001b[0m \u001b[1;33m=\u001b[0m \u001b[0mlr\u001b[0m\u001b[1;33m.\u001b[0m\u001b[0mpredict\u001b[0m\u001b[1;33m(\u001b[0m\u001b[0mx\u001b[0m\u001b[1;33m)\u001b[0m\u001b[1;33m\u001b[0m\u001b[1;33m\u001b[0m\u001b[0m\n\u001b[0m",
      "\u001b[1;32m~\\Anaconda3\\lib\\site-packages\\sklearn\\linear_model\\_base.py\u001b[0m in \u001b[0;36mpredict\u001b[1;34m(self, X)\u001b[0m\n\u001b[0;32m    307\u001b[0m             \u001b[0mPredicted\u001b[0m \u001b[1;32mclass\u001b[0m \u001b[0mlabel\u001b[0m \u001b[0mper\u001b[0m \u001b[0msample\u001b[0m\u001b[1;33m.\u001b[0m\u001b[1;33m\u001b[0m\u001b[1;33m\u001b[0m\u001b[0m\n\u001b[0;32m    308\u001b[0m         \"\"\"\n\u001b[1;32m--> 309\u001b[1;33m         \u001b[0mscores\u001b[0m \u001b[1;33m=\u001b[0m \u001b[0mself\u001b[0m\u001b[1;33m.\u001b[0m\u001b[0mdecision_function\u001b[0m\u001b[1;33m(\u001b[0m\u001b[0mX\u001b[0m\u001b[1;33m)\u001b[0m\u001b[1;33m\u001b[0m\u001b[1;33m\u001b[0m\u001b[0m\n\u001b[0m\u001b[0;32m    310\u001b[0m         \u001b[1;32mif\u001b[0m \u001b[0mlen\u001b[0m\u001b[1;33m(\u001b[0m\u001b[0mscores\u001b[0m\u001b[1;33m.\u001b[0m\u001b[0mshape\u001b[0m\u001b[1;33m)\u001b[0m \u001b[1;33m==\u001b[0m \u001b[1;36m1\u001b[0m\u001b[1;33m:\u001b[0m\u001b[1;33m\u001b[0m\u001b[1;33m\u001b[0m\u001b[0m\n\u001b[0;32m    311\u001b[0m             \u001b[0mindices\u001b[0m \u001b[1;33m=\u001b[0m \u001b[1;33m(\u001b[0m\u001b[0mscores\u001b[0m \u001b[1;33m>\u001b[0m \u001b[1;36m0\u001b[0m\u001b[1;33m)\u001b[0m\u001b[1;33m.\u001b[0m\u001b[0mastype\u001b[0m\u001b[1;33m(\u001b[0m\u001b[0mint\u001b[0m\u001b[1;33m)\u001b[0m\u001b[1;33m\u001b[0m\u001b[1;33m\u001b[0m\u001b[0m\n",
      "\u001b[1;32m~\\Anaconda3\\lib\\site-packages\\sklearn\\linear_model\\_base.py\u001b[0m in \u001b[0;36mdecision_function\u001b[1;34m(self, X)\u001b[0m\n\u001b[0;32m    282\u001b[0m         \u001b[0mcheck_is_fitted\u001b[0m\u001b[1;33m(\u001b[0m\u001b[0mself\u001b[0m\u001b[1;33m)\u001b[0m\u001b[1;33m\u001b[0m\u001b[1;33m\u001b[0m\u001b[0m\n\u001b[0;32m    283\u001b[0m \u001b[1;33m\u001b[0m\u001b[0m\n\u001b[1;32m--> 284\u001b[1;33m         \u001b[0mX\u001b[0m \u001b[1;33m=\u001b[0m \u001b[0mcheck_array\u001b[0m\u001b[1;33m(\u001b[0m\u001b[0mX\u001b[0m\u001b[1;33m,\u001b[0m \u001b[0maccept_sparse\u001b[0m\u001b[1;33m=\u001b[0m\u001b[1;34m'csr'\u001b[0m\u001b[1;33m)\u001b[0m\u001b[1;33m\u001b[0m\u001b[1;33m\u001b[0m\u001b[0m\n\u001b[0m\u001b[0;32m    285\u001b[0m \u001b[1;33m\u001b[0m\u001b[0m\n\u001b[0;32m    286\u001b[0m         \u001b[0mn_features\u001b[0m \u001b[1;33m=\u001b[0m \u001b[0mself\u001b[0m\u001b[1;33m.\u001b[0m\u001b[0mcoef_\u001b[0m\u001b[1;33m.\u001b[0m\u001b[0mshape\u001b[0m\u001b[1;33m[\u001b[0m\u001b[1;36m1\u001b[0m\u001b[1;33m]\u001b[0m\u001b[1;33m\u001b[0m\u001b[1;33m\u001b[0m\u001b[0m\n",
      "\u001b[1;32m~\\Anaconda3\\lib\\site-packages\\sklearn\\utils\\validation.py\u001b[0m in \u001b[0;36minner_f\u001b[1;34m(*args, **kwargs)\u001b[0m\n\u001b[0;32m     61\u001b[0m             \u001b[0mextra_args\u001b[0m \u001b[1;33m=\u001b[0m \u001b[0mlen\u001b[0m\u001b[1;33m(\u001b[0m\u001b[0margs\u001b[0m\u001b[1;33m)\u001b[0m \u001b[1;33m-\u001b[0m \u001b[0mlen\u001b[0m\u001b[1;33m(\u001b[0m\u001b[0mall_args\u001b[0m\u001b[1;33m)\u001b[0m\u001b[1;33m\u001b[0m\u001b[1;33m\u001b[0m\u001b[0m\n\u001b[0;32m     62\u001b[0m             \u001b[1;32mif\u001b[0m \u001b[0mextra_args\u001b[0m \u001b[1;33m<=\u001b[0m \u001b[1;36m0\u001b[0m\u001b[1;33m:\u001b[0m\u001b[1;33m\u001b[0m\u001b[1;33m\u001b[0m\u001b[0m\n\u001b[1;32m---> 63\u001b[1;33m                 \u001b[1;32mreturn\u001b[0m \u001b[0mf\u001b[0m\u001b[1;33m(\u001b[0m\u001b[1;33m*\u001b[0m\u001b[0margs\u001b[0m\u001b[1;33m,\u001b[0m \u001b[1;33m**\u001b[0m\u001b[0mkwargs\u001b[0m\u001b[1;33m)\u001b[0m\u001b[1;33m\u001b[0m\u001b[1;33m\u001b[0m\u001b[0m\n\u001b[0m\u001b[0;32m     64\u001b[0m \u001b[1;33m\u001b[0m\u001b[0m\n\u001b[0;32m     65\u001b[0m             \u001b[1;31m# extra_args > 0\u001b[0m\u001b[1;33m\u001b[0m\u001b[1;33m\u001b[0m\u001b[1;33m\u001b[0m\u001b[0m\n",
      "\u001b[1;32m~\\Anaconda3\\lib\\site-packages\\sklearn\\utils\\validation.py\u001b[0m in \u001b[0;36mcheck_array\u001b[1;34m(array, accept_sparse, accept_large_sparse, dtype, order, copy, force_all_finite, ensure_2d, allow_nd, ensure_min_samples, ensure_min_features, estimator)\u001b[0m\n\u001b[0;32m    661\u001b[0m \u001b[1;33m\u001b[0m\u001b[0m\n\u001b[0;32m    662\u001b[0m         \u001b[1;32mif\u001b[0m \u001b[0mforce_all_finite\u001b[0m\u001b[1;33m:\u001b[0m\u001b[1;33m\u001b[0m\u001b[1;33m\u001b[0m\u001b[0m\n\u001b[1;32m--> 663\u001b[1;33m             _assert_all_finite(array,\n\u001b[0m\u001b[0;32m    664\u001b[0m                                allow_nan=force_all_finite == 'allow-nan')\n\u001b[0;32m    665\u001b[0m \u001b[1;33m\u001b[0m\u001b[0m\n",
      "\u001b[1;32m~\\Anaconda3\\lib\\site-packages\\sklearn\\utils\\validation.py\u001b[0m in \u001b[0;36m_assert_all_finite\u001b[1;34m(X, allow_nan, msg_dtype)\u001b[0m\n\u001b[0;32m    101\u001b[0m                 not allow_nan and not np.isfinite(X).all()):\n\u001b[0;32m    102\u001b[0m             \u001b[0mtype_err\u001b[0m \u001b[1;33m=\u001b[0m \u001b[1;34m'infinity'\u001b[0m \u001b[1;32mif\u001b[0m \u001b[0mallow_nan\u001b[0m \u001b[1;32melse\u001b[0m \u001b[1;34m'NaN, infinity'\u001b[0m\u001b[1;33m\u001b[0m\u001b[1;33m\u001b[0m\u001b[0m\n\u001b[1;32m--> 103\u001b[1;33m             raise ValueError(\n\u001b[0m\u001b[0;32m    104\u001b[0m                     \u001b[0mmsg_err\u001b[0m\u001b[1;33m.\u001b[0m\u001b[0mformat\u001b[0m\u001b[1;33m\u001b[0m\u001b[1;33m\u001b[0m\u001b[0m\n\u001b[0;32m    105\u001b[0m                     (type_err,\n",
      "\u001b[1;31mValueError\u001b[0m: Input contains NaN, infinity or a value too large for dtype('float64')."
     ]
    }
   ],
   "source": [
    "pred = lr.predict(x)"
   ]
  },
  {
   "cell_type": "code",
   "execution_count": 72,
   "metadata": {},
   "outputs": [
    {
     "output_type": "execute_result",
     "data": {
      "text/plain": [
       "weight_pounds         887\n",
       "state                   0\n",
       "year                    0\n",
       "month                   0\n",
       "plurality               0\n",
       "mother_race             0\n",
       "mother_age              0\n",
       "cigarette_use      278835\n",
       "alcohol_use        278835\n",
       "father_race             0\n",
       "father_age              0\n",
       "is_male                 0\n",
       "gestation_weeks         0\n",
       "dtype: int64"
      ]
     },
     "metadata": {},
     "execution_count": 72
    }
   ],
   "source": [
    "df1.isna().sum()"
   ]
  },
  {
   "cell_type": "code",
   "execution_count": 78,
   "metadata": {},
   "outputs": [
    {
     "output_type": "error",
     "ename": "ValueError",
     "evalue": "cannot convert float NaN to integer",
     "traceback": [
      "\u001b[1;31m---------------------------------------------------------------------------\u001b[0m",
      "\u001b[1;31mValueError\u001b[0m                                Traceback (most recent call last)",
      "\u001b[1;32m<ipython-input-78-90a282532a25>\u001b[0m in \u001b[0;36m<module>\u001b[1;34m\u001b[0m\n\u001b[0;32m      1\u001b[0m \u001b[0mcols\u001b[0m \u001b[1;33m=\u001b[0m \u001b[1;33m[\u001b[0m\u001b[1;34m\"year\"\u001b[0m\u001b[1;33m,\u001b[0m\u001b[1;34m\"month\"\u001b[0m\u001b[1;33m,\u001b[0m\u001b[1;34m\"plurality\"\u001b[0m\u001b[1;33m,\u001b[0m\u001b[1;34m\"mother_race\"\u001b[0m\u001b[1;33m,\u001b[0m\u001b[1;34m\"mother_age\"\u001b[0m\u001b[1;33m,\u001b[0m\u001b[1;34m\"cigarette_use\"\u001b[0m\u001b[1;33m,\u001b[0m\u001b[1;34m\"alcohol_use\"\u001b[0m\u001b[1;33m,\u001b[0m\u001b[1;34m\"father_race\"\u001b[0m\u001b[1;33m,\u001b[0m\u001b[1;34m\"father_age\"\u001b[0m\u001b[1;33m,\u001b[0m\u001b[1;34m\"gestation_weeks\"\u001b[0m\u001b[1;33m,\u001b[0m\u001b[1;34m\"is_male\"\u001b[0m\u001b[1;33m]\u001b[0m\u001b[1;33m\u001b[0m\u001b[1;33m\u001b[0m\u001b[0m\n\u001b[0;32m      2\u001b[0m \u001b[0mdata\u001b[0m \u001b[1;33m=\u001b[0m \u001b[0mdf1\u001b[0m\u001b[1;33m[\u001b[0m\u001b[0mcols\u001b[0m\u001b[1;33m]\u001b[0m\u001b[1;33m\u001b[0m\u001b[1;33m\u001b[0m\u001b[0m\n\u001b[1;32m----> 3\u001b[1;33m \u001b[0mdata\u001b[0m\u001b[1;33m.\u001b[0m\u001b[0malcohol_use\u001b[0m \u001b[1;33m=\u001b[0m\u001b[0mdata\u001b[0m\u001b[1;33m.\u001b[0m\u001b[0malcohol_use\u001b[0m\u001b[1;33m.\u001b[0m\u001b[0mastype\u001b[0m\u001b[1;33m(\u001b[0m\u001b[1;34m'int32'\u001b[0m\u001b[1;33m)\u001b[0m\u001b[1;33m\u001b[0m\u001b[1;33m\u001b[0m\u001b[0m\n\u001b[0m\u001b[0;32m      4\u001b[0m \u001b[0mdata\u001b[0m\u001b[1;33m.\u001b[0m\u001b[0mcigarette_use\u001b[0m \u001b[1;33m=\u001b[0m\u001b[0mdata\u001b[0m\u001b[1;33m.\u001b[0m\u001b[0mcigarette_use\u001b[0m\u001b[1;33m.\u001b[0m\u001b[0mastype\u001b[0m\u001b[1;33m(\u001b[0m\u001b[1;34m'int32'\u001b[0m\u001b[1;33m)\u001b[0m\u001b[1;33m\u001b[0m\u001b[1;33m\u001b[0m\u001b[0m\n\u001b[0;32m      5\u001b[0m \u001b[0mdata\u001b[0m\u001b[1;33m.\u001b[0m\u001b[0mis_male\u001b[0m \u001b[1;33m=\u001b[0m\u001b[0mdata\u001b[0m\u001b[1;33m.\u001b[0m\u001b[0mis_male\u001b[0m\u001b[1;33m.\u001b[0m\u001b[0mastype\u001b[0m\u001b[1;33m(\u001b[0m\u001b[1;34m'int32'\u001b[0m\u001b[1;33m)\u001b[0m\u001b[1;33m\u001b[0m\u001b[1;33m\u001b[0m\u001b[0m\n",
      "\u001b[1;32m~\\Anaconda3\\lib\\site-packages\\pandas\\core\\generic.py\u001b[0m in \u001b[0;36mastype\u001b[1;34m(self, dtype, copy, errors)\u001b[0m\n\u001b[0;32m   5875\u001b[0m         \u001b[1;32melse\u001b[0m\u001b[1;33m:\u001b[0m\u001b[1;33m\u001b[0m\u001b[1;33m\u001b[0m\u001b[0m\n\u001b[0;32m   5876\u001b[0m             \u001b[1;31m# else, only a single dtype is given\u001b[0m\u001b[1;33m\u001b[0m\u001b[1;33m\u001b[0m\u001b[1;33m\u001b[0m\u001b[0m\n\u001b[1;32m-> 5877\u001b[1;33m             \u001b[0mnew_data\u001b[0m \u001b[1;33m=\u001b[0m \u001b[0mself\u001b[0m\u001b[1;33m.\u001b[0m\u001b[0m_mgr\u001b[0m\u001b[1;33m.\u001b[0m\u001b[0mastype\u001b[0m\u001b[1;33m(\u001b[0m\u001b[0mdtype\u001b[0m\u001b[1;33m=\u001b[0m\u001b[0mdtype\u001b[0m\u001b[1;33m,\u001b[0m \u001b[0mcopy\u001b[0m\u001b[1;33m=\u001b[0m\u001b[0mcopy\u001b[0m\u001b[1;33m,\u001b[0m \u001b[0merrors\u001b[0m\u001b[1;33m=\u001b[0m\u001b[0merrors\u001b[0m\u001b[1;33m)\u001b[0m\u001b[1;33m\u001b[0m\u001b[1;33m\u001b[0m\u001b[0m\n\u001b[0m\u001b[0;32m   5878\u001b[0m             \u001b[1;32mreturn\u001b[0m \u001b[0mself\u001b[0m\u001b[1;33m.\u001b[0m\u001b[0m_constructor\u001b[0m\u001b[1;33m(\u001b[0m\u001b[0mnew_data\u001b[0m\u001b[1;33m)\u001b[0m\u001b[1;33m.\u001b[0m\u001b[0m__finalize__\u001b[0m\u001b[1;33m(\u001b[0m\u001b[0mself\u001b[0m\u001b[1;33m,\u001b[0m \u001b[0mmethod\u001b[0m\u001b[1;33m=\u001b[0m\u001b[1;34m\"astype\"\u001b[0m\u001b[1;33m)\u001b[0m\u001b[1;33m\u001b[0m\u001b[1;33m\u001b[0m\u001b[0m\n\u001b[0;32m   5879\u001b[0m \u001b[1;33m\u001b[0m\u001b[0m\n",
      "\u001b[1;32m~\\Anaconda3\\lib\\site-packages\\pandas\\core\\internals\\managers.py\u001b[0m in \u001b[0;36mastype\u001b[1;34m(self, dtype, copy, errors)\u001b[0m\n\u001b[0;32m    629\u001b[0m         \u001b[0mself\u001b[0m\u001b[1;33m,\u001b[0m \u001b[0mdtype\u001b[0m\u001b[1;33m,\u001b[0m \u001b[0mcopy\u001b[0m\u001b[1;33m:\u001b[0m \u001b[0mbool\u001b[0m \u001b[1;33m=\u001b[0m \u001b[1;32mFalse\u001b[0m\u001b[1;33m,\u001b[0m \u001b[0merrors\u001b[0m\u001b[1;33m:\u001b[0m \u001b[0mstr\u001b[0m \u001b[1;33m=\u001b[0m \u001b[1;34m\"raise\"\u001b[0m\u001b[1;33m\u001b[0m\u001b[1;33m\u001b[0m\u001b[0m\n\u001b[0;32m    630\u001b[0m     ) -> \"BlockManager\":\n\u001b[1;32m--> 631\u001b[1;33m         \u001b[1;32mreturn\u001b[0m \u001b[0mself\u001b[0m\u001b[1;33m.\u001b[0m\u001b[0mapply\u001b[0m\u001b[1;33m(\u001b[0m\u001b[1;34m\"astype\"\u001b[0m\u001b[1;33m,\u001b[0m \u001b[0mdtype\u001b[0m\u001b[1;33m=\u001b[0m\u001b[0mdtype\u001b[0m\u001b[1;33m,\u001b[0m \u001b[0mcopy\u001b[0m\u001b[1;33m=\u001b[0m\u001b[0mcopy\u001b[0m\u001b[1;33m,\u001b[0m \u001b[0merrors\u001b[0m\u001b[1;33m=\u001b[0m\u001b[0merrors\u001b[0m\u001b[1;33m)\u001b[0m\u001b[1;33m\u001b[0m\u001b[1;33m\u001b[0m\u001b[0m\n\u001b[0m\u001b[0;32m    632\u001b[0m \u001b[1;33m\u001b[0m\u001b[0m\n\u001b[0;32m    633\u001b[0m     def convert(\n",
      "\u001b[1;32m~\\Anaconda3\\lib\\site-packages\\pandas\\core\\internals\\managers.py\u001b[0m in \u001b[0;36mapply\u001b[1;34m(self, f, align_keys, ignore_failures, **kwargs)\u001b[0m\n\u001b[0;32m    425\u001b[0m                     \u001b[0mapplied\u001b[0m \u001b[1;33m=\u001b[0m \u001b[0mb\u001b[0m\u001b[1;33m.\u001b[0m\u001b[0mapply\u001b[0m\u001b[1;33m(\u001b[0m\u001b[0mf\u001b[0m\u001b[1;33m,\u001b[0m \u001b[1;33m**\u001b[0m\u001b[0mkwargs\u001b[0m\u001b[1;33m)\u001b[0m\u001b[1;33m\u001b[0m\u001b[1;33m\u001b[0m\u001b[0m\n\u001b[0;32m    426\u001b[0m                 \u001b[1;32melse\u001b[0m\u001b[1;33m:\u001b[0m\u001b[1;33m\u001b[0m\u001b[1;33m\u001b[0m\u001b[0m\n\u001b[1;32m--> 427\u001b[1;33m                     \u001b[0mapplied\u001b[0m \u001b[1;33m=\u001b[0m \u001b[0mgetattr\u001b[0m\u001b[1;33m(\u001b[0m\u001b[0mb\u001b[0m\u001b[1;33m,\u001b[0m \u001b[0mf\u001b[0m\u001b[1;33m)\u001b[0m\u001b[1;33m(\u001b[0m\u001b[1;33m**\u001b[0m\u001b[0mkwargs\u001b[0m\u001b[1;33m)\u001b[0m\u001b[1;33m\u001b[0m\u001b[1;33m\u001b[0m\u001b[0m\n\u001b[0m\u001b[0;32m    428\u001b[0m             \u001b[1;32mexcept\u001b[0m \u001b[1;33m(\u001b[0m\u001b[0mTypeError\u001b[0m\u001b[1;33m,\u001b[0m \u001b[0mNotImplementedError\u001b[0m\u001b[1;33m)\u001b[0m\u001b[1;33m:\u001b[0m\u001b[1;33m\u001b[0m\u001b[1;33m\u001b[0m\u001b[0m\n\u001b[0;32m    429\u001b[0m                 \u001b[1;32mif\u001b[0m \u001b[1;32mnot\u001b[0m \u001b[0mignore_failures\u001b[0m\u001b[1;33m:\u001b[0m\u001b[1;33m\u001b[0m\u001b[1;33m\u001b[0m\u001b[0m\n",
      "\u001b[1;32m~\\Anaconda3\\lib\\site-packages\\pandas\\core\\internals\\blocks.py\u001b[0m in \u001b[0;36mastype\u001b[1;34m(self, dtype, copy, errors)\u001b[0m\n\u001b[0;32m    671\u001b[0m             \u001b[0mvals1d\u001b[0m \u001b[1;33m=\u001b[0m \u001b[0mvalues\u001b[0m\u001b[1;33m.\u001b[0m\u001b[0mravel\u001b[0m\u001b[1;33m(\u001b[0m\u001b[1;33m)\u001b[0m\u001b[1;33m\u001b[0m\u001b[1;33m\u001b[0m\u001b[0m\n\u001b[0;32m    672\u001b[0m             \u001b[1;32mtry\u001b[0m\u001b[1;33m:\u001b[0m\u001b[1;33m\u001b[0m\u001b[1;33m\u001b[0m\u001b[0m\n\u001b[1;32m--> 673\u001b[1;33m                 \u001b[0mvalues\u001b[0m \u001b[1;33m=\u001b[0m \u001b[0mastype_nansafe\u001b[0m\u001b[1;33m(\u001b[0m\u001b[0mvals1d\u001b[0m\u001b[1;33m,\u001b[0m \u001b[0mdtype\u001b[0m\u001b[1;33m,\u001b[0m \u001b[0mcopy\u001b[0m\u001b[1;33m=\u001b[0m\u001b[1;32mTrue\u001b[0m\u001b[1;33m)\u001b[0m\u001b[1;33m\u001b[0m\u001b[1;33m\u001b[0m\u001b[0m\n\u001b[0m\u001b[0;32m    674\u001b[0m             \u001b[1;32mexcept\u001b[0m \u001b[1;33m(\u001b[0m\u001b[0mValueError\u001b[0m\u001b[1;33m,\u001b[0m \u001b[0mTypeError\u001b[0m\u001b[1;33m)\u001b[0m\u001b[1;33m:\u001b[0m\u001b[1;33m\u001b[0m\u001b[1;33m\u001b[0m\u001b[0m\n\u001b[0;32m    675\u001b[0m                 \u001b[1;31m# e.g. astype_nansafe can fail on object-dtype of strings\u001b[0m\u001b[1;33m\u001b[0m\u001b[1;33m\u001b[0m\u001b[1;33m\u001b[0m\u001b[0m\n",
      "\u001b[1;32m~\\Anaconda3\\lib\\site-packages\\pandas\\core\\dtypes\\cast.py\u001b[0m in \u001b[0;36mastype_nansafe\u001b[1;34m(arr, dtype, copy, skipna)\u001b[0m\n\u001b[0;32m   1072\u001b[0m         \u001b[1;31m# work around NumPy brokenness, #1987\u001b[0m\u001b[1;33m\u001b[0m\u001b[1;33m\u001b[0m\u001b[1;33m\u001b[0m\u001b[0m\n\u001b[0;32m   1073\u001b[0m         \u001b[1;32mif\u001b[0m \u001b[0mnp\u001b[0m\u001b[1;33m.\u001b[0m\u001b[0missubdtype\u001b[0m\u001b[1;33m(\u001b[0m\u001b[0mdtype\u001b[0m\u001b[1;33m.\u001b[0m\u001b[0mtype\u001b[0m\u001b[1;33m,\u001b[0m \u001b[0mnp\u001b[0m\u001b[1;33m.\u001b[0m\u001b[0minteger\u001b[0m\u001b[1;33m)\u001b[0m\u001b[1;33m:\u001b[0m\u001b[1;33m\u001b[0m\u001b[1;33m\u001b[0m\u001b[0m\n\u001b[1;32m-> 1074\u001b[1;33m             \u001b[1;32mreturn\u001b[0m \u001b[0mlib\u001b[0m\u001b[1;33m.\u001b[0m\u001b[0mastype_intsafe\u001b[0m\u001b[1;33m(\u001b[0m\u001b[0marr\u001b[0m\u001b[1;33m.\u001b[0m\u001b[0mravel\u001b[0m\u001b[1;33m(\u001b[0m\u001b[1;33m)\u001b[0m\u001b[1;33m,\u001b[0m \u001b[0mdtype\u001b[0m\u001b[1;33m)\u001b[0m\u001b[1;33m.\u001b[0m\u001b[0mreshape\u001b[0m\u001b[1;33m(\u001b[0m\u001b[0marr\u001b[0m\u001b[1;33m.\u001b[0m\u001b[0mshape\u001b[0m\u001b[1;33m)\u001b[0m\u001b[1;33m\u001b[0m\u001b[1;33m\u001b[0m\u001b[0m\n\u001b[0m\u001b[0;32m   1075\u001b[0m \u001b[1;33m\u001b[0m\u001b[0m\n\u001b[0;32m   1076\u001b[0m         \u001b[1;31m# if we have a datetime/timedelta array of objects\u001b[0m\u001b[1;33m\u001b[0m\u001b[1;33m\u001b[0m\u001b[1;33m\u001b[0m\u001b[0m\n",
      "\u001b[1;32mpandas\\_libs\\lib.pyx\u001b[0m in \u001b[0;36mpandas._libs.lib.astype_intsafe\u001b[1;34m()\u001b[0m\n",
      "\u001b[1;31mValueError\u001b[0m: cannot convert float NaN to integer"
     ]
    }
   ],
   "source": [
    "cols = [\"year\",\"month\",\"plurality\",\"mother_race\",\"mother_age\",\"cigarette_use\",\"alcohol_use\",\"father_race\",\"father_age\",\"gestation_weeks\",\"is_male\"]\n",
    "data = df1[cols]\n",
    "data.alcohol_use =data.alcohol_use.astype('int32')\n",
    "data.cigarette_use =data.cigarette_use.astype('int32')\n",
    "data.is_male =data.is_male.astype('int32')\n",
    "data"
   ]
  }
 ]
}