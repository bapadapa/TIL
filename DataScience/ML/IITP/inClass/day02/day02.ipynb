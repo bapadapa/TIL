{
 "metadata": {
  "language_info": {
   "codemirror_mode": {
    "name": "ipython",
    "version": 3
   },
   "file_extension": ".py",
   "mimetype": "text/x-python",
   "name": "python",
   "nbconvert_exporter": "python",
   "pygments_lexer": "ipython3",
   "version": "3.8.8"
  },
  "orig_nbformat": 2,
  "kernelspec": {
   "name": "python388jvsc74a57bd068964f74c11d332c21e95cd675b1759e0933fc99bd167841b9b8a4ac82dd0a35",
   "display_name": "Python 3.8.8 64-bit (conda)"
  },
  "metadata": {
   "interpreter": {
    "hash": "68964f74c11d332c21e95cd675b1759e0933fc99bd167841b9b8a4ac82dd0a35"
   }
  }
 },
 "nbformat": 4,
 "nbformat_minor": 2,
 "cells": [
  {
   "source": [
    "import numpy as np\n",
    "## 1000000 개의 데이터를 만들어서\n",
    "np.random.seed(100)\n",
    "x = np.random.randint(60,100,1000000)\n",
    "x = x.reshape(-1,4)\n",
    "\n"
   ],
   "cell_type": "code",
   "metadata": {},
   "execution_count": 3,
   "outputs": []
  },
  {
   "cell_type": "code",
   "execution_count": 4,
   "metadata": {},
   "outputs": [
    {
     "output_type": "stream",
     "name": "stdout",
     "text": [
      "[ True  True False ... False False  True] 0\n[[68 84 63 99]\n [83 75 70 90]\n [94 84 75 96]\n ...\n [90 81 77 82]\n [64 89 81 87]\n [81 84 90 99]] 0\n[84 75 84 ... 81 89 84]\n"
     ]
    },
    {
     "output_type": "execute_result",
     "data": {
      "text/plain": [
       "array([76. , 79. , 89. , ..., 85.5, 76.5, 82.5])"
      ]
     },
     "metadata": {},
     "execution_count": 4
    }
   ],
   "source": [
    "print(x[:,3]>np.mean(x[:3]) ,0)\n",
    "print(x[x[:,3]>np.mean(x[:3])] ,0)\n",
    "print(x[x[:,3]>np.mean(x[:3] ),1] )\n",
    "\n",
    "np.mean(x[x[:,3]>np.mean(x[:3]),0:2],axis=1)"
   ]
  },
  {
   "cell_type": "code",
   "execution_count": 1,
   "metadata": {},
   "outputs": [
    {
     "output_type": "error",
     "ename": "NameError",
     "evalue": "name 'np' is not defined",
     "traceback": [
      "\u001b[1;31m---------------------------------------------------------------------------\u001b[0m",
      "\u001b[1;31mNameError\u001b[0m                                 Traceback (most recent call last)",
      "\u001b[1;32m<ipython-input-1-0cece109f3f6>\u001b[0m in \u001b[0;36m<module>\u001b[1;34m\u001b[0m\n\u001b[1;32m----> 1\u001b[1;33m \u001b[0marr\u001b[0m \u001b[1;33m=\u001b[0m \u001b[0mnp\u001b[0m\u001b[1;33m.\u001b[0m\u001b[0marray\u001b[0m\u001b[1;33m(\u001b[0m\u001b[1;33m[\u001b[0m\u001b[1;36m1\u001b[0m\u001b[1;33m,\u001b[0m\u001b[1;36m2\u001b[0m\u001b[1;33m,\u001b[0m\u001b[1;36m3\u001b[0m\u001b[1;33m,\u001b[0m\u001b[1;36m4\u001b[0m\u001b[1;33m,\u001b[0m\u001b[1;36m5\u001b[0m\u001b[1;33m,\u001b[0m\u001b[1;36m6\u001b[0m\u001b[1;33m]\u001b[0m\u001b[1;33m)\u001b[0m\u001b[1;33m\u001b[0m\u001b[1;33m\u001b[0m\u001b[0m\n\u001b[0m\u001b[0;32m      2\u001b[0m \u001b[0mprint\u001b[0m\u001b[1;33m(\u001b[0m\u001b[0marr\u001b[0m\u001b[1;33m)\u001b[0m\u001b[1;33m\u001b[0m\u001b[1;33m\u001b[0m\u001b[0m\n\u001b[0;32m      3\u001b[0m \u001b[1;33m\u001b[0m\u001b[0m\n\u001b[0;32m      4\u001b[0m \u001b[1;31m# 아래 두개는 같은 기능을 하지만, 조금 다르다\u001b[0m\u001b[1;33m\u001b[0m\u001b[1;33m\u001b[0m\u001b[1;33m\u001b[0m\u001b[0m\n\u001b[0;32m      5\u001b[0m \u001b[0mprint\u001b[0m\u001b[1;33m(\u001b[0m\u001b[1;34m\"sum = \"\u001b[0m\u001b[1;33m,\u001b[0m\u001b[0mnp\u001b[0m\u001b[1;33m.\u001b[0m\u001b[0msum\u001b[0m\u001b[1;33m(\u001b[0m\u001b[0marr\u001b[0m\u001b[1;33m)\u001b[0m\u001b[1;33m)\u001b[0m\u001b[1;33m\u001b[0m\u001b[1;33m\u001b[0m\u001b[0m\n",
      "\u001b[1;31mNameError\u001b[0m: name 'np' is not defined"
     ]
    }
   ],
   "source": [
    "arr = np.array([1,2,3,4,5,6])\n",
    "print(arr)\n",
    "\n",
    "# 아래 두개는 같은 기능을 하지만, 조금 다르다\n",
    "print(\"sum = \",np.sum(arr))\n",
    "print(\"sum = \",arr.sum())\n",
    "\n",
    "dir(np.ndarray)"
   ]
  },
  {
   "cell_type": "code",
   "execution_count": 13,
   "metadata": {},
   "outputs": [
    {
     "output_type": "stream",
     "name": "stdout",
     "text": [
      "차원 보기 :  1\n배열의 상세 크기 확인 :  (3,)\n데이터 타입 :  int32\n형변환 :  [1 2 3] object\nnan이 들어있으면, 계산이 안된다.  nan\nnan값을 제외하고 계산 6.0\n"
     ]
    }
   ],
   "source": [
    "# 1,2,3의 원소를 갖는 1차원 배열 Array생성\n",
    "a = np.array([1,2,3])\n",
    "# 차원 확인\n",
    "print(\"차원 보기 : \" ,a.ndim)\n",
    "print(\"배열의 상세 크기 확인 : \",a.shape)\n",
    "print(\"데이터 타입 : \",a.dtype)\n",
    "print(\"형변환 : \",a.astype(object) , a.astype(object).dtype )\n",
    "# nan이 들어있으면, 계산이 안된다.\n",
    "print(\"nan이 들어있으면, 계산이 안된다. \" , np.array([1,2,3,np.nan]).sum())\n",
    "# nansum이라는 함수를 사용하면 nan값을 제외하고 사용할 수 있다.\n",
    "print(\"nan값을 제외하고 계산\" , np.nansum(np.array([1,2,3,np.nan])))\n",
    "\n"
   ]
  },
  {
   "cell_type": "code",
   "execution_count": 29,
   "metadata": {},
   "outputs": [
    {
     "output_type": "stream",
     "name": "stdout",
     "text": [
      "[[0 1 2 3 4]\n [5 6 7 8 9]]\n[0 1 2 3 4 5 6 7 8 9]\n--전치후--\n[[0 5]\n [1 6]\n [2 7]\n [3 8]\n [4 9]]\n[0 5 1 6 2 7 3 8 4 9]\n"
     ]
    }
   ],
   "source": [
    "x = np.array([0,1,2,3,4,5,6,7,8,9])\n",
    "x_2 = x.reshape(2,5)\n",
    "print(x_2)\n",
    "print(x_2.flatten()) # 1차원으로 변경\n",
    "x_2_t = x_2.T # 전치해주기\n",
    "print(\"--전치후--\")\n",
    "print(x_2_t)\n",
    "print(x_2_t.ravel()) # 1차원으로 변경"
   ]
  },
  {
   "cell_type": "code",
   "execution_count": 49,
   "metadata": {},
   "outputs": [
    {
     "output_type": "stream",
     "name": "stdout",
     "text": [
      "randint\n [5 1 2 1 2 9 1 9 7 5 4 1 5 7 9 2 9 5 2 4]\nrand \n [[[0.54088093 0.13145815]\n  [0.41366737 0.77872881]\n  [0.58390137 0.18263144]]\n\n [[0.82608225 0.10540183]\n  [0.28357668 0.06556327]\n  [0.05644419 0.76545582]]\n\n [[0.01178803 0.61194334]\n  [0.33188226 0.55964837]\n  [0.33549965 0.41118255]]]\n"
     ]
    },
    {
     "output_type": "execute_result",
     "data": {
      "text/plain": [
       "[2, 1, 4, 3]"
      ]
     },
     "metadata": {},
     "execution_count": 49
    }
   ],
   "source": [
    "## linspace를 사용하여 0~60까지의 10개의 구간을 배열로 생성\n",
    "np.linspace(0,60,10)\n",
    "\n",
    "np.random.seed(10)\n",
    "print(\"randint\\n\",np.random.randint(1,10,20))\n",
    "print(\"rand \\n\",np.random.rand(3,3,2))\n",
    "obj = [1,2,3,4]\n",
    "# 내부값 랜덤하게 바꿔주기\n",
    "np.random.shuffle(obj)\n",
    "obj"
   ]
  },
  {
   "cell_type": "code",
   "execution_count": 61,
   "metadata": {},
   "outputs": [
    {
     "output_type": "stream",
     "name": "stdout",
     "text": [
      "arr\n [[ 6.66666667 13.33333333 20.        ]\n [26.66666667 33.33333333 40.        ]\n [46.66666667 53.33333333 60.        ]]\narr[[0,2]]\n [[ 6.66666667 13.33333333 20.        ]\n [46.66666667 53.33333333 60.        ]]\narr[:,[2,1]]\n [[20.         13.33333333]\n [40.         33.33333333]\n [60.         53.33333333]]\narr[[0,2]][:,[2,1]]\n [[20.         13.33333333]\n [60.         53.33333333]]\n"
     ]
    }
   ],
   "source": [
    "arr = np.ndarray((3,3))\n",
    "print(\"arr\\n\",arr)\n",
    "print(\"arr[[0,2]]\\n\",arr[[0,2]])\n",
    "print(\"arr[:,[2,1]]\\n\",arr[:,[2,1]])\n",
    "print(\"arr[[0,2]][:,[2,1]]\\n\",arr[[0,2]][:,[2,1]])"
   ]
  },
  {
   "cell_type": "code",
   "execution_count": 63,
   "metadata": {},
   "outputs": [
    {
     "output_type": "execute_result",
     "data": {
      "text/plain": [
       "array([68, 88, 80, 95, 53, 54])"
      ]
     },
     "metadata": {},
     "execution_count": 63
    }
   ],
   "source": [
    "np.random.seed(100)\n",
    "# 1~99사이의 숫자를 10개 뽑는다.\n",
    "arr = np.random.randint(1,99,10)\n",
    "# 배열 안에있는 값중 50초과인 것을 반환.(조건문)\n",
    "arr[arr>50]"
   ]
  },
  {
   "cell_type": "code",
   "execution_count": 92,
   "metadata": {},
   "outputs": [
    {
     "output_type": "stream",
     "name": "stdout",
     "text": [
      "[[ 9 25 68 88 80]\n [49 11 95 53 99]\n [54 67 99 15 35]\n [25 16 61 59 17]\n [10 94 87  3 28]\n [ 5 32  2 14 84]\n [ 5 92 60 68  8]\n [50 48 66 62 15]\n [56 72 81  3 95]\n [20 99 64 54 28]]\nfor이용 :  [270, 307, 270, 178, 222, 137, 233, 241, 307, 265]\naxis = 1 ->  [270 307 270 178 222 137 233 241 307 265]\nfor이용 :  [283, 556, 683, 419, 489]\naxis = 0 ->  [283 556 683 419 489]\n"
     ]
    }
   ],
   "source": [
    "np.random.seed(100)\n",
    "# 1~100의 숫자 50개를 10x5의 행렬로 만들어줌 reshape(행,열)\n",
    "arr=np.random.randint(1,100,50).reshape(10,5)\n",
    "print(arr)\n",
    "\n",
    "row_sum = []\n",
    "for i in np.arange(arr.shape[0]):\n",
    "    row_sum.append(np.sum(arr[i]))\n",
    "print(\"for이용 : \",row_sum)\n",
    "\n",
    "#axis이용하기\n",
    "#axis = 1 -> 열기준 연산\n",
    "print(\"axis = 1 -> \",arr.sum(axis = 1))\n",
    "col_sum = []\n",
    "for i in np.arange(arr.shape[1]):\n",
    "    col_sum.append(np.sum(arr[:,i]))\n",
    "print(\"for이용 : \",col_sum)\n",
    "#axis = 0 -> 행기준 연산\n",
    "print(\"axis = 0 -> \",arr.sum(axis = 0))\n",
    "\n"
   ]
  },
  {
   "cell_type": "code",
   "execution_count": 100,
   "metadata": {},
   "outputs": [
    {
     "output_type": "stream",
     "name": "stdout",
     "text": [
      "[ 324 8281 8836 9409 5625 2916  961 4624  841 1444]\n[4.24264069 9.53939201 9.69535971 9.8488578  8.66025404 7.34846923\n 5.56776436 8.24621125 5.38516481 6.164414  ]\n[ 84.92938243  92.76313923  94.64142856  98.00510191 111.12605455\n  59.93329626  73.8241153   69.85699679  31.38470965  54.45181356]\n[0. 1. 2. 3. 4. 5. 6. 7. 8. 9.]\n"
     ]
    }
   ],
   "source": [
    "a = np.random.randint(1,100,10)\n",
    "b = np.random.randint(1,100,10)\n",
    "\n",
    "#거듭제곱\n",
    "print(np.square(a))\n",
    "#wprhqrms\n",
    "print(np.sqrt(a))\n",
    "# a,b의 거리\n",
    "print(np.hypot(a,b))\n",
    "print(np.rint(x))\n",
    "\n",
    "\n"
   ]
  },
  {
   "cell_type": "code",
   "execution_count": 123,
   "metadata": {
    "tags": []
   },
   "outputs": [],
   "source": [
    "# np.where(condition,ture_value,false_value)\n",
    "# np.where(조건 , 참일시 return, 거짓일시 return)\n",
    "x = np.random.randint(60,100,100000)\n",
    "# 평균보다 클 경우 'P'\n",
    "# 평균보다 작을 경우 'F'\n",
    "\n",
    "judge = []\n",
    "#for문 사용\n",
    "#오래걸린다..\n",
    "for i in x:\n",
    "    if i >= x.mean():\n",
    "        judge.append('Pass')\n",
    "    else:\n",
    "        judge.append(\"Fail\")\n",
    "# print(judge.head())\n",
    "#where메소드 사용\n",
    "np.where(x>=x.mean(),'Pass','Fail')"
   ]
  },
  {
   "cell_type": "code",
   "execution_count": 170,
   "metadata": {},
   "outputs": [
    {
     "output_type": "stream",
     "name": "stdout",
     "text": [
      "Wall time: 20.5 s\n"
     ]
    }
   ],
   "source": [
    "%%time\n",
    "x = np.random.randint(60,100,100000)\n",
    "# 평균보다 클 경우 'P'\n",
    "# 평균보다 작을 경우 'F'\n",
    "\n",
    "judge = []\n",
    "#for문 사용\n",
    "#오래걸린다..\n",
    "for i in x:\n",
    "    if i >= x.mean():\n",
    "        judge.append('Pass')\n",
    "    else:\n",
    "        judge.append(\"Fail\")\n"
   ]
  },
  {
   "cell_type": "code",
   "execution_count": 171,
   "metadata": {},
   "outputs": [
    {
     "output_type": "stream",
     "name": "stdout",
     "text": [
      "Wall time: 12 ms\n"
     ]
    },
    {
     "output_type": "execute_result",
     "data": {
      "text/plain": [
       "array(['Pass', 'Fail', 'Fail', ..., 'Fail', 'Pass', 'Pass'], dtype='<U4')"
      ]
     },
     "metadata": {},
     "execution_count": 171
    }
   ],
   "source": [
    "%%time\n",
    "x = np.random.randint(60,100,100000)\n",
    "# 평균보다 클 경우 'P'\n",
    "# 평균보다 작을 경우 'F'\n",
    "#where메소드 사용\n",
    "np.where(x>=x.mean(),'Pass','Fail')"
   ]
  },
  {
   "cell_type": "code",
   "execution_count": 124,
   "metadata": {},
   "outputs": [
    {
     "output_type": "execute_result",
     "data": {
      "text/plain": [
       "array(['A', 'A', 'C', ..., 'A', 'B', 'C'], dtype='<U1')"
      ]
     },
     "metadata": {},
     "execution_count": 124
    }
   ],
   "source": [
    "# 90 이상 : A\n",
    "# 80 이상 : B\n",
    "# 70 이상 : C\n",
    "judge1 = np.where(x>=90,'A',np.where(x>=80,'B','C'))\n",
    "judge1"
   ]
  },
  {
   "cell_type": "code",
   "execution_count": 129,
   "metadata": {},
   "outputs": [
    {
     "output_type": "execute_result",
     "data": {
      "text/plain": [
       "array([2, 2, 1, 1, 0, 2, 0, 1, 0, 2, 1, 0, 1, 2, 2, 1, 0, 0, 0, 0, 0, 1,\n",
       "       1, 1, 0, 0, 2, 0, 0, 2, 2, 0, 2, 2, 1, 1, 2, 0, 0, 1, 1, 1, 2, 0,\n",
       "       2, 0, 1, 0, 1, 1, 0, 2, 2, 1, 1, 0, 2, 2, 2, 0, 1, 2, 0, 0, 1, 0,\n",
       "       2, 0, 1, 1, 2, 1, 0, 2, 0, 2, 0, 1, 0, 1, 0, 2, 1, 2, 0, 1, 0, 0,\n",
       "       1, 0, 0, 2, 0, 1, 2, 2, 1, 2, 0, 1])"
      ]
     },
     "metadata": {},
     "execution_count": 129
    }
   ],
   "source": [
    "obj = np.random.choice(['banana','apple','grape'],100)\n",
    "le1 = np.where(obj == np.unique(obj)[0],0,\n",
    "            np.where(obj == np.unique(obj)[1],1,2))\n",
    "le1"
   ]
  },
  {
   "cell_type": "code",
   "execution_count": 140,
   "metadata": {},
   "outputs": [
    {
     "output_type": "execute_result",
     "data": {
      "text/plain": [
       "array([[ 0.,  0.,  0.],\n",
       "       [ 0.,  0.,  1.],\n",
       "       [ 0.,  2.,  0.],\n",
       "       [ 0.,  3.,  0.],\n",
       "       [ 4.,  0.,  0.],\n",
       "       [ 0.,  0.,  5.],\n",
       "       [ 6.,  0.,  0.],\n",
       "       [ 0.,  7.,  0.],\n",
       "       [ 8.,  0.,  0.],\n",
       "       [ 0.,  0.,  9.],\n",
       "       [ 0., 10.,  0.],\n",
       "       [11.,  0.,  0.],\n",
       "       [ 0., 12.,  0.],\n",
       "       [ 0.,  0., 13.],\n",
       "       [ 0.,  0., 14.],\n",
       "       [ 0., 15.,  0.],\n",
       "       [16.,  0.,  0.],\n",
       "       [17.,  0.,  0.],\n",
       "       [18.,  0.,  0.],\n",
       "       [19.,  0.,  0.],\n",
       "       [20.,  0.,  0.],\n",
       "       [ 0., 21.,  0.],\n",
       "       [ 0., 22.,  0.],\n",
       "       [ 0., 23.,  0.],\n",
       "       [24.,  0.,  0.],\n",
       "       [25.,  0.,  0.],\n",
       "       [ 0.,  0., 26.],\n",
       "       [27.,  0.,  0.],\n",
       "       [28.,  0.,  0.],\n",
       "       [ 0.,  0., 29.],\n",
       "       [ 0.,  0., 30.],\n",
       "       [31.,  0.,  0.],\n",
       "       [ 0.,  0., 32.],\n",
       "       [ 0.,  0., 33.],\n",
       "       [ 0., 34.,  0.],\n",
       "       [ 0., 35.,  0.],\n",
       "       [ 0.,  0., 36.],\n",
       "       [37.,  0.,  0.],\n",
       "       [38.,  0.,  0.],\n",
       "       [ 0., 39.,  0.],\n",
       "       [ 0., 40.,  0.],\n",
       "       [ 0., 41.,  0.],\n",
       "       [ 0.,  0., 42.],\n",
       "       [43.,  0.,  0.],\n",
       "       [ 0.,  0., 44.],\n",
       "       [45.,  0.,  0.],\n",
       "       [ 0., 46.,  0.],\n",
       "       [47.,  0.,  0.],\n",
       "       [ 0., 48.,  0.],\n",
       "       [ 0., 49.,  0.],\n",
       "       [50.,  0.,  0.],\n",
       "       [ 0.,  0., 51.],\n",
       "       [ 0.,  0., 52.],\n",
       "       [ 0., 53.,  0.],\n",
       "       [ 0., 54.,  0.],\n",
       "       [55.,  0.,  0.],\n",
       "       [ 0.,  0., 56.],\n",
       "       [ 0.,  0., 57.],\n",
       "       [ 0.,  0., 58.],\n",
       "       [59.,  0.,  0.],\n",
       "       [ 0., 60.,  0.],\n",
       "       [ 0.,  0., 61.],\n",
       "       [62.,  0.,  0.],\n",
       "       [63.,  0.,  0.],\n",
       "       [ 0., 64.,  0.],\n",
       "       [65.,  0.,  0.],\n",
       "       [ 0.,  0., 66.],\n",
       "       [67.,  0.,  0.],\n",
       "       [ 0., 68.,  0.],\n",
       "       [ 0., 69.,  0.],\n",
       "       [ 0.,  0., 70.],\n",
       "       [ 0., 71.,  0.],\n",
       "       [72.,  0.,  0.],\n",
       "       [ 0.,  0., 73.],\n",
       "       [74.,  0.,  0.],\n",
       "       [ 0.,  0., 75.],\n",
       "       [76.,  0.,  0.],\n",
       "       [ 0., 77.,  0.],\n",
       "       [78.,  0.,  0.],\n",
       "       [ 0., 79.,  0.],\n",
       "       [80.,  0.,  0.],\n",
       "       [ 0.,  0., 81.],\n",
       "       [ 0., 82.,  0.],\n",
       "       [ 0.,  0., 83.],\n",
       "       [84.,  0.,  0.],\n",
       "       [ 0., 85.,  0.],\n",
       "       [86.,  0.,  0.],\n",
       "       [87.,  0.,  0.],\n",
       "       [ 0., 88.,  0.],\n",
       "       [89.,  0.,  0.],\n",
       "       [90.,  0.,  0.],\n",
       "       [ 0.,  0., 91.],\n",
       "       [92.,  0.,  0.],\n",
       "       [ 0., 93.,  0.],\n",
       "       [ 0.,  0., 94.],\n",
       "       [ 0.,  0., 95.],\n",
       "       [ 0., 96.,  0.],\n",
       "       [ 0.,  0., 97.],\n",
       "       [98.,  0.,  0.],\n",
       "       [ 0., 99.,  0.]])"
      ]
     },
     "metadata": {},
     "execution_count": 140
    }
   ],
   "source": [
    "t = np.zeros((100,3))\n",
    "t[0,:]\n",
    "for i in np.arange(100):\n",
    "    t[i,le1[i]]=i\n",
    "t"
   ]
  },
  {
   "cell_type": "code",
   "execution_count": 146,
   "metadata": {},
   "outputs": [
    {
     "output_type": "stream",
     "name": "stdout",
     "text": [
      "[[ 0.  0.  0.  2.]\n [ 0.  0.  1.  2.]\n [ 0.  2.  0.  1.]\n [ 0.  3.  0.  1.]\n [ 4.  0.  0.  0.]\n [ 0.  0.  5.  2.]\n [ 6.  0.  0.  0.]\n [ 0.  7.  0.  1.]\n [ 8.  0.  0.  0.]\n [ 0.  0.  9.  2.]\n [ 0. 10.  0.  1.]\n [11.  0.  0.  0.]\n [ 0. 12.  0.  1.]\n [ 0.  0. 13.  2.]\n [ 0.  0. 14.  2.]\n [ 0. 15.  0.  1.]\n [16.  0.  0.  0.]\n [17.  0.  0.  0.]\n [18.  0.  0.  0.]\n [19.  0.  0.  0.]\n [20.  0.  0.  0.]\n [ 0. 21.  0.  1.]\n [ 0. 22.  0.  1.]\n [ 0. 23.  0.  1.]\n [24.  0.  0.  0.]\n [25.  0.  0.  0.]\n [ 0.  0. 26.  2.]\n [27.  0.  0.  0.]\n [28.  0.  0.  0.]\n [ 0.  0. 29.  2.]\n [ 0.  0. 30.  2.]\n [31.  0.  0.  0.]\n [ 0.  0. 32.  2.]\n [ 0.  0. 33.  2.]\n [ 0. 34.  0.  1.]\n [ 0. 35.  0.  1.]\n [ 0.  0. 36.  2.]\n [37.  0.  0.  0.]\n [38.  0.  0.  0.]\n [ 0. 39.  0.  1.]\n [ 0. 40.  0.  1.]\n [ 0. 41.  0.  1.]\n [ 0.  0. 42.  2.]\n [43.  0.  0.  0.]\n [ 0.  0. 44.  2.]\n [45.  0.  0.  0.]\n [ 0. 46.  0.  1.]\n [47.  0.  0.  0.]\n [ 0. 48.  0.  1.]\n [ 0. 49.  0.  1.]\n [50.  0.  0.  0.]\n [ 0.  0. 51.  2.]\n [ 0.  0. 52.  2.]\n [ 0. 53.  0.  1.]\n [ 0. 54.  0.  1.]\n [55.  0.  0.  0.]\n [ 0.  0. 56.  2.]\n [ 0.  0. 57.  2.]\n [ 0.  0. 58.  2.]\n [59.  0.  0.  0.]\n [ 0. 60.  0.  1.]\n [ 0.  0. 61.  2.]\n [62.  0.  0.  0.]\n [63.  0.  0.  0.]\n [ 0. 64.  0.  1.]\n [65.  0.  0.  0.]\n [ 0.  0. 66.  2.]\n [67.  0.  0.  0.]\n [ 0. 68.  0.  1.]\n [ 0. 69.  0.  1.]\n [ 0.  0. 70.  2.]\n [ 0. 71.  0.  1.]\n [72.  0.  0.  0.]\n [ 0.  0. 73.  2.]\n [74.  0.  0.  0.]\n [ 0.  0. 75.  2.]\n [76.  0.  0.  0.]\n [ 0. 77.  0.  1.]\n [78.  0.  0.  0.]\n [ 0. 79.  0.  1.]\n [80.  0.  0.  0.]\n [ 0.  0. 81.  2.]\n [ 0. 82.  0.  1.]\n [ 0.  0. 83.  2.]\n [84.  0.  0.  0.]\n [ 0. 85.  0.  1.]\n [86.  0.  0.  0.]\n [87.  0.  0.  0.]\n [ 0. 88.  0.  1.]\n [89.  0.  0.  0.]\n [90.  0.  0.  0.]\n [ 0.  0. 91.  2.]\n [92.  0.  0.  0.]\n [ 0. 93.  0.  1.]\n [ 0.  0. 94.  2.]\n [ 0.  0. 95.  2.]\n [ 0. 96.  0.  1.]\n [ 0.  0. 97.  2.]\n [98.  0.  0.  0.]\n [ 0. 99.  0.  1.]]\n"
     ]
    }
   ],
   "source": [
    "#concatenate : 배열 합치기\n",
    "print(np.concatenate([t,le1.reshape(-1,1)],axis=1))\n"
   ]
  },
  {
   "cell_type": "code",
   "execution_count": 151,
   "metadata": {},
   "outputs": [
    {
     "output_type": "execute_result",
     "data": {
      "text/plain": [
       "array([[ 0.,  0.,  0.,  2.],\n",
       "       [ 0.,  0.,  1.,  2.],\n",
       "       [ 0.,  2.,  0.,  1.],\n",
       "       [ 0.,  3.,  0.,  1.],\n",
       "       [ 4.,  0.,  0.,  0.],\n",
       "       [ 0.,  0.,  5.,  2.],\n",
       "       [ 6.,  0.,  0.,  0.],\n",
       "       [ 0.,  7.,  0.,  1.],\n",
       "       [ 8.,  0.,  0.,  0.],\n",
       "       [ 0.,  0.,  9.,  2.],\n",
       "       [ 0., 10.,  0.,  1.],\n",
       "       [11.,  0.,  0.,  0.],\n",
       "       [ 0., 12.,  0.,  1.],\n",
       "       [ 0.,  0., 13.,  2.],\n",
       "       [ 0.,  0., 14.,  2.],\n",
       "       [ 0., 15.,  0.,  1.],\n",
       "       [16.,  0.,  0.,  0.],\n",
       "       [17.,  0.,  0.,  0.],\n",
       "       [18.,  0.,  0.,  0.],\n",
       "       [19.,  0.,  0.,  0.],\n",
       "       [20.,  0.,  0.,  0.],\n",
       "       [ 0., 21.,  0.,  1.],\n",
       "       [ 0., 22.,  0.,  1.],\n",
       "       [ 0., 23.,  0.,  1.],\n",
       "       [24.,  0.,  0.,  0.],\n",
       "       [25.,  0.,  0.,  0.],\n",
       "       [ 0.,  0., 26.,  2.],\n",
       "       [27.,  0.,  0.,  0.],\n",
       "       [28.,  0.,  0.,  0.],\n",
       "       [ 0.,  0., 29.,  2.],\n",
       "       [ 0.,  0., 30.,  2.],\n",
       "       [31.,  0.,  0.,  0.],\n",
       "       [ 0.,  0., 32.,  2.],\n",
       "       [ 0.,  0., 33.,  2.],\n",
       "       [ 0., 34.,  0.,  1.],\n",
       "       [ 0., 35.,  0.,  1.],\n",
       "       [ 0.,  0., 36.,  2.],\n",
       "       [37.,  0.,  0.,  0.],\n",
       "       [38.,  0.,  0.,  0.],\n",
       "       [ 0., 39.,  0.,  1.],\n",
       "       [ 0., 40.,  0.,  1.],\n",
       "       [ 0., 41.,  0.,  1.],\n",
       "       [ 0.,  0., 42.,  2.],\n",
       "       [43.,  0.,  0.,  0.],\n",
       "       [ 0.,  0., 44.,  2.],\n",
       "       [45.,  0.,  0.,  0.],\n",
       "       [ 0., 46.,  0.,  1.],\n",
       "       [47.,  0.,  0.,  0.],\n",
       "       [ 0., 48.,  0.,  1.],\n",
       "       [ 0., 49.,  0.,  1.],\n",
       "       [50.,  0.,  0.,  0.],\n",
       "       [ 0.,  0., 51.,  2.],\n",
       "       [ 0.,  0., 52.,  2.],\n",
       "       [ 0., 53.,  0.,  1.],\n",
       "       [ 0., 54.,  0.,  1.],\n",
       "       [55.,  0.,  0.,  0.],\n",
       "       [ 0.,  0., 56.,  2.],\n",
       "       [ 0.,  0., 57.,  2.],\n",
       "       [ 0.,  0., 58.,  2.],\n",
       "       [59.,  0.,  0.,  0.],\n",
       "       [ 0., 60.,  0.,  1.],\n",
       "       [ 0.,  0., 61.,  2.],\n",
       "       [62.,  0.,  0.,  0.],\n",
       "       [63.,  0.,  0.,  0.],\n",
       "       [ 0., 64.,  0.,  1.],\n",
       "       [65.,  0.,  0.,  0.],\n",
       "       [ 0.,  0., 66.,  2.],\n",
       "       [67.,  0.,  0.,  0.],\n",
       "       [ 0., 68.,  0.,  1.],\n",
       "       [ 0., 69.,  0.,  1.],\n",
       "       [ 0.,  0., 70.,  2.],\n",
       "       [ 0., 71.,  0.,  1.],\n",
       "       [72.,  0.,  0.,  0.],\n",
       "       [ 0.,  0., 73.,  2.],\n",
       "       [74.,  0.,  0.,  0.],\n",
       "       [ 0.,  0., 75.,  2.],\n",
       "       [76.,  0.,  0.,  0.],\n",
       "       [ 0., 77.,  0.,  1.],\n",
       "       [78.,  0.,  0.,  0.],\n",
       "       [ 0., 79.,  0.,  1.],\n",
       "       [80.,  0.,  0.,  0.],\n",
       "       [ 0.,  0., 81.,  2.],\n",
       "       [ 0., 82.,  0.,  1.],\n",
       "       [ 0.,  0., 83.,  2.],\n",
       "       [84.,  0.,  0.,  0.],\n",
       "       [ 0., 85.,  0.,  1.],\n",
       "       [86.,  0.,  0.,  0.],\n",
       "       [87.,  0.,  0.,  0.],\n",
       "       [ 0., 88.,  0.,  1.],\n",
       "       [89.,  0.,  0.,  0.],\n",
       "       [90.,  0.,  0.,  0.],\n",
       "       [ 0.,  0., 91.,  2.],\n",
       "       [92.,  0.,  0.,  0.],\n",
       "       [ 0., 93.,  0.,  1.],\n",
       "       [ 0.,  0., 94.,  2.],\n",
       "       [ 0.,  0., 95.,  2.],\n",
       "       [ 0., 96.,  0.,  1.],\n",
       "       [ 0.,  0., 97.,  2.],\n",
       "       [98.,  0.,  0.,  0.],\n",
       "       [ 0., 99.,  0.,  1.]])"
      ]
     },
     "metadata": {},
     "execution_count": 151
    }
   ],
   "source": [
    "np.concatenate([t,le1.reshape(-1,1)],axis=1)\n",
    "\n"
   ]
  },
  {
   "cell_type": "code",
   "execution_count": 166,
   "metadata": {},
   "outputs": [
    {
     "output_type": "stream",
     "name": "stdout",
     "text": [
      "a\n [[1 2]\n [3 4]]\n\nb\n [[ 5  6]\n [ 7  8]\n [ 9 10]]\n\nconcat (a , b) axis = 0\n [[ 1  2]\n [ 3  4]\n [ 5  6]\n [ 7  8]\n [ 9 10]]\n\nb.T \n [[ 5  7  9]\n [ 6  8 10]]\n\nconcat (a , b.T) axis = 1\n [[ 1  2  5  7  9]\n [ 3  4  6  8 10]]\n\nconcat (a , b) axis = none\n [ 1  2  3  4  5  6  7  8  9 10]\n"
     ]
    }
   ],
   "source": [
    "a = np.array([[1,2],[3,4]])\n",
    "b = np.array([[5,6],[7,8],[9,10]])\n",
    "print (\"a\\n\",a)\n",
    "print (\"\\nb\\n\",b)\n",
    "print(\"\\nconcat (a , b) axis = 0\\n\",np.concatenate((a,b),axis=0))\n",
    "print(\"\\nb.T \\n\",b.T)\n",
    "print(\"\\nconcat (a , b.T) axis = 1\\n\",np.concatenate((a,b.T),axis=1))\n",
    "print(\"\\nconcat (a , b) axis = none\\n\",np.concatenate((a, b), axis=None))\n"
   ]
  },
  {
   "cell_type": "code",
   "execution_count": 177,
   "metadata": {},
   "outputs": [
    {
     "output_type": "stream",
     "name": "stdout",
     "text": [
      "[1 4 7]\n[   2.71828183   54.59815003 1096.63315843]\n"
     ]
    }
   ],
   "source": [
    "x = np.arange(1,10,3)\n",
    "x_prob = np.exp(x)\n",
    "print(x)\n",
    "print(x_prob)\n"
   ]
  },
  {
   "cell_type": "code",
   "execution_count": 285,
   "metadata": {
    "tags": []
   },
   "outputs": [
    {
     "output_type": "stream",
     "name": "stdout",
     "text": [
      "Wall time: 1.79 s\n"
     ]
    },
    {
     "output_type": "execute_result",
     "data": {
      "text/plain": [
       "{'apple': 3906537, 'banana': 3293909, 'grape': 2799554}"
      ]
     },
     "metadata": {},
     "execution_count": 285
    }
   ],
   "source": [
    "%%time\n",
    "# 문제\n",
    "# 1. 값들을 확율로 변경시키기\n",
    "# 2. 확율값이 높은값의 위치에따라 apple banana grape로 치환\n",
    "# 3. 각각 갯수 세기\n",
    "\n",
    "np.random.seed(100)\n",
    "items = ['apple', 'banana', 'grape']\n",
    "x = np.random.randint(1,10,30000000).reshape(-1,3)\n",
    "# np.unique(np.argmax(np.exp(x)/np.sum(np.exp(x),axis=1).reshape(-1,1),axis=1), return_counts = True)[1]\n",
    "\n",
    "dict(zip(items, np.unique(\n",
    "        np.argmax(np.exp(x)/np.sum(np.exp(x),axis=1).reshape(-1,1),axis=1),\n",
    "            return_counts = True)[1]))\n"
   ]
  },
  {
   "cell_type": "code",
   "execution_count": 288,
   "metadata": {},
   "outputs": [],
   "source": [
    "import numpy as np\n",
    "import pandas as pd\n"
   ]
  },
  {
   "cell_type": "code",
   "execution_count": 302,
   "metadata": {},
   "outputs": [
    {
     "output_type": "execute_result",
     "data": {
      "text/plain": [
       "3"
      ]
     },
     "metadata": {},
     "execution_count": 302
    }
   ],
   "source": [
    "# s = pd.Series([1,2,3])\n",
    "s = pd.Series([1,2,3],index =[3,2,1])\n",
    "# 느낌상 key : value 느낌으로 구현하는 것 같다\n",
    "s[1]\n"
   ]
  }
 ]
}