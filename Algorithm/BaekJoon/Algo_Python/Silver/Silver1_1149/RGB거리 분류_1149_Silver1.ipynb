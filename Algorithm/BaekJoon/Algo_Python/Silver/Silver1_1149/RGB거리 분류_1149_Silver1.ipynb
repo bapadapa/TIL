{
 "cells": [
  {
   "attachments": {
    "image.png": {
     "image/png": "[encoded data removed]"
    }
   },
   "cell_type": "markdown",
   "metadata": {},
   "source": [
    "# RGB거리 분류\n",
    "https://www.acmicpc.net/problem/1149\n",
    "\n",
    "## 문제\n",
    "    RGB거리에는 집이 N개 있다. 거리는 선분으로 나타낼 수 있고, 1번 집부터 N번 집이 순서대로 있다.\n",
    "    \n",
    "    집은 빨강, 초록, 파랑 중 하나의 색으로 칠해야 한다. 각각의 집을 빨강, 초록, 파랑으로 칠하는 비용이 주어졌을 때, 아래 규칙을 만족하면서 모든 집을 칠하는 비용의 최솟값을 구해보자.\n",
    "\n",
    "    1번 집의 색은 2번 집의 색과 같지 않아야 한다.\n",
    "    N번 집의 색은 N-1번 집의 색과 같지 않아야 한다.\n",
    "    i(2 ≤ i ≤ N-1)번 집의 색은 i-1번, i+1번 집의 색과 같지 않아야 한다.\n",
    "    \n",
    "## 입력\n",
    "    첫째 줄에 집의 수 N(2 ≤ N ≤ 1,000)이 주어진다. 둘째 줄부터 N개의 줄에는 각 집을 빨강, 초록, 파랑으로 칠하는 비용이 1번 집부터 한 줄에 하나씩 주어진다. 집을 칠하는 비용은 1,000보다 작거나 같은 자연수이다.\n",
    "\n",
    "## 출력\n",
    "    첫째 줄에 모든 집을 칠하는 비용의 최솟값을 출력한다.\n",
    "    \n",
    "    \n",
    "![image.png](attachment:image.png)"
   ]
  },
  {
   "cell_type": "code",
   "execution_count": 4,
   "metadata": {
    "ExecuteTime": {
     "end_time": "2021-05-06T14:20:23.340051Z",
     "start_time": "2021-05-06T14:20:12.469750Z"
    }
   },
   "outputs": [
    {
     "output_type": "error",
     "ename": "ValueError",
     "evalue": "invalid literal for int() with base 10: ''",
     "traceback": [
      "\u001b[1;31m---------------------------------------------------------------------------\u001b[0m",
      "\u001b[1;31mValueError\u001b[0m                                Traceback (most recent call last)",
      "\u001b[1;32m<ipython-input-4-dca99f8ed68a>\u001b[0m in \u001b[0;36m<module>\u001b[1;34m\u001b[0m\n\u001b[0;32m     13\u001b[0m     \u001b[1;32mreturn\u001b[0m \u001b[0mminNum\u001b[0m\u001b[1;33m+\u001b[0m\u001b[0mrgbSum\u001b[0m \u001b[1;33m,\u001b[0m \u001b[0mpicked\u001b[0m\u001b[1;33m\u001b[0m\u001b[1;33m\u001b[0m\u001b[0m\n\u001b[0;32m     14\u001b[0m \u001b[1;33m\u001b[0m\u001b[0m\n\u001b[1;32m---> 15\u001b[1;33m \u001b[0mhCnt\u001b[0m \u001b[1;33m=\u001b[0m \u001b[0mint\u001b[0m\u001b[1;33m(\u001b[0m\u001b[0minput\u001b[0m\u001b[1;33m(\u001b[0m\u001b[1;33m)\u001b[0m\u001b[1;33m)\u001b[0m\u001b[1;33m\u001b[0m\u001b[1;33m\u001b[0m\u001b[0m\n\u001b[0m\u001b[0;32m     16\u001b[0m \u001b[0maSum\u001b[0m \u001b[1;33m,\u001b[0m\u001b[0mbSum\u001b[0m\u001b[1;33m,\u001b[0m \u001b[0mcSum\u001b[0m \u001b[1;33m=\u001b[0m \u001b[0mmap\u001b[0m\u001b[1;33m(\u001b[0m\u001b[0mint\u001b[0m\u001b[1;33m,\u001b[0m \u001b[0minput\u001b[0m\u001b[1;33m(\u001b[0m\u001b[1;33m)\u001b[0m\u001b[1;33m.\u001b[0m\u001b[0msplit\u001b[0m\u001b[1;33m(\u001b[0m\u001b[1;33m)\u001b[0m\u001b[1;33m)\u001b[0m\u001b[1;33m\u001b[0m\u001b[1;33m\u001b[0m\u001b[0m\n\u001b[0;32m     17\u001b[0m \u001b[0maPick\u001b[0m\u001b[1;33m,\u001b[0m\u001b[0mbPick\u001b[0m\u001b[1;33m,\u001b[0m \u001b[0mcPick\u001b[0m \u001b[1;33m=\u001b[0m \u001b[1;36m0\u001b[0m\u001b[1;33m,\u001b[0m\u001b[1;36m1\u001b[0m\u001b[1;33m,\u001b[0m\u001b[1;36m2\u001b[0m\u001b[1;33m\u001b[0m\u001b[1;33m\u001b[0m\u001b[0m\n",
      "\u001b[1;31mValueError\u001b[0m: invalid literal for int() with base 10: ''"
     ]
    }
   ],
   "source": [
    "#### import sys\n",
    "def checkNum(preNum,rgbList):\n",
    "    if preNum == 0: #이전값이 R        \n",
    "        return min(rgbList[1], rgbList[2]) \n",
    "    elif preNum == 1:#이전값이 G\n",
    "        return min(rgbList[0], rgbList[2])\n",
    "    else :#이전값이 B\n",
    "        return min(rgbList[0], rgbList[1])\n",
    "\n",
    "def pickColor(rgbSum,picked,rgbL):\n",
    "    minNum = checkNum(picked,rgbL)\n",
    "    picked = rgbL.index(minNum)\n",
    "    return minNum+rgbSum , picked\n",
    "\n",
    "hCnt = int(input())\n",
    "aSum ,bSum, cSum = map(int, input().split())\n",
    "aPick,bPick, cPick = 0,1,2\n",
    "\n",
    "for i in range(hCnt-1):\n",
    "    rgbL = list(map(int, input().split()))\n",
    "    aSum,aPick=pickColor(aSum,aPick,rgbL)\n",
    "    bSum,bPick=pickColor(bSum,bPick,rgbL)\n",
    "    cSum,cPick=pickColor(cSum,cPick,rgbL)\n",
    "                     \n",
    "print(min(min(aSum,bSum),cSum))\n"
   ]
  },
  {
   "cell_type": "code",
   "execution_count": 17,
   "metadata": {},
   "outputs": [
    {
     "output_type": "error",
     "ename": "ValueError",
     "evalue": "invalid literal for int() with base 10: 'Escape'",
     "traceback": [
      "\u001b[1;31m---------------------------------------------------------------------------\u001b[0m",
      "\u001b[1;31mValueError\u001b[0m                                Traceback (most recent call last)",
      "\u001b[1;32m<ipython-input-17-84691afe27a7>\u001b[0m in \u001b[0;36m<module>\u001b[1;34m\u001b[0m\n\u001b[1;32m----> 1\u001b[1;33m \u001b[0mhCnt\u001b[0m \u001b[1;33m=\u001b[0m \u001b[0mint\u001b[0m\u001b[1;33m(\u001b[0m\u001b[0minput\u001b[0m\u001b[1;33m(\u001b[0m\u001b[1;33m)\u001b[0m\u001b[1;33m)\u001b[0m\u001b[1;33m\u001b[0m\u001b[1;33m\u001b[0m\u001b[0m\n\u001b[0m\u001b[0;32m      2\u001b[0m \u001b[0maS\u001b[0m\u001b[1;33m,\u001b[0m\u001b[0mbS\u001b[0m\u001b[1;33m,\u001b[0m\u001b[0mcS\u001b[0m \u001b[1;33m=\u001b[0m \u001b[0mmap\u001b[0m\u001b[1;33m(\u001b[0m\u001b[0mint\u001b[0m\u001b[1;33m,\u001b[0m\u001b[0minput\u001b[0m\u001b[1;33m(\u001b[0m\u001b[1;33m)\u001b[0m\u001b[1;33m.\u001b[0m\u001b[0msplit\u001b[0m\u001b[1;33m(\u001b[0m\u001b[1;33m)\u001b[0m\u001b[1;33m)\u001b[0m\u001b[1;33m\u001b[0m\u001b[1;33m\u001b[0m\u001b[0m\n\u001b[0;32m      3\u001b[0m \u001b[1;33m\u001b[0m\u001b[0m\n\u001b[0;32m      4\u001b[0m \u001b[1;32mfor\u001b[0m \u001b[0mi\u001b[0m \u001b[1;32min\u001b[0m \u001b[0mrange\u001b[0m\u001b[1;33m(\u001b[0m\u001b[0mhCnt\u001b[0m\u001b[1;33m-\u001b[0m\u001b[1;36m1\u001b[0m\u001b[1;33m)\u001b[0m\u001b[1;33m:\u001b[0m\u001b[1;33m\u001b[0m\u001b[1;33m\u001b[0m\u001b[0m\n\u001b[0;32m      5\u001b[0m     \u001b[0ma\u001b[0m\u001b[1;33m,\u001b[0m\u001b[0mb\u001b[0m\u001b[1;33m,\u001b[0m\u001b[0mc\u001b[0m \u001b[1;33m=\u001b[0m \u001b[0mmap\u001b[0m\u001b[1;33m(\u001b[0m\u001b[0mint\u001b[0m\u001b[1;33m,\u001b[0m\u001b[0minput\u001b[0m\u001b[1;33m(\u001b[0m\u001b[1;33m)\u001b[0m\u001b[1;33m.\u001b[0m\u001b[0msplit\u001b[0m\u001b[1;33m(\u001b[0m\u001b[1;33m)\u001b[0m\u001b[1;33m)\u001b[0m\u001b[1;33m\u001b[0m\u001b[1;33m\u001b[0m\u001b[0m\n",
      "\u001b[1;31mValueError\u001b[0m: invalid literal for int() with base 10: 'Escape'"
     ]
    }
   ],
   "source": [
    "hCnt = int(input())\n",
    "aS,bS,cS = map(int,input().split())\n",
    "\n",
    "for i in range(hCnt-1):\n",
    "    a,b,c = map(int,input().split())\n",
    "    a+= min(bS,cS)\n",
    "    b+= min(aS,cS)\n",
    "    c+= min(aS,bS)\n",
    "    aS,bS,cS = a,b,c\n",
    "\n",
    "print(min(min(aS,bS),cS))\n"
   ]
  },
  {
   "cell_type": "code",
   "execution_count": null,
   "metadata": {},
   "outputs": [],
   "source": [
    "\n",
    "3\n",
    "26 40 83\n",
    "49 60 57\n",
    "13 89 99"
   ]
  },
  {
   "cell_type": "code",
   "execution_count": null,
   "metadata": {},
   "outputs": [],
   "source": [
    "#### import sys\n",
    "def checkNum(preNum,rgbList):\n",
    "    if preNum == 0: #이전값이 R        \n",
    "        return min(rgbList[1], rgbList[2]) \n",
    "    elif preNum == 1:#이전값이 G\n",
    "        return min(rgbList[0], rgbList[2])\n",
    "    else :#이전값이 B\n",
    "        return min(rgbList[0], rgbList[1])\n",
    "\n",
    "def pickColor(rgbSum,picked,rgbL):\n",
    "    minNum = checkNum(picked,rgbL)\n",
    "    picked = rgbL.index(minNum)\n",
    "    return minNum+rgbSum , picked\n",
    "\n",
    "hCnt = int(input())\n",
    "aSum ,bSum, cSum = map(int, input().split())\n",
    "aPick,bPick, cPick = 0,1,2\n",
    "\n",
    "for i in range(hCnt-1):\n",
    "    rgbL = list(map(int, input().split()))\n",
    "    aSum,aPick=pickColor(aSum,aPick,rgbL)\n",
    "    bSum,bPick=pickColor(bSum,bPick,rgbL)\n",
    "    cSum,cPick=pickColor(cSum,cPick,rgbL)\n",
    "                     \n",
    "print(min(min(aSum,bSum),cSum))\n"
   ]
  }
 ],
 "metadata": {
  "kernelspec": {
   "name": "python385jvsc74a57bd057cddac5ae9b7541513b871f8480362ac4870e8994976cf509c0e9c0207414d9",
   "display_name": "Python 3.8.5 64-bit ('base': conda)"
  },
  "language_info": {
   "codemirror_mode": {
    "name": "ipython",
    "version": 3
   },
   "file_extension": ".py",
   "mimetype": "text/x-python",
   "name": "python",
   "nbconvert_exporter": "python",
   "pygments_lexer": "ipython3",
   "version": "3.8.5"
  },
  "toc": {
   "base_numbering": 1,
   "nav_menu": {},
   "number_sections": true,
   "sideBar": true,
   "skip_h1_title": false,
   "title_cell": "Table of Contents",
   "title_sidebar": "Contents",
   "toc_cell": false,
   "toc_position": {},
   "toc_section_display": true,
   "toc_window_display": false
  }
 },
 "nbformat": 4,
 "nbformat_minor": 4
}