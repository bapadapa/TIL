{
 "cells": [
  {
   "cell_type": "markdown",
   "metadata": {},
   "source": [
    "# 전쟁 - 땅따먹기\n",
    "\n",
    "https://www.acmicpc.net/problem/1270\n",
    "\n",
    "## 문제\n",
    "    드디어 전쟁은 전면전이 시작되었고, 서로 땅을 따먹기 시작했다.\n",
    "    현재 여러 지역은 한창 전쟁이 벌어지고 있는 상황인데, 어느 지역은 거의 전쟁이 마무리 단계로 가고 있다.\n",
    "    하지만 당신은 군대를 보낼 때 적군을 혼란시키기 위해서 우리 나라의 군대라는걸 표시하지 않고, 군대의 번호로 표시했다.\n",
    "    어느 땅에서 한 번호의 군대의 병사가 절반을 초과한다면 그 땅은 그 번호의 군대의 지배하에 놓이게 된다.\n",
    "    이때, 각 땅들을 지배한 군대의 번호를 출력하여라. 만약, 아직 전쟁이 한창중인 땅이라면 “SYJKGW”을 쌍 따옴표 없이 출력한다.\n",
    "\n",
    "## 입력\n",
    "    첫째 줄에는 땅의 개수 n(n<=200)이 주어진다. 그리고 두 번째 줄에서 n+1번째 줄에는 제일 처음에 숫자 Ti(i번째 땅의 병사수, Ti<=100,000)와, Ti개의 숫자 (각각 병사의 군대 번호)가 주어진다. i번째 땅의 j번째 병사 번호 Nij가 주어진다. ( | Nij | <= 2^31 )\n",
    " \n",
    "\n",
    "## 출력\n",
    "    첫째 줄에는 각각의 땅의 상태를 순서대로 출력한다. 만약 땅이 지배가 되어있다면 그 지배한 병사의 번호를 출력하고, 아니라면 “SYJKGW”을 쌍 따옴표 없이 출력한다."
   ]
  },
  {
   "cell_type": "code",
   "execution_count": 79,
   "metadata": {
    "ExecuteTime": {
     "end_time": "2021-05-03T07:47:32.656776Z",
     "start_time": "2021-05-03T07:47:17.872156Z"
    }
   },
   "outputs": [
    {
     "name": "stdout",
     "output_type": "stream",
     "text": [
      "4\n",
      "5 1 1 1 2 2\n",
      "1\n",
      "6 10 10 2 10 10 2\n",
      "10\n",
      "6 1 1 1 2 2 2 \n",
      "SYJKGW\n",
      "10 1 2 3 1 2 3 1 2 3 1\n",
      "SYJKGW\n"
     ]
    }
   ],
   "source": [
    "warNum = int(input())\n",
    "\n",
    "for i in range(warNum):\n",
    "    army = list(map(int, input().split()))\n",
    "    armyCnt = army[0]\n",
    "    army = army[1:]    \n",
    "    armyDict ={}\n",
    "    for j in army:\n",
    "        if str(j) in armyDict:\n",
    "            armyDict[str(j)] +=1\n",
    "        else:\n",
    "            armyDict[str(j)] =1\n",
    "    flag = True\n",
    "    for key,val in armyDict.items():\n",
    "        if val > armyCnt/2:\n",
    "            print (key)\n",
    "            flag =False\n",
    "            break\n",
    "    if flag :\n",
    "        print('SYJKGW')"
   ]
  },
  {
   "cell_type": "code",
   "execution_count": 86,
   "metadata": {
    "ExecuteTime": {
     "end_time": "2021-05-03T11:38:33.456457Z",
     "start_time": "2021-05-03T11:38:30.989166Z"
    }
   },
   "outputs": [
    {
     "name": "stdout",
     "output_type": "stream",
     "text": [
      "1\n",
      "10 1 2 3 1 2 3 1 2 3 1\n",
      "[[10, 1, 2, 3, 1, 2, 3, 1, 2, 3, 1]]\n",
      "4\n",
      "3\n",
      "3\n",
      "4\n",
      "3\n",
      "3\n",
      "4\n",
      "3\n",
      "3\n",
      "4\n",
      "SYJKGW\n"
     ]
    }
   ],
   "source": [
    "first = int(input())\n",
    "main_list = []\n",
    "for i in range(first):\n",
    "    main_list.append(list(map(int,input().split())))\n",
    "for i in range(len(main_list)):\n",
    "    x = main_list[i]\n",
    "    temp = 0\n",
    "    for j in range(1,len(x)):\n",
    "        print(x.count(x[j]))\n",
    "        if x.count(x[j]) > x[0]/2:\n",
    "            temp = x[j]\n",
    "            break\n",
    "    if temp == 0:\n",
    "        temp = \"SYJKGW\"\n",
    "    print(temp)\n",
    "    "
   ]
  },
  {
   "cell_type": "code",
   "execution_count": null,
   "metadata": {},
   "outputs": [],
   "source": [
    "10 1 2 3 1 2 3 1 2 3 1"
   ]
  }
 ],
 "metadata": {
  "kernelspec": {
   "display_name": "Python 3",
   "language": "python",
   "name": "python3"
  },
  "language_info": {
   "codemirror_mode": {
    "name": "ipython",
    "version": 3
   },
   "file_extension": ".py",
   "mimetype": "text/x-python",
   "name": "python",
   "nbconvert_exporter": "python",
   "pygments_lexer": "ipython3",
   "version": "3.7.9"
  },
  "toc": {
   "base_numbering": 1,
   "nav_menu": {},
   "number_sections": true,
   "sideBar": true,
   "skip_h1_title": false,
   "title_cell": "Table of Contents",
   "title_sidebar": "Contents",
   "toc_cell": false,
   "toc_position": {},
   "toc_section_display": true,
   "toc_window_display": false
  }
 },
 "nbformat": 4,
 "nbformat_minor": 4
}
