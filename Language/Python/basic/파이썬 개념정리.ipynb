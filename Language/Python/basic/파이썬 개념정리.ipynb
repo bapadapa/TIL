{
 "cells": [
  {
   "cell_type": "markdown",
   "metadata": {
    "cell_style": "center"
   },
   "source": [
    "파이썬 개념정리를 해보자!\n"
   ]
  },
  {
   "cell_type": "markdown",
   "metadata": {},
   "source": [
    "# Python 특징\n",
    "##### High-level\n",
    "##### Interpreted\n",
    "##### Interactive\n",
    "##### Object Oriented\n",
    "##### Script Language\n",
    "---\n",
    "## Python Built-in 데이터 타입\n",
    "##### Numeric Types\n",
    "- integer ( 정수형 )\n",
    "- float ( 실수형 )\n",
    "- complex number ( 허수형 )\n",
    "\n",
    "##### Booleans\n",
    "- true (참)\n",
    "- false(거짓)\n",
    "##### Sequence Types ( 배열들...?)\n",
    "- list ( c++의 vector, Java의 arrayList와 유사 ,삽입삭제 가능)\n",
    "- tuple \n",
    "\n",
    "##### Text Sequence Types \n",
    "- string\n",
    "\n",
    "##### Set Types\n",
    "- set\n",
    "- frozenset\n",
    "\n",
    "##### Mapping Types\n",
    "- dictionary"
   ]
  },
  {
   "cell_type": "markdown",
   "metadata": {},
   "source": [
    "# 파이썬 설치\n",
    "\n",
    "- Anaconda\n",
    "    - 데이터 분석을 위한 기본 패키지를 자동 설치\n",
    "    - Numpy : 수치연산 ( 행렬 및 배열 )\n",
    "    - Pandas : 데이터 전처리\n",
    "    - matplotlib : 데이터의 시각화 ( Seaborn을 인스톨하면 쉽게 데이터 분석용 시각화 지원 )\n",
    "    - sclikit- learn : 머신러닝을 위한 종합패키지\n",
    "- 필요한 패키지가 있을 경우 설치 방법\n",
    "    - Python의 pip를 이용\n",
    "        - pip install [패키지명]\n",
    "    - Anaconda를 이용할 경우\n",
    "        - conda install [패키지명]\n",
    "    - python repository\n",
    "        - https://pypi.org/\n",
    "        - github repository - python의 setuptools를 이용"
   ]
  },
  {
   "cell_type": "markdown",
   "metadata": {
    "cell_style": "center"
   },
   "source": [
    "# 기본 입출력\n",
    "\n",
    "## 입력\n",
    "- 사용 메소드 : input()\n",
    "    - 사용시에 input()으로 받으면 일반적으로 string으로 입력된다. 그럼으로 정수형으로 변경하고 싶다면, 형변환을 해 주어야 한다.  \n",
    "        - ex) num = int( input() )   \n",
    "    -  2개 이상을 입력받고 싶다면 split()을 이용하면 된다. \n",
    "        - num1 , num2 = input(추력문 (default == 공백) ).split( 구분자 (default == 공백) )\n",
    "    - 여러개를 입력받는데, 모두 형 변환을 해 주고싶다면 map을 이용하면 좋다\n",
    "        - num1 , num2 = map( 함수 / 자료형 , input().split() )\n",
    "        \n",
    "## 출력 \n",
    "- 사용 메소드 :  print( 출력하고자 하는 변수 혹은 스트링 )\n",
    "- 콘솔창에 출력하고자 할 때 사용하면 된다.\n",
    "\n",
    "## 주석 : \\#\n",
    "- 인터프리터가 처리하지 않은 텍스트로 만드는 작업 ( 주로 설명등을 작성할 떄 사용 )\n",
    "\n",
    "- #을 가장 앞에 삽입하면 주석처리가 된다\n",
    "    - \\# 뒤로는 모두 주석처리가 된다.\n",
    "\n",
    "## 들여쓰기 / 코드 블록\n",
    "- 기본적으로 간격을 띄워서 가독성을 높히는데 이용한다. \n",
    "    - 하지만 파이썬에서는 들여쓰기로 블록을 구분하기 때문에 들여쓰기를 잘 해야한다.\n",
    "- indent 방법\n",
    "    - 스페이스바 4번을 이용 혹은, tap키를 이용한다\n",
    "    "
   ]
  },
  {
   "cell_type": "markdown",
   "metadata": {},
   "source": [
    "# 숫자 계산\n",
    "\n",
    "## 자료형\n",
    "- 자료형은 정수( int ) , 실수 ( float ) , 복소수 ( complex )가 있다.\n",
    "\n",
    "## 연산자\n",
    "### 산술연산자\n",
    "- \\+ : 더하기\n",
    "- \\- : 빼기\n",
    "- \\* : 곱하기 ( ** 를 이용하면 거듭제곱이 된다. )\n",
    "- \\/ : 나누기 ( //를 이용하면 소숫점 미만을 버린다. )\n",
    "- \\% : 나머지\n",
    "    - 만약 나머지와 몫을 구하고 싶다면 divmod( Num1 , Num2 ) 메소드를 이용하면 된다.\n",
    "        - quotient, remainder = divmod( 5 , 2 )\n",
    "        \n",
    "### 비교 연산자\n",
    "- < , > , <= , >= , == , !=\n",
    "\n",
    "### 논리연산자\n",
    "- and(논리곱) , or(논리합)\n",
    "\n",
    "    \n",
    "## 자료형\n",
    "- 자료형 또는 데이터 타입은 컴퓨터 과학과 프로그래밍 언어에서 실수치, 정수, 불린 자료형 따위의 여러 종류의 데이터를 식별하는 분류이다.\n",
    "\n",
    "- 형변환 방법 : int ,float 등 을 이용하여 형변환 시켜준다\n",
    "    - int (변수) , float( 변수 ) , char ( 변수 )..\n",
    "- 자료형을 알아내는 방법\n",
    "    -type ( 변수 ) \n"
   ]
  },
  {
   "cell_type": "markdown",
   "metadata": {},
   "source": [
    "\n",
    "# 변수\n",
    "- 변수의 의미\n",
    "    - 값을 참조할 수 있도록 저장하는 메모리 공간\n",
    "- 변수명\n",
    "    - 변수에 접근하고 할당 받은 값을 저장하거나 그곳에 있는 값을 읽기 위해\n",
    "      지정한 이름\n",
    "- 변수 선언\n",
    "    - 오른쪽에 변수명을 정의하고 할당연산자를 사용해서 변수 값을 왼쪽에 대입한다.\n",
    "        - Ex) [변수명] = [대입 값]\n",
    "    - 저장할 공간을 할당하고 이름을 붙이는 것을 변수 선언이라고 함\n",
    "    - 변수명 = 대입값\n",
    "    - python은 대입값에 따라 자동으로 변수 타입 결정 ( 만약 빈 변수를 만들고 싶다면 none을 삽입한다)\n",
    "- 변수 명명 규칙\n",
    "    - 첫글자는 영문 소문자로 하며, 숫자나 특수기호 제외\n",
    "    - 예약어는 변수명으로 사용불가\n",
    "    - 변수명내 공백불가\n",
    "    - 대소문자 구분주의    \n",
    "  "
   ]
  },
  {
   "cell_type": "markdown",
   "metadata": {},
   "source": [
    "## Set\n",
    "\n",
    "### 정의 \n",
    "- 순서 및 중복이 없는 Sequence Type 변수다.\n",
    "\n",
    "### 생성 \n",
    "- {} or set = { val1 , val2 , val3 }\n",
    "    - Set은 다른 Sequence Type과 다르게 Set안에 Set을 삽입할 수 없다.\n",
    "    \n",
    "### 조회 \n",
    "-특정 요소(객체)만 출력할 수 없다.\n",
    "    - <font color = yellow >[ 값 ] in [ SET ]</font> :  값 유무판단을 한다. ( 있다면 True , 없다면 False 를 반환 )\n",
    "    - <font color = yellow >[ 값 ] not in [ SET ]</font>  : 값 유무판단을 한다. ( 있다면 False , 없다면 True 를 반환 )\n",
    "    \n",
    "### 메소드\n",
    "- frozenset( iterable object )  \n",
    "    - <font color = yellow> frozenset obj = frozenset( iterable object )</font> : 변경 불가능한 Set\n",
    "    - 요소를 추가하거나 삭제하는 연산 Method를 사용할 수 없다.\n",
    "    - 기본 set과 다르게 frozenset은 frozenset 안에 frozenset을 넣을 수 있다.\n",
    "- 집합연산\n",
    "    - 합집합 ( Union )\n",
    "        - <font color = yellow> [Set1] | [Set2] </font>\n",
    "        - <font color = yellow> set.union( [Set] , [Set2] ) </font>\n",
    "            - [Set1] 과 [Set2]의 합집합을 반환한다 (중복은 없다)\n",
    "        - 연산 후 할당하기.\n",
    "            - <font color = yellow> [Set1] |= [Set2] </font>\n",
    "            - <font color = yellow> [Set1].update( [Set2] ) </font>\n",
    "                - [ Set1 ]에 연산된 값이 삽입된다.           \n",
    "            \n",
    "    - 교집합 ( Intersection )\n",
    "        - <font color = yellow> [Set1] & [Set2] </font>\n",
    "        - <font color = yellow> set.intersection( [Set] , [Set2] ) </font>\n",
    "            - [Set1] 과 [Set2]의 교집합을 반환한다 (중복은 없다)\n",
    "        - 연산 후 할당하기.\n",
    "            - <font color = yellow> [Set1] &= [Set2] </font>\n",
    "            - <font color = yellow> [Set1].intersection_update( [Set2] ) </font>\n",
    "                - [ Set1 ]에 연산된 값이 삽입된다.    \n",
    "    \n",
    "    - 차집합 ( Difference )\n",
    "        - <font color = yellow> [Set1] - [Set2] </font>\n",
    "        - <font color = yellow> set.difference( [Set] , [Set2] ) </font>\n",
    "            - [Set1] 과 [Set2]의 차집합을 반환한다 (기준은  [ Set1 ]  중복은 없다)\n",
    "        - 연산 후 할당하기.\n",
    "            - <font color = yellow> [Set1] -= [Set2] </font>\n",
    "            - <font color = yellow> [Set1].difference_update( [Set2] ) </font>\n",
    "                - [ Set1 ]에 연산된 값이 삽입된다.    \n",
    "            \n",
    "    - 대칭차집합 ( Symmertric difference )\n",
    "        - <font color = yellow> [Set1] ^ [Set2] </font> \n",
    "        - <font color = yellow> set.symmetric_difference( [Set] , [Set2] ) </font>\n",
    "            - [Set1] 과 [Set2]의 차집합을 반환한다 (기준은  [ Set1 ]  중복은 없다)\n",
    "        - 연산 후 할당하기.\n",
    "            - <font color = yellow> [Set1] ^= [Set2] </font>\n",
    "            - <font color = yellow> [Set1].symmetric_difference_update( [Set2] ) </font>\n",
    "                - [ Set1 ]에 연산된 값이 삽입된다.    \n",
    "            \n",
    "    - 포함관계 확인하기.\n",
    "        - <font color = yellow> [Set1] &lt;= [Set2] </font>\n",
    "        - <font color = yellow> [Set1].issubset( [Set2] ) </font>\n",
    "            - [Set1] 이 [Set2]에 포함된다면 True 그렇지 않다면 False를 반환한다.\n",
    "        - <font color = yellow> [Set1] &gt;= [Set2] </font>\n",
    "        - <font color = yellow> [Set1].issuperset( [Set2] ) </font>\n",
    "            - [Set2] 이 [Set1]에 포함된다면 True 그렇지 않다면 False를 반환한다.       \n",
    "            \n",
    "        - <font color = yellow> [Set1] &lt; [Set2]  </font>\n",
    "            - [set1] 이 [Set2]에 포함되면서, [Set2]가 더 크다면 True 그렇지 않으면 Fasle를 반환한다.\n",
    "        - <font color = yellow> [Set1] &gt; [Set2]  </font>\n",
    "            - [set2] 이 [Set1]에 포함되면서, [Set1]가 더 크다면 True 그렇지 않으면 Fasle를 반환한다.\n",
    "            \n",
    "        - <font color = yellow> [Set1] == [Set2]  </font>\n",
    "            - [set1] 과 [Set2]이 동일한 Set이면 True 그렇지 않다면 False를 반환한다.\n",
    "            - Set은 순서가 없으니, 안에 있는 요소만 비교한다.\n",
    "        - <font color = yellow> [Set1] != [Set2]  </font>\n",
    "            - [set1] 과 [Set2]이 동일한 Set이면 False 그렇지 않다면 True를 반환한다.\n",
    "            - Set은 순서가 없으니, 안에 있는 요소만 비교한다.\n",
    "        - <font color = yellow> [Set1].isdisjoint( [Set2] ) </font>\n",
    "            - [set1] 과 [Set2]에 겹치는 요소가 없다면 True를 반환하고, 그렇지 않으면 False를 반환한다.\n",
    "            - Set은 순서가 없으니, 안에 있는 요소만 비교한다.\n",
    "    - 삽입\n",
    "        - <font color = yellow> [Set1].add( [Obj] ) </font>\n",
    "            - [Set1]에 Obj를 삽입한다. \n",
    "    - 삭제\n",
    "        - <font color = yellow> [Set1].remove( [Obj] ) </font>\n",
    "            - [Set1]에 있는 요소중 Obj를 찾아 삭제한다.\n",
    "                - 만약 Obj가 없으면 Error가 발생함.\n",
    "        - <font color = yellow> [Set1].discard( [Obj] ) </font>\n",
    "            - [Set1]에 있는 요소중 Obj를 찾아 삭제한다.\n",
    "                - 만약 Obj가 없더라도 Error가 발생하지 않음.\n",
    "        - <font color = yellow> [Set1].pop() </font>\n",
    "            - [Set1]에 있는 임의의 요소를 반환 후 삭제함.\n",
    "                - 만약 Set1이 비어있다면, Error가 발생함.\n",
    "        - <font color = yellow> [Set1].clear() </font>\n",
    "            - [Set1]에 있는 모든 요소를 삭제한다.\n",
    "    - 복제\n",
    "        - <font color = yellow> [Set1] = [Set2] </font>\n",
    "            - 얕은 복사 ( Shallow  Copy ) 가된다.\n",
    "                - Set1이 변경되면, Set2에 있는 값도 변경이된다.\n",
    "        - <font color = yellow> [Set2] = [Set1].copy() </font>\n",
    "            - 깊은 복사 ( Deep  Copy ) 가된다.\n",
    "                - Set1이 변경되더라도, Set2는 변경되지 않는다.\n",
    "    - 표현식 사용\n",
    "         - <font color = yellow> { [식]in [변수] in [ Set ] if [조건식] </font>\n",
    "             - 조건에 맞는 값들을 [식]에 삽입한다.\n",
    "             - if [ 조건식 ]은 생략해도 된다 ( 조건을 넣고 싶은경우에 사용."
   ]
  },
  {
   "cell_type": "markdown",
   "metadata": {},
   "source": [
    "## Sequence Types(Lists)\n",
    "- 리스트는 대괄호로 표현\n",
    "    - 생성 : []\n",
    "    - 조회 : 리스트객체[인덱스슬라이싱]\n",
    "- 대괄호 내에 ,(콤마)를 사용하여 항목을 구분\n",
    "- 내부 요소 변경 가능\n",
    "- 일반적으로 동질적인 데이터 집합에 사용을 권장"
   ]
  },
  {
   "cell_type": "code",
   "execution_count": 1,
   "metadata": {
    "ExecuteTime": {
     "end_time": "2021-04-29T02:12:22.764804Z",
     "start_time": "2021-04-29T02:12:22.745134Z"
    }
   },
   "outputs": [
    {
     "data": {
      "text/plain": [
       "[1, 2]"
      ]
     },
     "execution_count": 1,
     "metadata": {},
     "output_type": "execute_result"
    }
   ],
   "source": [
    "# l이라는 리스트 객체 생성, 객체에는 1,2,3원소 사용\n",
    "l = [1,2,3]\n",
    "# l 객체에서 첫번째 원소 조회\n",
    "l[0]\n",
    "# l 객체에서 처음부터 두번째 원소까지 조회\n",
    "l[0:2]\n",
    "# l 객체에서 두번째에서 세번 원소까지 조회실행"
   ]
  },
  {
   "cell_type": "markdown",
   "metadata": {},
   "source": [
    "## Mapping Type(Dictionary)\n",
    "- 딕셔너리는 중괄호로 표현 {}\n",
    "- key:value 쌍 형식\n",
    "- dictionary를 생성하는 방법\n",
    "    - dict()\n",
    "    - dict(k1='a',k2='b')\n",
    "    - {'k1':'a','k2':'b'}\n",
    "- 조회시 key값으로 조회\n",
    "    - dict[key]\n",
    "- 요소 추가 혹은 변경시 \n",
    "    - 삽입\n",
    "        - <font color = yellow > dict.setdefault( [ key ] , [ value ] ) </font> \n",
    "            - value를 생략하면 <font color = red > None </font>값이 들어간다\n",
    "    - 수정 & 삽입\n",
    "        - <font color = yellow> dict[key] = value </font>  : key 값이 있으면 value 변경, 없다면 추가\n",
    "        - <font color = yellow> dict.update( [key] = [value] , [key] = [value] ...) </font> : key 값이 있으면 value 변경, 없다면 추가\n",
    "             - 나열하여 여러개 수정 및 삽입할 수 있다.\n",
    "    - 삭제\n",
    "        - <font color = yellow > pop( [ key ] , [기본값] ) </font> : key값을 찾아 반환 후 삭제한다. 없다면 <font color = red > [기본값] </font>을 반환한다\n",
    "        - <font color = yellow > del dict[ [ key ] ]</font> dict의 [ key ]값을 찾아 삭제한다.\n",
    "        - <font color = yellow > popitem()</font> 3.6이상 기준으로 마지막 값을 Tuple로 반환 후 삭제한다.\n",
    "        - <font color = yellow >dict.clear()</font> dict의 모든 값 삭제하기.\n",
    "    - 조회\n",
    "        - <font color = yellow > dict.get( [ key ] , [ 기본값 ] </font> : key의 value를 조회한다. 실패시 [기본값]을 반환한다\n",
    "        - <font color = yellow > dict.items() </font> : (key , value) 형식으로 모든 값을 조회한다.\n",
    "        - <font color = yellow > dict.key() </font> : key 값을 조회한다.\n",
    "        - <font color = yellow > dict.value() </font> : value 값을 조회한다.\n",
    "    - 리스트 혹은 튜플로 딕셔너리 생성\n",
    "        - <font color = yellow > dict.fromkeys(key,value) </font> : value가 없다면 None값이 삽입되고, 있다면 key : value쌍으로 구현됨.\n",
    "    - 표현식 사용하여 구현\n",
    "        - <font color = yellow > [ dict ]= {key : value for key ,value in [ dictionary ]}</font> [ dict ]에 [ dictionary <font color = red> (꼭 dictionay가 아니여도 됨. ) </font>]에 있는 값들을 key값과 value을 받아 삽입한다.\n",
    "        - <font color = yellow > [ dict ]= {key : value for key ,value in [ dictionary ] if 조건식 }</font> : 조건식에서 True 인 것만 삽입한다.\n",
    "        \n",
    "    - 딕셔너리 안에 딕셔너리\n",
    "        - <font color = yellow > [ dict ]= {key1 : { key : value } , key2 : { key : value }}</font>  다른 2차원 배열처럼 삽입하면 된다. (개인적인 생각은 Json형식과 유사하다)\n",
    "    - 할당 및 복사\n",
    "        - <font color = yellow > x = y.copy()</font> : y를 복제해서 x에 넣는다\n",
    "            - x = y와 같이 넣을 수 있지만, 그렇게 하면 주소값이 같기 때문에 같은 딕셔너리가 된다.\n",
    "        - <font color = yellow > x = y.deepcopy()</font> : 다중 딕셔러니는 deepcopy를 깊은 복사가 된다. <font color = red>deepcopy를 사용하지 않으면 x가 변형되면 y도 변형됨 ) </font>\n",
    "        "
   ]
  },
  {
   "cell_type": "code",
   "execution_count": 2,
   "metadata": {
    "ExecuteTime": {
     "end_time": "2021-04-29T02:15:47.222557Z",
     "start_time": "2021-04-29T02:15:47.215161Z"
    }
   },
   "outputs": [
    {
     "data": {
      "text/plain": [
       "'one'"
      ]
     },
     "execution_count": 2,
     "metadata": {},
     "output_type": "execute_result"
    }
   ],
   "source": [
    "# d라는 객체 생성, key - 'one','two','three', value - 1,2,3 \n",
    "d = {'one':1,'two':2,'three':3}\n",
    "d = dict(one=1,two=2,three=3)\n",
    "d['one'] = 'one'\n",
    "d['one']\n",
    "# 하나의 key에 여러개의 value값을 갖는 dictionary 객체 생성 실행"
   ]
  },
  {
   "cell_type": "markdown",
   "metadata": {},
   "source": [
    "## 조건문\n",
    "- if ~ elif ~ else 구조\n",
    "    - 문법<br>\n",
    "     if 조건문1: <br>\n",
    "      <sub>[indent]</sub>수행문장<br>\n",
    "     elif 조건문2:<br>\n",
    "      <sub>[indent]</sub>수행문장<br>\n",
    "     else:<br>\n",
    "      <sub>[indent]</sub>수행문장<br>\n",
    "    - 조건식이 True일 때 하위문장을 수행하고 False일 때는 pass함\n",
    "    - if는 조건문의 시작을 알리는 키워드로 필수\n",
    "    - elif 키워드는 생략가능 중복하여 여러 조건식을 사용\n",
    "    - else는 생략 가능하지만 중복 불가\n",
    "- 3항연산(중요하지는 않지만 다른 사람이 작성한 코드를 해석시 필요)\n",
    "    - and (when True) or (when False)\n",
    "    - (when True) if 조건식 else (when False)"
   ]
  },
  {
   "cell_type": "code",
   "execution_count": 4,
   "metadata": {
    "ExecuteTime": {
     "end_time": "2021-04-28T04:05:46.898573Z",
     "start_time": "2021-04-28T04:05:46.884006Z"
    }
   },
   "outputs": [
    {
     "name": "stdout",
     "output_type": "stream",
     "text": [
      "success\n",
      "fail\n"
     ]
    },
    {
     "data": {
      "text/plain": [
       "30"
      ]
     },
     "execution_count": 4,
     "metadata": {},
     "output_type": "execute_result"
    }
   ],
   "source": [
    "## 참일경우 success를 출력하는 문장\n",
    "if True:\n",
    "    print('success')\n",
    "else:\n",
    "    print('fail')\n",
    "## 거짓일 경우 fail을 출력하는 문장 실행\n",
    "if False:\n",
    "    print('success')\n",
    "else:\n",
    "    print('fail')\n",
    "## 3항연산 \n",
    "# a=10, b=20 일경우 a와 b가 같을경우 a-b의 문장을 수행\n",
    "# 그렇지 않을 경우 a+b문장을 수행\n",
    "a = 10\n",
    "b = 20\n",
    "a == b and (a-b) or (a+b)\n",
    "## 위 조건을 (when True) if 조건식 else (when False)를 사용하여 실행"
   ]
  },
  {
   "cell_type": "markdown",
   "metadata": {},
   "source": [
    "# 반복문\n",
    "\n",
    "## for문\n",
    "- 문법\n",
    "\n",
    "    for 반복자 in 반복객체:<br>\n",
    "    <sub>[indent]</sub> 반복자를 활용한 문장(반복자는 필수가 아님)\n",
    "\n",
    "- break\n",
    "    - 반복문 수행 도중 break문을 만나게 되면 반복문을 종료\n",
    "    - break를 위해 조건문을 사용\n",
    "- contiue \n",
    "    - 반복문을 수행하는 도중에 continue문을 만나면 반복문의 처음으로 돌아 가게 됨\n",
    "    - continue를 위해 조건문을 사용"
   ]
  },
  {
   "cell_type": "code",
   "execution_count": 5,
   "metadata": {
    "ExecuteTime": {
     "end_time": "2021-04-28T04:06:04.248348Z",
     "start_time": "2021-04-28T04:06:04.231412Z"
    }
   },
   "outputs": [
    {
     "name": "stdout",
     "output_type": "stream",
     "text": [
      "55\n",
      "36\n",
      "30\n"
     ]
    }
   ],
   "source": [
    "## 1~10까지의 숫자을 더하는 반복문 작성\n",
    "#1. 1~10까지 반복객체 생성 [1,2,3,4,5,6,7,8,9,10]\n",
    "#2. 반복문에서는 초기값 설정이 중요 - 수열에서 첫항과 같은 역할\n",
    "#3. 반복문 작성\n",
    "iter_objs = [1,2,3,4,5,6,7,8,9,10] # 반복객체\n",
    "sum_of_iter_obj = 0 # 첫항에 더해야 하기 때문에 0으로 설정\n",
    "for iter_obj in iter_objs:\n",
    "    sum_of_iter_obj = sum_of_iter_obj + iter_obj\n",
    "print(sum_of_iter_obj)\n",
    "    \n",
    "## 1~10까지의 숫자를 사용해 8이하만 더하는 반복문 작성(break사용)\n",
    "iter_objs = [1,2,3,4,5,6,7,8,9,10] # 반복객체\n",
    "sum_of_8_obj = 0 # 첫항에 더해야 하기 때문에 0으로 설정\n",
    "for iter_obj in iter_objs:\n",
    "    if iter_obj > 8:\n",
    "        break\n",
    "    sum_of_8_obj = sum_of_8_obj + iter_obj\n",
    "print(sum_of_8_obj)\n",
    "\n",
    "## 1~10까지의 숫자를 사용해 짝수만 더하는 반복문 작성(continue사용)\n",
    "iter_objs = [1,2,3,4,5,6,7,8,9,10] # 반복객체\n",
    "sum_of_even_obj = 0 # 첫항에 더해야 하기 때문에 0으로 설정\n",
    "for iter_obj in iter_objs:\n",
    "    if iter_obj % 2==1:\n",
    "        continue\n",
    "    sum_of_even_obj = sum_of_even_obj + iter_obj\n",
    "print(sum_of_even_obj)\n",
    "\n",
    "## 1~10까지의 숫자를 사용해 홀수만 더하는 반복문 작성(continue 사용안함)"
   ]
  },
  {
   "cell_type": "markdown",
   "metadata": {},
   "source": [
    "## 여러 반복문 1\n",
    "- while 문\n",
    "    - 문법<br>\n",
    "    while 조건식:<br>\n",
    "    <sub>[indent]</sub>수행문장<br>\n",
    "    \n",
    "    - while문은 조건식이 False 이거나 break문을 만날때 까지 반복\n",
    "    - while문의 조건식은 탈출 조건을 주어야 무한 반복을 하지 않는다"
   ]
  },
  {
   "cell_type": "code",
   "execution_count": 6,
   "metadata": {
    "ExecuteTime": {
     "end_time": "2021-04-28T04:06:29.376139Z",
     "start_time": "2021-04-28T04:06:29.370597Z"
    }
   },
   "outputs": [
    {
     "name": "stdout",
     "output_type": "stream",
     "text": [
      "55\n"
     ]
    }
   ],
   "source": [
    "## 1~10까지의 숫자을 더하는 반복문 작성(While문을 사용)\n",
    "sum_of_1_to_10 = 0 # 초기값 설정\n",
    "iter_obj = 1 # 초기 반복자 값 설정\n",
    "while iter_obj < 11:\n",
    "    sum_of_1_to_10 = sum_of_1_to_10 + iter_obj\n",
    "    iter_obj = iter_obj+1\n",
    "print(sum_of_1_to_10)\n",
    "\n",
    "## 1~10까지의 숫자을 더하는 반복문 작성(While과 break사용)"
   ]
  },
  {
   "cell_type": "markdown",
   "metadata": {
    "ExecuteTime": {
     "end_time": "2021-04-28T04:06:34.762804Z",
     "start_time": "2021-04-28T04:06:34.745839Z"
    }
   },
   "source": [
    "## 여러 반복문 2\n",
    "- generator comprehension\n",
    "   - 문장형식<br>\n",
    "   [출력표현식 for 요소 in iterable_object if 조건식] <br>\n",
    "   - 종류<br>\n",
    "    list comprehension <br>\n",
    "    dictionary comprehension <br>\n",
    "    set comprehension <br>"
   ]
  },
  {
   "cell_type": "code",
   "execution_count": 8,
   "metadata": {
    "ExecuteTime": {
     "end_time": "2021-04-28T04:06:44.741995Z",
     "start_time": "2021-04-28T04:06:44.733011Z"
    }
   },
   "outputs": [
    {
     "data": {
      "text/plain": [
       "[2, 4, 6, 8, 10]"
      ]
     },
     "execution_count": 8,
     "metadata": {},
     "output_type": "execute_result"
    }
   ],
   "source": [
    "##  1~10까지의 숫자중 짝수 데이터만 만들기\n",
    "[ iter_obj for iter_obj in [1,2,3,4,5,6,7,8,9,10] if iter_obj % 2 == 0 ]\n",
    "## 1~10까지의 숫자중 짝수 데이터의 제곱 만들기"
   ]
  },
  {
   "cell_type": "markdown",
   "metadata": {},
   "source": [
    "# 함수\n",
    "## 함수 사용방법\n",
    "- 함수명(입력인수) : 사용하고자 하는 함수를 함수명으로 호출 후 인수가 필요한 함수일 경우 인수값을 사용 \n",
    "\n",
    "## 수학함수와 python 함수의 비교 \n",
    "- 수학함수 표현<br>\n",
    "f(x) = x + 1\n",
    "- pyhon에서 함수 정의<br>\n",
    "def 함수명(입력인수):<br>\n",
    "<sub>[indent]</sub>수행문장<br>\n",
    "<sub>[indent]</sub>return 값<br>\n",
    "- def : 함수를 지칭하는 키워드\n",
    "- 함수명 : 함수를 호출하기 위해 사용하는 명시적 변수\n",
    "- 입력인수 : 수학 함수식에서 f(x)표현시 함수에 사용되는 x값\n",
    "- return 값 : 함수를 수행 후 반환되는 값\n",
    "\n",
    "## 함수를 만드는 이유\n",
    "- 함수는 임의의 값을 받아 문장을 수행한 후 결과값을 출력하므로 함수를 이용하면 임의의 값에 대하여 재활용하기 위해 만든다.\n",
    "    \n",
    "---\n",
    "## 함수 모양\n",
    "def FuncName(var1, var2.. ) : <br>\n",
    "&nbsp;&nbsp;&nbsp;&nbsp; \"\"\" 독스트링(Documentation String,Docstrings)\"\"\" <br>\n",
    "&nbsp;&nbsp;&nbsp;&nbsp; 코드 <br>\n",
    "&nbsp;&nbsp;&nbsp;&nbsp; return <br>\n",
    "- <font color = yellow >def </font> : Define의 약자로써 선언한다는 의미를 가지고 있다.\n",
    "- <font color = yellow >funcName </font> : 함수의 이름이다.\n",
    "- <font color = yellow >var </font> : 인자값으로써 갯수는 여러개가 들어와도 상관이 없다.\n",
    "    - 매개변수는 함수에서 선언한 개수와 호출시에 넣은 개수가 동일해야한다\n",
    "    \n",
    "- <font color = yellow >독스트링(Documentation String,Docstrings) </font> : 함수의 설명을 작성하는 것이다. (출력과는 무관하다, 주석같은 느낌이다.)\n",
    "    - \"\"\"......\"\"\" 이와 같이 \"\"\"로 묶어서 사용한다.\n",
    "    - 독스트링보다 위에 코드가 있으면 안된다. 즉, 함수의 첫째줄부터 작성되어야한다.\n",
    "    \n",
    "- <font color = yellow> return </font> : return값이 없다면, 적지 않아도 무관하다.\n",
    "    - return 뒤에 값이 없다면 , 그냥 함수를 종료시킨다.\n",
    "    \n",
    "## 언패킹 이용하기\n",
    "- 리스트 혹은 튜플 앞에 '<font color = red> * </font>'를 삽입하여 사용한다.\n",
    "    - 인자값이 여러개면 언패킹을 이용한다면 편하게 사용 할 수 있다.\n",
    "        - 간단하게 리스트 혹은 튜플이 인자값과 1 : 1 맵핑이 된다고 생각하면된다.\n",
    "        - 그럼으로 리스트 혹은 튜플의 길이가 인자값의 갯수와 동일해야한다.\n",
    "        - <font color = yellow> Func(*리스트)</font>\n",
    "        - <font color = yellow> Func(*튜플)</font>\n",
    "        \n",
    "    - 가변인수 \n",
    "        - <font color = yellow> def FuncName(*매개변수): <br>\n",
    "    &nbsp;&nbsp;&nbsp;&nbsp;코드</font> \n",
    "        - 가변인수 즉 길이가 변하는 리스트 혹은 튜플따위를 인자값으로 받을 때 사용한다.\n",
    "        - 가변인수와 고정인수를 동시에 사용한다면, 고정인수, 가변인수 순으로 사용해야한다.\n",
    "            - <font color = yellow> def FuncName(고정인수 , *가변인수):</font> \n",
    "            \n",
    "    - 위치 인수\n",
    "        - <font color = yellow> def FuncName(**매개변수): <br>\n",
    "    &nbsp;&nbsp;&nbsp;&nbsp;코드</font> \n",
    "        - <font color = yellow> Func(**딕셔너리)</font>\n",
    "        - **를 두번 하는 이유는 *한번만 사용하면 key값을 반환하고, **을 사용하면 value를 반환한다.\n",
    "        \n",
    "    - 초기값 설정\n",
    "        - <font color =yellow> def FuncName(매개변수 = value) : <br> </font>\n",
    "            - 위와같이 선언한다면, 매개변수의 Default 값이 value가 들어간다.\n",
    "            - 초기값을 설정한 변수들의 순서는 뒤로가야한다.            \n",
    "                -  def FuncName(var1 , var2 = value): <- 가능\n",
    "                -  def FuncName(var1 = value , var2): <- 불가능\n",
    "\n",
    "## 재귀함수\n",
    "- 정의 \n",
    "    - 함수가 자기자신을 다시 호출하는 것이다.\n",
    "    - 생성시에 탈출조건을 잘 정해줘야한다. \n",
    "        - 탈출조건을 잘못 설정하면 무한루프가 된다.(프로그램이 끝나지 않음)\n",
    "    \n",
    "- 모양\n",
    "    - <font color = yellow>  \n",
    "    def recursiveFunc() : <br>\n",
    "    &nbsp;&nbsp;&nbsp;&nbsp; 코드 <br>\n",
    "    &nbsp;&nbsp;&nbsp;&nbsp; recursiveFunc() <br>\n",
    "\n",
    "## 람다식\n",
    "- 람다식 ( 익명 함수 ) 이란?\n",
    "    - 함수를 간단히 식 형태로 되어있어 람다 표현식 ( lambda expression ) 이라고 부른다.\n",
    "    - 즉 return문하나 만 있는 함수라고 생각하면 편하다.\n",
    "    - 람다식 안에서 새로운 <font color = red> 변수생성 </font>은 불가하다.\n",
    "        - 람다식 외부에 있는 변수는 사용할 수 있다.\n",
    "    - 주로 함수의 인수로 넣을떄 사용한다.\n",
    "    \n",
    "    - <font color = yellow> lambda 매개변수 : 식 </font>\n",
    "        - 람다식을 변수에 할당시키면 재사용이 가능하다\n",
    "        - LambdaVar = Lambda(람다식)\n",
    "    "
   ]
  },
  {
   "cell_type": "markdown",
   "metadata": {},
   "source": [
    "# 함수\n",
    "## 함수 사용방법\n",
    "- 함수명(입력인수) : 사용하고자 하는 함수를 함수명으로 호출 후 인수가 필요한 함수일 경우 인수값을 사용 \n",
    "\n",
    "## 수학함수와 python 함수의 비교 \n",
    "- 수학함수 표현<br>\n",
    "f(x) = x + 1\n",
    "- pyhon에서 함수 정의<br>\n",
    "def 함수명(입력인수):<br>\n",
    "<sub>[indent]</sub>수행문장<br>\n",
    "<sub>[indent]</sub>return 값<br>\n",
    "- def : 함수를 지칭하는 키워드\n",
    "- 함수명 : 함수를 호출하기 위해 사용하는 명시적 변수\n",
    "- 입력인수 : 수학 함수식에서 f(x)표현시 함수에 사용되는 x값\n",
    "- return 값 : 함수를 수행 후 반환되는 값\n",
    "\n",
    "## 함수를 만드는 이유\n",
    "- 함수는 임의의 값을 받아 문장을 수행한 후 결과값을 출력하므로 함수를 이용하면 임의의 값에 대하여 재활용하기 위해 만든다.\n",
    "    \n",
    "---\n",
    "## 함수 모양\n",
    "def FuncName(var1, var2.. ) : <br>\n",
    "&nbsp;&nbsp;&nbsp;&nbsp; \"\"\" 독스트링(Documentation String,Docstrings)\"\"\" <br>\n",
    "&nbsp;&nbsp;&nbsp;&nbsp; 코드 <br>\n",
    "&nbsp;&nbsp;&nbsp;&nbsp; return <br>\n",
    "- <font color = yellow >def </font> : Define의 약자로써 선언한다는 의미를 가지고 있다.\n",
    "- <font color = yellow >funcName </font> : 함수의 이름이다.\n",
    "- <font color = yellow >var </font> : 인자값으로써 갯수는 여러개가 들어와도 상관이 없다.\n",
    "    - 매개변수는 함수에서 선언한 개수와 호출시에 넣은 개수가 동일해야한다\n",
    "    \n",
    "- <font color = yellow >독스트링(Documentation String,Docstrings) </font> : 함수의 설명을 작성하는 것이다. (출력과는 무관하다, 주석같은 느낌이다.)\n",
    "    - \"\"\"......\"\"\" 이와 같이 \"\"\"로 묶어서 사용한다.\n",
    "    - 독스트링보다 위에 코드가 있으면 안된다. 즉, 함수의 첫째줄부터 작성되어야한다.\n",
    "    \n",
    "- <font color = yellow> return </font> : return값이 없다면, 적지 않아도 무관하다.\n",
    "    - return 뒤에 값이 없다면 , 그냥 함수를 종료시킨다.\n",
    "    \n",
    "## 언패킹 이용하기\n",
    "- 리스트 혹은 튜플 앞에 '<font color = red> * </font>'를 삽입하여 사용한다.\n",
    "    - 인자값이 여러개면 언패킹을 이용한다면 편하게 사용 할 수 있다.\n",
    "        - 간단하게 리스트 혹은 튜플이 인자값과 1 : 1 맵핑이 된다고 생각하면된다.\n",
    "        - 그럼으로 리스트 혹은 튜플의 길이가 인자값의 갯수와 동일해야한다.\n",
    "        - <font color = yellow> Func(*리스트)</font>\n",
    "        - <font color = yellow> Func(*튜플)</font>\n",
    "        \n",
    "    - 가변인수 \n",
    "        - <font color = yellow> def FuncName(*매개변수): <br>\n",
    "    &nbsp;&nbsp;&nbsp;&nbsp;코드</font> \n",
    "        - 가변인수 즉 길이가 변하는 리스트 혹은 튜플따위를 인자값으로 받을 때 사용한다.\n",
    "        - 가변인수와 고정인수를 동시에 사용한다면, 고정인수, 가변인수 순으로 사용해야한다.\n",
    "            - <font color = yellow> def FuncName(고정인수 , *가변인수):</font> \n",
    "            \n",
    "    - 위치 인수\n",
    "        - <font color = yellow> def FuncName(**매개변수): <br>\n",
    "    &nbsp;&nbsp;&nbsp;&nbsp;코드</font> \n",
    "        - <font color = yellow> Func(**딕셔너리)</font>\n",
    "        - **를 두번 하는 이유는 *한번만 사용하면 key값을 반환하고, **을 사용하면 value를 반환한다.\n",
    "        \n",
    "    - 초기값 설정\n",
    "        - <font color =yellow> def FuncName(매개변수 = value) : <br> </font>\n",
    "            - 위와같이 선언한다면, 매개변수의 Default 값이 value가 들어간다.\n",
    "            - 초기값을 설정한 변수들의 순서는 뒤로가야한다.            \n",
    "                -  def FuncName(var1 , var2 = value): <- 가능\n",
    "                -  def FuncName(var1 = value , var2): <- 불가능\n",
    "\n",
    "## 재귀함수\n",
    "- 정의 \n",
    "    - 함수가 자기자신을 다시 호출하는 것이다.\n",
    "    - 생성시에 탈출조건을 잘 정해줘야한다. \n",
    "        - 탈출조건을 잘못 설정하면 무한루프가 된다.(프로그램이 끝나지 않음)\n",
    "    \n",
    "- 모양\n",
    "    - <font color = yellow>  \n",
    "    def recursiveFunc() : <br>\n",
    "    &nbsp;&nbsp;&nbsp;&nbsp; 코드 <br>\n",
    "    &nbsp;&nbsp;&nbsp;&nbsp; recursiveFunc() <br>"
   ]
  },
  {
   "cell_type": "markdown",
   "metadata": {},
   "source": [
    "## 람다식\n",
    "- 람다식 ( 익명 함수 ) 이란?\n",
    "    - 함수를 간단히 식 형태로 되어있어 람다 표현식 ( lambda expression ) 이라고 부른다.\n",
    "    - 즉 return문하나 만 있는 함수라고 생각하면 편하다.\n",
    "    - 람다식 안에서 새로운 <font color = red> 변수생성 </font>은 불가하다.\n",
    "        - 람다식 외부에 있는 변수는 사용할 수 있다.\n",
    "    - 주로 함수의 인수로 넣을떄 사용한다.\n",
    "    - 아래 함수와 람다식은 같은 기능을 처리한다."
   ]
  },
  {
   "cell_type": "code",
   "execution_count": 3,
   "metadata": {
    "ExecuteTime": {
     "end_time": "2021-05-03T01:41:49.148842Z",
     "start_time": "2021-05-03T01:41:49.140750Z"
    }
   },
   "outputs": [
    {
     "data": {
      "text/plain": [
       "<function __main__.<lambda>(x)>"
      ]
     },
     "execution_count": 3,
     "metadata": {},
     "output_type": "execute_result"
    }
   ],
   "source": [
    "def plus(x):\n",
    "    return x+1\n",
    "lambda x : x + 1"
   ]
  },
  {
   "cell_type": "markdown",
   "metadata": {},
   "source": [
    "### 사용방법\n",
    "- <font color = yellow> lambda 매개변수 : 식 </font>\n",
    "    - 람다식을 변수에 할당시키면 재사용이 가능하다\n",
    "    - LambdaVar = Lambda(람다식)"
   ]
  },
  {
   "cell_type": "code",
   "execution_count": 8,
   "metadata": {
    "ExecuteTime": {
     "end_time": "2021-05-03T02:17:20.919937Z",
     "start_time": "2021-05-03T02:17:20.908112Z"
    }
   },
   "outputs": [
    {
     "data": {
      "text/plain": [
       "2"
      ]
     },
     "execution_count": 8,
     "metadata": {},
     "output_type": "execute_result"
    }
   ],
   "source": [
    "(lambda x : x +1)(1)"
   ]
  },
  {
   "cell_type": "markdown",
   "metadata": {},
   "source": [
    "### Sequence Type 사용하기\n",
    "- <font color = yellow>(lambda 매개변수 : 식)(인수들) </font>\n",
    "    - 변수에 할당하지 않고 바로 사용시에 사용한다.\n",
    "    - 한줄 계산시에 많이 사용한다.\n",
    "    - 만약 인수를 list와 같은 Sequence Types으로 받는다면, 각각에 값처리가 된다."
   ]
  },
  {
   "cell_type": "code",
   "execution_count": 5,
   "metadata": {
    "ExecuteTime": {
     "end_time": "2021-05-03T01:43:55.281576Z",
     "start_time": "2021-05-03T01:43:55.274594Z"
    }
   },
   "outputs": [
    {
     "name": "stdout",
     "output_type": "stream",
     "text": [
      "[2, 3, 4]\n",
      "[2, 3, 4]\n"
     ]
    }
   ],
   "source": [
    "print(list( map (plus,[1,2,3]))) # plus는 위에 함수로 선언함.\n",
    "print(list( map ( lambda x : x + 1 ,[1,2,3] ) ))"
   ]
  },
  {
   "cell_type": "markdown",
   "metadata": {},
   "source": [
    "### 람다에 조건문 삽입하기\n",
    "- <font color = yellow > lambda 매개변수 : 식1 if 조건식 else 식2 </font>\n",
    "    - 조건식이 True면 식1, False면 식2를 반환한다.\n",
    "- IF를 사용하였다면 반드시 ELSE를 사용해야한다"
   ]
  },
  {
   "cell_type": "code",
   "execution_count": 9,
   "metadata": {
    "ExecuteTime": {
     "end_time": "2021-05-03T02:17:48.721719Z",
     "start_time": "2021-05-03T02:17:48.708784Z"
    }
   },
   "outputs": [
    {
     "data": {
      "text/plain": [
       "[-1, 2, -1, 4, -1, 6, -1, 8, -1, 10]"
      ]
     },
     "execution_count": 9,
     "metadata": {},
     "output_type": "execute_result"
    }
   ],
   "source": [
    "nums = [1,2,3,4,5,6,7,8,9,10]\n",
    "list(map(lambda x : -1 if x % 2  else x , nums))"
   ]
  },
  {
   "cell_type": "markdown",
   "metadata": {},
   "source": [
    "#### 조건문 안에 조건문 넣기\n",
    "- <font color = yellow > lambda 매개변수 : 식1 if 조건식1 else 식2 if 조건식2 else 식3 </font>\n",
    "    - 조건식이 True면 식1, False면 식2를 반환한다.\n",
    "- 물론 이렇게 사용 할 수 있지만, 억지로 람다식을 구현한 느낌이다. <font color = red> 가독성</font>이 떨어짐으로 Def를 이용하여 함수를 생성하여 사용하는 것을 권장한다."
   ]
  },
  {
   "cell_type": "code",
   "execution_count": 13,
   "metadata": {
    "ExecuteTime": {
     "end_time": "2021-05-03T02:23:39.195633Z",
     "start_time": "2021-05-03T02:23:39.172112Z"
    }
   },
   "outputs": [
    {
     "data": {
      "text/plain": [
       "['식3', '식2', '식1', '식2', '식3', '식1', '식3', '식2', '식1', '식2']"
      ]
     },
     "execution_count": 13,
     "metadata": {},
     "output_type": "execute_result"
    }
   ],
   "source": [
    "nums = [1,2,3,4,5,6,7,8,9,10]\n",
    "list(map(lambda x : '식1' if x % 3 == 0  else '식2' if x % 2== 0 else '식3' , nums))"
   ]
  },
  {
   "cell_type": "markdown",
   "metadata": {},
   "source": [
    "### Map을 이용하여 Lambda사용하기\n",
    "- <font color = yellow > list(map(lambda x,y : x*y , 인자1,인자2) </font>\n"
   ]
  },
  {
   "cell_type": "code",
   "execution_count": 2,
   "metadata": {
    "ExecuteTime": {
     "end_time": "2021-05-06T00:18:26.468337Z",
     "start_time": "2021-05-06T00:18:26.454127Z"
    }
   },
   "outputs": [
    {
     "data": {
      "text/plain": [
       "[2, 6]"
      ]
     },
     "execution_count": 2,
     "metadata": {},
     "output_type": "execute_result"
    }
   ],
   "source": [
    "a = [1,2]\n",
    "b = [2,3]\n",
    "list(map(lambda x,y : x*y , a,b))"
   ]
  },
  {
   "cell_type": "markdown",
   "metadata": {},
   "source": [
    "### Filter을 이용하여 Lambda 사용하기\n",
    "- filter(함수, 반복가능한객체)\n",
    "    - 함수가 True일 떄 객채를 가져온다."
   ]
  },
  {
   "cell_type": "code",
   "execution_count": 4,
   "metadata": {
    "ExecuteTime": {
     "end_time": "2021-05-06T00:21:23.344720Z",
     "start_time": "2021-05-06T00:21:23.324693Z"
    }
   },
   "outputs": [
    {
     "data": {
      "text/plain": [
       "[6, 7, 8, 9]"
      ]
     },
     "execution_count": 4,
     "metadata": {},
     "output_type": "execute_result"
    }
   ],
   "source": [
    "a = [1,2,3,4,5,6,7,8,9,10]\n",
    "list(filter(lambda x : x > 5 and x < 10 , a))"
   ]
  },
  {
   "cell_type": "markdown",
   "metadata": {},
   "source": [
    "## 내장함수 (built-in function)\n",
    "- 주요 내장함수\n",
    "    - len(obj) : obj의 크기를 정수로 출력\n",
    "    - range(start,stop) : 시작숫자 부터 마지막 숫자-1 까지 정수의 iterable 객체 생성\n",
    "    - list(obj) : obj를 리스트 객체로 변환\n",
    "    - enumerate(obj) : obj의 실제값과 인덱스번호를 반환\n",
    "    - zip(obj1,obj2) : iterable한 데이터를 원소의 인덱스 별로 합쳐 새로운 iterable한 객체를 만드는 함수\n",
    "    - map([함수],[데이터객체])\n",
    "    - int :정수형 변환 함수\n",
    "    - float : 실수형 변환 함수\n",
    "    - range(시작 값, 끝값, 등차[step])\n",
    "    \n",
    "    \n",
    "    \n",
    "\n",
    "- 수식함수\n",
    "    - min(obj), max(obj), sum(obj), abs(obj)\n",
    "\n",
    "- 객체에 사용하는 메소드\n",
    "    - append : 리스트 객체에 리스트를 추가 obj.append(new_obj)\n",
    "    - extend : 리스트 객체에 리스트의 원소를 추가 obj.extend(new_obj)\n",
    "    - find : 문자열 객체에서 특정 문자열 찾기 str_obj.find('문자열')\n",
    "    - replace : 문자열 객체에서 특정 문자열 찾아 특정 문자열 바꾸기\n",
    "    "
   ]
  },
  {
   "cell_type": "code",
   "execution_count": 10,
   "metadata": {
    "ExecuteTime": {
     "end_time": "2021-04-28T04:07:06.843804Z",
     "start_time": "2021-04-28T04:07:06.835563Z"
    }
   },
   "outputs": [
    {
     "data": {
      "text/plain": [
       "50.99009900990099"
      ]
     },
     "execution_count": 10,
     "metadata": {},
     "output_type": "execute_result"
    }
   ],
   "source": [
    "##1. range 함수를 사용하여 1,100까지의 정수 객체를 만들고\n",
    "##2. len 함수를 사용하여 생성한 객체의 길이를 출력하고\n",
    "##3. 출력한 길이를 만든 정수 객체에 원소로 추가하여\n",
    "##4. 최소, 최대, 합계, 평균을 구한다.\n",
    "ex = range(1,101)\n",
    "ex = list(ex)\n",
    "length = len(ex)\n",
    "ex.append(length)\n",
    "min(ex)\n",
    "max(ex)\n",
    "sum(ex)\n",
    "sum(ex)/len(ex)"
   ]
  },
  {
   "cell_type": "markdown",
   "metadata": {},
   "source": [
    "#  모듈 임포트\n",
    "- 모듈이란?\n",
    "    - 모듈(Module)은 파이썬 코드를 논리적으로 묶어서 관리하고 사용할 수 있도록 하는 것으로, 보통 하나의 파이썬 . py 파일이 하나의 모듈이 된다. 모듈 안에는 함수, 클래스, 혹은 변수들이 정의될 수 있으며, 실행 코드를 포함할 수도 있다.\n",
    "    \n",
    "- 모듈 임포트 방법\n",
    "    - import modul_name\n",
    "    - import modul_name as md \n",
    "    - from modul_name import *\n",
    "    - from modul_name import modul_function\n",
    "    - from modul_name import modul_function1, modul_funtion2\n",
    "    - from modul_name import modul_function as mf"
   ]
  },
  {
   "cell_type": "code",
   "execution_count": 11,
   "metadata": {
    "ExecuteTime": {
     "end_time": "2021-04-28T04:07:18.461689Z",
     "start_time": "2021-04-28T04:07:18.445695Z"
    }
   },
   "outputs": [
    {
     "data": {
      "text/plain": [
       "[3, 2, 1]"
      ]
     },
     "execution_count": 11,
     "metadata": {},
     "output_type": "execute_result"
    }
   ],
   "source": [
    "## random 모듈의 shuffle 함수를 import \n",
    "import random\n",
    "var = [1,2,3]\n",
    "random.shuffle(var)\n",
    "var\n",
    "## random 모듈의 shuffle 함수를 from 을 사용하여 import "
   ]
  },
  {
   "cell_type": "markdown",
   "metadata": {
    "ExecuteTime": {
     "end_time": "2021-04-28T04:07:22.367918Z",
     "start_time": "2021-04-28T04:07:22.357945Z"
    }
   },
   "source": [
    "# 문자열 처리\n",
    "- 문자열의 구조는 리스트와 유사\n",
    "    - 문자열 추출 대괄호 [index_slicing]를 사용\n",
    "    - 문자열 결합은 '+' 기호를 사용\n",
    "    - 문자열 바꾸기는 바꿀 문자열을 찾아낸 다음에 대체 함수(replace) 사용\n",
    "        - 'xxxxyyxx'의 문자열에서 yy를 zz으로 바꾸기 위한 예시 \n",
    "        'xxxxyyxx'.replace('y','z')\n",
    "        \n",
    "- 문자열 특징\n",
    "    - 문자열 String 문자의 연속이고 리스트의 특징\n",
    "    - 문자열 찾기 메소드 find('찾을 문자') 결과값은 문자의 위치정보, 없을경우 -1을 출력\n",
    "    - 문자열 바꾸기 메소드 replace(' 바꿀 문자', '바뀔 문자') \n",
    "    \n",
    "    - 문자열을 특정 문자 기준으로 나누는 메소드 split('기준 문자열')\n",
    "    - 리스트에 담긴 문자열을 합치는 방법 ' 기준문자열'.join(문자열 리스트)\n",
    "    - 대문자 소문자 메소드 upper(), lower()\n",
    "    \n",
    "- 문자 변환 메소드\n",
    "    - 지정 문자 삭제하기 ( Default : '공백' ) \n",
    "        - <font color=yellow>strip([지정문자])</font> : 모든 [지정문자] 삭제하기  \n",
    "        - <font color=yellow>rstrip([지정문자])</font> : 문자열 오른쪽 [지정문자] 삭제하기\n",
    "        - <font color=yellow>lstrip([지정문자])</font> : 문자열 왼쪽 [지정문자] 삭제하기\n",
    "    - 문자열 정렬하기\n",
    "        - <font color=yellow>ljust([길이])</font> :문자열을 왼쪽으로 정렬 ( [길이] 만큼 길이(메모리)를 잡고 정렬해줌 )\n",
    "        - <font color=yellow>rjust([길이])</font> :문자열을 오른쪽으로 정렬 ( [길이] 만큼 길이(메모리)를 잡고 정렬해줌 )\n",
    "        - <font color=yellow>center([길이])</font> :문자열을 중앙으로 정렬 ( [길이] 만큼 길이(메모리)를 잡고 정렬해줌 )\n",
    "    - 문자열 채우기\n",
    "        - <font color=yellow>zfill([길이])</font> : \"zero fill\"을 의미하고, [길이] 에 맞춰 문자열의 왼쪽에 0을 채움\n",
    "    - 문자열 찾기\n",
    "        - <font color=yellow>find([지정문자])</font> : [지정문자]를 왼쪽부터 검색하고,찾았으면 인덱스값,없으면 -1을 반환\n",
    "        - <font color=yellow>rfind([지정문자])</font> : [지정문자]를 오른쪽부터 검색하고,찾았으면 인덱스값,없으면 -1을 반환\n",
    "        - <font color=yellow>index([지정문자])</font> : find와 동일하지만, 못 찾으면 Error을 발생함\n",
    "        - <font color=yellow>rindex([지정문자])</font> : rfind와 동일하지만, 못 찾으면 Error을 발생함\n",
    "    - 문자열 갯수 세기\n",
    "        - <font color = yellow>count([지정문자])</font> : 문자열에서 [지정문자]를 찾고, [지정문자] 갯수를 반환함.\n",
    "- 메서드 체이닝 ( Method Chaining )\n",
    "    - 문자열 메소드를 여러개를 이어붙여 연쇄적으로 적용하는 것.\n",
    "        - ex) 'hi'.rjust(5).upper() \n",
    "            - 위와같이 진행하면 [\"   HI\"]와 같은 모양으로 변환된다.\n",
    "\n",
    "- 문자열 포메팃(string Formating)\n",
    "    - <font color=yellow>'%[길이]s'% [문자열]</font> : 문자열안에 있는 %s에 [문자열]을 삽입한다.\n",
    "    - <font color=yellow>'%[길이].[자릿수]f'% [실수]</font> : 문자열안에 있는 %f에 [값]을 삽입한다.\n",
    "        - 만약 소숫점 2번째까지 출력하고 싶다면, '%.2f' % 2.333 과 같이 삽입하면 된다.\n",
    "    - <font color=yellow>'%[길이]d'% [정수]</font> : 문자열안에 있는 %f에 [값]을 삽입한다.\n",
    "    - <font color = yellow>'{ 별칭 }'.format([별칭]=[지정문자])</font>\n",
    "        - ' {} {} {} '.format( 값1 , 값2 ,값 3 )\n",
    "        - ' {별칭1 } {별칭 2} {별칭 3} '.format( 별칭1 = '값1',별칭2 = '값2',별칭3 = '값4' )\n",
    "    - <font color = yellow> format 정렬 </font>  인덱스 Default : 0\n",
    "        - '{[인덱스] : > [길이]}'.format( [값] ) : 인덱스부터 길이만큼 길이를 잡고, 왼쪽 정렬\n",
    "        - '{[인덱스] : < [길이]}'.format( [값] ) : 인덱스부터 길이만큼 길이를 잡고, 오른쪽 정렬\n",
    "    - <font color = yellow> format 자릿수 </font> 인덱스 Default : 0\n",
    "        - '{[인덱스] : 0[길이]d}'.format( [값] ) : 정수형 출력시 길이만큼 잡고 삽입.\n",
    "        - '{[인덱스] : 0[길이].[자릿수]f}'.format( [값] ) : 실수형 출력시 길이만큼 잡고 삽입.\n",
    "    \n",
    "    "
   ]
  },
  {
   "cell_type": "code",
   "execution_count": 13,
   "metadata": {
    "ExecuteTime": {
     "end_time": "2021-04-28T04:07:32.165017Z",
     "start_time": "2021-04-28T04:07:32.145488Z"
    },
    "scrolled": true
   },
   "outputs": [
    {
     "name": "stdout",
     "output_type": "stream",
     "text": [
      "n\n",
      "i\n"
     ]
    },
    {
     "data": {
      "text/plain": [
       "'ikhbyateurpfmscxwzqgdljvoi'"
      ]
     },
     "execution_count": 13,
     "metadata": {},
     "output_type": "execute_result"
    }
   ],
   "source": [
    "##1. 'abcdefghijklmnopqrstuvwxyz' 객체를 만들고\n",
    "##2. random 하게 값을 추출하기 위해 random 모듈에서 \n",
    "##3. random.shuffle()을 이용해서 만든 객체를 섞어준 다음\n",
    "##4. 그중에 첫번째 문자와 마지막 문자를 찾고\n",
    "##5. 찾은 첫번째 문자가 들어간 부분을 찾아 찾은 마지막 문자로 바꾸기\n",
    "\n",
    "import random  ## random.shuffle() 을 사용하기 위해 라이브러리 임포트\n",
    "str_obj = 'abcdefghijklmnopqrstuvwxyz'\n",
    "str_index = list(range(26))\n",
    "random.shuffle(str_index)\n",
    "chg_obj = ''\n",
    "for i in str_index:\n",
    "    chg_obj=chg_obj+str_obj[i]\n",
    "find_char = chg_obj[0]\n",
    "replace_char = chg_obj[-1]\n",
    "print(find_char)\n",
    "print(replace_char)\n",
    "chg_obj.replace(find_char,replace_char)"
   ]
  },
  {
   "attachments": {
    "image-2.png": {
     "image/png": "[encoded data removed]"
    },
    "image.png": {
     "image/png": "[encoded data removed]"
    }
   },
   "cell_type": "markdown",
   "metadata": {},
   "source": [
    "# 파일입출력\n",
    "\n",
    "- 파일 읽기 / 쓰기\n",
    "    - 기본용어\n",
    "        - 파일 -> 객체 : 언패킹(Unpacking)\n",
    "        - 객체 -> 파일 : 패킹(Packing)\n",
    "    - 파일 모드 구조\n",
    "        - 파일열기\n",
    "            - 읽기 'r'\n",
    "            - 쓰기\n",
    "                - 파일의 내용을 버림 :'w'\n",
    "                - 파일 끝에 추가 : 'a'\n",
    "                - 파일이 있다면 에러 : 'x'\n",
    "            - 읽기/쓰기\n",
    "                - 파일의 내용을 버림 'w+'\n",
    "                - 파일 끝에 추가 \n",
    "                    - 파일 처음부터 쓰기 'r+'\n",
    "                    - 파일 끝부터 쓰기 'a+'\n",
    "                - 파일이 있으면 에러 :'x+'\n",
    "            - 텍스트모드 : t \n",
    "                - 위의 읽기/쓰기 모드를 적고 뒤에 붙임\n",
    "                - 'wt','at'...\n",
    "            - 바이너리모드 : b\n",
    "                - 위의 읽기/쓰기 모드를 적고 뒤에 붙임\n",
    "                - 'wb','ab'...\n",
    "            \n",
    "    - <font color = yellow> File Obj = open(FileName , Mode) </font>    \n",
    "        - 파일을 읽어드릴 때 사용한다.\n",
    "        - FileName : 확장자까지 작성한다. \n",
    "        - Mode \n",
    "            - 'r' (Read) 읽기 : 이미 있는 파일을 읽어드릴 때 사용\n",
    "            - 'w'(Write) 쓰기 : 파일을 생성할 때 사용\n",
    "            \n",
    "    - <font color = yellow> FileObj.write('문자열') </font>    \n",
    "        -  FileObj에 문자열를 쓴다. ( 객체 (파일)에 문자열을 저장한다 ) \n",
    "        \n",
    "    - <font color = yellow> FileObj.read() </font>    \n",
    "        - 불러드린 FileObj의 데이터 ( 문자열 ) 을 return해준다.    \n",
    "        \n",
    "    - <font color = yellow> FileObj.close() </font>    \n",
    "        - 파일 입출력작업을 마치면 close()을 이용하여 파일객체를 닫아준다.\n",
    "        \n",
    "    - <font color = yellow> with open(FileName , Mode) as FileObj :  <br/>&nbsp;&nbsp;&nbsp;&nbsp;코드</font>    \n",
    "        - 블록으로 묶인 작업을 끝내면 자동으로 Close해주어 번거로움을 덜어준다.\n",
    "    \n",
    "    - <font color = yellow> FileObj.writelines( List ) </font>    \n",
    "        - 리스트안에 저장된 값을 파일객체에 저장한다\n",
    "        - 리스트의 끝에는 '\\n'을 붙여야 리스트 객체간 구별을 할 수 있다.\n",
    "            - 만약 끝에 '\\n'이 없다면 한 줄로 저장된다.\n",
    "\n",
    "    - <font color = yellow> FileObj.readlines( List ) </font>    \n",
    "        - 파일을 1줄씩 읽어드린다.\n",
    "        - for문 / while문을 이용하여 파일 전체를 읽어드리는 경우가 많다.\n",
    "            - 권장은 while이다 그 이유는 문자열의 길이를 명확히 알기 힘들기 때문이다.\n",
    "        - while문으로 입력을 받는다면, 읽어드릴 객체( 문자열 ) 을 'None'으로 초기화 시켜줘야한다.\n",
    "            - 초기화를 안 시켜주면 시작부터 빈 객체기 때문에 코드를 실행하지 않고 끝난다.\n",
    "        - while로 파일읽기\n",
    "        ![image.png](attachment:image.png)\n",
    "        - for로 파일읽기\n",
    "        ![image-2.png](attachment:image-2.png)\n",
    "        "
   ]
  },
  {
   "cell_type": "code",
   "execution_count": null,
   "metadata": {},
   "outputs": [],
   "source": [
    "with open(fileName , 'r') as file :\n",
    "    line = None\n",
    "    while line != '':\n",
    "        line = file.readline()        "
   ]
  },
  {
   "cell_type": "code",
   "execution_count": null,
   "metadata": {},
   "outputs": [],
   "source": [
    "with open(fileName , 'r') as file : \n",
    "    for line in file:\n",
    "        "
   ]
  },
  {
   "source": [
    "# 클래스\n",
    "\n",
    "### 기본개념\n",
    "\n",
    "-   객체를 표현하기 위한 문법\n",
    "-   `클래스가 무엇이냐 하면 필자가 공부를 할 때는 항상 붕어빵 기계를 비유하면서 설명을 들었습니다.` 적절한 표현이라고 생각합니다.  \n",
    "    위 말은 즉 `**객체 ( 붕어빵 )** 을 동일하게 만들기 위해 **붕어빵 기계 ( 클래스 )**` 가 필요하다는 것을 보여주고 싶었던 것 같네요.  \n",
    "    이것을 제 말로 바꿔보면 객체 ( 붕어빵 ) 을 편하게 제작 및 변경( 팥 붕어빵, 슈크림 붕어빵. 등)하기 위해 붕어빵 기계가 있어야 한다는 것을 표현한 것 같네요.\n",
    "    -   생성한 객체에 어떤 변형된 값을 넣느냐에 따라 값이 변하고, 동일한 것도 편하게 만들 수 있단, 뜻입니다.\n",
    "\n",
    "### 클래스 및 메소드 만들기\n",
    "\n",
    "-   클래스 또한 다른 메소드 만드는 방법과 동일하게 **:** 을 마지막에 붙여줍니다.\n",
    "-   메소드의 인자 값의 첫 번째 값은 반드시 **self**가 들어와야 합니다.\n",
    "-   객체 사용은. 을 통하여 사용합니다.\n",
    "    -   평상시에 자주 쓰는 int(), len(), list() , 등 이것들도 클래스 메소드입니다.\n",
    "\n",
    "### 객체 생성 / 사용\n",
    "\n",
    "-   클래스는 여러 번 재사용 가능합니다.\n",
    "    -   아래와 같은 방식으로 같은 클래스를 여러 인스턴스로 사용할 수 있수 있습니다.\n",
    "    -   `인스턴스1 = 클래스() 인스턴스2 = 클래스() 인스턴스1.메소드( 인자 값 ) 인스턴스2.메소드( 인자값 )`\n",
    "\n",
    "### 속성 값 생성\n",
    "\n",
    "-   \\*\\*init(self)를 선언하고, 안에 속성 값을 넣어줍니다.\n",
    "-   self의 의미는 Java 등의 this와 유사( 개인적인 생각엔 동일한 개념 )\n",
    "-   JAVA의 생성자( 객체 생성 시 초기값을 삽입해주는 느낌 )처럼 사용 가능합니다.\n",
    "-   속성 접근 시 **self.속성명** 혹은 **\"클래스명. 속성명\"을** 이용하여 사용합니다.\n",
    "    -   self 혹은 클래스명 중 하나로 접근하면 되는데, 클래스명으로 하면 조금 더 가동성이 높아진다.\n",
    "\n",
    "```\n",
    "class 클래스 이름:\n",
    "    self.속성1\n",
    "    def __init__(self, 매개변수1,매개변수2):\n",
    "        self.속성2 = 매개변수1\n",
    "        self.속성3 = 매개변수2    \n",
    "```\n",
    "\n",
    "-   비공개 속성 (private attribute )\n",
    "    -   속성 앞에 **\\_\\_** (언더바 2개 )를 삽입해준다.\n",
    "    -   클래스 외부에서 접근할 수 없다.\n",
    "    -   비공개 속성을 제어하려면, 클래스 내부에서 제어해야 한다.\n",
    "        -   클래스 내부의 메소드를 이용하여 호출해서 사용하면 된다\n",
    "\n",
    "```\n",
    "class 클래스 이름:\n",
    "    def __init__(self, 매개변수1,매개변수2):\n",
    "        self.__속성1 = 매개변수1\n",
    "        self.__속성2 = 매개변수2    \n",
    "```\n",
    "\n",
    "### 매개변수 위치 인수 ( 리스트 등 )로 받기\n",
    "\n",
    "-   언패킹을 이용하면 된다.\n",
    "    -   1차원이면, **'\\*'** 를사용하고, 2차원이면 **'\\*\\*'**를 사용한다\n",
    "\n",
    "```\n",
    "class 클래스 이름:\n",
    "    def __init__(self, *argv):\n",
    "        self.속성1 = argv[0]\n",
    "        self.속성2 = argv[2]\n",
    "```\n",
    "\n",
    "```\n",
    "class 클래스 이름:\n",
    "    def __init__(self, **argD):\n",
    "        self.속성1 = argvD[ key1 ]\n",
    "        self.속성2 = argvD[ key2 ]\n",
    "```\n",
    "\n",
    "### 객체 포함 확인( 클래스의 인스턴스 여부 판단)\n",
    "\n",
    "-   반환 값 : True ( 포함됨 ) , False (포함 안됨)\n",
    "\n",
    "```\n",
    "isinstance ( 인스턴스 , 클래스 )\n",
    "```\n",
    "\n",
    "### 정적 메소드 생성\n",
    "\n",
    "-   인스턴스를 사용하지 않고 바로 사용할 수 있는 메소드\n",
    "    -   len() , range()...처럼 한 번에 사용할 수 있는 메소드들\n",
    "-   정적메소드 앞에 @staticmethod를 붙여준다\n",
    "    -   @를 붙여서 하는것을 데코레이터라고 부른다 ( 추후 공부하면 따로올리겠습니다.)\n",
    "-   정적 메소드는 인자값이 self가 아님으로 인스턴스 속성에 접근할 수 없다.\n",
    "    -   인스턴스 속성에 접근할 필요가 없을때 주로 사용한다.\n",
    "\n",
    "```\n",
    "class 클래스이름:\n",
    "    @staticmethod\n",
    "    def 메소드 ( 매개변수1, 매개변수2 ):\n",
    "        코드\n",
    "```\n",
    "\n",
    "### 클래스 메소드 사용\n",
    "\n",
    "-   정적 메소드와 유사함\n",
    "    -   인스턴스 없이 호출할 수 있다.\n",
    "-   정적 메소드와 차이점\n",
    "    -   클래스의 속성 & 메소드에 접근 할 수 있다.\n",
    "\n",
    "```\n",
    "clas 클래스이름:\n",
    "    @classmethod\n",
    "    def 메소드(cls,매개변수1, 매개변수2):\n",
    "        코드\n",
    "```\n",
    "\n",
    "---\n",
    "\n",
    "## 클래스 상속\n",
    "\n",
    "### 기본개념\n",
    "\n",
    "-   생성된 클래스를 재생성하는 것.\n",
    "    -   **부모 클래스**의 메소드 등을 상속받아 기능을 더 붙인 **자식 클래스를** 생성합니다.\n",
    "-   필자는 '상속'을 배울 때 주로 비유했던 것이 '새'를 이용하여 한 것이 많았습니다. 간단히 말하자면 부모 클래스에 '**새**'라는 것을 선언합니다. 그 후 자식 클래스에서 상속을 받고, 새로운 기능인 '**날 수 있다'라는** 기능을 추가합니다. 그러면 자식 클래스에는 '**새**'라는 것은 선언되어있지 않지만, 상속받았기 때문에 그 기능을 사용할 수 있습니다.\n",
    "-   글로 적으니 어려운 느낌이지만, 부모 클래스에 적혀있는 모든 코드들 자식 클래스에 저희 눈에는 없지만, 적어졌다 라고 생각해도 될 것 같습니다. ( 실제로는 그런 느낌이지만 그건 아닙니다.)\n",
    "-   용어\n",
    "    -   기반 클래스 ( 상속을 해주는 클래스 ) : 부모 클래스 , 슈퍼클래스\n",
    "    -   파생 클래스 ( 상속을 받는 클래스 ) : 자식 클래스 , 서브클래스\n",
    "\n",
    "### 상속 구현\n",
    "\n",
    "-   클래스 선언 시 인자 값으로 기반 클래스를 삽입하여 사용한다.\n",
    "-   만약 파생 클래스에서 '\\_\\_init\\_\\_'을 선언했다면, super().\\_\\_init\\_\\_()을 한 번은 호출해주는 것을 권장한다.\n",
    "    -   만약 파생 클래스에서 '\\_\\_init\\_\\_'을 선언하지 않았다면, 자동으로 기반 클래스의 '\\_\\_init\\_\\_'이 호출된다.\n",
    "\n",
    "```\n",
    "    class 기반클래스 : \n",
    "        def __init(self):\n",
    "            코드\n",
    "\n",
    "    clss 파생클래스 (기반클래스명):\n",
    "        def __init(self):\n",
    "              super().__init__()\n",
    "            코드    \n",
    "\n",
    "    clss 파생클래스2 (기반클래스명):\n",
    "        코드\n",
    "\n",
    "```\n",
    "\n",
    "-   만약 위와 같이 구현하지 않고, 명확하게 구현하고 싶다면, 아래와 같이 적어주면 된다.\n",
    "    -   super()에 인자 값으로 (부모 클래스, self)를 삽입시켜준다.\n",
    "        -   위와 같이 한다면, 명확히 부모 클래스로 연결된다.\n",
    "\n",
    "```\n",
    "    class 기반클래스 : \n",
    "        def __init(self):\n",
    "            코드\n",
    "\n",
    "    clss 파생클래스 (기반클래스명):\n",
    "        def __init(self):\n",
    "              super(기반클래스, self).__init__()\n",
    "            코드    \n",
    "\n",
    "    clss 파생클래스2 (기반클래스명):\n",
    "        코드\n",
    "```\n",
    "\n",
    "### 메소드 오버라이딩(재정의)\n",
    "\n",
    "-   기반 클래스( 부모 클래스 )에서 구현한 메소드를 파생 클래스( 자식 클래스 )에서 재정의 하는 것\n",
    "    -   메소드 명은 동일한데, 안의 구현 내용을 변경하고 싶을 때 사용한다.\n",
    "-   아래와 같이 동일한 메소드명 및 동일한 인자수를 넣어 구현하면 된다.\n",
    "-   오버라이딩을 하더라도, super()을 이용한다면, 오버라이딩 이전의 코드를 실행시킬 수 있다.\n",
    "\n",
    "```\n",
    "    class 기반클래스 : \n",
    "        def method():\n",
    "            코드\n",
    "        def method2(var1, var2):\n",
    "            코드\n",
    "\n",
    "# Overriding\n",
    "    clss 파생클래스 (기반클래스명):\n",
    "        def method():\n",
    "            재정의할 코드\n",
    "        def method2(var1, var2):\n",
    "            재정의할 코드\n",
    "\n",
    "```\n",
    "\n",
    "### 다중 상속\n",
    "\n",
    "-   다중 상속이란 2개 이상의 기반 클래스에서 상속을 받는 것이다.\n",
    "    -   서로 다른 클래스의 기능을 모두 사용하고 싶을 때 사용한다.\n",
    "\n",
    "```\n",
    "    class 기반클래스 1: \n",
    "        def __init(self):\n",
    "            코드\n",
    "\n",
    "    class 기반클래스 2: \n",
    "        def __init(self):\n",
    "            코드\n",
    "\n",
    "    clss 파생클래스 ( 기반클래스1 , 기반클래스2 ):\n",
    "        def __init(self):\n",
    "            super().__init__()\n",
    "            코드    \n",
    "\n",
    "```\n",
    "\n",
    "### 다이아몬드 상속\n",
    "\n",
    "-   하나의 기반 클래스 A가 B, C에 상속을 시켜주고, D가 B, C에게서 상속을 받는 모양이다.\n",
    "    -   구조가 복잡하여 클래스의 탐색 순서를 확인하고 사용하는 것을 권장함\n",
    "        -   필자가 생각하기에는 그냥 안 쓰는 걸 권장합니다. ( 이유 : 오버라이딩을 했다면, 어떤 메소드를 사용할지 명확하지 않음 )\n",
    "        -   그래도 사용하고 싶다면, **클래스.mro()**를 사용하여 호출 순서를 확인하고 사용하는 것이 좋다.\n",
    "\n",
    "---\n",
    "\n",
    "## 추상 클래스\n",
    "\n",
    "### 기본개념\n",
    "\n",
    "-   클래스를 생성할 때 기본적으로 구현해야 하는 메소드들의 틀을 만들어 주는 클래스\n",
    "-   추상 클래스를 상속받은 클래스가 추상 클래스에서 정의한 메소드들을 구현하지 않는다면 에러 발생\n",
    "\n",
    "### 생성 방법\n",
    "\n",
    "-   사용하려면 abc (abstract base class ) 모듈을 반드시 import 해야 한다.\n",
    "    -   from abc import \\* 혹은 import abc\n",
    "-   추상 클래스의 메소드는 @abstractmethod를 붙여주어 상속 클래스라는 것을 명시해준다.\n",
    "    -   만약 import abc로 호출하였다면, @abc.abstractmethod 라고 적어야 한다.\n",
    "-   클래스 괄호 안에 metaclass = ABCMeta를 삽입한다.\n",
    "    -   ABCMeta 또한 abc.ABCMeta라고 적어야 한다.\n",
    "-   추상 클래스는 상속시켜 오버라이딩을 하기 때문에 다른 코드를 삽입할 필요가 없다.\n",
    "    -   기본적으로 추상 클래스는 인스턴스를 생성할 수 없다.\n",
    "\n",
    "```\n",
    "from abc import *\n",
    "\n",
    "class 추상클래스명 ( metaclass = ABCMeta):\n",
    "    @abstractmethod\n",
    "    def 메소드명(self):\n",
    "        pass\n",
    "    @abstractmethod\n",
    "    def 메소드명(var1,var2):\n",
    "        pass\n",
    "\n",
    "```"
   ],
   "cell_type": "markdown",
   "metadata": {}
  },
  {
   "source": [
    "# 예외처리\n",
    "\n",
    "## 개념\n",
    "\n",
    "- 코드를 실행 중에 발생하는 에러를 처리하기 위한 처리입니다.\n",
    "\n",
    "## 예외처리 하기\n",
    "\n",
    "`특정 코드에 대한 예외처리`\n",
    "\n",
    "```\n",
    "try:\n",
    "    코드\n",
    "except 예외명:\n",
    "    코드\n",
    "```\n",
    "\n",
    "- 위와 같이 특정 에러에만 특별한 처리를 하고 싶으면 except를 이용하면 된다.\n",
    "  - except는 여러개를 작성해도 된다.\n",
    "- try문에서 에러가 발생하면, 그 코드 줄(발생 위치) 실행하지 않는다.\n",
    "  - 에러에 맞는 except로 이동하여 처리한다.\n",
    "\n",
    "`간단 예시`\n",
    "\n",
    "```\n",
    "try:\n",
    "    num = 2 /0\n",
    "    print(num)\n",
    "except ZeroDivisionError:\n",
    "    print('0으로 나눌 수 없습니다.')\n",
    "```\n",
    "\n",
    "- 위와 같이 작성한다면 try문의 print(num)은 출력하지 않고, except에 '0으로 나눌 수 없습니다.' 가 출력된다.\n",
    "\n",
    "`에러 메시지 받아오기`\n",
    "\n",
    "```\n",
    "try :\n",
    "    코드\n",
    "except 예외 as 변수:\n",
    "    코드\n",
    "```\n",
    "\n",
    "- 위와 같이 작성한다면 예외에 관한 메시지들을 받아올 수 있다.\n",
    "\n",
    "```\n",
    "try:\n",
    "    num = 2 /0\n",
    "    print(num)\n",
    "except ZeroDivisionError as e :\n",
    "    print('0으로 나눌 수 없습니다.',e)\n",
    "```\n",
    "\n",
    "- 위와 같이 작성한다면 try문의 print(num)은 출력하지 않고, except에 '0으로 나눌 수 없습니다. division by zero'가 출력된다.\n",
    "\n",
    "`위와같이 사용할 수 있지만, 모든 에러를 볼 수 있는 <font color = red > Exeception </font>을 많이 사용한다.`\n",
    "\n",
    "```\n",
    "except Execption as e :\n",
    "    print(\"Error 발생\",e)\n",
    "```\n",
    "\n",
    "\\` 위와같이 사용한다면 모든 에러 메시지를 받아올 수 있다.\n",
    "\n",
    "## else 및 finally\n",
    "\n",
    "- else는 예외가 발생하지 않았을 때 실행할 코드이다.\n",
    "  - except: 가 실행했다면, 실행되는 코드 블록이다.\n",
    "- finally는 예외 발생 여부와 상관없이 실행하는 코드이다.\n",
    "  - except: 의 실행 여부에 상관없이 무조건 실행되는 코드 블록이다.\n",
    "\n",
    "```\n",
    "try:\n",
    "    실행할 코드\n",
    "except:\n",
    "    예외 발생시 실행할 코드\n",
    "else:\n",
    "    예외 발생하지 않는다면 실행할 코드\n",
    "finally:\n",
    "    예외 발생여부 상관없이 실행할 코드\n",
    "```\n",
    "\n",
    "`간단한 예시`\n",
    "\n",
    "```\n",
    "try:\n",
    "    num = 2 /2\n",
    "    print(num)\n",
    "except:\n",
    "    print(\"Error 발생\",e)\n",
    "else:\n",
    "    print(\"Error 발생 안했어요\")\n",
    "finally:\n",
    "    print(\"코드 끝났어요\")\n",
    "```\n",
    "\n",
    "`위와 같은 코드를 실행하면 '1'을 출력하고 else문과 finally문을 실행하게 된다.`\n",
    "\n",
    "## 예외 발생시키기\n",
    "\n",
    "- 위와 같은 방법으로는 파이썬에서 지정한 예외에 대한 처리만 할 수 있습니다.\n",
    "- 개발자가 생각하는 상황을 예외처리를 하여 발생시키는 방법입니다.\n",
    "\n",
    "### 방법\n",
    "\n",
    "```\n",
    "raise 예외('에러 메시지')\n",
    "```\n",
    "\n",
    "### 예시\n",
    "\n",
    "```\n",
    "try:\n",
    "    x = int(input('2의 배수를 입력하시오.'))\n",
    "    if x %2 ==1:\n",
    "        raise Exception('2의 배수가 아니에요')\n",
    "    print(x)\n",
    "except Exception as e:\n",
    "    print('예외가 발생!!',e)\n",
    "```\n",
    "\n",
    "`위와 같이 개발자가 예외 상황을 만들 수 있습니다.`\n",
    "\n",
    "### 다시 except에서 실행 후 try문으로 돌아가기.\n",
    "\n",
    "`\"raise 예외('에러 메시지')\" 넣기!`\n",
    "\n",
    "```\n",
    "try:\n",
    "    x = int(input('2의 배수를 입력하시오.'))\n",
    "    if x %2 ==1:\n",
    "        raise Exception('2의 배수가 아니에요')\n",
    "    print(x)\n",
    "except Exception as e:\n",
    "    print('예외가 발생!!',e)\n",
    "    raise RuntimeError('예외가 발생했어요!!')\n",
    "```\n",
    "\n",
    "- 코드 실행 중 raise를 만나면 실행 줄이 try로 돌아간다.\n",
    "\n",
    "`\"assert 조건식, 에러 메시지 \"를 이용하여 발생시킬 수 있다.`\n",
    "\n",
    "- 조건식이 FALSE면 예외를 발생시킴\n",
    "\n",
    "```\n",
    "   x = int(input('2의 배수를 입력하시오.'))\n",
    "   assert x %2 ==1 , '2의 배수가 아니에요'\n",
    "```\n",
    "\n",
    "- 위와 같이 사용하면 됩니다.\n",
    "- 디버깅 모드에서만 실행됨.\n",
    "  - `python -o 파일.py` 이렇게 실행시켜야 한다.\n"
   ],
   "cell_type": "markdown",
   "metadata": {}
  },
  {
   "cell_type": "code",
   "execution_count": null,
   "metadata": {},
   "outputs": [],
   "source": []
  }
 ],
 "metadata": {
  "kernelspec": {
   "name": "python385jvsc74a57bd057cddac5ae9b7541513b871f8480362ac4870e8994976cf509c0e9c0207414d9",
   "display_name": "Python 3.8.5 64-bit (virtualenv)"
  },
  "language_info": {
   "codemirror_mode": {
    "name": "ipython",
    "version": 3
   },
   "file_extension": ".py",
   "mimetype": "text/x-python",
   "name": "python",
   "nbconvert_exporter": "python",
   "pygments_lexer": "ipython3",
   "version": "3.8.5"
  },
  "toc": {
   "base_numbering": 1,
   "nav_menu": {},
   "number_sections": true,
   "sideBar": true,
   "skip_h1_title": false,
   "title_cell": "Table of Contents",
   "title_sidebar": "Contents",
   "toc_cell": false,
   "toc_position": {
    "height": "calc(100% - 180px)",
    "left": "10px",
    "top": "150px",
    "width": "308.75px"
   },
   "toc_section_display": true,
   "toc_window_display": false
  }
 },
 "nbformat": 4,
 "nbformat_minor": 4
}