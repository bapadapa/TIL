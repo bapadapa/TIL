{
 "metadata": {
  "language_info": {
   "codemirror_mode": {
    "name": "ipython",
    "version": 3
   },
   "file_extension": ".py",
   "mimetype": "text/x-python",
   "name": "python",
   "nbconvert_exporter": "python",
   "pygments_lexer": "ipython3",
   "version": "3.8.8"
  },
  "orig_nbformat": 2,
  "kernelspec": {
   "name": "python388jvsc74a57bd068964f74c11d332c21e95cd675b1759e0933fc99bd167841b9b8a4ac82dd0a35",
   "display_name": "Python 3.8.8 64-bit ('base': conda)"
  },
  "metadata": {
   "interpreter": {
    "hash": "68964f74c11d332c21e95cd675b1759e0933fc99bd167841b9b8a4ac82dd0a35"
   }
  }
 },
 "nbformat": 4,
 "nbformat_minor": 2,
 "cells": [
  {
   "cell_type": "code",
   "execution_count": 1,
   "metadata": {},
   "outputs": [],
   "source": [
    "## Series\n",
    "import numpy as np\n",
    "import pandas as pd\n",
    "np.random.seed(100)\n",
    "data =np.random.randint(1 ,10,100)\n",
    "ind = ['X'+str(i) for i in np.arange(1,101)]\n",
    "obj = pd.Series(data,index = ind)\n"
   ]
  },
  {
   "cell_type": "code",
   "execution_count": 2,
   "metadata": {},
   "outputs": [
    {
     "output_type": "execute_result",
     "data": {
      "text/plain": [
       "X1     9\n",
       "X15    9\n",
       "X53    9\n",
       "X2     9\n",
       "X48    9\n",
       "      ..\n",
       "X43    1\n",
       "X89    1\n",
       "X88    1\n",
       "X17    1\n",
       "X39    1\n",
       "Length: 100, dtype: int32"
      ]
     },
     "metadata": {},
     "execution_count": 2
    }
   ],
   "source": [
    "obj.sort_values(ascending = False)\n",
    "\n"
   ]
  },
  {
   "cell_type": "code",
   "execution_count": 3,
   "metadata": {},
   "outputs": [
    {
     "output_type": "stream",
     "name": "stdout",
     "text": [
      "pre obj \n X1      9\nX2      9\nX3      4\nX4      8\nX5      8\n       ..\nX96     8\nX97     4\nX98     3\nX99     4\nX100    9\nLength: 100, dtype: int32\n"
     ]
    },
    {
     "output_type": "execute_result",
     "data": {
      "text/plain": [
       "X1      9\n",
       "X2      9\n",
       "X3      4\n",
       "X4      8\n",
       "X5      8\n",
       "       ..\n",
       "X96     8\n",
       "X97     4\n",
       "X98     3\n",
       "X99     4\n",
       "X100    9\n",
       "Length: 100, dtype: int32"
      ]
     },
     "metadata": {},
     "execution_count": 3
    }
   ],
   "source": [
    "# 가장 많이 나오는 값을 찾아서 평균으로 바꾸시오\n",
    "\n",
    "\n",
    "print (\"pre obj \\n\",obj)\n",
    "# print (\"\\npost obj \\n\",)\n",
    "obj.replace(obj.value_counts().max(),obj.value_counts().mean())\n",
    "\n"
   ]
  },
  {
   "cell_type": "code",
   "execution_count": 5,
   "metadata": {},
   "outputs": [],
   "source": [
    "## Series\n",
    "import numpy as np\n",
    "import pandas as pd\n",
    "np.random.seed(100)\n",
    "data =np.random.randint(1 ,10000,1000)\n",
    "ind = ['X'+str(i) for i in np.arange(1,1001)]\n",
    "obj = pd.Series(data,index = ind)\n"
   ]
  },
  {
   "cell_type": "code",
   "execution_count": 4,
   "metadata": {},
   "outputs": [
    {
     "output_type": "stream",
     "name": "stdout",
     "text": [
      "4.966666666666667\n"
     ]
    },
    {
     "output_type": "execute_result",
     "data": {
      "text/plain": [
       "Int64Index([  1,   2,   3,   4,   5,   6,   7,   8,   9,  10,  11,  12,  13,\n",
       "             14,  15,  16,  17,  18,  19,  20,  21,  22,  23,  24,  25,  26,\n",
       "             27,  28,  29,  30,  31,  32,  33,  34,  35,  36,  37,  38,  39,\n",
       "             40,  41,  42,  43,  44,  45,  46,  47,  48,  49,  50,  51,  52,\n",
       "             53,  54,  55,  56,  57,  58,  59,  60,  61,  62,  63,  64,  65,\n",
       "             66,  67,  68,  69,  70,  71,  72,  73,  74,  75,  76,  77,  78,\n",
       "             79,  80,  81,  82,  83,  84,  85,  86,  87,  88,  89,  90,  91,\n",
       "             92,  93,  94,  95,  96,  97,  98,  99, 100],\n",
       "           dtype='int64')"
      ]
     },
     "metadata": {},
     "execution_count": 4
    }
   ],
   "source": [
    "#pandas sort_values\n",
    "#상위 30개 하위 30개 데이터의 평균\n",
    "print(\n",
    "    ( obj.sort_values()[:30].sum() + obj.sort_values()[-30:].sum() )/60\n",
    "    )\n",
    "\n",
    "# 인덱스 슬라이싱 해주기!\n",
    "obj.index.str.slice(1,).astype('int32')\n",
    "\n",
    "\n"
   ]
  },
  {
   "cell_type": "code",
   "execution_count": 8,
   "metadata": {},
   "outputs": [
    {
     "output_type": "execute_result",
     "data": {
      "text/plain": [
       "325"
      ]
     },
     "metadata": {},
     "execution_count": 8
    }
   ],
   "source": [
    "int(obj.astype('str').describe()['top'])"
   ]
  },
  {
   "cell_type": "code",
   "execution_count": 9,
   "metadata": {},
   "outputs": [
    {
     "output_type": "execute_result",
     "data": {
      "text/plain": [
       "count    1000.000000\n",
       "mean     5037.547000\n",
       "std      2884.368104\n",
       "min         3.000000\n",
       "25%      2553.000000\n",
       "50%      4957.500000\n",
       "75%      7545.000000\n",
       "max      9980.000000\n",
       "dtype: float64"
      ]
     },
     "metadata": {},
     "execution_count": 9
    }
   ],
   "source": [
    "obj.describe()"
   ]
  },
  {
   "cell_type": "code",
   "execution_count": 13,
   "metadata": {},
   "outputs": [
    {
     "output_type": "stream",
     "name": "stderr",
     "text": [
      "C:\\Users\\painc\\Anaconda3\\lib\\site-packages\\seaborn\\_decorators.py:36: FutureWarning: Pass the following variable as a keyword arg: x. From version 0.12, the only valid positional argument will be `data`, and passing other arguments without an explicit keyword will result in an error or misinterpretation.\n  warnings.warn(\n"
     ]
    },
    {
     "output_type": "execute_result",
     "data": {
      "text/plain": [
       "<AxesSubplot:>"
      ]
     },
     "metadata": {},
     "execution_count": 13
    },
    {
     "output_type": "display_data",
     "data": {
      "text/plain": "<Figure size 432x288 with 1 Axes>",
      "image/svg+xml": "<?xml version=\"1.0\" encoding=\"utf-8\" standalone=\"no\"?>\r\n<!DOCTYPE svg PUBLIC \"-//W3C//DTD SVG 1.1//EN\"\r\n  \"http://www.w3.org/Graphics/SVG/1.1/DTD/svg11.dtd\">\r\n<!-- Created with matplotlib (https://matplotlib.org/) -->\r\n<svg height=\"248.518125pt\" version=\"1.1\" viewBox=\"0 0 353.998199 248.518125\" width=\"353.998199pt\" xmlns=\"http://www.w3.org/2000/svg\" xmlns:xlink=\"http://www.w3.org/1999/xlink\">\r\n <metadata>\r\n  <rdf:RDF xmlns:cc=\"http://creativecommons.org/ns#\" xmlns:dc=\"http://purl.org/dc/elements/1.1/\" xmlns:rdf=\"http://www.w3.org/1999/02/22-rdf-syntax-ns#\">\r\n   <cc:Work>\r\n    <dc:type rdf:resource=\"http://purl.org/dc/dcmitype/StillImage\"/>\r\n    <dc:date>2021-06-10T13:19:12.014789</dc:date>\r\n    <dc:format>image/svg+xml</dc:format>\r\n    <dc:creator>\r\n     <cc:Agent>\r\n      <dc:title>Matplotlib v3.3.4, https://matplotlib.org/</dc:title>\r\n     </cc:Agent>\r\n    </dc:creator>\r\n   </cc:Work>\r\n  </rdf:RDF>\r\n </metadata>\r\n <defs>\r\n  <style type=\"text/css\">*{stroke-linecap:butt;stroke-linejoin:round;}</style>\r\n </defs>\r\n <g id=\"figure_1\">\r\n  <g id=\"patch_1\">\r\n   <path d=\"M 0 248.518125 \r\nL 353.998199 248.518125 \r\nL 353.998199 0 \r\nL 0 0 \r\nz\r\n\" style=\"fill:none;\"/>\r\n  </g>\r\n  <g id=\"axes_1\">\r\n   <g id=\"patch_2\">\r\n    <path d=\"M 10.7 224.64 \r\nL 345.5 224.64 \r\nL 345.5 7.2 \r\nL 10.7 7.2 \r\nz\r\n\" style=\"fill:#ffffff;\"/>\r\n   </g>\r\n   <g id=\"patch_3\">\r\n    <path clip-path=\"url(#pf149eb2197)\" d=\"M 103.70983 28.944 \r\nL 103.70983 202.896 \r\nL 255.998421 202.896 \r\nL 255.998421 28.944 \r\nL 103.70983 28.944 \r\nz\r\n\" style=\"fill:#3274a1;stroke:#3f3f3f;stroke-linejoin:miter;stroke-width:1.5;\"/>\r\n   </g>\r\n   <g id=\"matplotlib.axis_1\">\r\n    <g id=\"xtick_1\">\r\n     <g id=\"line2d_1\">\r\n      <defs>\r\n       <path d=\"M 0 0 \r\nL 0 3.5 \r\n\" id=\"m2006710a60\" style=\"stroke:#000000;stroke-width:0.8;\"/>\r\n      </defs>\r\n      <g>\r\n       <use style=\"stroke:#000000;stroke-width:0.8;\" x=\"25.826662\" xlink:href=\"#m2006710a60\" y=\"224.64\"/>\r\n      </g>\r\n     </g>\r\n     <g id=\"text_1\">\r\n      <!-- 0 -->\r\n      <g transform=\"translate(22.645412 239.238437)scale(0.1 -0.1)\">\r\n       <defs>\r\n        <path d=\"M 31.78125 66.40625 \r\nQ 24.171875 66.40625 20.328125 58.90625 \r\nQ 16.5 51.421875 16.5 36.375 \r\nQ 16.5 21.390625 20.328125 13.890625 \r\nQ 24.171875 6.390625 31.78125 6.390625 \r\nQ 39.453125 6.390625 43.28125 13.890625 \r\nQ 47.125 21.390625 47.125 36.375 \r\nQ 47.125 51.421875 43.28125 58.90625 \r\nQ 39.453125 66.40625 31.78125 66.40625 \r\nz\r\nM 31.78125 74.21875 \r\nQ 44.046875 74.21875 50.515625 64.515625 \r\nQ 56.984375 54.828125 56.984375 36.375 \r\nQ 56.984375 17.96875 50.515625 8.265625 \r\nQ 44.046875 -1.421875 31.78125 -1.421875 \r\nQ 19.53125 -1.421875 13.0625 8.265625 \r\nQ 6.59375 17.96875 6.59375 36.375 \r\nQ 6.59375 54.828125 13.0625 64.515625 \r\nQ 19.53125 74.21875 31.78125 74.21875 \r\nz\r\n\" id=\"DejaVuSans-48\"/>\r\n       </defs>\r\n       <use xlink:href=\"#DejaVuSans-48\"/>\r\n      </g>\r\n     </g>\r\n    </g>\r\n    <g id=\"xtick_2\">\r\n     <g id=\"line2d_2\">\r\n      <g>\r\n       <use style=\"stroke:#000000;stroke-width:0.8;\" x=\"86.83972\" xlink:href=\"#m2006710a60\" y=\"224.64\"/>\r\n      </g>\r\n     </g>\r\n     <g id=\"text_2\">\r\n      <!-- 2000 -->\r\n      <g transform=\"translate(74.11472 239.238437)scale(0.1 -0.1)\">\r\n       <defs>\r\n        <path d=\"M 19.1875 8.296875 \r\nL 53.609375 8.296875 \r\nL 53.609375 0 \r\nL 7.328125 0 \r\nL 7.328125 8.296875 \r\nQ 12.9375 14.109375 22.625 23.890625 \r\nQ 32.328125 33.6875 34.8125 36.53125 \r\nQ 39.546875 41.84375 41.421875 45.53125 \r\nQ 43.3125 49.21875 43.3125 52.78125 \r\nQ 43.3125 58.59375 39.234375 62.25 \r\nQ 35.15625 65.921875 28.609375 65.921875 \r\nQ 23.96875 65.921875 18.8125 64.3125 \r\nQ 13.671875 62.703125 7.8125 59.421875 \r\nL 7.8125 69.390625 \r\nQ 13.765625 71.78125 18.9375 73 \r\nQ 24.125 74.21875 28.421875 74.21875 \r\nQ 39.75 74.21875 46.484375 68.546875 \r\nQ 53.21875 62.890625 53.21875 53.421875 \r\nQ 53.21875 48.921875 51.53125 44.890625 \r\nQ 49.859375 40.875 45.40625 35.40625 \r\nQ 44.1875 33.984375 37.640625 27.21875 \r\nQ 31.109375 20.453125 19.1875 8.296875 \r\nz\r\n\" id=\"DejaVuSans-50\"/>\r\n       </defs>\r\n       <use xlink:href=\"#DejaVuSans-50\"/>\r\n       <use x=\"63.623047\" xlink:href=\"#DejaVuSans-48\"/>\r\n       <use x=\"127.246094\" xlink:href=\"#DejaVuSans-48\"/>\r\n       <use x=\"190.869141\" xlink:href=\"#DejaVuSans-48\"/>\r\n      </g>\r\n     </g>\r\n    </g>\r\n    <g id=\"xtick_3\">\r\n     <g id=\"line2d_3\">\r\n      <g>\r\n       <use style=\"stroke:#000000;stroke-width:0.8;\" x=\"147.852777\" xlink:href=\"#m2006710a60\" y=\"224.64\"/>\r\n      </g>\r\n     </g>\r\n     <g id=\"text_3\">\r\n      <!-- 4000 -->\r\n      <g transform=\"translate(135.127777 239.238437)scale(0.1 -0.1)\">\r\n       <defs>\r\n        <path d=\"M 37.796875 64.3125 \r\nL 12.890625 25.390625 \r\nL 37.796875 25.390625 \r\nz\r\nM 35.203125 72.90625 \r\nL 47.609375 72.90625 \r\nL 47.609375 25.390625 \r\nL 58.015625 25.390625 \r\nL 58.015625 17.1875 \r\nL 47.609375 17.1875 \r\nL 47.609375 0 \r\nL 37.796875 0 \r\nL 37.796875 17.1875 \r\nL 4.890625 17.1875 \r\nL 4.890625 26.703125 \r\nz\r\n\" id=\"DejaVuSans-52\"/>\r\n       </defs>\r\n       <use xlink:href=\"#DejaVuSans-52\"/>\r\n       <use x=\"63.623047\" xlink:href=\"#DejaVuSans-48\"/>\r\n       <use x=\"127.246094\" xlink:href=\"#DejaVuSans-48\"/>\r\n       <use x=\"190.869141\" xlink:href=\"#DejaVuSans-48\"/>\r\n      </g>\r\n     </g>\r\n    </g>\r\n    <g id=\"xtick_4\">\r\n     <g id=\"line2d_4\">\r\n      <g>\r\n       <use style=\"stroke:#000000;stroke-width:0.8;\" x=\"208.865834\" xlink:href=\"#m2006710a60\" y=\"224.64\"/>\r\n      </g>\r\n     </g>\r\n     <g id=\"text_4\">\r\n      <!-- 6000 -->\r\n      <g transform=\"translate(196.140834 239.238437)scale(0.1 -0.1)\">\r\n       <defs>\r\n        <path d=\"M 33.015625 40.375 \r\nQ 26.375 40.375 22.484375 35.828125 \r\nQ 18.609375 31.296875 18.609375 23.390625 \r\nQ 18.609375 15.53125 22.484375 10.953125 \r\nQ 26.375 6.390625 33.015625 6.390625 \r\nQ 39.65625 6.390625 43.53125 10.953125 \r\nQ 47.40625 15.53125 47.40625 23.390625 \r\nQ 47.40625 31.296875 43.53125 35.828125 \r\nQ 39.65625 40.375 33.015625 40.375 \r\nz\r\nM 52.59375 71.296875 \r\nL 52.59375 62.3125 \r\nQ 48.875 64.0625 45.09375 64.984375 \r\nQ 41.3125 65.921875 37.59375 65.921875 \r\nQ 27.828125 65.921875 22.671875 59.328125 \r\nQ 17.53125 52.734375 16.796875 39.40625 \r\nQ 19.671875 43.65625 24.015625 45.921875 \r\nQ 28.375 48.1875 33.59375 48.1875 \r\nQ 44.578125 48.1875 50.953125 41.515625 \r\nQ 57.328125 34.859375 57.328125 23.390625 \r\nQ 57.328125 12.15625 50.6875 5.359375 \r\nQ 44.046875 -1.421875 33.015625 -1.421875 \r\nQ 20.359375 -1.421875 13.671875 8.265625 \r\nQ 6.984375 17.96875 6.984375 36.375 \r\nQ 6.984375 53.65625 15.1875 63.9375 \r\nQ 23.390625 74.21875 37.203125 74.21875 \r\nQ 40.921875 74.21875 44.703125 73.484375 \r\nQ 48.484375 72.75 52.59375 71.296875 \r\nz\r\n\" id=\"DejaVuSans-54\"/>\r\n       </defs>\r\n       <use xlink:href=\"#DejaVuSans-54\"/>\r\n       <use x=\"63.623047\" xlink:href=\"#DejaVuSans-48\"/>\r\n       <use x=\"127.246094\" xlink:href=\"#DejaVuSans-48\"/>\r\n       <use x=\"190.869141\" xlink:href=\"#DejaVuSans-48\"/>\r\n      </g>\r\n     </g>\r\n    </g>\r\n    <g id=\"xtick_5\">\r\n     <g id=\"line2d_5\">\r\n      <g>\r\n       <use style=\"stroke:#000000;stroke-width:0.8;\" x=\"269.878891\" xlink:href=\"#m2006710a60\" y=\"224.64\"/>\r\n      </g>\r\n     </g>\r\n     <g id=\"text_5\">\r\n      <!-- 8000 -->\r\n      <g transform=\"translate(257.153891 239.238437)scale(0.1 -0.1)\">\r\n       <defs>\r\n        <path d=\"M 31.78125 34.625 \r\nQ 24.75 34.625 20.71875 30.859375 \r\nQ 16.703125 27.09375 16.703125 20.515625 \r\nQ 16.703125 13.921875 20.71875 10.15625 \r\nQ 24.75 6.390625 31.78125 6.390625 \r\nQ 38.8125 6.390625 42.859375 10.171875 \r\nQ 46.921875 13.96875 46.921875 20.515625 \r\nQ 46.921875 27.09375 42.890625 30.859375 \r\nQ 38.875 34.625 31.78125 34.625 \r\nz\r\nM 21.921875 38.8125 \r\nQ 15.578125 40.375 12.03125 44.71875 \r\nQ 8.5 49.078125 8.5 55.328125 \r\nQ 8.5 64.0625 14.71875 69.140625 \r\nQ 20.953125 74.21875 31.78125 74.21875 \r\nQ 42.671875 74.21875 48.875 69.140625 \r\nQ 55.078125 64.0625 55.078125 55.328125 \r\nQ 55.078125 49.078125 51.53125 44.71875 \r\nQ 48 40.375 41.703125 38.8125 \r\nQ 48.828125 37.15625 52.796875 32.3125 \r\nQ 56.78125 27.484375 56.78125 20.515625 \r\nQ 56.78125 9.90625 50.3125 4.234375 \r\nQ 43.84375 -1.421875 31.78125 -1.421875 \r\nQ 19.734375 -1.421875 13.25 4.234375 \r\nQ 6.78125 9.90625 6.78125 20.515625 \r\nQ 6.78125 27.484375 10.78125 32.3125 \r\nQ 14.796875 37.15625 21.921875 38.8125 \r\nz\r\nM 18.3125 54.390625 \r\nQ 18.3125 48.734375 21.84375 45.5625 \r\nQ 25.390625 42.390625 31.78125 42.390625 \r\nQ 38.140625 42.390625 41.71875 45.5625 \r\nQ 45.3125 48.734375 45.3125 54.390625 \r\nQ 45.3125 60.0625 41.71875 63.234375 \r\nQ 38.140625 66.40625 31.78125 66.40625 \r\nQ 25.390625 66.40625 21.84375 63.234375 \r\nQ 18.3125 60.0625 18.3125 54.390625 \r\nz\r\n\" id=\"DejaVuSans-56\"/>\r\n       </defs>\r\n       <use xlink:href=\"#DejaVuSans-56\"/>\r\n       <use x=\"63.623047\" xlink:href=\"#DejaVuSans-48\"/>\r\n       <use x=\"127.246094\" xlink:href=\"#DejaVuSans-48\"/>\r\n       <use x=\"190.869141\" xlink:href=\"#DejaVuSans-48\"/>\r\n      </g>\r\n     </g>\r\n    </g>\r\n    <g id=\"xtick_6\">\r\n     <g id=\"line2d_6\">\r\n      <g>\r\n       <use style=\"stroke:#000000;stroke-width:0.8;\" x=\"330.891949\" xlink:href=\"#m2006710a60\" y=\"224.64\"/>\r\n      </g>\r\n     </g>\r\n     <g id=\"text_6\">\r\n      <!-- 10000 -->\r\n      <g transform=\"translate(314.985699 239.238437)scale(0.1 -0.1)\">\r\n       <defs>\r\n        <path d=\"M 12.40625 8.296875 \r\nL 28.515625 8.296875 \r\nL 28.515625 63.921875 \r\nL 10.984375 60.40625 \r\nL 10.984375 69.390625 \r\nL 28.421875 72.90625 \r\nL 38.28125 72.90625 \r\nL 38.28125 8.296875 \r\nL 54.390625 8.296875 \r\nL 54.390625 0 \r\nL 12.40625 0 \r\nz\r\n\" id=\"DejaVuSans-49\"/>\r\n       </defs>\r\n       <use xlink:href=\"#DejaVuSans-49\"/>\r\n       <use x=\"63.623047\" xlink:href=\"#DejaVuSans-48\"/>\r\n       <use x=\"127.246094\" xlink:href=\"#DejaVuSans-48\"/>\r\n       <use x=\"190.869141\" xlink:href=\"#DejaVuSans-48\"/>\r\n       <use x=\"254.492188\" xlink:href=\"#DejaVuSans-48\"/>\r\n      </g>\r\n     </g>\r\n    </g>\r\n   </g>\r\n   <g id=\"matplotlib.axis_2\">\r\n    <g id=\"ytick_1\">\r\n     <g id=\"line2d_7\">\r\n      <defs>\r\n       <path d=\"M 0 0 \r\nL -3.5 0 \r\n\" id=\"m0d4a57bbec\" style=\"stroke:#000000;stroke-width:0.8;\"/>\r\n      </defs>\r\n      <g>\r\n       <use style=\"stroke:#000000;stroke-width:0.8;\" x=\"10.7\" xlink:href=\"#m0d4a57bbec\" y=\"115.92\"/>\r\n      </g>\r\n     </g>\r\n    </g>\r\n   </g>\r\n   <g id=\"line2d_8\">\r\n    <path clip-path=\"url(#pf149eb2197)\" d=\"M 103.70983 115.92 \r\nL 25.918182 115.92 \r\n\" style=\"fill:none;stroke:#3f3f3f;stroke-linecap:square;stroke-width:1.5;\"/>\r\n   </g>\r\n   <g id=\"line2d_9\">\r\n    <path clip-path=\"url(#pf149eb2197)\" d=\"M 255.998421 115.92 \r\nL 330.281818 115.92 \r\n\" style=\"fill:none;stroke:#3f3f3f;stroke-linecap:square;stroke-width:1.5;\"/>\r\n   </g>\r\n   <g id=\"line2d_10\">\r\n    <path clip-path=\"url(#pf149eb2197)\" d=\"M 25.918182 72.432 \r\nL 25.918182 159.408 \r\n\" style=\"fill:none;stroke:#3f3f3f;stroke-linecap:square;stroke-width:1.5;\"/>\r\n   </g>\r\n   <g id=\"line2d_11\">\r\n    <path clip-path=\"url(#pf149eb2197)\" d=\"M 330.281818 72.432 \r\nL 330.281818 159.408 \r\n\" style=\"fill:none;stroke:#3f3f3f;stroke-linecap:square;stroke-width:1.5;\"/>\r\n   </g>\r\n   <g id=\"line2d_12\"/>\r\n   <g id=\"line2d_13\">\r\n    <path clip-path=\"url(#pf149eb2197)\" d=\"M 177.062778 28.944 \r\nL 177.062778 202.896 \r\n\" style=\"fill:none;stroke:#3f3f3f;stroke-linecap:square;stroke-width:1.5;\"/>\r\n   </g>\r\n   <g id=\"patch_4\">\r\n    <path d=\"M 10.7 224.64 \r\nL 10.7 7.2 \r\n\" style=\"fill:none;stroke:#000000;stroke-linecap:square;stroke-linejoin:miter;stroke-width:0.8;\"/>\r\n   </g>\r\n   <g id=\"patch_5\">\r\n    <path d=\"M 345.5 224.64 \r\nL 345.5 7.2 \r\n\" style=\"fill:none;stroke:#000000;stroke-linecap:square;stroke-linejoin:miter;stroke-width:0.8;\"/>\r\n   </g>\r\n   <g id=\"patch_6\">\r\n    <path d=\"M 10.7 224.64 \r\nL 345.5 224.64 \r\n\" style=\"fill:none;stroke:#000000;stroke-linecap:square;stroke-linejoin:miter;stroke-width:0.8;\"/>\r\n   </g>\r\n   <g id=\"patch_7\">\r\n    <path d=\"M 10.7 7.2 \r\nL 345.5 7.2 \r\n\" style=\"fill:none;stroke:#000000;stroke-linecap:square;stroke-linejoin:miter;stroke-width:0.8;\"/>\r\n   </g>\r\n  </g>\r\n </g>\r\n <defs>\r\n  <clipPath id=\"pf149eb2197\">\r\n   <rect height=\"217.44\" width=\"334.8\" x=\"10.7\" y=\"7.2\"/>\r\n  </clipPath>\r\n </defs>\r\n</svg>\r\n",
      "image/png": "[encoded data removed]"
     },
     "metadata": {
      "needs_background": "light"
     }
    }
   ],
   "source": [
    "import matplotlib as plt\n",
    "import seaborn as sns\n",
    "sns.boxplot(obj)"
   ]
  },
  {
   "cell_type": "code",
   "execution_count": 19,
   "metadata": {},
   "outputs": [],
   "source": [
    "str_s =pd.Series (\"(서울=연합뉴스) 문다영 기자 = 국내 신종 코로나바이러스 감염증(코로나19) 백신 1차 접종자가 10일 누적 1천만명을 넘어섰다. 지난 2월 26일 첫 접종이 시작된 지 105일째 되는 날 세운 기록이다.코로나19 예방접종대응추진단(추진단)에 따르면 백신 누적 1차 접종자는 이날 오전 11시 기준 1천6만705명으로 집계됐다. 이는 전체 인구(작년 12월 기준 5천134만9천116명)의 약 19.6%에 해당한다.앞선 누적 접종자 기록을 보면 접종 39일째인 지난 4월 5일 100만명, 63일째인 4월 29일 300만명, 99일째인 6월 4일 700만명, 102일째인 6월 7일 800만명을 각각 돌파했다.정부는 2월 말 만 65세 미만 요양병원·요양시설 종사자와 입원·입소자를 시작으로 접종을 개시한 후 코로나19 치료병원 종사자, 1차 방역대응 요원, 고위험 의료기관 종사자, 사회필수인력(경찰·소방·해경 등), 특수교육·보건교사, 75세 이상 등으로 접종 대상을 순차적으로 확대해 왔다.접종 초기에는 아스트라제네카(AZ) 백신 '희귀 혈전증' 부작용 우려로 30세 미만에 대한 접종이 잠정 보류되고 일시적 수급 불균형이 발생하면서 우여곡절도 있었으나 수급이 안정화되고 '잔여 백신' 접종도 활성화되면서 접종에 점차 속도가 붙고 있다.최근에는 75세 이상 어르신에 이어 60∼64세 고령층과 30세 미만 군 장병, 30세 이상 60세 미만 예비군·민방위대원·국방-외교 관련자 등에 대한 접종도 시작됐다.이달 중순부터는 2분기 아스트라제네카 백신 접종 대상자 가운데 희귀 혈전증 우려로 사전 예약에서 제외됐던 30세 미만(1992년 1월 1일 이후 출생자)에 대한 1차 접종도 진행된다.구체적으로 30세 미만 경찰·소방 등 사회필수인력과 만성 신장질환자, 유치원·어린이집·초등학교 1·2학년 교사와 돌봄인력 등 20만명이 오는 15∼26일 각 지역예방접종센터에서 화이자 백신을 맞는다.정부는 이달까지 '1천300만 명+α', 최대 1천400만명에 대한 1차 접종을 마치겠다는 계획이다. 이어 9월까지 최소 3천600만명에 대한 1차 접종을 마무리하고 11월 집단면역을 형성하겠다는 목표를 세워놓고 있다.\"  )"
   ]
  },
  {
   "cell_type": "code",
   "execution_count": 21,
   "metadata": {},
   "outputs": [
    {
     "output_type": "execute_result",
     "data": {
      "text/plain": [
       "count                                                     1\n",
       "unique                                                    1\n",
       "top       (서울=연합뉴스) 문다영 기자 = 국내 신종 코로나바이러스 감염증(코로나19) 백신...\n",
       "freq                                                      1\n",
       "dtype: object"
      ]
     },
     "metadata": {},
     "execution_count": 21
    }
   ],
   "source": [
    "str_s.describe()"
   ]
  },
  {
   "cell_type": "code",
   "execution_count": 41,
   "metadata": {},
   "outputs": [
    {
     "output_type": "stream",
     "name": "stdout",
     "text": [
      "(10, 1)\nIndex(['bapa'], dtype='object')\n(10,)\n"
     ]
    },
    {
     "output_type": "execute_result",
     "data": {
      "text/plain": [
       "       bapa\n",
       "bapa0     1\n",
       "bapa1     2\n",
       "bapa2     3\n",
       "bapa3     4\n",
       "bapa4     5\n",
       "bapa5     6\n",
       "bapa6     7\n",
       "bapa7     8\n",
       "bapa8     9\n",
       "bapa9    10"
      ],
      "text/html": "<div>\n<style scoped>\n    .dataframe tbody tr th:only-of-type {\n        vertical-align: middle;\n    }\n\n    .dataframe tbody tr th {\n        vertical-align: top;\n    }\n\n    .dataframe thead th {\n        text-align: right;\n    }\n</style>\n<table border=\"1\" class=\"dataframe\">\n  <thead>\n    <tr style=\"text-align: right;\">\n      <th></th>\n      <th>bapa</th>\n    </tr>\n  </thead>\n  <tbody>\n    <tr>\n      <th>bapa0</th>\n      <td>1</td>\n    </tr>\n    <tr>\n      <th>bapa1</th>\n      <td>2</td>\n    </tr>\n    <tr>\n      <th>bapa2</th>\n      <td>3</td>\n    </tr>\n    <tr>\n      <th>bapa3</th>\n      <td>4</td>\n    </tr>\n    <tr>\n      <th>bapa4</th>\n      <td>5</td>\n    </tr>\n    <tr>\n      <th>bapa5</th>\n      <td>6</td>\n    </tr>\n    <tr>\n      <th>bapa6</th>\n      <td>7</td>\n    </tr>\n    <tr>\n      <th>bapa7</th>\n      <td>8</td>\n    </tr>\n    <tr>\n      <th>bapa8</th>\n      <td>9</td>\n    </tr>\n    <tr>\n      <th>bapa9</th>\n      <td>10</td>\n    </tr>\n  </tbody>\n</table>\n</div>"
     },
     "metadata": {},
     "execution_count": 41
    }
   ],
   "source": [
    "s1 = np.arange(1,11)\n",
    "df1 = pd.DataFrame(s1,columns=['bapa'])\n",
    "df1.index = ['bapa'+str(i) for i in np.arange(10)]\n",
    "print(df1.values.shape)\n",
    "print(df1.columns)\n",
    "print(s1.shape)\n",
    "df1"
   ]
  },
  {
   "cell_type": "code",
   "execution_count": 135,
   "metadata": {},
   "outputs": [
    {
     "output_type": "execute_result",
     "data": {
      "text/plain": [
       "     col_1  col_2  total  mean\n",
       "0       80     70    150  75.0\n",
       "1       92     82    174  87.0\n",
       "2       93     83    176  88.0\n",
       "3       77     67    144  72.0\n",
       "4       88     78    166  83.0\n",
       "..     ...    ...    ...   ...\n",
       "995     76     66    142  71.0\n",
       "996     69     59    128  64.0\n",
       "997     80     70    150  75.0\n",
       "998     97     87    184  92.0\n",
       "999     99     89    188  94.0\n",
       "\n",
       "[1000 rows x 4 columns]"
      ],
      "text/html": "<div>\n<style scoped>\n    .dataframe tbody tr th:only-of-type {\n        vertical-align: middle;\n    }\n\n    .dataframe tbody tr th {\n        vertical-align: top;\n    }\n\n    .dataframe thead th {\n        text-align: right;\n    }\n</style>\n<table border=\"1\" class=\"dataframe\">\n  <thead>\n    <tr style=\"text-align: right;\">\n      <th></th>\n      <th>col_1</th>\n      <th>col_2</th>\n      <th>total</th>\n      <th>mean</th>\n    </tr>\n  </thead>\n  <tbody>\n    <tr>\n      <th>0</th>\n      <td>80</td>\n      <td>70</td>\n      <td>150</td>\n      <td>75.0</td>\n    </tr>\n    <tr>\n      <th>1</th>\n      <td>92</td>\n      <td>82</td>\n      <td>174</td>\n      <td>87.0</td>\n    </tr>\n    <tr>\n      <th>2</th>\n      <td>93</td>\n      <td>83</td>\n      <td>176</td>\n      <td>88.0</td>\n    </tr>\n    <tr>\n      <th>3</th>\n      <td>77</td>\n      <td>67</td>\n      <td>144</td>\n      <td>72.0</td>\n    </tr>\n    <tr>\n      <th>4</th>\n      <td>88</td>\n      <td>78</td>\n      <td>166</td>\n      <td>83.0</td>\n    </tr>\n    <tr>\n      <th>...</th>\n      <td>...</td>\n      <td>...</td>\n      <td>...</td>\n      <td>...</td>\n    </tr>\n    <tr>\n      <th>995</th>\n      <td>76</td>\n      <td>66</td>\n      <td>142</td>\n      <td>71.0</td>\n    </tr>\n    <tr>\n      <th>996</th>\n      <td>69</td>\n      <td>59</td>\n      <td>128</td>\n      <td>64.0</td>\n    </tr>\n    <tr>\n      <th>997</th>\n      <td>80</td>\n      <td>70</td>\n      <td>150</td>\n      <td>75.0</td>\n    </tr>\n    <tr>\n      <th>998</th>\n      <td>97</td>\n      <td>87</td>\n      <td>184</td>\n      <td>92.0</td>\n    </tr>\n    <tr>\n      <th>999</th>\n      <td>99</td>\n      <td>89</td>\n      <td>188</td>\n      <td>94.0</td>\n    </tr>\n  </tbody>\n</table>\n<p>1000 rows × 4 columns</p>\n</div>"
     },
     "metadata": {},
     "execution_count": 135
    }
   ],
   "source": [
    "dic = {'col1':[1,2],'col2':[2,None]}\n",
    "# print(dic)\n",
    "df = pd.DataFrame(dic)\n",
    "# print(df)\n",
    "df = pd.DataFrame(np.random.randint(60,100,1000), columns=['col1'])\n",
    "# print(df)\n",
    "# 칼럼 추가 갯수가 동일해야함!\n",
    "\n",
    "df['col2'] = df[\"col1\"] -10\n",
    "# print(df)\n",
    "# 칼럼명 변경\n",
    "df.rename(columns={\"col1\":\"col_1\",\"col2\":\"col_2\"},inplace=True)\n",
    "# print(df.columns)\n",
    "df.columns = df.columns.str.replace(' ','_')\n",
    "# print(df)\n",
    "df['total'] = df.sum(axis = 1)\n",
    "\n",
    "df['mean'] = df.drop(['total'] ,axis =1).mean(axis = 1)\n",
    "df\n"
   ]
  },
  {
   "cell_type": "code",
   "execution_count": null,
   "metadata": {},
   "outputs": [],
   "source": []
  },
  {
   "cell_type": "code",
   "execution_count": 136,
   "metadata": {},
   "outputs": [
    {
     "output_type": "execute_result",
     "data": {
      "text/plain": [
       "0    1 1\n",
       "1    2 1\n",
       "2    3 1\n",
       "dtype: object"
      ]
     },
     "metadata": {},
     "execution_count": 136
    }
   ],
   "source": [
    "x =pd.Series(['1 1','2 1','3 1'])\n",
    "x.str.replace(' ','_')\n",
    "x"
   ]
  },
  {
   "cell_type": "code",
   "execution_count": 312,
   "metadata": {},
   "outputs": [
    {
     "output_type": "execute_result",
     "data": {
      "text/plain": [
       "       eng  math  kor  sci  total    avg grade best_subject\n",
       "0       68    91   60   67    286  71.50     C         math\n",
       "1       84    71   74   69    298  74.50     C          eng\n",
       "2       63    77   62   79    281  70.25     C          sci\n",
       "3       99    66   69   87    321  80.25     A          eng\n",
       "4       83    83   68   66    300  75.00     C          eng\n",
       "...    ...   ...  ...  ...    ...    ...   ...          ...\n",
       "99995   81    65   82   92    320  80.00     B          sci\n",
       "99996   61    92   66   99    318  79.50     A          sci\n",
       "99997   89    92   75   69    325  81.25     B         math\n",
       "99998   75    81   64   86    306  76.50     C          sci\n",
       "99999   86    90   78   78    332  83.00     B         math\n",
       "\n",
       "[100000 rows x 8 columns]"
      ],
      "text/html": "<div>\n<style scoped>\n    .dataframe tbody tr th:only-of-type {\n        vertical-align: middle;\n    }\n\n    .dataframe tbody tr th {\n        vertical-align: top;\n    }\n\n    .dataframe thead th {\n        text-align: right;\n    }\n</style>\n<table border=\"1\" class=\"dataframe\">\n  <thead>\n    <tr style=\"text-align: right;\">\n      <th></th>\n      <th>eng</th>\n      <th>math</th>\n      <th>kor</th>\n      <th>sci</th>\n      <th>total</th>\n      <th>avg</th>\n      <th>grade</th>\n      <th>best_subject</th>\n    </tr>\n  </thead>\n  <tbody>\n    <tr>\n      <th>0</th>\n      <td>68</td>\n      <td>91</td>\n      <td>60</td>\n      <td>67</td>\n      <td>286</td>\n      <td>71.50</td>\n      <td>C</td>\n      <td>math</td>\n    </tr>\n    <tr>\n      <th>1</th>\n      <td>84</td>\n      <td>71</td>\n      <td>74</td>\n      <td>69</td>\n      <td>298</td>\n      <td>74.50</td>\n      <td>C</td>\n      <td>eng</td>\n    </tr>\n    <tr>\n      <th>2</th>\n      <td>63</td>\n      <td>77</td>\n      <td>62</td>\n      <td>79</td>\n      <td>281</td>\n      <td>70.25</td>\n      <td>C</td>\n      <td>sci</td>\n    </tr>\n    <tr>\n      <th>3</th>\n      <td>99</td>\n      <td>66</td>\n      <td>69</td>\n      <td>87</td>\n      <td>321</td>\n      <td>80.25</td>\n      <td>A</td>\n      <td>eng</td>\n    </tr>\n    <tr>\n      <th>4</th>\n      <td>83</td>\n      <td>83</td>\n      <td>68</td>\n      <td>66</td>\n      <td>300</td>\n      <td>75.00</td>\n      <td>C</td>\n      <td>eng</td>\n    </tr>\n    <tr>\n      <th>...</th>\n      <td>...</td>\n      <td>...</td>\n      <td>...</td>\n      <td>...</td>\n      <td>...</td>\n      <td>...</td>\n      <td>...</td>\n      <td>...</td>\n    </tr>\n    <tr>\n      <th>99995</th>\n      <td>81</td>\n      <td>65</td>\n      <td>82</td>\n      <td>92</td>\n      <td>320</td>\n      <td>80.00</td>\n      <td>B</td>\n      <td>sci</td>\n    </tr>\n    <tr>\n      <th>99996</th>\n      <td>61</td>\n      <td>92</td>\n      <td>66</td>\n      <td>99</td>\n      <td>318</td>\n      <td>79.50</td>\n      <td>A</td>\n      <td>sci</td>\n    </tr>\n    <tr>\n      <th>99997</th>\n      <td>89</td>\n      <td>92</td>\n      <td>75</td>\n      <td>69</td>\n      <td>325</td>\n      <td>81.25</td>\n      <td>B</td>\n      <td>math</td>\n    </tr>\n    <tr>\n      <th>99998</th>\n      <td>75</td>\n      <td>81</td>\n      <td>64</td>\n      <td>86</td>\n      <td>306</td>\n      <td>76.50</td>\n      <td>C</td>\n      <td>sci</td>\n    </tr>\n    <tr>\n      <th>99999</th>\n      <td>86</td>\n      <td>90</td>\n      <td>78</td>\n      <td>78</td>\n      <td>332</td>\n      <td>83.00</td>\n      <td>B</td>\n      <td>math</td>\n    </tr>\n  </tbody>\n</table>\n<p>100000 rows × 8 columns</p>\n</div>"
     },
     "metadata": {},
     "execution_count": 312
    }
   ],
   "source": [
    "np.random.seed(100)\n",
    "eng = np.random.randint(60,100,100000)\n",
    "np.random.seed(101)\n",
    "math = np.random.randint(60,100,100000)\n",
    "np.random.seed(102)\n",
    "kor = np.random.randint(60,100,100000)\n",
    "np.random.seed(103)\n",
    "sci = np.random.randint(60,100,100000)\n",
    "\n",
    "seedNum = range(100,104)\n",
    "sub = [\"eng\",\"math\",\"kor\",\"sci\"]\n",
    "df = pd.DataFrame(eng,columns = ['eng'])\n",
    "df['math'] = math\n",
    "df['kor'] = kor\n",
    "df['sci'] = sci\n",
    "\n",
    "# df['total'] = df.sum(axis = 1)\n",
    "df['total'] = df.apply(sum,axis = 1)\n",
    "# df['avg'] = df.drop(['total'] ,axis =1).mean(axis = 1)\n",
    "df['avg'] = df.drop(['total'] ,axis =1).mean(axis = 1)\n",
    "df['grade'] = np.where(np.max(df.drop(['total','avg'],axis=1),axis =1) >= 99  ,'A',\n",
    "                np.where(df['avg'] >= 90 ,'A',\n",
    "                    np.where(df['avg'] >= 80 , 'B','C')))\n",
    "# df['best_subject'] = np.max(df.drop(['total','avg'],axis=1),axis =1)\n",
    "df['best_subject'] =np.where(np.argmax(df.drop(['total','avg','grade'],axis=1).values,axis=1)==0 , sub[0],\n",
    "            np.where(np.argmax(df.drop(['total','avg','grade'],axis=1).values,axis=1)==1 , sub[1],\n",
    "        np.where(np.argmax(df.drop(['total','avg','grade'],axis=1).values,axis=1)==1 , sub[2],sub[3])))\n",
    "df\n"
   ]
  },
  {
   "cell_type": "code",
   "execution_count": 426,
   "metadata": {},
   "outputs": [
    {
     "output_type": "execute_result",
     "data": {
      "text/plain": [
       "       eng  math  kor  sci  total    avg grade best_subject 2st_Score  \\\n",
       "0       68    91   60   67    286  71.50     C         math       eng   \n",
       "1       84    71   74   69    298  74.50     C          eng       kor   \n",
       "2       63    77   62   79    281  70.25     C          sci      math   \n",
       "3       99    66   69   87    321  80.25     A          eng       sci   \n",
       "4       83    83   68   66    300  75.00     C          eng       eng   \n",
       "...    ...   ...  ...  ...    ...    ...   ...          ...       ...   \n",
       "99995   81    65   82   92    320  80.00     B          sci       kor   \n",
       "99996   61    92   66   99    318  79.50     A          sci      math   \n",
       "99997   89    92   75   69    325  81.25     B         math       eng   \n",
       "99998   75    81   64   86    306  76.50     C          sci      math   \n",
       "99999   86    90   78   78    332  83.00     B         math       eng   \n",
       "\n",
       "      3st_Score 4st_Score  \n",
       "0           sci       kor  \n",
       "1          math       sci  \n",
       "2           eng       kor  \n",
       "3           kor      math  \n",
       "4           kor       sci  \n",
       "...         ...       ...  \n",
       "99995       eng      math  \n",
       "99996       kor       eng  \n",
       "99997       kor       sci  \n",
       "99998       eng       kor  \n",
       "99999       sci       kor  \n",
       "\n",
       "[100000 rows x 11 columns]"
      ],
      "text/html": "<div>\n<style scoped>\n    .dataframe tbody tr th:only-of-type {\n        vertical-align: middle;\n    }\n\n    .dataframe tbody tr th {\n        vertical-align: top;\n    }\n\n    .dataframe thead th {\n        text-align: right;\n    }\n</style>\n<table border=\"1\" class=\"dataframe\">\n  <thead>\n    <tr style=\"text-align: right;\">\n      <th></th>\n      <th>eng</th>\n      <th>math</th>\n      <th>kor</th>\n      <th>sci</th>\n      <th>total</th>\n      <th>avg</th>\n      <th>grade</th>\n      <th>best_subject</th>\n      <th>2st_Score</th>\n      <th>3st_Score</th>\n      <th>4st_Score</th>\n    </tr>\n  </thead>\n  <tbody>\n    <tr>\n      <th>0</th>\n      <td>68</td>\n      <td>91</td>\n      <td>60</td>\n      <td>67</td>\n      <td>286</td>\n      <td>71.50</td>\n      <td>C</td>\n      <td>math</td>\n      <td>eng</td>\n      <td>sci</td>\n      <td>kor</td>\n    </tr>\n    <tr>\n      <th>1</th>\n      <td>84</td>\n      <td>71</td>\n      <td>74</td>\n      <td>69</td>\n      <td>298</td>\n      <td>74.50</td>\n      <td>C</td>\n      <td>eng</td>\n      <td>kor</td>\n      <td>math</td>\n      <td>sci</td>\n    </tr>\n    <tr>\n      <th>2</th>\n      <td>63</td>\n      <td>77</td>\n      <td>62</td>\n      <td>79</td>\n      <td>281</td>\n      <td>70.25</td>\n      <td>C</td>\n      <td>sci</td>\n      <td>math</td>\n      <td>eng</td>\n      <td>kor</td>\n    </tr>\n    <tr>\n      <th>3</th>\n      <td>99</td>\n      <td>66</td>\n      <td>69</td>\n      <td>87</td>\n      <td>321</td>\n      <td>80.25</td>\n      <td>A</td>\n      <td>eng</td>\n      <td>sci</td>\n      <td>kor</td>\n      <td>math</td>\n    </tr>\n    <tr>\n      <th>4</th>\n      <td>83</td>\n      <td>83</td>\n      <td>68</td>\n      <td>66</td>\n      <td>300</td>\n      <td>75.00</td>\n      <td>C</td>\n      <td>eng</td>\n      <td>eng</td>\n      <td>kor</td>\n      <td>sci</td>\n    </tr>\n    <tr>\n      <th>...</th>\n      <td>...</td>\n      <td>...</td>\n      <td>...</td>\n      <td>...</td>\n      <td>...</td>\n      <td>...</td>\n      <td>...</td>\n      <td>...</td>\n      <td>...</td>\n      <td>...</td>\n      <td>...</td>\n    </tr>\n    <tr>\n      <th>99995</th>\n      <td>81</td>\n      <td>65</td>\n      <td>82</td>\n      <td>92</td>\n      <td>320</td>\n      <td>80.00</td>\n      <td>B</td>\n      <td>sci</td>\n      <td>kor</td>\n      <td>eng</td>\n      <td>math</td>\n    </tr>\n    <tr>\n      <th>99996</th>\n      <td>61</td>\n      <td>92</td>\n      <td>66</td>\n      <td>99</td>\n      <td>318</td>\n      <td>79.50</td>\n      <td>A</td>\n      <td>sci</td>\n      <td>math</td>\n      <td>kor</td>\n      <td>eng</td>\n    </tr>\n    <tr>\n      <th>99997</th>\n      <td>89</td>\n      <td>92</td>\n      <td>75</td>\n      <td>69</td>\n      <td>325</td>\n      <td>81.25</td>\n      <td>B</td>\n      <td>math</td>\n      <td>eng</td>\n      <td>kor</td>\n      <td>sci</td>\n    </tr>\n    <tr>\n      <th>99998</th>\n      <td>75</td>\n      <td>81</td>\n      <td>64</td>\n      <td>86</td>\n      <td>306</td>\n      <td>76.50</td>\n      <td>C</td>\n      <td>sci</td>\n      <td>math</td>\n      <td>eng</td>\n      <td>kor</td>\n    </tr>\n    <tr>\n      <th>99999</th>\n      <td>86</td>\n      <td>90</td>\n      <td>78</td>\n      <td>78</td>\n      <td>332</td>\n      <td>83.00</td>\n      <td>B</td>\n      <td>math</td>\n      <td>eng</td>\n      <td>sci</td>\n      <td>kor</td>\n    </tr>\n  </tbody>\n</table>\n<p>100000 rows × 11 columns</p>\n</div>"
     },
     "metadata": {},
     "execution_count": 426
    }
   ],
   "source": [
    "np.random.seed(100)\n",
    "eng = np.random.randint(60,100,100000)\n",
    "np.random.seed(101)\n",
    "math = np.random.randint(60,100,100000)\n",
    "np.random.seed(102)\n",
    "kor = np.random.randint(60,100,100000)\n",
    "np.random.seed(103)\n",
    "sci = np.random.randint(60,100,100000)\n",
    "\n",
    "seedNum = range(100,104)\n",
    "sub = [\"eng\",\"math\",\"kor\",\"sci\"]\n",
    "df = pd.DataFrame(eng,columns = ['eng'])\n",
    "df['math'] = math\n",
    "df['kor'] = kor\n",
    "df['sci'] = sci\n",
    "testDf = df.copy()\n",
    "# df['total'] = df.sum(axis = 1)\n",
    "df['total'] = df.apply(sum,axis = 1)\n",
    "# df['avg'] = df.drop(['total'] ,axis =1).mean(axis = 1)\n",
    "df['avg'] = df.drop(['total'] ,axis =1).mean(axis = 1)\n",
    "df['grade'] = np.where(np.max(df.drop(['total','avg'],axis=1),axis =1) >= 99  ,'A',\n",
    "                np.where(df['avg'] >= 90 ,'A',\n",
    "                    np.where(df['avg'] >= 80 , 'B','C')))\n",
    "# df['best_subject'] = np.max(df.drop(['total','avg'],axis=1),axis =1)\n",
    "df['best_subject'] =df.drop(['total','avg','grade'],axis=1).apply(\n",
    "        lambda x : df.columns[np.argmax(x)] , axis=1 )\n",
    "\n",
    "score_rank= testDf.apply(lambda x : testDf.columns[x.argsort()[::-1]].values.reshape(4,1),axis=1)\n",
    "\n",
    "df[\"2st_Score\"] = np.array([i[1] for i in score_rank ])\n",
    "df[\"3st_Score\"] = np.array([i[2] for i in score_rank ])\n",
    "df[\"4st_Score\"] = np.array([i[3] for i in score_rank ])\n",
    "\n",
    "df\n"
   ]
  },
  {
   "cell_type": "code",
   "execution_count": 406,
   "metadata": {},
   "outputs": [],
   "source": [
    "np.argsort(testDf)\n",
    "\n",
    "def xxx(x):\n",
    "    return testDf.columns[x.argsort()[::-1]].values.reshape(4,1)\n",
    "# xxx(np.array[1,2,3,4])\n",
    "\n"
   ]
  },
  {
   "cell_type": "code",
   "execution_count": 424,
   "metadata": {
    "tags": []
   },
   "outputs": [
    {
     "output_type": "stream",
     "name": "stdout",
     "text": [
      "       eng  math  kor  sci  total    avg grade best_subject 1st_Score  \\\n0       68    91   60   67    286  71.50     C         math      math   \n1       84    71   74   69    298  74.50     C          eng       eng   \n2       63    77   62   79    281  70.25     C          sci       sci   \n3       99    66   69   87    321  80.25     A          eng       eng   \n4       83    83   68   66    300  75.00     C          eng      math   \n...    ...   ...  ...  ...    ...    ...   ...          ...       ...   \n99995   81    65   82   92    320  80.00     B          sci       sci   \n99996   61    92   66   99    318  79.50     A          sci       sci   \n99997   89    92   75   69    325  81.25     B         math      math   \n99998   75    81   64   86    306  76.50     C          sci       sci   \n99999   86    90   78   78    332  83.00     B         math      math   \n\n      2st_Score 3st_Score 4st_Score  \n0           eng       sci       kor  \n1           kor      math       sci  \n2          math       eng       kor  \n3           sci       kor      math  \n4           eng       kor       sci  \n...         ...       ...       ...  \n99995       kor       eng      math  \n99996      math       kor       eng  \n99997       eng       kor       sci  \n99998      math       eng       kor  \n99999       eng       sci       kor  \n\n[100000 rows x 12 columns]\n"
     ]
    }
   ],
   "source": [
    "\n",
    "#"
   ]
  },
  {
   "cell_type": "code",
   "execution_count": 427,
   "metadata": {},
   "outputs": [
    {
     "output_type": "error",
     "ename": "NameError",
     "evalue": "name 'Dataframe' is not defined",
     "traceback": [
      "\u001b[1;31m---------------------------------------------------------------------------\u001b[0m",
      "\u001b[1;31mNameError\u001b[0m                                 Traceback (most recent call last)",
      "\u001b[1;32m<ipython-input-427-cf821c0692f1>\u001b[0m in \u001b[0;36m<module>\u001b[1;34m\u001b[0m\n\u001b[0;32m      5\u001b[0m \u001b[0msci\u001b[0m \u001b[1;33m=\u001b[0m \u001b[0mnp\u001b[0m\u001b[1;33m.\u001b[0m\u001b[0mrandom\u001b[0m\u001b[1;33m.\u001b[0m\u001b[0mrandint\u001b[0m\u001b[1;33m(\u001b[0m\u001b[1;36m60\u001b[0m\u001b[1;33m,\u001b[0m\u001b[1;36m100\u001b[0m\u001b[1;33m,\u001b[0m\u001b[1;36m100000\u001b[0m\u001b[1;33m)\u001b[0m\u001b[1;33m\u001b[0m\u001b[1;33m\u001b[0m\u001b[0m\n\u001b[0;32m      6\u001b[0m \u001b[1;33m\u001b[0m\u001b[0m\n\u001b[1;32m----> 7\u001b[1;33m \u001b[0mtDF\u001b[0m \u001b[1;33m=\u001b[0m \u001b[0mDataframe\u001b[0m\u001b[1;33m\u001b[0m\u001b[1;33m\u001b[0m\u001b[0m\n\u001b[0m",
      "\u001b[1;31mNameError\u001b[0m: name 'Dataframe' is not defined"
     ]
    }
   ],
   "source": [
    "\n",
    "seedNum = range(100,104)\n",
    "sub = [\"eng\",\"math\",\"kor\",\"sci\"]\n",
    "\n",
    "np.random.seed(103)\n",
    "sci = np.random.randint(60,100,100000)\n",
    "\n",
    "tDF = "
   ]
  }
 ]
}