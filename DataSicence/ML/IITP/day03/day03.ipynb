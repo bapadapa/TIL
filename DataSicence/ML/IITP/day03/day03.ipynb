{
 "metadata": {
  "language_info": {
   "codemirror_mode": {
    "name": "ipython",
    "version": 3
   },
   "file_extension": ".py",
   "mimetype": "text/x-python",
   "name": "python",
   "nbconvert_exporter": "python",
   "pygments_lexer": "ipython3",
   "version": "3.8.8"
  },
  "orig_nbformat": 2,
  "kernelspec": {
   "name": "python388jvsc74a57bd068964f74c11d332c21e95cd675b1759e0933fc99bd167841b9b8a4ac82dd0a35",
   "display_name": "Python 3.8.8 64-bit ('base': conda)"
  },
  "metadata": {
   "interpreter": {
    "hash": "68964f74c11d332c21e95cd675b1759e0933fc99bd167841b9b8a4ac82dd0a35"
   }
  }
 },
 "nbformat": 4,
 "nbformat_minor": 2,
 "cells": [
  {
   "cell_type": "code",
   "execution_count": 1,
   "metadata": {},
   "outputs": [],
   "source": [
    "## Series\n",
    "import numpy as np\n",
    "import pandas as pd\n",
    "np.random.seed(100)\n",
    "data =np.random.randint(1 ,10,100)\n",
    "ind = ['X'+str(i) for i in np.arange(1,101)]\n",
    "obj = pd.Series(data,index = ind)\n"
   ]
  },
  {
   "cell_type": "code",
   "execution_count": 2,
   "metadata": {},
   "outputs": [
    {
     "output_type": "execute_result",
     "data": {
      "text/plain": [
       "X1     9\n",
       "X15    9\n",
       "X53    9\n",
       "X2     9\n",
       "X48    9\n",
       "      ..\n",
       "X43    1\n",
       "X89    1\n",
       "X88    1\n",
       "X17    1\n",
       "X39    1\n",
       "Length: 100, dtype: int32"
      ]
     },
     "metadata": {},
     "execution_count": 2
    }
   ],
   "source": [
    "obj.sort_values(ascending = False)\n",
    "\n"
   ]
  },
  {
   "cell_type": "code",
   "execution_count": 3,
   "metadata": {},
   "outputs": [
    {
     "output_type": "stream",
     "name": "stdout",
     "text": [
      "pre obj \n X1      9\nX2      9\nX3      4\nX4      8\nX5      8\n       ..\nX96     8\nX97     4\nX98     3\nX99     4\nX100    9\nLength: 100, dtype: int32\n"
     ]
    },
    {
     "output_type": "execute_result",
     "data": {
      "text/plain": [
       "X1      9\n",
       "X2      9\n",
       "X3      4\n",
       "X4      8\n",
       "X5      8\n",
       "       ..\n",
       "X96     8\n",
       "X97     4\n",
       "X98     3\n",
       "X99     4\n",
       "X100    9\n",
       "Length: 100, dtype: int32"
      ]
     },
     "metadata": {},
     "execution_count": 3
    }
   ],
   "source": [
    "# 가장 많이 나오는 값을 찾아서 평균으로 바꾸시오\n",
    "\n",
    "\n",
    "print (\"pre obj \\n\",obj)\n",
    "# print (\"\\npost obj \\n\",)\n",
    "obj.replace(obj.value_counts().max(),obj.value_counts().mean())\n",
    "\n"
   ]
  },
  {
   "cell_type": "code",
   "execution_count": 5,
   "metadata": {},
   "outputs": [],
   "source": [
    "## Series\n",
    "import numpy as np\n",
    "import pandas as pd\n",
    "np.random.seed(100)\n",
    "data =np.random.randint(1 ,10000,1000)\n",
    "ind = ['X'+str(i) for i in np.arange(1,1001)]\n",
    "obj = pd.Series(data,index = ind)\n"
   ]
  },
  {
   "cell_type": "code",
   "execution_count": 4,
   "metadata": {},
   "outputs": [
    {
     "output_type": "stream",
     "name": "stdout",
     "text": [
      "4.966666666666667\n"
     ]
    },
    {
     "output_type": "execute_result",
     "data": {
      "text/plain": [
       "Int64Index([  1,   2,   3,   4,   5,   6,   7,   8,   9,  10,  11,  12,  13,\n",
       "             14,  15,  16,  17,  18,  19,  20,  21,  22,  23,  24,  25,  26,\n",
       "             27,  28,  29,  30,  31,  32,  33,  34,  35,  36,  37,  38,  39,\n",
       "             40,  41,  42,  43,  44,  45,  46,  47,  48,  49,  50,  51,  52,\n",
       "             53,  54,  55,  56,  57,  58,  59,  60,  61,  62,  63,  64,  65,\n",
       "             66,  67,  68,  69,  70,  71,  72,  73,  74,  75,  76,  77,  78,\n",
       "             79,  80,  81,  82,  83,  84,  85,  86,  87,  88,  89,  90,  91,\n",
       "             92,  93,  94,  95,  96,  97,  98,  99, 100],\n",
       "           dtype='int64')"
      ]
     },
     "metadata": {},
     "execution_count": 4
    }
   ],
   "source": [
    "#pandas sort_values\n",
    "#상위 30개 하위 30개 데이터의 평균\n",
    "print(\n",
    "    ( obj.sort_values()[:30].sum() + obj.sort_values()[-30:].sum() )/60\n",
    "    )\n",
    "\n",
    "# 인덱스 슬라이싱 해주기!\n",
    "obj.index.str.slice(1,).astype('int32')\n",
    "\n",
    "\n"
   ]
  },
  {
   "cell_type": "code",
   "execution_count": 8,
   "metadata": {},
   "outputs": [
    {
     "output_type": "execute_result",
     "data": {
      "text/plain": [
       "325"
      ]
     },
     "metadata": {},
     "execution_count": 8
    }
   ],
   "source": [
    "int(obj.astype('str').describe()['top'])"
   ]
  },
  {
   "cell_type": "code",
   "execution_count": 9,
   "metadata": {},
   "outputs": [
    {
     "output_type": "execute_result",
     "data": {
      "text/plain": [
       "count    1000.000000\n",
       "mean     5037.547000\n",
       "std      2884.368104\n",
       "min         3.000000\n",
       "25%      2553.000000\n",
       "50%      4957.500000\n",
       "75%      7545.000000\n",
       "max      9980.000000\n",
       "dtype: float64"
      ]
     },
     "metadata": {},
     "execution_count": 9
    }
   ],
   "source": [
    "obj.describe()"
   ]
  },
  {
   "cell_type": "code",
   "execution_count": null,
   "metadata": {},
   "outputs": [],
   "source": [
    "import matplotlib as plt\n"
   ]
  }
 ]
}