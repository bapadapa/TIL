{
 "metadata": {
  "language_info": {
   "codemirror_mode": {
    "name": "ipython",
    "version": 3
   },
   "file_extension": ".py",
   "mimetype": "text/x-python",
   "name": "python",
   "nbconvert_exporter": "python",
   "pygments_lexer": "ipython3",
   "version": "3.8.8"
  },
  "orig_nbformat": 2,
  "kernelspec": {
   "name": "python388jvsc74a57bd068964f74c11d332c21e95cd675b1759e0933fc99bd167841b9b8a4ac82dd0a35",
   "display_name": "Python 3.8.8 64-bit ('base': conda)"
  },
  "metadata": {
   "interpreter": {
    "hash": "68964f74c11d332c21e95cd675b1759e0933fc99bd167841b9b8a4ac82dd0a35"
   }
  }
 },
 "nbformat": 4,
 "nbformat_minor": 2,
 "cells": [
  {
   "cell_type": "code",
   "execution_count": 1,
   "metadata": {},
   "outputs": [],
   "source": [
    "import numpy as np\n",
    "import pandas as pd\n",
    "import matplotlib as plt\n",
    "import seaborn as sns"
   ]
  },
  {
   "cell_type": "code",
   "execution_count": null,
   "metadata": {},
   "outputs": [],
   "source": [
    "x = np.array([68,91,60,67]) \n",
    "# help(np.argsort)\n",
    "# argsort = 값들을 정렬시켜줌 , 반환값 : index \n",
    "print(x.argsort()[::])\n",
    "print(x.argsort()[::-1])"
   ]
  },
  {
   "cell_type": "code",
   "execution_count": null,
   "metadata": {},
   "outputs": [],
   "source": [
    "def colName(x):\n",
    "    return df.colims[x.argsort()[::-1]]"
   ]
  },
  {
   "cell_type": "code",
   "execution_count": null,
   "metadata": {},
   "outputs": [],
   "source": [
    "seedNum = range(100,104)\n",
    "sub = [\"eng\",\"math\",\"kor\",\"sci\"]\n",
    "# testdf= [sub for num,subject in  seedNum,sub]\n",
    "df = pd.DataFrame()\n",
    "for num,subject in zip(seedNum,sub):\n",
    "    np.random.seed(num)\n",
    "    df[subject] = np.random.randint(60,100,100000)\n",
    "df"
   ]
  },
  {
   "cell_type": "code",
   "execution_count": null,
   "metadata": {},
   "outputs": [],
   "source": [
    "result = df.apply(lambda x : df.columns[x.argsort()[::-1]],axis = 1)\n",
    "result"
   ]
  },
  {
   "cell_type": "code",
   "execution_count": null,
   "metadata": {},
   "outputs": [],
   "source": [
    "subject = pd.DataFrame(np.concatenate(result).reshape(-1,4))\n",
    "subject.columns = ['sub1','sub2','sub3','sub4']\n",
    "subject"
   ]
  },
  {
   "cell_type": "code",
   "execution_count": null,
   "metadata": {},
   "outputs": [],
   "source": [
    "# 데이터프레임 묶기\n",
    "\n",
    "# 아래와 같이 concat을 하면 , df밑에 subject가 붙어버린다.\n",
    "# pd.concat([df,subject],axis =0)\n",
    "\n",
    "#칼럼을 추가 해 주는 것 이니, axis를 1로 주어야 한다.\n",
    "df = pd.concat([df,subject],axis =1)\n"
   ]
  },
  {
   "cell_type": "code",
   "execution_count": null,
   "metadata": {},
   "outputs": [],
   "source": [
    "# df['total'] = df.apply(sum,axis=1)\n",
    "df['total'] = df[sub].apply(sum,axis=1)\n",
    "df['avg'] = df[sub].apply(np.mean,axis = 1)\n",
    "df =  df[[\t\n",
    "    \"eng\",\n",
    "    \"math\",\n",
    "    \"kor\",\n",
    "    \"sci\",\n",
    "    \"total\",\n",
    "    \"avg\",\n",
    "    \"sub1\",\n",
    "    \"sub2\",\n",
    "    \"sub3\",\n",
    "    \"sub4\"\n",
    "]]\n"
   ]
  },
  {
   "cell_type": "code",
   "execution_count": null,
   "metadata": {},
   "outputs": [],
   "source": [
    "# df.loc[조건, 칼럼들]\n",
    "# df.loc[boolean, 칼럼들]\n",
    "df.loc[:,[\"sub1\",\"sub2\",\"sub3\",\"sub4\"]]\n",
    "df.loc[df.sub1 == \"math\",:]"
   ]
  },
  {
   "cell_type": "code",
   "execution_count": null,
   "metadata": {},
   "outputs": [],
   "source": [
    "df.sub1 == 'math'\n",
    "# df.iloc[df.sub1.values =='math',:]\n",
    "df.iloc[df.sub1.values =='math',:]\n"
   ]
  },
  {
   "cell_type": "code",
   "execution_count": null,
   "metadata": {},
   "outputs": [],
   "source": [
    "\n",
    "\n",
    "\n",
    "# 1.수학을 제일 잘하는 사람들의 영어 평균\n",
    "print(df.loc[df.sub1.values =='math','eng'].mean())\n",
    "print(df.iloc[df.sub1.values =='math',0].mean())\n",
    "# 2.영어을 제일 잘하는 사람들의 수학 평균\n",
    "print(df.loc[df.sub1 =='eng','math'].mean())\n",
    "print(df.iloc[df.sub1.values =='eng',1].mean())\n",
    "# 3.제일 못한 과목은 어떤 과목인가?\n",
    "print(df.loc[:,'sub4'].describe()['top'])\n",
    "df.iloc[:,0:4].apply(np.mean,axis=0)"
   ]
  },
  {
   "cell_type": "code",
   "execution_count": null,
   "metadata": {},
   "outputs": [],
   "source": [
    "# np.exp(df[sub]).apply(sum,axis =1  )\n",
    "# np.exp(df[sub])\n",
    "def xx (x):\n",
    "        return np.exp(x)/np.sum(np.exp(x))\n",
    "\n",
    "xx(np.array([1,2,3,4]))\n",
    "result = df.iloc[:,0:4].apply(lambda x : np.exp(x)/np.sum(np.exp(x)) , axis =1)"
   ]
  },
  {
   "cell_type": "code",
   "execution_count": null,
   "metadata": {},
   "outputs": [],
   "source": [
    "# df.drop([],axis=1)\n",
    "df.columns"
   ]
  },
  {
   "cell_type": "code",
   "execution_count": null,
   "metadata": {},
   "outputs": [],
   "source": [
    "# 칼럼별 order 정하기!\n",
    "df.sort_values(by = ['sub1','sub2'],axis=0 ,ascending=[True,False] ).reset_index()\n"
   ]
  },
  {
   "cell_type": "code",
   "execution_count": null,
   "metadata": {},
   "outputs": [],
   "source": [
    "# 병합 하기 위한 두개의 DataFrame 생성\n",
    "## 첫번째 DataFrame 생성\n",
    "weight = np.random.randint(10,100,100)\n",
    "height = np.random.randint(10,30,100)\n",
    "kind = np.random.randint(0,2,100)\n",
    "kind = np.where(kind == 0,'dog','cat')\n",
    "data = zip(kind,weight,height)\n",
    "left = pd.DataFrame(data)\n",
    "left.columns = ['kind','weight','height']\n",
    "## 두번째 DataFrame 생성\n",
    "weight = np.random.randint(10,100,100)\n",
    "height = np.random.randint(10,30,100)\n",
    "kind = np.random.randint(0,2,100)\n",
    "kind = np.where(kind == 0,'dog','cat')\n",
    "data = zip(kind,weight,height)\n",
    "right = pd.DataFrame(data)\n",
    "right.columns = ['kind','weight','height']\n",
    "df1 = pd.merge(left,right, on=['kind','weight'],how='outer')\n",
    "df2 = pd.merge(left,right, on=['kind','weight'],how='inner')"
   ]
  },
  {
   "cell_type": "code",
   "execution_count": null,
   "metadata": {},
   "outputs": [],
   "source": [
    "\n",
    "print(left.append(right,ignore_index=False).index.value_counts())\n",
    "print(np.unique(left.append(right,ignore_index=False).index,return_counts =True))\n",
    "\n"
   ]
  },
  {
   "cell_type": "code",
   "execution_count": 12,
   "metadata": {},
   "outputs": [
    {
     "output_type": "execute_result",
     "data": {
      "text/plain": [
       "         weight_pounds state  year  month  child_race  plurality  mother_race  \\\n",
       "0             7.813183    GA  2003      9         NaN          1          1.0   \n",
       "1             8.000575    GA  2003      1         NaN          1          1.0   \n",
       "2             7.251004    GA  2003     12         NaN          1          1.0   \n",
       "3             9.568062    GA  2003      4         NaN          1          7.0   \n",
       "4             7.187070    GA  2004      2         NaN          1          1.0   \n",
       "...                ...   ...   ...    ...         ...        ...          ...   \n",
       "1998241       7.228958    HI  2003      9         NaN          1         38.0   \n",
       "1998242       6.375769    IL  2003      1         NaN          1          2.0   \n",
       "1998243       6.375769    MD  2004      8         NaN          1          2.0   \n",
       "1998244       6.750554    MS  2004     12         NaN          2          2.0   \n",
       "1998245       5.690131    NY  2003     10         NaN          1          2.0   \n",
       "\n",
       "         mother_age cigarette_use  cigarettes_per_day alcohol_use  \\\n",
       "0                34         False                 NaN       False   \n",
       "1                37          True                15.0        True   \n",
       "2                30         False                 NaN       False   \n",
       "3                39         False                 NaN       False   \n",
       "4                38         False                 NaN       False   \n",
       "...             ...           ...                 ...         ...   \n",
       "1998241          35         False                 NaN       False   \n",
       "1998242          32          True                 6.0        True   \n",
       "1998243          30         False                 NaN       False   \n",
       "1998244          29         False                 NaN       False   \n",
       "1998245          31          True                 9.0        True   \n",
       "\n",
       "         drinks_per_week  father_race  father_age  is_male  gestation_weeks  \n",
       "0                    NaN          1.0          39    False               39  \n",
       "1                    0.0          1.0          31     True               41  \n",
       "2                    NaN          1.0          38    False               40  \n",
       "3                    NaN          1.0          39     True               40  \n",
       "4                    NaN          1.0          39     True               40  \n",
       "...                  ...          ...         ...      ...              ...  \n",
       "1998241              NaN         99.0          99     True               40  \n",
       "1998242              0.0         99.0          99     True               38  \n",
       "1998243              NaN         99.0          48    False               39  \n",
       "1998244              NaN         99.0          99    False               40  \n",
       "1998245              0.0         99.0          99     True               38  \n",
       "\n",
       "[1998246 rows x 16 columns]"
      ],
      "text/html": "<div>\n<style scoped>\n    .dataframe tbody tr th:only-of-type {\n        vertical-align: middle;\n    }\n\n    .dataframe tbody tr th {\n        vertical-align: top;\n    }\n\n    .dataframe thead th {\n        text-align: right;\n    }\n</style>\n<table border=\"1\" class=\"dataframe\">\n  <thead>\n    <tr style=\"text-align: right;\">\n      <th></th>\n      <th>weight_pounds</th>\n      <th>state</th>\n      <th>year</th>\n      <th>month</th>\n      <th>child_race</th>\n      <th>plurality</th>\n      <th>mother_race</th>\n      <th>mother_age</th>\n      <th>cigarette_use</th>\n      <th>cigarettes_per_day</th>\n      <th>alcohol_use</th>\n      <th>drinks_per_week</th>\n      <th>father_race</th>\n      <th>father_age</th>\n      <th>is_male</th>\n      <th>gestation_weeks</th>\n    </tr>\n  </thead>\n  <tbody>\n    <tr>\n      <th>0</th>\n      <td>7.813183</td>\n      <td>GA</td>\n      <td>2003</td>\n      <td>9</td>\n      <td>NaN</td>\n      <td>1</td>\n      <td>1.0</td>\n      <td>34</td>\n      <td>False</td>\n      <td>NaN</td>\n      <td>False</td>\n      <td>NaN</td>\n      <td>1.0</td>\n      <td>39</td>\n      <td>False</td>\n      <td>39</td>\n    </tr>\n    <tr>\n      <th>1</th>\n      <td>8.000575</td>\n      <td>GA</td>\n      <td>2003</td>\n      <td>1</td>\n      <td>NaN</td>\n      <td>1</td>\n      <td>1.0</td>\n      <td>37</td>\n      <td>True</td>\n      <td>15.0</td>\n      <td>True</td>\n      <td>0.0</td>\n      <td>1.0</td>\n      <td>31</td>\n      <td>True</td>\n      <td>41</td>\n    </tr>\n    <tr>\n      <th>2</th>\n      <td>7.251004</td>\n      <td>GA</td>\n      <td>2003</td>\n      <td>12</td>\n      <td>NaN</td>\n      <td>1</td>\n      <td>1.0</td>\n      <td>30</td>\n      <td>False</td>\n      <td>NaN</td>\n      <td>False</td>\n      <td>NaN</td>\n      <td>1.0</td>\n      <td>38</td>\n      <td>False</td>\n      <td>40</td>\n    </tr>\n    <tr>\n      <th>3</th>\n      <td>9.568062</td>\n      <td>GA</td>\n      <td>2003</td>\n      <td>4</td>\n      <td>NaN</td>\n      <td>1</td>\n      <td>7.0</td>\n      <td>39</td>\n      <td>False</td>\n      <td>NaN</td>\n      <td>False</td>\n      <td>NaN</td>\n      <td>1.0</td>\n      <td>39</td>\n      <td>True</td>\n      <td>40</td>\n    </tr>\n    <tr>\n      <th>4</th>\n      <td>7.187070</td>\n      <td>GA</td>\n      <td>2004</td>\n      <td>2</td>\n      <td>NaN</td>\n      <td>1</td>\n      <td>1.0</td>\n      <td>38</td>\n      <td>False</td>\n      <td>NaN</td>\n      <td>False</td>\n      <td>NaN</td>\n      <td>1.0</td>\n      <td>39</td>\n      <td>True</td>\n      <td>40</td>\n    </tr>\n    <tr>\n      <th>...</th>\n      <td>...</td>\n      <td>...</td>\n      <td>...</td>\n      <td>...</td>\n      <td>...</td>\n      <td>...</td>\n      <td>...</td>\n      <td>...</td>\n      <td>...</td>\n      <td>...</td>\n      <td>...</td>\n      <td>...</td>\n      <td>...</td>\n      <td>...</td>\n      <td>...</td>\n      <td>...</td>\n    </tr>\n    <tr>\n      <th>1998241</th>\n      <td>7.228958</td>\n      <td>HI</td>\n      <td>2003</td>\n      <td>9</td>\n      <td>NaN</td>\n      <td>1</td>\n      <td>38.0</td>\n      <td>35</td>\n      <td>False</td>\n      <td>NaN</td>\n      <td>False</td>\n      <td>NaN</td>\n      <td>99.0</td>\n      <td>99</td>\n      <td>True</td>\n      <td>40</td>\n    </tr>\n    <tr>\n      <th>1998242</th>\n      <td>6.375769</td>\n      <td>IL</td>\n      <td>2003</td>\n      <td>1</td>\n      <td>NaN</td>\n      <td>1</td>\n      <td>2.0</td>\n      <td>32</td>\n      <td>True</td>\n      <td>6.0</td>\n      <td>True</td>\n      <td>0.0</td>\n      <td>99.0</td>\n      <td>99</td>\n      <td>True</td>\n      <td>38</td>\n    </tr>\n    <tr>\n      <th>1998243</th>\n      <td>6.375769</td>\n      <td>MD</td>\n      <td>2004</td>\n      <td>8</td>\n      <td>NaN</td>\n      <td>1</td>\n      <td>2.0</td>\n      <td>30</td>\n      <td>False</td>\n      <td>NaN</td>\n      <td>False</td>\n      <td>NaN</td>\n      <td>99.0</td>\n      <td>48</td>\n      <td>False</td>\n      <td>39</td>\n    </tr>\n    <tr>\n      <th>1998244</th>\n      <td>6.750554</td>\n      <td>MS</td>\n      <td>2004</td>\n      <td>12</td>\n      <td>NaN</td>\n      <td>2</td>\n      <td>2.0</td>\n      <td>29</td>\n      <td>False</td>\n      <td>NaN</td>\n      <td>False</td>\n      <td>NaN</td>\n      <td>99.0</td>\n      <td>99</td>\n      <td>False</td>\n      <td>40</td>\n    </tr>\n    <tr>\n      <th>1998245</th>\n      <td>5.690131</td>\n      <td>NY</td>\n      <td>2003</td>\n      <td>10</td>\n      <td>NaN</td>\n      <td>1</td>\n      <td>2.0</td>\n      <td>31</td>\n      <td>True</td>\n      <td>9.0</td>\n      <td>True</td>\n      <td>0.0</td>\n      <td>99.0</td>\n      <td>99</td>\n      <td>True</td>\n      <td>38</td>\n    </tr>\n  </tbody>\n</table>\n<p>1998246 rows × 16 columns</p>\n</div>"
     },
     "metadata": {},
     "execution_count": 12
    }
   ],
   "source": [
    "#csv 읽어오기.\n",
    "df =pd.read_csv(\"../data/us_new_born_2million.csv\")\n",
    "df\n"
   ]
  },
  {
   "cell_type": "code",
   "execution_count": 17,
   "metadata": {},
   "outputs": [
    {
     "output_type": "execute_result",
     "data": {
      "text/plain": [
       "         weight_pounds state  year  month  plurality  mother_race  mother_age  \\\n",
       "0             7.813183    GA  2003      9          1          1.0          34   \n",
       "1             8.000575    GA  2003      1          1          1.0          37   \n",
       "2             7.251004    GA  2003     12          1          1.0          30   \n",
       "3             9.568062    GA  2003      4          1          7.0          39   \n",
       "4             7.187070    GA  2004      2          1          1.0          38   \n",
       "...                ...   ...   ...    ...        ...          ...         ...   \n",
       "1998241       7.228958    HI  2003      9          1         38.0          35   \n",
       "1998242       6.375769    IL  2003      1          1          2.0          32   \n",
       "1998243       6.375769    MD  2004      8          1          2.0          30   \n",
       "1998244       6.750554    MS  2004     12          2          2.0          29   \n",
       "1998245       5.690131    NY  2003     10          1          2.0          31   \n",
       "\n",
       "        cigarette_use alcohol_use  father_race  father_age  is_male  \\\n",
       "0               False       False          1.0          39    False   \n",
       "1                True        True          1.0          31     True   \n",
       "2               False       False          1.0          38    False   \n",
       "3               False       False          1.0          39     True   \n",
       "4               False       False          1.0          39     True   \n",
       "...               ...         ...          ...         ...      ...   \n",
       "1998241         False       False         99.0          99     True   \n",
       "1998242          True        True         99.0          99     True   \n",
       "1998243         False       False         99.0          48    False   \n",
       "1998244         False       False         99.0          99    False   \n",
       "1998245          True        True         99.0          99     True   \n",
       "\n",
       "         gestation_weeks  \n",
       "0                     39  \n",
       "1                     41  \n",
       "2                     40  \n",
       "3                     40  \n",
       "4                     40  \n",
       "...                  ...  \n",
       "1998241               40  \n",
       "1998242               38  \n",
       "1998243               39  \n",
       "1998244               40  \n",
       "1998245               38  \n",
       "\n",
       "[1998246 rows x 13 columns]"
      ],
      "text/html": "<div>\n<style scoped>\n    .dataframe tbody tr th:only-of-type {\n        vertical-align: middle;\n    }\n\n    .dataframe tbody tr th {\n        vertical-align: top;\n    }\n\n    .dataframe thead th {\n        text-align: right;\n    }\n</style>\n<table border=\"1\" class=\"dataframe\">\n  <thead>\n    <tr style=\"text-align: right;\">\n      <th></th>\n      <th>weight_pounds</th>\n      <th>state</th>\n      <th>year</th>\n      <th>month</th>\n      <th>plurality</th>\n      <th>mother_race</th>\n      <th>mother_age</th>\n      <th>cigarette_use</th>\n      <th>alcohol_use</th>\n      <th>father_race</th>\n      <th>father_age</th>\n      <th>is_male</th>\n      <th>gestation_weeks</th>\n    </tr>\n  </thead>\n  <tbody>\n    <tr>\n      <th>0</th>\n      <td>7.813183</td>\n      <td>GA</td>\n      <td>2003</td>\n      <td>9</td>\n      <td>1</td>\n      <td>1.0</td>\n      <td>34</td>\n      <td>False</td>\n      <td>False</td>\n      <td>1.0</td>\n      <td>39</td>\n      <td>False</td>\n      <td>39</td>\n    </tr>\n    <tr>\n      <th>1</th>\n      <td>8.000575</td>\n      <td>GA</td>\n      <td>2003</td>\n      <td>1</td>\n      <td>1</td>\n      <td>1.0</td>\n      <td>37</td>\n      <td>True</td>\n      <td>True</td>\n      <td>1.0</td>\n      <td>31</td>\n      <td>True</td>\n      <td>41</td>\n    </tr>\n    <tr>\n      <th>2</th>\n      <td>7.251004</td>\n      <td>GA</td>\n      <td>2003</td>\n      <td>12</td>\n      <td>1</td>\n      <td>1.0</td>\n      <td>30</td>\n      <td>False</td>\n      <td>False</td>\n      <td>1.0</td>\n      <td>38</td>\n      <td>False</td>\n      <td>40</td>\n    </tr>\n    <tr>\n      <th>3</th>\n      <td>9.568062</td>\n      <td>GA</td>\n      <td>2003</td>\n      <td>4</td>\n      <td>1</td>\n      <td>7.0</td>\n      <td>39</td>\n      <td>False</td>\n      <td>False</td>\n      <td>1.0</td>\n      <td>39</td>\n      <td>True</td>\n      <td>40</td>\n    </tr>\n    <tr>\n      <th>4</th>\n      <td>7.187070</td>\n      <td>GA</td>\n      <td>2004</td>\n      <td>2</td>\n      <td>1</td>\n      <td>1.0</td>\n      <td>38</td>\n      <td>False</td>\n      <td>False</td>\n      <td>1.0</td>\n      <td>39</td>\n      <td>True</td>\n      <td>40</td>\n    </tr>\n    <tr>\n      <th>...</th>\n      <td>...</td>\n      <td>...</td>\n      <td>...</td>\n      <td>...</td>\n      <td>...</td>\n      <td>...</td>\n      <td>...</td>\n      <td>...</td>\n      <td>...</td>\n      <td>...</td>\n      <td>...</td>\n      <td>...</td>\n      <td>...</td>\n    </tr>\n    <tr>\n      <th>1998241</th>\n      <td>7.228958</td>\n      <td>HI</td>\n      <td>2003</td>\n      <td>9</td>\n      <td>1</td>\n      <td>38.0</td>\n      <td>35</td>\n      <td>False</td>\n      <td>False</td>\n      <td>99.0</td>\n      <td>99</td>\n      <td>True</td>\n      <td>40</td>\n    </tr>\n    <tr>\n      <th>1998242</th>\n      <td>6.375769</td>\n      <td>IL</td>\n      <td>2003</td>\n      <td>1</td>\n      <td>1</td>\n      <td>2.0</td>\n      <td>32</td>\n      <td>True</td>\n      <td>True</td>\n      <td>99.0</td>\n      <td>99</td>\n      <td>True</td>\n      <td>38</td>\n    </tr>\n    <tr>\n      <th>1998243</th>\n      <td>6.375769</td>\n      <td>MD</td>\n      <td>2004</td>\n      <td>8</td>\n      <td>1</td>\n      <td>2.0</td>\n      <td>30</td>\n      <td>False</td>\n      <td>False</td>\n      <td>99.0</td>\n      <td>48</td>\n      <td>False</td>\n      <td>39</td>\n    </tr>\n    <tr>\n      <th>1998244</th>\n      <td>6.750554</td>\n      <td>MS</td>\n      <td>2004</td>\n      <td>12</td>\n      <td>2</td>\n      <td>2.0</td>\n      <td>29</td>\n      <td>False</td>\n      <td>False</td>\n      <td>99.0</td>\n      <td>99</td>\n      <td>False</td>\n      <td>40</td>\n    </tr>\n    <tr>\n      <th>1998245</th>\n      <td>5.690131</td>\n      <td>NY</td>\n      <td>2003</td>\n      <td>10</td>\n      <td>1</td>\n      <td>2.0</td>\n      <td>31</td>\n      <td>True</td>\n      <td>True</td>\n      <td>99.0</td>\n      <td>99</td>\n      <td>True</td>\n      <td>38</td>\n    </tr>\n  </tbody>\n</table>\n<p>1998246 rows × 13 columns</p>\n</div>"
     },
     "metadata": {},
     "execution_count": 17
    }
   ],
   "source": [
    "# 빈데이터가 70%이상인 칼럼은 지운다.\n",
    "df.drop(\n",
    "    df.isna().sum()[\n",
    "        df.isna().sum()/df.plurality.size >= 0.7].index\n",
    "        ,axis=1,inplace = True)\n",
    "df"
   ]
  },
  {
   "cell_type": "code",
   "execution_count": 18,
   "metadata": {},
   "outputs": [
    {
     "output_type": "execute_result",
     "data": {
      "text/plain": [
       "array(['y', 'y', 'y', ..., 'y', 'y', 'y'], dtype='<U1')"
      ]
     },
     "metadata": {},
     "execution_count": 18
    }
   ],
   "source": [
    "# 로우의 데이터의 빈 데이터가 30% 이상이면 지운다\n",
    "\n",
    "df.columns.size\n",
    "def xxx(x):\n",
    "    return x.isna().sum()/df.columns.size\n",
    "# df.apply(xxx,axis=1)\n",
    "result = np.where(np.sum(df.isna(),axis=1)/df.columns.size >0.3,'x','y')\n",
    "# np.sum(result == 'x')\n",
    "result"
   ]
  },
  {
   "cell_type": "code",
   "execution_count": 23,
   "metadata": {},
   "outputs": [
    {
     "output_type": "execute_result",
     "data": {
      "text/plain": [
       "         weight_pounds state  year  month  plurality  mother_race  mother_age  \\\n",
       "0             7.813183    GA  2003      9          1          1.0          34   \n",
       "1             8.000575    GA  2003      1          1          1.0          37   \n",
       "2             7.251004    GA  2003     12          1          1.0          30   \n",
       "3             9.568062    GA  2003      4          1          7.0          39   \n",
       "4             7.187070    GA  2004      2          1          1.0          38   \n",
       "...                ...   ...   ...    ...        ...          ...         ...   \n",
       "1998241       7.228958    HI  2003      9          1         38.0          35   \n",
       "1998242       6.375769    IL  2003      1          1          2.0          32   \n",
       "1998243       6.375769    MD  2004      8          1          2.0          30   \n",
       "1998244       6.750554    MS  2004     12          2          2.0          29   \n",
       "1998245       5.690131    NY  2003     10          1          2.0          31   \n",
       "\n",
       "        cigarette_use alcohol_use  father_race  father_age  is_male  \\\n",
       "0               False       False          1.0          39    False   \n",
       "1                True        True          1.0          31     True   \n",
       "2               False       False          1.0          38    False   \n",
       "3               False       False          1.0          39     True   \n",
       "4               False       False          1.0          39     True   \n",
       "...               ...         ...          ...         ...      ...   \n",
       "1998241         False       False         99.0          99     True   \n",
       "1998242          True        True         99.0          99     True   \n",
       "1998243         False       False         99.0          48    False   \n",
       "1998244         False       False         99.0          99    False   \n",
       "1998245          True        True         99.0          99     True   \n",
       "\n",
       "         gestation_weeks  \n",
       "0                     39  \n",
       "1                     41  \n",
       "2                     40  \n",
       "3                     40  \n",
       "4                     40  \n",
       "...                  ...  \n",
       "1998241               40  \n",
       "1998242               38  \n",
       "1998243               39  \n",
       "1998244               40  \n",
       "1998245               38  \n",
       "\n",
       "[1771388 rows x 13 columns]"
      ],
      "text/html": "<div>\n<style scoped>\n    .dataframe tbody tr th:only-of-type {\n        vertical-align: middle;\n    }\n\n    .dataframe tbody tr th {\n        vertical-align: top;\n    }\n\n    .dataframe thead th {\n        text-align: right;\n    }\n</style>\n<table border=\"1\" class=\"dataframe\">\n  <thead>\n    <tr style=\"text-align: right;\">\n      <th></th>\n      <th>weight_pounds</th>\n      <th>state</th>\n      <th>year</th>\n      <th>month</th>\n      <th>plurality</th>\n      <th>mother_race</th>\n      <th>mother_age</th>\n      <th>cigarette_use</th>\n      <th>alcohol_use</th>\n      <th>father_race</th>\n      <th>father_age</th>\n      <th>is_male</th>\n      <th>gestation_weeks</th>\n    </tr>\n  </thead>\n  <tbody>\n    <tr>\n      <th>0</th>\n      <td>7.813183</td>\n      <td>GA</td>\n      <td>2003</td>\n      <td>9</td>\n      <td>1</td>\n      <td>1.0</td>\n      <td>34</td>\n      <td>False</td>\n      <td>False</td>\n      <td>1.0</td>\n      <td>39</td>\n      <td>False</td>\n      <td>39</td>\n    </tr>\n    <tr>\n      <th>1</th>\n      <td>8.000575</td>\n      <td>GA</td>\n      <td>2003</td>\n      <td>1</td>\n      <td>1</td>\n      <td>1.0</td>\n      <td>37</td>\n      <td>True</td>\n      <td>True</td>\n      <td>1.0</td>\n      <td>31</td>\n      <td>True</td>\n      <td>41</td>\n    </tr>\n    <tr>\n      <th>2</th>\n      <td>7.251004</td>\n      <td>GA</td>\n      <td>2003</td>\n      <td>12</td>\n      <td>1</td>\n      <td>1.0</td>\n      <td>30</td>\n      <td>False</td>\n      <td>False</td>\n      <td>1.0</td>\n      <td>38</td>\n      <td>False</td>\n      <td>40</td>\n    </tr>\n    <tr>\n      <th>3</th>\n      <td>9.568062</td>\n      <td>GA</td>\n      <td>2003</td>\n      <td>4</td>\n      <td>1</td>\n      <td>7.0</td>\n      <td>39</td>\n      <td>False</td>\n      <td>False</td>\n      <td>1.0</td>\n      <td>39</td>\n      <td>True</td>\n      <td>40</td>\n    </tr>\n    <tr>\n      <th>4</th>\n      <td>7.187070</td>\n      <td>GA</td>\n      <td>2004</td>\n      <td>2</td>\n      <td>1</td>\n      <td>1.0</td>\n      <td>38</td>\n      <td>False</td>\n      <td>False</td>\n      <td>1.0</td>\n      <td>39</td>\n      <td>True</td>\n      <td>40</td>\n    </tr>\n    <tr>\n      <th>...</th>\n      <td>...</td>\n      <td>...</td>\n      <td>...</td>\n      <td>...</td>\n      <td>...</td>\n      <td>...</td>\n      <td>...</td>\n      <td>...</td>\n      <td>...</td>\n      <td>...</td>\n      <td>...</td>\n      <td>...</td>\n      <td>...</td>\n    </tr>\n    <tr>\n      <th>1998241</th>\n      <td>7.228958</td>\n      <td>HI</td>\n      <td>2003</td>\n      <td>9</td>\n      <td>1</td>\n      <td>38.0</td>\n      <td>35</td>\n      <td>False</td>\n      <td>False</td>\n      <td>99.0</td>\n      <td>99</td>\n      <td>True</td>\n      <td>40</td>\n    </tr>\n    <tr>\n      <th>1998242</th>\n      <td>6.375769</td>\n      <td>IL</td>\n      <td>2003</td>\n      <td>1</td>\n      <td>1</td>\n      <td>2.0</td>\n      <td>32</td>\n      <td>True</td>\n      <td>True</td>\n      <td>99.0</td>\n      <td>99</td>\n      <td>True</td>\n      <td>38</td>\n    </tr>\n    <tr>\n      <th>1998243</th>\n      <td>6.375769</td>\n      <td>MD</td>\n      <td>2004</td>\n      <td>8</td>\n      <td>1</td>\n      <td>2.0</td>\n      <td>30</td>\n      <td>False</td>\n      <td>False</td>\n      <td>99.0</td>\n      <td>48</td>\n      <td>False</td>\n      <td>39</td>\n    </tr>\n    <tr>\n      <th>1998244</th>\n      <td>6.750554</td>\n      <td>MS</td>\n      <td>2004</td>\n      <td>12</td>\n      <td>2</td>\n      <td>2.0</td>\n      <td>29</td>\n      <td>False</td>\n      <td>False</td>\n      <td>99.0</td>\n      <td>99</td>\n      <td>False</td>\n      <td>40</td>\n    </tr>\n    <tr>\n      <th>1998245</th>\n      <td>5.690131</td>\n      <td>NY</td>\n      <td>2003</td>\n      <td>10</td>\n      <td>1</td>\n      <td>2.0</td>\n      <td>31</td>\n      <td>True</td>\n      <td>True</td>\n      <td>99.0</td>\n      <td>99</td>\n      <td>True</td>\n      <td>38</td>\n    </tr>\n  </tbody>\n</table>\n<p>1771388 rows × 13 columns</p>\n</div>"
     },
     "metadata": {},
     "execution_count": 23
    }
   ],
   "source": [
    "# pd.Series(result)[pd.Series(result) == 'x']\n",
    "cl_df = df.iloc[pd.Series(result)[pd.Series(result) == 'y'].index , :]\n",
    "cl_df"
   ]
  },
  {
   "cell_type": "code",
   "execution_count": 16,
   "metadata": {},
   "outputs": [
    {
     "output_type": "execute_result",
     "data": {
      "text/plain": [
       "weight_pounds         6.375769\n",
       "state                       KY\n",
       "year                      2003\n",
       "month                        9\n",
       "child_race                 NaN\n",
       "plurality                    1\n",
       "mother_race                1.0\n",
       "mother_age                  21\n",
       "cigarette_use              NaN\n",
       "cigarettes_per_day         NaN\n",
       "alcohol_use                NaN\n",
       "drinks_per_week            NaN\n",
       "father_race                1.0\n",
       "father_age                  29\n",
       "is_male                   True\n",
       "gestation_weeks             38\n",
       "Name: 375, dtype: object"
      ]
     },
     "metadata": {},
     "execution_count": 16
    }
   ],
   "source": [
    "df.iloc[375,:]\n",
    "# 나머지 칼럼은 채운다."
   ]
  },
  {
   "cell_type": "code",
   "execution_count": null,
   "metadata": {},
   "outputs": [],
   "source": []
  },
  {
   "cell_type": "code",
   "execution_count": null,
   "metadata": {},
   "outputs": [],
   "source": []
  },
  {
   "cell_type": "code",
   "execution_count": null,
   "metadata": {},
   "outputs": [],
   "source": []
  }
 ]
}